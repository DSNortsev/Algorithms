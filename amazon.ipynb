{
  "nbformat": 4,
  "nbformat_minor": 0,
  "metadata": {
    "colab": {
      "name": "amazon.ipynb",
      "provenance": [],
      "authorship_tag": "ABX9TyMEnFQKaVRrUzuX8M0VXwUH",
      "include_colab_link": true
    },
    "kernelspec": {
      "name": "python3",
      "display_name": "Python 3"
    },
    "language_info": {
      "name": "python"
    }
  },
  "cells": [
    {
      "cell_type": "markdown",
      "metadata": {
        "id": "view-in-github",
        "colab_type": "text"
      },
      "source": [
        "<a href=\"https://colab.research.google.com/github/DSNortsev/Algorithms/blob/master/amazon.ipynb\" target=\"_parent\"><img src=\"https://colab.research.google.com/assets/colab-badge.svg\" alt=\"Open In Colab\"/></a>"
      ]
    },
    {
      "cell_type": "markdown",
      "metadata": {
        "id": "DPC42KmmUlqW"
      },
      "source": [
        "**Task 1**\n",
        "\n",
        "The height of a binary tree is the number of edges between the tree's root and its furthest leaf. For example, the following binary tree is of height :"
      ]
    },
    {
      "cell_type": "code",
      "metadata": {
        "colab": {
          "base_uri": "https://localhost:8080/"
        },
        "id": "RK6wtkYbUj4O",
        "outputId": "e2ec2a02-09e2-4f5a-95e0-6290e19eb810"
      },
      "source": [
        "# define a Class Tree, to intiate the binary tree\n",
        "class TreeNode:\n",
        "    def __init__(self, val):\n",
        "        self.val = val\n",
        "        self.left = None\n",
        "        self.right = None\n",
        " \n",
        "def height(root):\n",
        " \n",
        "    # Check if the binary tree is empty\n",
        "    if root is None:\n",
        "        # If TRUE return -1\n",
        "        return -1 \n",
        "    # Recursively call height of each node\n",
        "    leftAns = height(root.left)\n",
        "    rightAns = height(root.right)\n",
        " \n",
        "    # Return max(leftHeight, rightHeight) at each iteration\n",
        "    return max(leftAns, rightAns) + 1\n",
        " \n",
        "# Test the algorithm\n",
        "root = TreeNode(1)\n",
        "root.left = TreeNode(2)\n",
        "root.right = TreeNode(3)\n",
        "root.left.left = TreeNode(4)\n",
        "root.left.left.left = TreeNode(4)\n",
        " \n",
        "print(\"Height of the binary tree is: \" + str(height(root)))"
      ],
      "execution_count": 4,
      "outputs": [
        {
          "output_type": "stream",
          "name": "stdout",
          "text": [
            "Height of the binary tree is: 3\n"
          ]
        }
      ]
    }
  ]
}