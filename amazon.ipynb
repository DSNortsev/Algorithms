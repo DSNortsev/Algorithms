{
  "nbformat": 4,
  "nbformat_minor": 0,
  "metadata": {
    "colab": {
      "name": "amazon.ipynb",
      "provenance": [],
      "authorship_tag": "ABX9TyMx6oSKLg7dpcMDlOATjrQl",
      "include_colab_link": true
    },
    "kernelspec": {
      "name": "python3",
      "display_name": "Python 3"
    },
    "language_info": {
      "name": "python"
    }
  },
  "cells": [
    {
      "cell_type": "markdown",
      "metadata": {
        "id": "view-in-github",
        "colab_type": "text"
      },
      "source": [
        "<a href=\"https://colab.research.google.com/github/DSNortsev/Algorithms/blob/master/amazon.ipynb\" target=\"_parent\"><img src=\"https://colab.research.google.com/assets/colab-badge.svg\" alt=\"Open In Colab\"/></a>"
      ]
    },
    {
      "cell_type": "markdown",
      "metadata": {
        "id": "DPC42KmmUlqW"
      },
      "source": [
        "**Task 1**\n",
        "\n",
        "The height of a binary tree is the number of edges between the tree's root and its furthest leaf. For example, the following binary tree is of height :"
      ]
    },
    {
      "cell_type": "code",
      "metadata": {
        "colab": {
          "base_uri": "https://localhost:8080/"
        },
        "id": "RK6wtkYbUj4O",
        "outputId": "e2ec2a02-09e2-4f5a-95e0-6290e19eb810"
      },
      "source": [
        "# define a Class Tree, to intiate the binary tree\n",
        "class TreeNode:\n",
        "    def __init__(self, val):\n",
        "        self.val = val\n",
        "        self.left = None\n",
        "        self.right = None\n",
        " \n",
        "def height(root):\n",
        " \n",
        "    # Check if the binary tree is empty\n",
        "    if root is None:\n",
        "        # If TRUE return -1\n",
        "        return -1 \n",
        "    # Recursively call height of each node\n",
        "    leftAns = height(root.left)\n",
        "    rightAns = height(root.right)\n",
        " \n",
        "    # Return max(leftHeight, rightHeight) at each iteration\n",
        "    return max(leftAns, rightAns) + 1\n",
        " \n",
        "# Test the algorithm\n",
        "root = TreeNode(1)\n",
        "root.left = TreeNode(2)\n",
        "root.right = TreeNode(3)\n",
        "root.left.left = TreeNode(4)\n",
        "root.left.left.left = TreeNode(4)\n",
        " \n",
        "print(\"Height of the binary tree is: \" + str(height(root)))"
      ],
      "execution_count": null,
      "outputs": [
        {
          "output_type": "stream",
          "name": "stdout",
          "text": [
            "Height of the binary tree is: 3\n"
          ]
        }
      ]
    },
    {
      "cell_type": "markdown",
      "metadata": {
        "id": "pi62Ywu0AWtw"
      },
      "source": [
        "## Task 2\n",
        "\n",
        "At Amazon's annual sale, employees are tasked with generating valid discount coupons for loyal customer. However, there are some used/invalid coupons in the mix, and the challange in this task is to determine whether a given discount coupon is valid or not. \n",
        "\n",
        "**The validity of a discount coupon is determined as follows:**\n",
        "\n",
        "1. An empty discount is valid\n",
        "2. If a discount coupon A is valid, then a discount coupon C made by adding one chracter x to both the begining of A and the end of A is also valid (i.e the discount coupon C=xAx is valid)\n",
        "3. if two discount coupons A an B are valid, then the concatenation of B and A is also valid (i.e the coupons AB and BA are both valid)\n",
        "\n",
        "Given **n** disocunt coupons, each cupon consisting of only lowercase English chracters, where the i-th discount coupon is denoted disocunts[i] determine if each discount coupon is valid or not. A valid coupon is denoted by 1 in the asnwer array while an invalid coupon is denoted by 0. \n",
        "\n",
        "\n",
        "**Example:**\n",
        "\n",
        "*discount = ['abba', 'abca']*\n",
        "\n",
        "Check if this coupon can be constructed whithin the rules of a valid coupon.\n",
        "\n",
        "**Checking 'abba'**\n",
        "* The empty string is valid per the first rule.\n",
        "* Under the second rule, the same character can be addded to the begining and end of avalid coupon code. Add 'b' to the beggining and end of end empty string to have bb, a valid code. \n",
        "* Using the same rule. 'a' is added to the beginning and end of the 'bb' coupon string. Again, the string is valid.\n",
        "\n",
        "The string is valid, so the asnwer array is [1].\n",
        "\n",
        "**Checking 'abca'**\n",
        "* Using rule 2, a letter can be added to both ends of a string without altering its validity. The 'a' added to the beggining and end of 'bc' does not change its validity. \n",
        "* The remaining string 'bc', is not valid. The is not rules allowing the addition of different chracters to the ends of a string. \n",
        "\n",
        "Since the string is invalid, append 0 to the asnwer array. There are no more strings to test, so return [1, 0].\n",
        "\n",
        "**Function Description**\n",
        "Complete the fucntion findValidDiscountCoupons in the editior below. \n",
        "\n",
        "findValidDiscountCoupons has the folllowing parameter:\n",
        "  string discounts[n]: the discount coupon to validate \n",
        "\n",
        "**Returns**\n",
        "  int[n]: each element i is 1 if the coupon discounts[i] is valid and 0 otherwise\n",
        "\n",
        "**Constraints**\n",
        "* 1 <= n <=10\n",
        "*  Discounts consistsof lowercase English letters, [a-z].\n",
        "* 1 <= |discounts[i]| <= 5\n"
      ]
    },
    {
      "cell_type": "code",
      "metadata": {
        "id": "3YVCeperJesU"
      },
      "source": [
        "from typing import List\n",
        "\n",
        "def find_valid_discount_coupons(discounts: list) -> List[int]:\n",
        "  \"\"\"\n",
        "    Validate if a list of coupons are valid and return 1 if a coupon is valid \n",
        "    and 0 for invalid coupons\n",
        "  \"\"\"\n",
        "  results = []\n",
        "  for coupon in discounts:\n",
        "    valid = 0\n",
        "    if not isinstance(coupon, str) or not coupon.islower():\n",
        "      # Coupon is not a string type or not english lowercase letters\n",
        "      results.append(valid) \n",
        "      continue\n",
        "\n",
        "    if len(coupon) > 10:\n",
        "      # Coupon can't be more than 10 characters long\n",
        "      results.append(valid) \n",
        "      continue\n",
        "\n",
        "    while len(coupon) >= 0:\n",
        "      if len(coupon) in (0,1):\n",
        "        valid = 1 \n",
        "        break\n",
        "      \n",
        "      if coupon[0] == coupon[-1]:\n",
        "        coupon = coupon[1:-1]\n",
        "        continue\n",
        "      elif coupon[0] == coupon[1]:\n",
        "        coupon = coupon[2:]\n",
        "        continue\n",
        "      else:\n",
        "        break\n",
        "    results.append(valid)\n",
        "  return results"
      ],
      "execution_count": 11,
      "outputs": []
    },
    {
      "cell_type": "code",
      "metadata": {
        "id": "7NgekiiuLToh",
        "outputId": "cff7dd51-47dc-4969-f6d5-b92d69e3f612",
        "colab": {
          "base_uri": "https://localhost:8080/"
        }
      },
      "source": [
        "discounts = ['', 'a', 'aa', 'aca', 'aabb', 'daabbd', 'abc', 'abca', 'aaaaaaaaaaa']\n",
        "find_valid_discount_coupons(discounts)"
      ],
      "execution_count": 12,
      "outputs": [
        {
          "output_type": "execute_result",
          "data": {
            "text/plain": [
              "[0, 1, 1, 1, 1, 1, 0, 0, 0]"
            ]
          },
          "metadata": {},
          "execution_count": 12
        }
      ]
    },
    {
      "cell_type": "markdown",
      "metadata": {
        "id": "VlxdlpXfOC1v"
      },
      "source": [
        "## Task 3\n",
        "\n",
        "Amazin is hosting a team hackathon.\n",
        "\n",
        "1. Each team will have exactly teamSize developers.\n",
        "2. A developer's skill level is denoted by skill[i].\n",
        "3. The differnce between the maximum and minimum skills level within a team cannot exceed a threshold maxDiff.\n",
        "\n",
        "Determine the maximum number of teams that can be formed from the contestants.\n",
        "\n",
        "**Example:**\n",
        "\n",
        "skill = [3, 4, 3, 1, 6, 5]\n",
        "\n",
        "teamSize = 3\n",
        "\n",
        "maxDiff = 2\n",
        "\n",
        "At most, 2 teams can be formed: [3,3,1] and [4,6,5]. The difference between the maximum and minimum skills level is 2 in each case, which does not exceed the threshold value of 2. \n"
      ]
    },
    {
      "cell_type": "code",
      "metadata": {
        "id": "5BS-xfD_ODsX"
      },
      "source": [
        "def count_maximum_teams(skill: List[int], team_size: int, max_diff: int) -> int:\n",
        "  \"\"\"\n",
        "    Count maximum teams within specified threshold for skill difference\n",
        "  \"\"\"\n",
        "  total_teams = 0\n",
        "  sorted_skill = sorted(skill)\n",
        "  # Build teams\n",
        "  teams = [sorted_skill[i:i+team_size]\n",
        "           for i in range(0, len(sorted_skill), team_size)]\n",
        "\n",
        "  for team in teams:\n",
        "    # Check if team has the correct size\n",
        "    if len(team) < team_size:\n",
        "      continue\n",
        "\n",
        "    if max(team) - min(team) <= max_diff:\n",
        "      total_teams += 1\n",
        "  return total_teams"
      ],
      "execution_count": 60,
      "outputs": []
    },
    {
      "cell_type": "code",
      "metadata": {
        "id": "GBIaQaBDTtfP",
        "outputId": "6f304221-70c9-45b9-cc02-b3b0b44f57b7",
        "colab": {
          "base_uri": "https://localhost:8080/"
        }
      },
      "source": [
        "skill = [3, 4, 3, 1, 6, 5]\n",
        "team_size = 3\n",
        "max_diff = 2\n",
        "\n",
        "print(f'Maximum teams can be formed: {count_maximum_teams(skill, team_size, max_diff)}')"
      ],
      "execution_count": 62,
      "outputs": [
        {
          "output_type": "stream",
          "name": "stdout",
          "text": [
            "Maximum teams can be formed: 2\n"
          ]
        }
      ]
    }
  ]
}