{
  "nbformat": 4,
  "nbformat_minor": 0,
  "metadata": {
    "colab": {
      "name": "Untitled17.ipynb",
      "provenance": [],
      "authorship_tag": "ABX9TyMR+GkjXSLlwlqo2GsqXaHq",
      "include_colab_link": true
    },
    "kernelspec": {
      "name": "python3",
      "display_name": "Python 3"
    },
    "language_info": {
      "name": "python"
    }
  },
  "cells": [
    {
      "cell_type": "markdown",
      "metadata": {
        "id": "view-in-github",
        "colab_type": "text"
      },
      "source": [
        "<a href=\"https://colab.research.google.com/github/DSNortsev/Algorithms/blob/master/medium_tasks.ipynb\" target=\"_parent\"><img src=\"https://colab.research.google.com/assets/colab-badge.svg\" alt=\"Open In Colab\"/></a>"
      ]
    },
    {
      "cell_type": "markdown",
      "metadata": {
        "id": "vYq2gQzKeNrl"
      },
      "source": [
        "## **3. Given a string s, find the length of the longest substring without repeating characters.**\n",
        "\n",
        " \n",
        "**Example 1:**\n",
        "\n",
        "```\n",
        "Input: s = \"abcabcbb\"\n",
        "Output: 3\n",
        "Explanation: The answer is \"abc\", with the length of 3.\n",
        "```\n",
        "\n",
        "\n",
        "**Example 2:**\n",
        "\n",
        "```\n",
        "Input: s = \"bbbbb\"\n",
        "Output: 1\n",
        "Explanation: The answer is \"b\", with the length of 1.\n",
        "```\n",
        "\n",
        "\n",
        "**Example 3:**\n",
        "\n",
        "```\n",
        "Input: s = \"pwwkew\"\n",
        "Output: 3\n",
        "Explanation: The answer is \"wke\", with the length of 3.\n",
        "Notice that the answer must be a substring, \"pwke\" is a subsequence and not a substring.\n",
        "\n",
        "```\n",
        "\n",
        "**Example 4:**\n",
        "\n",
        "```\n",
        "Input: s = \"\"\n",
        "Output: 0\n",
        "```"
      ]
    },
    {
      "cell_type": "code",
      "metadata": {
        "colab": {
          "base_uri": "https://localhost:8080/",
          "height": 35
        },
        "id": "q9CcRotmd5C-",
        "outputId": "b068e235-f9bd-47f4-a546-80f3d7fff8b9"
      },
      "source": [
        "\n",
        "def lengthOfLongestSubstring(s: str) -> int:\n",
        "    final = ''\n",
        "    tmp = ''\n",
        "    for i in range(0,len(s)):\n",
        "        for letter in s[i:]:\n",
        "            if letter not in tmp:\n",
        "                tmp += letter\n",
        "            else:\n",
        "                if len(tmp) > len(final):\n",
        "                    final = tmp\n",
        "                    tmp = ''\n",
        "                break\n",
        "    return final\n",
        "\n",
        "lengthOfLongestSubstring('pwwkew') "
      ],
      "execution_count": 6,
      "outputs": [
        {
          "output_type": "execute_result",
          "data": {
            "application/vnd.google.colaboratory.intrinsic+json": {
              "type": "string"
            },
            "text/plain": [
              "'wke'"
            ]
          },
          "metadata": {
            "tags": []
          },
          "execution_count": 6
        }
      ]
    },
    {
      "cell_type": "markdown",
      "metadata": {
        "id": "8t7vh1_9e9Dt"
      },
      "source": [
        "## **4. Given two sorted arrays nums1 and nums2 of size m and n respectively, return the median of the two sorted arrays.**\n",
        "\n",
        "**Example 1:**\n",
        "\n",
        "```\n",
        "Input: nums1 = [1,3], nums2 = [2]\n",
        "Output: 2.00000\n",
        "Explanation: merged array = [1,2,3] and median is 2\n",
        "```\n",
        "\n",
        "\n",
        "**Example 2:**\n",
        "\n",
        "```\n",
        "Input: nums1 = [1,2], nums2 = [3,4]\n",
        "Output: 2.50000\n",
        "Explanation: merged array = [1,2,3,4] and median is (2 + 3) / 2 = 2.5.\n",
        "```\n",
        "\n",
        "**Example 3:**\n",
        "```\n",
        "Input: nums1 = [0,0], nums2 = [0,0]\n",
        "Output: 0.00000\n",
        "```\n",
        "**Example 4:**\n",
        "\n",
        "```\n",
        "Input: nums1 = [], nums2 = [1]\n",
        "Output: 1.00000\n",
        "```\n",
        "\n",
        "**Example 5:**\n",
        "\n",
        "```\n",
        "Input: nums1 = [2], nums2 = []\n",
        "Output: 2.000\n",
        "```\n",
        "\n"
      ]
    },
    {
      "cell_type": "code",
      "metadata": {
        "colab": {
          "base_uri": "https://localhost:8080/"
        },
        "id": "Tzd_ru4gel78",
        "outputId": "26764f2c-1cfa-4431-d38a-cfb97be333fc"
      },
      "source": [
        "from typing import List\n",
        "def find_median(lst1: List[int], lst2: List[int]) -> float:\n",
        "  merged_list = []\n",
        "  i = j = 0\n",
        "  while i < len(lst1) and j < len(lst2):\n",
        "    if lst1[i] > lst2[j]:\n",
        "      merged_list.append(lst2[j])\n",
        "      j += 1\n",
        "    else:\n",
        "      merged_list.append(lst1[i])\n",
        "      i += 1\n",
        "  mid = len(merged_list) // 2\n",
        "  return (merged_list[mid] + merged_list[~mid]) / 2\n",
        "\n",
        "find_median([1,2], [3,4])\n"
      ],
      "execution_count": 43,
      "outputs": [
        {
          "output_type": "execute_result",
          "data": {
            "text/plain": [
              "1.5"
            ]
          },
          "metadata": {
            "tags": []
          },
          "execution_count": 43
        }
      ]
    },
    {
      "cell_type": "markdown",
      "metadata": {
        "id": "voIyuKOxk5bu"
      },
      "source": [
        "## **5. Longest Palindromic Substring**\n",
        "**Example 1:**\n",
        "\n",
        "```\n",
        "Input: s = \"babad\"\n",
        "Output: \"bab\"\n",
        "Note: \"aba\" is also a valid answer.\n",
        "```\n",
        "\n",
        "**Example 2:**\n",
        "\n",
        "```\n",
        "Input: s = \"cbbd\"\n",
        "Output: \"bb\"\n",
        "Example 3:\n",
        "```\n",
        "\n",
        "**Example 3:**\n",
        "\n",
        "```\n",
        "Input: s = \"a\"\n",
        "Output: \"a\"\n",
        "```\n",
        "\n",
        "**Example 4:**\n",
        "\n",
        "```\n",
        "Input: s = \"ac\"\n",
        "Output: \"a\"\n",
        "```"
      ]
    },
    {
      "cell_type": "code",
      "metadata": {
        "id": "OP0dwhMzmE9E"
      },
      "source": [
        ""
      ],
      "execution_count": null,
      "outputs": []
    },
    {
      "cell_type": "markdown",
      "metadata": {
        "id": "m_YFTONglYz-"
      },
      "source": [
        ""
      ]
    }
  ]
}