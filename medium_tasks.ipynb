{
  "nbformat": 4,
  "nbformat_minor": 0,
  "metadata": {
    "colab": {
      "name": "medium_tasks.ipynb",
      "provenance": [],
      "collapsed_sections": [],
      "authorship_tag": "ABX9TyM83pH9Te3HTqXEnOdhY+Iv",
      "include_colab_link": true
    },
    "kernelspec": {
      "name": "python3",
      "display_name": "Python 3"
    },
    "language_info": {
      "name": "python"
    }
  },
  "cells": [
    {
      "cell_type": "markdown",
      "metadata": {
        "id": "view-in-github",
        "colab_type": "text"
      },
      "source": [
        "<a href=\"https://colab.research.google.com/github/DSNortsev/Algorithms/blob/master/medium_tasks.ipynb\" target=\"_parent\"><img src=\"https://colab.research.google.com/assets/colab-badge.svg\" alt=\"Open In Colab\"/></a>"
      ]
    },
    {
      "cell_type": "markdown",
      "metadata": {
        "id": "vYq2gQzKeNrl"
      },
      "source": [
        "## **3. Given a string s, find the length of the longest substring without repeating characters.**\n",
        "\n",
        " \n",
        "**Example 1:**\n",
        "\n",
        "```\n",
        "Input: s = \"abcabcbb\"\n",
        "Output: 3\n",
        "Explanation: The answer is \"abc\", with the length of 3.\n",
        "```\n",
        "\n",
        "\n",
        "**Example 2:**\n",
        "\n",
        "```\n",
        "Input: s = \"bbbbb\"\n",
        "Output: 1\n",
        "Explanation: The answer is \"b\", with the length of 1.\n",
        "```\n",
        "\n",
        "\n",
        "**Example 3:**\n",
        "\n",
        "```\n",
        "Input: s = \"pwwkew\"\n",
        "Output: 3\n",
        "Explanation: The answer is \"wke\", with the length of 3.\n",
        "Notice that the answer must be a substring, \"pwke\" is a subsequence and not a substring.\n",
        "\n",
        "```\n",
        "\n",
        "**Example 4:**\n",
        "\n",
        "```\n",
        "Input: s = \"\"\n",
        "Output: 0\n",
        "```"
      ]
    },
    {
      "cell_type": "code",
      "metadata": {
        "colab": {
          "base_uri": "https://localhost:8080/",
          "height": 35
        },
        "id": "q9CcRotmd5C-",
        "outputId": "b068e235-f9bd-47f4-a546-80f3d7fff8b9"
      },
      "source": [
        "\n",
        "def lengthOfLongestSubstring(s: str) -> int:\n",
        "    final = ''\n",
        "    tmp = ''\n",
        "    for i in range(0,len(s)):\n",
        "        for letter in s[i:]:\n",
        "            if letter not in tmp:\n",
        "                tmp += letter\n",
        "            else:\n",
        "                if len(tmp) > len(final):\n",
        "                    final = tmp\n",
        "                    tmp = ''\n",
        "                break\n",
        "    return final\n",
        "\n",
        "lengthOfLongestSubstring('pwwkew') "
      ],
      "execution_count": null,
      "outputs": [
        {
          "output_type": "execute_result",
          "data": {
            "application/vnd.google.colaboratory.intrinsic+json": {
              "type": "string"
            },
            "text/plain": [
              "'wke'"
            ]
          },
          "metadata": {
            "tags": []
          },
          "execution_count": 6
        }
      ]
    },
    {
      "cell_type": "markdown",
      "metadata": {
        "id": "8t7vh1_9e9Dt"
      },
      "source": [
        "## **4. Given two sorted arrays nums1 and nums2 of size m and n respectively, return the median of the two sorted arrays.**\n",
        "\n",
        "**Example 1:**\n",
        "\n",
        "```\n",
        "Input: nums1 = [1,3], nums2 = [2]\n",
        "Output: 2.00000\n",
        "Explanation: merged array = [1,2,3] and median is 2\n",
        "```\n",
        "\n",
        "\n",
        "**Example 2:**\n",
        "\n",
        "```\n",
        "Input: nums1 = [1,2], nums2 = [3,4]\n",
        "Output: 2.50000\n",
        "Explanation: merged array = [1,2,3,4] and median is (2 + 3) / 2 = 2.5.\n",
        "```\n",
        "\n",
        "**Example 3:**\n",
        "```\n",
        "Input: nums1 = [0,0], nums2 = [0,0]\n",
        "Output: 0.00000\n",
        "```\n",
        "**Example 4:**\n",
        "\n",
        "```\n",
        "Input: nums1 = [], nums2 = [1]\n",
        "Output: 1.00000\n",
        "```\n",
        "\n",
        "**Example 5:**\n",
        "\n",
        "```\n",
        "Input: nums1 = [2], nums2 = []\n",
        "Output: 2.000\n",
        "```\n",
        "\n"
      ]
    },
    {
      "cell_type": "code",
      "metadata": {
        "colab": {
          "base_uri": "https://localhost:8080/"
        },
        "id": "Tzd_ru4gel78",
        "outputId": "26764f2c-1cfa-4431-d38a-cfb97be333fc"
      },
      "source": [
        "from typing import List\n",
        "def find_median(lst1: List[int], lst2: List[int]) -> float:\n",
        "  merged_list = []\n",
        "  i = j = 0\n",
        "  while i < len(lst1) and j < len(lst2):\n",
        "    if lst1[i] > lst2[j]:\n",
        "      merged_list.append(lst2[j])\n",
        "      j += 1\n",
        "    else:\n",
        "      merged_list.append(lst1[i])\n",
        "      i += 1\n",
        "  mid = len(merged_list) // 2\n",
        "  return (merged_list[mid] + merged_list[~mid]) / 2\n",
        "\n",
        "find_median([1,2], [3,4])\n"
      ],
      "execution_count": null,
      "outputs": [
        {
          "output_type": "execute_result",
          "data": {
            "text/plain": [
              "1.5"
            ]
          },
          "metadata": {
            "tags": []
          },
          "execution_count": 43
        }
      ]
    },
    {
      "cell_type": "markdown",
      "metadata": {
        "id": "voIyuKOxk5bu"
      },
      "source": [
        "## **5. Longest Palindromic Substring**\n",
        "**Example 1:**\n",
        "\n",
        "```\n",
        "Input: s = \"babad\"\n",
        "Output: \"bab\"\n",
        "Note: \"aba\" is also a valid answer.\n",
        "```\n",
        "\n",
        "**Example 2:**\n",
        "\n",
        "```\n",
        "Input: s = \"cbbd\"\n",
        "Output: \"bb\"\n",
        "Example 3:\n",
        "```\n",
        "\n",
        "**Example 3:**\n",
        "\n",
        "```\n",
        "Input: s = \"a\"\n",
        "Output: \"a\"\n",
        "```\n",
        "\n",
        "**Example 4:**\n",
        "\n",
        "```\n",
        "Input: s = \"ac\"\n",
        "Output: \"a\"\n",
        "```"
      ]
    },
    {
      "cell_type": "code",
      "metadata": {
        "id": "OP0dwhMzmE9E",
        "colab": {
          "base_uri": "https://localhost:8080/"
        },
        "outputId": "c78eea8a-39c1-4485-d77a-ff1dacdef068"
      },
      "source": [
        "def is_palindrome(word: str) -> bool:\n",
        "  if len(word) == 1:\n",
        "    return True\n",
        "    \n",
        "  if word[0] == word[-1]:\n",
        "    if len(word) > 2:\n",
        "      return is_palindrome(word[1:-1])\n",
        "    return True\n",
        "  return False\n",
        "\n",
        "is_palindrome('1111')\n"
      ],
      "execution_count": null,
      "outputs": [
        {
          "output_type": "execute_result",
          "data": {
            "text/plain": [
              "True"
            ]
          },
          "metadata": {
            "tags": []
          },
          "execution_count": 85
        }
      ]
    },
    {
      "cell_type": "code",
      "metadata": {
        "colab": {
          "base_uri": "https://localhost:8080/",
          "height": 35
        },
        "id": "J-uBPpCxsVFX",
        "outputId": "c89c7d03-73b5-4d43-f92a-bdc2ef80992a"
      },
      "source": [
        "def longest_palindrome(word: str):\n",
        "    longest = ''\n",
        "    tmp = ''\n",
        "    for i in range(len(word)):      \n",
        "        for j in range(len(word),i,-1):\n",
        "            if word[i:j] == word[i:j][::-1]:\n",
        "                if len(longest) < len(word[i:j]):\n",
        "                    longest = word[i:j]\n",
        "    return longest\n",
        "  \n",
        "longest_palindrome('babad')"
      ],
      "execution_count": null,
      "outputs": [
        {
          "output_type": "execute_result",
          "data": {
            "application/vnd.google.colaboratory.intrinsic+json": {
              "type": "string"
            },
            "text/plain": [
              "'bab'"
            ]
          },
          "metadata": {
            "tags": []
          },
          "execution_count": 95
        }
      ]
    },
    {
      "cell_type": "markdown",
      "metadata": {
        "id": "m_YFTONglYz-"
      },
      "source": [
        "## **6. Given a signed 32-bit integer x, return x with its digits reversed. If reversing x causes the value to go outside the signed 32-bit integer range [-231, 231 - 1], then return 0.**\n",
        "\n",
        "**Assume the environment does not allow you to store 64-bit integers (signed or unsigned).** \n",
        "\n",
        "**Example 1:**\n",
        "\n",
        "```\n",
        "Input: x = 123\n",
        "Output: 321\n",
        "```\n",
        "\n",
        "**Example 2:**\n",
        "\n",
        "```\n",
        "Input: x = -123\n",
        "Output: -321\n",
        "```\n",
        "\n",
        "**Example 3:**\n",
        "\n",
        "```\n",
        "Input: x = 120\n",
        "Output: 21\n",
        "```\n",
        "\n",
        "**Example 4:**\n",
        "\n",
        "```\n",
        "Input: x = 0\n",
        "Output: 0\n",
        "```"
      ]
    },
    {
      "cell_type": "code",
      "metadata": {
        "colab": {
          "base_uri": "https://localhost:8080/"
        },
        "id": "StVyUS_Jt2cx",
        "outputId": "3275e585-af06-4b5d-d1bf-1c6cffdf27c8"
      },
      "source": [
        "def reversed_int(number: int):\n",
        "  sign = ''\n",
        "  number = str(number)\n",
        "  if number[0] in ('-', '+'):\n",
        "    sign = number[0]\n",
        "    number = number[1:]\n",
        "  return int(sign + number[::-1])\n",
        "  \n",
        "print(reversed_int(-123))\n",
        "\n",
        "def reversed_int(number: int):\n",
        "  sign = ''\n",
        "  number = str(number)\n",
        "  if number[0] in ('-', '+'):\n",
        "    sign = number[0]\n",
        "    number = number[1:]\n",
        "  result = [number[i] for i in range(len(number)-1,-1,-1)]\n",
        "  return int(sign + ''.join(result))\n",
        "\n",
        "reversed_int(-123)\n"
      ],
      "execution_count": null,
      "outputs": [
        {
          "output_type": "stream",
          "text": [
            "-321\n"
          ],
          "name": "stdout"
        },
        {
          "output_type": "execute_result",
          "data": {
            "text/plain": [
              "-321"
            ]
          },
          "metadata": {
            "tags": []
          },
          "execution_count": 78
        }
      ]
    },
    {
      "cell_type": "markdown",
      "metadata": {
        "id": "wTpNNI7iz-YU"
      },
      "source": [
        "# String matching"
      ]
    },
    {
      "cell_type": "code",
      "metadata": {
        "colab": {
          "base_uri": "https://localhost:8080/"
        },
        "id": "TBh9xetJ0Nnw",
        "outputId": "97b365cc-d26a-4e04-985a-4e6cde0729da"
      },
      "source": [
        "import re\n",
        "string = 'T123'\n",
        "pattern = re.compile(\"^([A-Z][0-9]+)+$\")\n",
        "print(pattern.search(string))"
      ],
      "execution_count": null,
      "outputs": [
        {
          "output_type": "stream",
          "text": [
            "<re.Match object; span=(0, 4), match='T123'>\n"
          ],
          "name": "stdout"
        }
      ]
    },
    {
      "cell_type": "code",
      "metadata": {
        "colab": {
          "base_uri": "https://localhost:8080/"
        },
        "id": "FA26AJtn1FQ5",
        "outputId": "e341f9bc-d0aa-4dfd-a7db-958a828410f4"
      },
      "source": [
        "re.match(r\"hello[0-9]+\", 'hello1')"
      ],
      "execution_count": null,
      "outputs": [
        {
          "output_type": "execute_result",
          "data": {
            "text/plain": [
              "<re.Match object; span=(0, 6), match='hello1'>"
            ]
          },
          "metadata": {
            "tags": []
          },
          "execution_count": 94
        }
      ]
    },
    {
      "cell_type": "code",
      "metadata": {
        "colab": {
          "base_uri": "https://localhost:8080/"
        },
        "id": "WcRzB5jYz-x7",
        "outputId": "23602b4c-fa88-4320-f925-7bf3d85be81f"
      },
      "source": [
        "?statement = 'Please contact us at: support@datacamp.com'\n",
        "match = re.search(r'([\\w\\.-]+)@([\\w\\.-]+)', statement)\n",
        "if statement:\n",
        "  print(\"Email address:\", match.group()) # The whole matched text\n",
        "  print(\"Username:\", match.group(1)) # The username (group 1)\n",
        "  print(\"Host:\", match.group(2)) # The host (group 2)"
      ],
      "execution_count": null,
      "outputs": [
        {
          "output_type": "stream",
          "text": [
            "Email address: support@datacamp.com\n",
            "Username: support\n",
            "Host: datacamp.com\n"
          ],
          "name": "stdout"
        }
      ]
    },
    {
      "cell_type": "markdown",
      "metadata": {
        "id": "16fr-UywMqFQ"
      },
      "source": [
        "## Binary search "
      ]
    },
    {
      "cell_type": "code",
      "metadata": {
        "id": "Pm-IUBWpNRcY",
        "colab": {
          "base_uri": "https://localhost:8080/"
        },
        "outputId": "df2c5ad5-a629-4d8c-8599-5978dd16c896"
      },
      "source": [
        "from typing import List\n",
        "\n",
        "def binary_search(elements: List[int], start: int,\\\n",
        "                  end: int, value: int) -> List[int]:\n",
        "  # Base case\n",
        "  if end >= start:\n",
        "    mid = (end + start) // 2\n",
        "    if elements[mid] > value:\n",
        "      return binary_search(elements, start, mid-1, value)\n",
        "    elif elements[mid] < value:\n",
        "      return binary_search(elements, mid+1, end, value)\n",
        "    else:\n",
        "      return mid\n",
        "  else:\n",
        "    return -1\n",
        "\n",
        "# Test array\n",
        "arr = [ 2, 3, 4, 10, 40 ]\n",
        "x = 10\n",
        "\n",
        "binary_search(arr, 0, len(arr)-1, x) \n"
      ],
      "execution_count": null,
      "outputs": [
        {
          "output_type": "execute_result",
          "data": {
            "text/plain": [
              "3"
            ]
          },
          "metadata": {
            "tags": []
          },
          "execution_count": 106
        }
      ]
    },
    {
      "cell_type": "markdown",
      "metadata": {
        "id": "3TryKpb5Dns2"
      },
      "source": [
        "## Merge intervals "
      ]
    },
    {
      "cell_type": "code",
      "metadata": {
        "id": "qfb3MBkLDvpU"
      },
      "source": [
        "def sort_merge_intervals(intervals):\n",
        "  '''\n",
        "   Script accepts the follwing intervals format: \"{8,10},{2,6},{1,3},{15,18}\"\n",
        "  '''\n",
        "  sorted_intervals = sorted([ list (i) for i in intervals], key=lambda x: x[0])\n",
        "  print(sorted_intervals)\n",
        "  index = 0\n",
        "  for interval in sorted_intervals:\n",
        "    if interval[0] > sorted_intervals[index][1]:\n",
        "      index += 1\n",
        "      sorted_intervals[index] = interval\n",
        "    else:\n",
        "      sorted_intervals[index] = [sorted_intervals[index][0], interval[1]]\n",
        "  return sorted_intervals[:index+1]"
      ],
      "execution_count": 8,
      "outputs": []
    },
    {
      "cell_type": "code",
      "metadata": {
        "colab": {
          "base_uri": "https://localhost:8080/"
        },
        "id": "LL9-I810ZPFY",
        "outputId": "62de415d-422a-4767-e1f2-fb31f2a6d196"
      },
      "source": [
        "sort_merge_intervals([{8,10},{2,6},{1,3},{15,18}])"
      ],
      "execution_count": 9,
      "outputs": [
        {
          "output_type": "stream",
          "text": [
            "[[1, 3], [2, 6], [8, 10], [18, 15]]\n"
          ],
          "name": "stdout"
        },
        {
          "output_type": "execute_result",
          "data": {
            "text/plain": [
              "[[1, 6], [8, 10], [18, 15]]"
            ]
          },
          "metadata": {
            "tags": []
          },
          "execution_count": 9
        }
      ]
    }
  ]
}