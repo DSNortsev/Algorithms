{
  "nbformat": 4,
  "nbformat_minor": 0,
  "metadata": {
    "colab": {
      "name": "Indeed.ipynb",
      "provenance": [],
      "authorship_tag": "ABX9TyORz+OSg3yWTvW5yaKw1JCs",
      "include_colab_link": true
    },
    "kernelspec": {
      "name": "python3",
      "display_name": "Python 3"
    },
    "language_info": {
      "name": "python"
    }
  },
  "cells": [
    {
      "cell_type": "markdown",
      "metadata": {
        "id": "view-in-github",
        "colab_type": "text"
      },
      "source": [
        "<a href=\"https://colab.research.google.com/github/DSNortsev/Algorithms/blob/master/Indeed.ipynb\" target=\"_parent\"><img src=\"https://colab.research.google.com/assets/colab-badge.svg\" alt=\"Open In Colab\"/></a>"
      ]
    },
    {
      "cell_type": "markdown",
      "metadata": {
        "id": "VWfSDPbb0v85"
      },
      "source": [
        "**## Task1:**\n",
        "\n",
        "You are a developer for a university. Your current project is to develop a system for students to find courses they share with friends. The university has a system for querying courses students are enrolled in, returned as a list of (ID, course) pairs.  Write a function that takes in a collection of (student ID number, course name) pairs and returns, for every pair of students, a collection of all courses they share.\n",
        "\n",
        "**Sample Input:**  \n",
        "```\n",
        "student_course_pairs_1 = [[\"58\", \"Linear Algebra\"],\n",
        "                          [\"94\", \"Art History\"],\n",
        "                          [\"94\", \"Operating Systems\"],\n",
        "                          [\"17\", \"Software Design\"],\n",
        "                          [\"58\", \"Mechanics\"],\n",
        "                          [\"58\", \"Economics\"],\n",
        "                          [\"17\", \"Linear Algebra\"],\n",
        "                          [\"17\", \"Political Science\"], \n",
        "                          [\"94\", \"Economics\"],\n",
        "                          [\"25\", \"Economics\"],\n",
        "                          [\"58\", \"Software Design\"],]\n",
        "```\n",
        "\n",
        "**Sample Output (pseudocode, in any order):**  \n",
        "```\n",
        "find_pairs(student_course_pairs_1) => \n",
        "{\"58,17\": [\"Software Design\", \"Linear Algebra\"],\n",
        " \"58,94\": [\"Economics\"],\n",
        " \"58,25\": [\"Economics\"],\n",
        " \"94,25\": [\"Economics\"],\n",
        " \"17,94\": [],\n",
        " \"17,25\": []}    \n",
        " ```\n",
        "\n",
        "**Additional test cases:**  \n",
        "**Sample Input:** \n",
        "```\n",
        "student_course_pairs_2 = [[\"0\", \"Advanced Mechanics\"],\n",
        "                          [\"0\", \"Art History\"],\n",
        "                          [\"1\", \"Course 1\"],\n",
        "                          [\"1\", \"Course 2\"],\n",
        "                          [\"2\", \"Computer Architecture\"],\n",
        "                          [\"3\", \"Course 1\"],\n",
        "                          [\"3\", \"Course 2\"],\n",
        "                          [\"4\", \"Algorithms\"]]\n",
        "```\n",
        "**Sample output:**\n",
        "``` \n",
        "find_pairs(student_course_pairs_2) => \n",
        "  {\"1,0\":[], \n",
        "   \"2,0\":[],\n",
        "   \"2,1\":[],\n",
        "   \"3,0\":[],\n",
        "   \"3,1\":[\"Course 1\", \"Course 2\"],\n",
        "   \"3,2\":[],\n",
        "   \"4,0\":[],\n",
        "   \"4,1\":[],\n",
        "   \"4,2\":[],\n",
        "   \"4,3\":[] }   \n",
        "```   \n",
        "**Sample Input:** \n",
        "```\n",
        "student_course_pairs_3 = [[\"23\", \"Software Design\"],\n",
        "                          [\"3\", \"Advanced Mechanics\"],\n",
        "                          [\"2\", \"Art History\"],\n",
        "                          [\"33\", \"Another\"],\n",
        "                         ]\n",
        "```                         \n",
        "**Sample output:**  \n",
        "```\n",
        "find_pairs(student_course_pairs_3) => \n",
        "{ \"23,3\": [],\n",
        "  \"23,2\": [],\n",
        "  \"23,33\":[],\n",
        "  \"3,2\":  [],\n",
        "  \"3,33\": [],\n",
        "  \"2,33\": []\n",
        "}\n",
        "```"
      ]
    },
    {
      "cell_type": "code",
      "metadata": {
        "id": "JcLt4nce0nsZ"
      },
      "source": [
        "student_course_pairs_1 = [[\"58\", \"Linear Algebra\"],\n",
        "                          [\"94\", \"Art History\"],\n",
        "                          [\"94\", \"Operating Systems\"],\n",
        "                          [\"17\", \"Software Design\"],\n",
        "                          [\"58\", \"Mechanics\"],\n",
        "                          [\"58\", \"Economics\"],\n",
        "                          [\"17\", \"Linear Algebra\"],\n",
        "                          [\"17\", \"Political Science\"],\n",
        "                          [\"94\", \"Economics\"],\n",
        "                          [\"25\", \"Economics\"],\n",
        "                          [\"58\", \"Software Design\"]\n",
        "                          ]  \n",
        "                          \n",
        "student_course_pairs_2 = [[\"0\", \"Advanced Mechanics\"],\n",
        "                          [\"0\", \"Art History\"],\n",
        "                          [\"1\", \"Course 1\"],\n",
        "                          [\"1\", \"Course 2\"],\n",
        "                          [\"2\", \"Computer Architecture\"],\n",
        "                          [\"3\", \"Course 1\"],\n",
        "                          [\"3\", \"Course 2\"],\n",
        "                          [\"4\", \"Algorithms\"]\n",
        "                          ]  \n",
        "\n",
        "student_course_pairs_3 = [[\"23\", \"Software Design\"],\n",
        "                          [\"3\", \"Advanced Mechanics\"],\n",
        "                          [\"2\", \"Art History\"],\n",
        "                          [\"33\", \"Another\"]\n",
        "                          ]\n",
        "\n",
        "def find_pairs(student_course_pairs: list) -> dict:\n",
        "  \"\"\"\n",
        "    Return a pait of students with common courses\n",
        "  \"\"\"\n",
        "\n",
        "  student_courses = dict()\n",
        "  result = dict()\n",
        "\n",
        "  # Find all courses that students have been taken\n",
        "  for student_info in student_course_pairs:\n",
        "    if student_info[0] in student_courses:\n",
        "      student_courses[student_info[0]].append(student_info[1])\n",
        "    else:\n",
        "      student_courses[student_info[0]] = [student_info[1]]\n",
        "\n",
        "  # Get the full list of students\n",
        "  student_list = list(student_courses.keys())\n",
        "  for indx1 in range(len(student_list)-1):\n",
        "    for indx2 in range(indx1+1, len(student_list)):\n",
        "      student1 = student_list[indx1]\n",
        "      student2 = student_list[indx2]\n",
        "      # Find common courses by using set and intersection\n",
        "      common_courses = list(set.intersection(set(student_courses[student1]),\n",
        "                                        set(student_courses[student2])))\n",
        "      result[f'{student1},{student2}'] = common_courses\n",
        "  return result"
      ],
      "execution_count": 41,
      "outputs": []
    },
    {
      "cell_type": "code",
      "metadata": {
        "colab": {
          "base_uri": "https://localhost:8080/"
        },
        "id": "QEMYB35e3QEY",
        "outputId": "d3e15edd-568f-4249-b725-f2b10263d89e"
      },
      "source": [
        "find_pairs(student_course_pairs_1)"
      ],
      "execution_count": 43,
      "outputs": [
        {
          "output_type": "execute_result",
          "data": {
            "text/plain": [
              "{'17,25': [],\n",
              " '58,17': ['Software Design', 'Linear Algebra'],\n",
              " '58,25': ['Economics'],\n",
              " '58,94': ['Economics'],\n",
              " '94,17': [],\n",
              " '94,25': ['Economics']}"
            ]
          },
          "metadata": {},
          "execution_count": 43
        }
      ]
    }
  ]
}