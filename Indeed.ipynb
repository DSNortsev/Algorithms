{
  "nbformat": 4,
  "nbformat_minor": 0,
  "metadata": {
    "colab": {
      "name": "Indeed.ipynb",
      "provenance": [],
      "authorship_tag": "ABX9TyPLzhqm6bjRSEeQt9HV4pCQ",
      "include_colab_link": true
    },
    "kernelspec": {
      "name": "python3",
      "display_name": "Python 3"
    },
    "language_info": {
      "name": "python"
    }
  },
  "cells": [
    {
      "cell_type": "markdown",
      "metadata": {
        "id": "view-in-github",
        "colab_type": "text"
      },
      "source": [
        "<a href=\"https://colab.research.google.com/github/DSNortsev/Algorithms/blob/master/Indeed.ipynb\" target=\"_parent\"><img src=\"https://colab.research.google.com/assets/colab-badge.svg\" alt=\"Open In Colab\"/></a>"
      ]
    },
    {
      "cell_type": "markdown",
      "metadata": {
        "id": "VWfSDPbb0v85"
      },
      "source": [
        "**Task1:**\n",
        "\n",
        "You are a developer for a university. Your current project is to develop a system for students to find courses they share with friends. The university has a system for querying courses students are enrolled in, returned as a list of (ID, course) pairs.  Write a function that takes in a collection of (student ID number, course name) pairs and returns, for every pair of students, a collection of all courses they share.\n",
        "\n",
        "**Sample Input:**  \n",
        "```\n",
        "student_course_pairs_1 = [[\"58\", \"Linear Algebra\"],\n",
        "                          [\"94\", \"Art History\"],\n",
        "                          [\"94\", \"Operating Systems\"],\n",
        "                          [\"17\", \"Software Design\"],\n",
        "                          [\"58\", \"Mechanics\"],\n",
        "                          [\"58\", \"Economics\"],\n",
        "                          [\"17\", \"Linear Algebra\"],\n",
        "                          [\"17\", \"Political Science\"], \n",
        "                          [\"94\", \"Economics\"],\n",
        "                          [\"25\", \"Economics\"],\n",
        "                          [\"58\", \"Software Design\"],]\n",
        "```\n",
        "\n",
        "**Sample Output (pseudocode, in any order):**  \n",
        "```\n",
        "find_pairs(student_course_pairs_1) => \n",
        "{\"58,17\": [\"Software Design\", \"Linear Algebra\"],\n",
        " \"58,94\": [\"Economics\"],\n",
        " \"58,25\": [\"Economics\"],\n",
        " \"94,25\": [\"Economics\"],\n",
        " \"17,94\": [],\n",
        " \"17,25\": []}    \n",
        " ```\n",
        "\n",
        "**Additional test cases:**  \n",
        "**Sample Input:** \n",
        "```\n",
        "student_course_pairs_2 = [[\"0\", \"Advanced Mechanics\"],\n",
        "                          [\"0\", \"Art History\"],\n",
        "                          [\"1\", \"Course 1\"],\n",
        "                          [\"1\", \"Course 2\"],\n",
        "                          [\"2\", \"Computer Architecture\"],\n",
        "                          [\"3\", \"Course 1\"],\n",
        "                          [\"3\", \"Course 2\"],\n",
        "                          [\"4\", \"Algorithms\"]]\n",
        "```\n",
        "**Sample output:**\n",
        "``` \n",
        "find_pairs(student_course_pairs_2) => \n",
        "  {\"1,0\":[], \n",
        "   \"2,0\":[],\n",
        "   \"2,1\":[],\n",
        "   \"3,0\":[],\n",
        "   \"3,1\":[\"Course 1\", \"Course 2\"],\n",
        "   \"3,2\":[],\n",
        "   \"4,0\":[],\n",
        "   \"4,1\":[],\n",
        "   \"4,2\":[],\n",
        "   \"4,3\":[] }   \n",
        "```   \n",
        "**Sample Input:** \n",
        "```\n",
        "student_course_pairs_3 = [[\"23\", \"Software Design\"],\n",
        "                          [\"3\", \"Advanced Mechanics\"],\n",
        "                          [\"2\", \"Art History\"],\n",
        "                          [\"33\", \"Another\"],\n",
        "                         ]\n",
        "```                         \n",
        "**Sample output:**  \n",
        "```\n",
        "find_pairs(student_course_pairs_3) => \n",
        "{ \"23,3\": [],\n",
        "  \"23,2\": [],\n",
        "  \"23,33\":[],\n",
        "  \"3,2\":  [],\n",
        "  \"3,33\": [],\n",
        "  \"2,33\": []\n",
        "}\n",
        "```"
      ]
    },
    {
      "cell_type": "code",
      "metadata": {
        "id": "JcLt4nce0nsZ"
      },
      "source": [
        "student_course_pairs_1 = [[\"58\", \"Linear Algebra\"],\n",
        "                          [\"94\", \"Art History\"],\n",
        "                          [\"94\", \"Operating Systems\"],\n",
        "                          [\"17\", \"Software Design\"],\n",
        "                          [\"58\", \"Mechanics\"],\n",
        "                          [\"58\", \"Economics\"],\n",
        "                          [\"17\", \"Linear Algebra\"],\n",
        "                          [\"17\", \"Political Science\"],\n",
        "                          [\"94\", \"Economics\"],\n",
        "                          [\"25\", \"Economics\"],\n",
        "                          [\"58\", \"Software Design\"]\n",
        "                          ]  \n",
        "                          \n",
        "student_course_pairs_2 = [[\"0\", \"Advanced Mechanics\"],\n",
        "                          [\"0\", \"Art History\"],\n",
        "                          [\"1\", \"Course 1\"],\n",
        "                          [\"1\", \"Course 2\"],\n",
        "                          [\"2\", \"Computer Architecture\"],\n",
        "                          [\"3\", \"Course 1\"],\n",
        "                          [\"3\", \"Course 2\"],\n",
        "                          [\"4\", \"Algorithms\"]\n",
        "                          ]  \n",
        "\n",
        "student_course_pairs_3 = [[\"23\", \"Software Design\"],\n",
        "                          [\"3\", \"Advanced Mechanics\"],\n",
        "                          [\"2\", \"Art History\"],\n",
        "                          [\"33\", \"Another\"]\n",
        "                          ]\n",
        "\n",
        "def find_pairs(student_course_pairs: list) -> dict:\n",
        "  \"\"\"\n",
        "    Return a pait of students with common courses\n",
        "  \"\"\"\n",
        "\n",
        "  student_courses = dict()\n",
        "  result = dict()\n",
        "\n",
        "  # Find all courses that students have been taken\n",
        "  for student_info in student_course_pairs:\n",
        "    if student_info[0] in student_courses:\n",
        "      student_courses[student_info[0]].append(student_info[1])\n",
        "    else:\n",
        "      student_courses[student_info[0]] = [student_info[1]]\n",
        "\n",
        "  # Get the full list of students\n",
        "  student_list = list(student_courses.keys())\n",
        "  for indx1 in range(len(student_list)-1):\n",
        "    for indx2 in range(indx1+1, len(student_list)):\n",
        "      student1 = student_list[indx1]\n",
        "      student2 = student_list[indx2]\n",
        "      # Find common courses by using set and intersection\n",
        "      common_courses = list(set.intersection(set(student_courses[student1]),\n",
        "                                        set(student_courses[student2])))\n",
        "      result[f'{student1},{student2}'] = common_courses\n",
        "  return result"
      ],
      "execution_count": null,
      "outputs": []
    },
    {
      "cell_type": "code",
      "metadata": {
        "colab": {
          "base_uri": "https://localhost:8080/"
        },
        "id": "QEMYB35e3QEY",
        "outputId": "d3e15edd-568f-4249-b725-f2b10263d89e"
      },
      "source": [
        "find_pairs(student_course_pairs_1)"
      ],
      "execution_count": null,
      "outputs": [
        {
          "output_type": "execute_result",
          "data": {
            "text/plain": [
              "{'17,25': [],\n",
              " '58,17': ['Software Design', 'Linear Algebra'],\n",
              " '58,25': ['Economics'],\n",
              " '58,94': ['Economics'],\n",
              " '94,17': [],\n",
              " '94,25': ['Economics']}"
            ]
          },
          "metadata": {},
          "execution_count": 43
        }
      ]
    },
    {
      "cell_type": "markdown",
      "metadata": {
        "id": "5iIOBk9_OM52"
      },
      "source": [
        "**Task2:**\n",
        "\n",
        "Find duplicates in the list an return the count"
      ]
    },
    {
      "cell_type": "code",
      "metadata": {
        "id": "Xv83EdIfOPai"
      },
      "source": [
        "def find_duplicates(numbers: int) -> int:\n",
        "  duplicates = {}\n",
        "  duplicate_count = 0\n",
        "  for number in numbers:\n",
        "    if duplicates.get(number):\n",
        "      duplicate_count = duplicate_count + 1 if duplicates[number] == 1 \\\n",
        "                                            else duplicate_count\n",
        "      duplicates[number] += 1\n",
        "    else:\n",
        "      duplicates[number] = 1\n",
        "  return duplicate_count"
      ],
      "execution_count": 2,
      "outputs": []
    },
    {
      "cell_type": "code",
      "metadata": {
        "id": "i3jtdoIZOQ-G",
        "outputId": "1eb5583b-d06e-46d7-a8d1-1dd8908a1759",
        "colab": {
          "base_uri": "https://localhost:8080/"
        }
      },
      "source": [
        "numbers = [1, 2, 1, 2, 4, 7, 3]\n",
        "find_duplicates(numbers)"
      ],
      "execution_count": 4,
      "outputs": [
        {
          "output_type": "execute_result",
          "data": {
            "text/plain": [
              "2"
            ]
          },
          "metadata": {},
          "execution_count": 4
        }
      ]
    },
    {
      "cell_type": "markdown",
      "metadata": {
        "id": "ZeoUei__OdMn"
      },
      "source": [
        "**Task3:**\n",
        "\n",
        "Turtle walking on a grid. Can accept the following commands: UP, DOWN, LEFT, RIGHT.\n",
        "If turtle tries to go out of the grid, that stept is ignored.\n",
        "To calcuate the current position: **(row * size) + column**\n"
      ]
    },
    {
      "cell_type": "code",
      "metadata": {
        "id": "_P-fKmc2OlsM"
      },
      "source": [
        "class Turtle_game:\n",
        "  def __init__(self, size):\n",
        "    self.size = size\n",
        "    self.column = 0\n",
        "    self.row = 0 \n",
        "\n",
        "  def move(self, command):\n",
        "    \"\"\"\n",
        "      Turtle can move on the grid and returns the current position grid\n",
        "    \"\"\"\n",
        "    if command == \"UP\":\n",
        "      self.row = self.row - 1 if self.row - 1 >= 0 else self.row\n",
        "    elif command == \"DOWN\":\n",
        "      self.row = self.row + 1 if self.row + 1 < self.size else self.row\n",
        "    elif command == \"LEFT\":\n",
        "      self.column = self.column - 1 if self.column - 1 >= 0 else self.column\n",
        "    elif command == \"RIGHT\":\n",
        "      self.column = self.column + 1 if self.column + 1 < self.size else self.column\n",
        "    return (self.row * self.size) + self.column"
      ],
      "execution_count": 9,
      "outputs": []
    },
    {
      "cell_type": "code",
      "metadata": {
        "id": "mJ_xNm54Q5oa",
        "outputId": "a4cbdf9e-324a-4c2f-973d-99893c6b5b7a",
        "colab": {
          "base_uri": "https://localhost:8080/"
        }
      },
      "source": [
        "turtle_position = Turtle_game(4)\n",
        "print(turtle_position.move('UP'))\n",
        "print(turtle_position.move('UP'))\n",
        "print(turtle_position.move('DOWN'))\n",
        "print(turtle_position.move('DOWN'))\n",
        "print(turtle_position.move('DOWN'))\n",
        "print(turtle_position.move('DOWN'))\n",
        "print(turtle_position.move('LEFT'))\n",
        "print(turtle_position.move('RIGHT'))\n",
        "print(turtle_position.move('RIGHT'))\n",
        "print(turtle_position.move('RIGHT'))\n",
        "print(turtle_position.move('RIGHT'))\n",
        "print(turtle_position.move('UP'))\n",
        "print(turtle_position.move('UP'))\n",
        "print(turtle_position.move('UP'))\n",
        "print(turtle_position.move('UP'))"
      ],
      "execution_count": 25,
      "outputs": [
        {
          "output_type": "stream",
          "name": "stdout",
          "text": [
            "0\n",
            "0\n",
            "4\n",
            "8\n",
            "12\n",
            "12\n",
            "12\n",
            "13\n",
            "14\n",
            "15\n",
            "15\n",
            "11\n",
            "7\n",
            "3\n",
            "3\n"
          ]
        }
      ]
    }
  ]
}