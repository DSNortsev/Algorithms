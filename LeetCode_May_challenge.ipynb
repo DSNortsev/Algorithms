{
  "nbformat": 4,
  "nbformat_minor": 0,
  "metadata": {
    "colab": {
      "name": " LeetCode_May_challenge.ipynb",
      "provenance": [],
      "authorship_tag": "ABX9TyPZGaS4zZNVG6vb8EeQ/pmY",
      "include_colab_link": true
    },
    "kernelspec": {
      "name": "python3",
      "display_name": "Python 3"
    },
    "language_info": {
      "name": "python"
    }
  },
  "cells": [
    {
      "cell_type": "markdown",
      "metadata": {
        "id": "view-in-github",
        "colab_type": "text"
      },
      "source": [
        "<a href=\"https://colab.research.google.com/github/DSNortsev/Algorithms/blob/master/LeetCode_May_challenge.ipynb\" target=\"_parent\"><img src=\"https://colab.research.google.com/assets/colab-badge.svg\" alt=\"Open In Colab\"/></a>"
      ]
    },
    {
      "cell_type": "markdown",
      "metadata": {
        "id": "fr9zT7vDlInl"
      },
      "source": [
        "##**Task1: Interval List Intersections**"
      ]
    },
    {
      "cell_type": "code",
      "metadata": {
        "id": "XbRSStIUk5bA"
      },
      "source": [
        "from typing import List, Tuple\n",
        "def interval_list_intersaction(vector_a: Tuple[int], vector_b: Tuple[int]) -> List[Tuple[int]]:\n",
        "  \"\"\"\n",
        "    Find all intersection between all vectors. All vectors are sorted \n",
        "    # sorted_vectors = sorted(vector, key = lamda k:k[0])\n",
        "  \"\"\"\n",
        "  indx_a, indx_b = 0, 0 \n",
        "  size_a = len(vector_a)\n",
        "  size_b = len(vector_b)\n",
        "  result = list()\n",
        "\n",
        "  # Iterate over each element and stote the answer\n",
        "  while (indx_a < size_a and indx_b < size_b):\n",
        "    if vector_b[indx_b][0] <= vector_a[indx_a][1] and \\\n",
        "      vector_a[indx_a][0] <= vector_b[indx_b][1]:\n",
        "      element1 = max(vector_a[indx_a][0], vector_b[indx_b][0])\n",
        "      element2 = min(vector_a[indx_a][1], vector_b[indx_b][1])\n",
        "      result.append([element1, element2])\n",
        "    \n",
        "    # Increment the index of pointer A or B\n",
        "    if vector_a[indx_a][1] > vector_b[indx_b][1]:\n",
        "      indx_b += 1\n",
        "    else:\n",
        "      indx_a += 1\n",
        "  return result"
      ],
      "execution_count": 14,
      "outputs": []
    },
    {
      "cell_type": "code",
      "metadata": {
        "colab": {
          "base_uri": "https://localhost:8080/"
        },
        "id": "4ar1CIYZqtio",
        "outputId": "4fe51d00-13fb-4511-9958-c869592c5be6"
      },
      "source": [
        "interval_a = [(0,2), (5,10), (13,23), (24,25)]\n",
        "interval_b = [(1,5), (8,12), (15,24), (25,26)]\n",
        "\n",
        "interval_list_intersaction(interval_a, interval_b)"
      ],
      "execution_count": 15,
      "outputs": [
        {
          "output_type": "execute_result",
          "data": {
            "text/plain": [
              "[[1, 2], [5, 5], [8, 10], [15, 23], [24, 24], [25, 25]]"
            ]
          },
          "metadata": {},
          "execution_count": 15
        }
      ]
    },
    {
      "cell_type": "markdown",
      "metadata": {
        "id": "uAgQfFN_syRy"
      },
      "source": [
        "##**Task2: First bad version**"
      ]
    },
    {
      "cell_type": "code",
      "metadata": {
        "id": "yXvgEvLVs-d-"
      },
      "source": [
        "def fist_bad_version(n: int) -> int:\n",
        "  \"\"\"\n",
        "    Find nad version by using binary search\n",
        "  \"\"\"\n",
        "  start = 0 \n",
        "  end = n \n",
        "  result = n \n",
        "\n",
        "  while start <= end:\n",
        "    mid = (start + end) // 2\n",
        "    if is_bad_version(mid):\n",
        "      result = mid\n",
        "      end = mid - 1\n",
        "    else:\n",
        "      start = mid + 1\n",
        "  return result"
      ],
      "execution_count": null,
      "outputs": []
    },
    {
      "cell_type": "markdown",
      "metadata": {
        "id": "fj_dRhtX0E_n"
      },
      "source": [
        "##**Task3: Jewels and stones**"
      ]
    },
    {
      "cell_type": "code",
      "metadata": {
        "id": "JVQtLX9y0Ee_"
      },
      "source": [
        "def num_jewels_in_stones(jewels: str, stones: str) -> int: \n",
        "  # Use set since the hash table is used for searching\n",
        "  # O(1)\n",
        "  jewels = set(jewels)\n",
        "  count = 0\n",
        "\n",
        "  for stone in stones:\n",
        "    if stone in jewels:\n",
        "      count += 1\n",
        "  return count"
      ],
      "execution_count": 21,
      "outputs": []
    },
    {
      "cell_type": "markdown",
      "metadata": {
        "id": "nEw-sbf44EZC"
      },
      "source": [
        "##**Task4: Ransom note**"
      ]
    },
    {
      "cell_type": "code",
      "metadata": {
        "id": "PQYsUPvU4Kk4"
      },
      "source": [
        "def is_ransom_note_formed(ransom_note: str, magazine: str) -> bool:\n",
        "  \"\"\"\n",
        "    Use dictionary (hasp map) to check if ransom note can be constructed\n",
        "  \"\"\"\n",
        "  letters_count = dict()\n",
        "  for letter in magazine:\n",
        "    if letters_count.get(letter):\n",
        "      letters_count[letter] += 1\n",
        "    else:\n",
        "       letters_count[letter] = 0\n",
        "\n",
        "  for letter in ransom_note:\n",
        "    if not letters_count.get(letter) or letters_count.get(letter) - 1 < 0 :\n",
        "      return False\n",
        "    letters_count[letter] -= 1\n",
        "  return True"
      ],
      "execution_count": null,
      "outputs": []
    }
  ]
}