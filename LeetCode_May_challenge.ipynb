{
  "nbformat": 4,
  "nbformat_minor": 0,
  "metadata": {
    "colab": {
      "name": " LeetCode_May_challenge.ipynb",
      "provenance": [],
      "authorship_tag": "ABX9TyNps0v2/pd7laZXy2QDDBKF",
      "include_colab_link": true
    },
    "kernelspec": {
      "name": "python3",
      "display_name": "Python 3"
    },
    "language_info": {
      "name": "python"
    }
  },
  "cells": [
    {
      "cell_type": "markdown",
      "metadata": {
        "id": "view-in-github",
        "colab_type": "text"
      },
      "source": [
        "<a href=\"https://colab.research.google.com/github/DSNortsev/Algorithms/blob/master/LeetCode_May_challenge.ipynb\" target=\"_parent\"><img src=\"https://colab.research.google.com/assets/colab-badge.svg\" alt=\"Open In Colab\"/></a>"
      ]
    },
    {
      "cell_type": "markdown",
      "metadata": {
        "id": "fr9zT7vDlInl"
      },
      "source": [
        "##**Task1: Interval List Intersections**"
      ]
    },
    {
      "cell_type": "code",
      "metadata": {
        "id": "XbRSStIUk5bA"
      },
      "source": [
        "from typing import List, Tuple\n",
        "def interval_list_intersaction(vector_a: Tuple[int], vector_b: Tuple[int]) -> List[Tuple[int]]:\n",
        "  \"\"\"\n",
        "    Find all intersection between all vectors. All vectors are sorted \n",
        "    # sorted_vectors = sorted(vector, key = lamda k:k[0])\n",
        "  \"\"\"\n",
        "  indx_a, indx_b = 0, 0 \n",
        "  size_a = len(vector_a)\n",
        "  size_b = len(vector_b)\n",
        "  result = list()\n",
        "\n",
        "  # Iterate over each element and stote the answer\n",
        "  while (indx_a < size_a and indx_b < size_b):\n",
        "    if vector_b[indx_b][0] <= vector_a[indx_a][1] and \\\n",
        "      vector_a[indx_a][0] <= vector_b[indx_b][1]:\n",
        "      element1 = max(vector_a[indx_a][0], vector_b[indx_b][0])\n",
        "      element2 = min(vector_a[indx_a][1], vector_b[indx_b][1])\n",
        "      result.append([element1, element2])\n",
        "    \n",
        "    # Increment the index of pointer A or B\n",
        "    if vector_a[indx_a][1] > vector_b[indx_b][1]:\n",
        "      indx_b += 1\n",
        "    else:\n",
        "      indx_a += 1\n",
        "  return result"
      ],
      "execution_count": null,
      "outputs": []
    },
    {
      "cell_type": "code",
      "metadata": {
        "colab": {
          "base_uri": "https://localhost:8080/"
        },
        "id": "4ar1CIYZqtio",
        "outputId": "4fe51d00-13fb-4511-9958-c869592c5be6"
      },
      "source": [
        "interval_a = [(0,2), (5,10), (13,23), (24,25)]\n",
        "interval_b = [(1,5), (8,12), (15,24), (25,26)]\n",
        "\n",
        "interval_list_intersaction(interval_a, interval_b)"
      ],
      "execution_count": null,
      "outputs": [
        {
          "output_type": "execute_result",
          "data": {
            "text/plain": [
              "[[1, 2], [5, 5], [8, 10], [15, 23], [24, 24], [25, 25]]"
            ]
          },
          "metadata": {},
          "execution_count": 15
        }
      ]
    },
    {
      "cell_type": "markdown",
      "metadata": {
        "id": "uAgQfFN_syRy"
      },
      "source": [
        "##**Task2: First bad version**"
      ]
    },
    {
      "cell_type": "code",
      "metadata": {
        "id": "yXvgEvLVs-d-"
      },
      "source": [
        "def fist_bad_version(n: int) -> int:\n",
        "  \"\"\"\n",
        "    Find nad version by using binary search\n",
        "  \"\"\"\n",
        "  start = 0 \n",
        "  end = n \n",
        "  result = n \n",
        "\n",
        "  while start <= end:\n",
        "    mid = (start + end) // 2\n",
        "    if is_bad_version(mid):\n",
        "      result = mid\n",
        "      end = mid - 1\n",
        "    else:\n",
        "      start = mid + 1\n",
        "  return result"
      ],
      "execution_count": null,
      "outputs": []
    },
    {
      "cell_type": "markdown",
      "metadata": {
        "id": "fj_dRhtX0E_n"
      },
      "source": [
        "##**Task3: Jewels and stones**"
      ]
    },
    {
      "cell_type": "code",
      "metadata": {
        "id": "JVQtLX9y0Ee_"
      },
      "source": [
        "def num_jewels_in_stones(jewels: str, stones: str) -> int: \n",
        "  # Use set since the hash table is used for searching\n",
        "  # O(1)\n",
        "  jewels = set(jewels)\n",
        "  count = 0\n",
        "\n",
        "  for stone in stones:\n",
        "    if stone in jewels:\n",
        "      count += 1\n",
        "  return count"
      ],
      "execution_count": null,
      "outputs": []
    },
    {
      "cell_type": "markdown",
      "metadata": {
        "id": "nEw-sbf44EZC"
      },
      "source": [
        "##**Task4: Ransom note**"
      ]
    },
    {
      "cell_type": "code",
      "metadata": {
        "id": "PQYsUPvU4Kk4"
      },
      "source": [
        "def is_ransom_note_formed(ransom_note: str, magazine: str) -> bool:\n",
        "  \"\"\"\n",
        "    Use dictionary (hasp map) to check if ransom note can be constructed\n",
        "  \"\"\"\n",
        "  letters_count = dict()\n",
        "  for letter in magazine:\n",
        "    if letters_count.get(letter):\n",
        "      letters_count[letter] += 1\n",
        "    else:\n",
        "       letters_count[letter] = 0\n",
        "\n",
        "  for letter in ransom_note:\n",
        "    if not letters_count.get(letter) or letters_count.get(letter) - 1 < 0 :\n",
        "      return False\n",
        "    letters_count[letter] -= 1\n",
        "  return True"
      ],
      "execution_count": null,
      "outputs": []
    },
    {
      "cell_type": "markdown",
      "metadata": {
        "id": "QT3y4Gl7_fCa"
      },
      "source": [
        "##**Task5: Number complement**\n",
        "\n",
        "The complement of an integer is the integer you get when you flip all the 0's to 1's and all the 1's to 0's in its binary representation.\n",
        "\n",
        "    For example, The integer 5 is \"101\" in binary and its complement is \"010\" which is the integer 2.\n",
        "\n",
        "Given an integer num, return its complement.\n",
        "\n",
        "![image.png](data:image/png;base64,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)"
      ]
    },
    {
      "cell_type": "code",
      "metadata": {
        "id": "wtNPhoHl_hXq"
      },
      "source": [
        "def find_complement(num: int) -> int:\n",
        "  \"\"\"\n",
        "    Convert to binary and slice the prefix of binary indication \"0b\"\n",
        "  \"\"\"\n",
        "  num = list(str(bin(num)[2:]))\n",
        "  for i,x in enumerate(num):\n",
        "    if x == \"0\":\n",
        "      num[i] = \"1\"\n",
        "    elif x == \"1\":\n",
        "      num[i] = \"0\"\n",
        "  return(int(\"\".join(num), 2))"
      ],
      "execution_count": null,
      "outputs": []
    },
    {
      "cell_type": "code",
      "metadata": {
        "colab": {
          "base_uri": "https://localhost:8080/"
        },
        "id": "jQJbPp-bDH2a",
        "outputId": "325dfd8b-a4ca-4cbd-8a75-ef7f39d14c28"
      },
      "source": [
        "print(find_complement(10))\n",
        "print(find_complement(5))\n",
        "print(find_complement(1))\n",
        "print(find_complement(0))"
      ],
      "execution_count": null,
      "outputs": [
        {
          "output_type": "stream",
          "name": "stdout",
          "text": [
            "5\n",
            "2\n",
            "0\n",
            "1\n"
          ]
        }
      ]
    },
    {
      "cell_type": "markdown",
      "metadata": {
        "id": "UJE33lOPEIrw"
      },
      "source": [
        "##**Task6: First unique characters in a string**\n",
        "\n",
        "Given a string s, find the first non-repeating character in it and return its index. If it does not exist, return -1.\n",
        "\n",
        "![image.png](data:image/png;base64,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)"
      ]
    },
    {
      "cell_type": "code",
      "metadata": {
        "id": "TAWdDoUnEPvR"
      },
      "source": [
        "def firts_uniq_char(string: str) -> int:\n",
        "  \"\"\"\n",
        "    Find the first occurrence of unique character in string\n",
        "  \"\"\"\n",
        "  occurrence = {}\n",
        "\n",
        "  for char in string:\n",
        "    if char in occurrence:\n",
        "      occurrence[char] += 1\n",
        "    else:\n",
        "      occurrence[char] = 1\n",
        "\n",
        "  for indx, char in enumerate(string):\n",
        "    if occurrence[char] == 1:\n",
        "      return indx\n",
        "  return -1"
      ],
      "execution_count": null,
      "outputs": []
    },
    {
      "cell_type": "code",
      "metadata": {
        "colab": {
          "base_uri": "https://localhost:8080/"
        },
        "id": "eLe3WDwyHUSV",
        "outputId": "b5a6cb8d-c762-476d-aa7b-773a779341c9"
      },
      "source": [
        "print(firts_uniq_char('leetcode'))\n",
        "print(firts_uniq_char('loveleetcode'))\n",
        "print(firts_uniq_char('aabb'))"
      ],
      "execution_count": null,
      "outputs": [
        {
          "output_type": "stream",
          "name": "stdout",
          "text": [
            "0\n",
            "2\n",
            "-1\n"
          ]
        }
      ]
    },
    {
      "cell_type": "markdown",
      "metadata": {
        "id": "d8_NSPTeIWzC"
      },
      "source": [
        "##**Task7: Majority element**"
      ]
    },
    {
      "cell_type": "code",
      "metadata": {
        "id": "8tMX5qaqIe1R"
      },
      "source": [
        "def majaroty_elements(nums: list) -> int:\n",
        "  \"\"\"\n",
        "    Find the majority element in the list which is greater than n/2.\n",
        "    Majarity element is guaranteed \n",
        "  \"\"\"\n",
        "  majority = nums[0]\n",
        "  count = 1\n",
        "\n",
        "  for num in nums[1:]:\n",
        "    if num == majority:\n",
        "      count += 1\n",
        "    else:\n",
        "      count -= 1\n",
        "      if count == 0:\n",
        "        majority = num\n",
        "        count = 1\n",
        "  return majority"
      ],
      "execution_count": null,
      "outputs": []
    },
    {
      "cell_type": "code",
      "metadata": {
        "colab": {
          "base_uri": "https://localhost:8080/"
        },
        "id": "yfPHAgqOMjPR",
        "outputId": "c5d806dc-5130-4d5f-e243-79c0418b3a86"
      },
      "source": [
        "print(majaroty_elements([3,2,3]))\n",
        "print(majaroty_elements([2,2,1,1,1,2,2]))"
      ],
      "execution_count": null,
      "outputs": [
        {
          "output_type": "stream",
          "name": "stdout",
          "text": [
            "3\n",
            "2\n"
          ]
        }
      ]
    },
    {
      "cell_type": "markdown",
      "metadata": {
        "id": "n4rx15QBMyv4"
      },
      "source": [
        "##**Task8: Cousins in a binary tree**"
      ]
    },
    {
      "cell_type": "code",
      "metadata": {
        "colab": {
          "base_uri": "https://localhost:8080/",
          "height": 246
        },
        "id": "s0eTB7S3M54j",
        "outputId": "b20302b5-f1e4-4d41-f1cf-9c49523e51bb"
      },
      "source": [
        "from typing import Tuple\n",
        "def find_height(current: TreeNode, parent: int, value: int, height: int) -> Tuple(int):\n",
        "  if not current:\n",
        "    return parent, 0\n",
        "\n",
        "  if current.val == value:\n",
        "    return parent, height\n",
        "\n",
        "    parent = current.val\n",
        "    # Left tree\n",
        "    parent, height = find_height(current.left, parent, value, height+1)\n",
        "    if height:\n",
        "      return parent, height\n",
        "    parent = current.val\n",
        "    # right tree\n",
        "    parent, height = find_height(current.right, parent, value, height+1)\n",
        "    if height:\n",
        "      return parent, height\n",
        "    \n",
        "\n",
        "def is_cousins(root: TreeNode, x: int, y: int) -> bool:\n",
        "  \"\"\"\n",
        "    Two nodes are cousins if they have the same height and diffrent parents\n",
        "  \"\"\"\n",
        "\n",
        "  if root.val == x or root.val == y:\n",
        "    # Nodes can not be root \n",
        "    return False\n",
        "\n",
        "  parent_x, parent_y  = -1, -1\n",
        "  height_x = find_height(root, parent_x, x, 0)\n",
        "  height_y = find_height(root, parent_y, y, 0)\n",
        "\n",
        "  if parent_x != parent_y and height_x == height_y:\n",
        "    return True \n",
        "  return False"
      ],
      "execution_count": null,
      "outputs": [
        {
          "output_type": "error",
          "ename": "NameError",
          "evalue": "ignored",
          "traceback": [
            "\u001b[0;31m---------------------------------------------------------------------------\u001b[0m",
            "\u001b[0;31mNameError\u001b[0m                                 Traceback (most recent call last)",
            "\u001b[0;32m<ipython-input-60-9a34c75c14cb>\u001b[0m in \u001b[0;36m<module>\u001b[0;34m()\u001b[0m\n\u001b[1;32m      1\u001b[0m \u001b[0;32mfrom\u001b[0m \u001b[0mtyping\u001b[0m \u001b[0;32mimport\u001b[0m \u001b[0mTuple\u001b[0m\u001b[0;34m\u001b[0m\u001b[0;34m\u001b[0m\u001b[0m\n\u001b[0;32m----> 2\u001b[0;31m \u001b[0;32mdef\u001b[0m \u001b[0mfind_height\u001b[0m\u001b[0;34m(\u001b[0m\u001b[0mcurrent\u001b[0m\u001b[0;34m:\u001b[0m \u001b[0mTreeNode\u001b[0m\u001b[0;34m,\u001b[0m \u001b[0mparent\u001b[0m\u001b[0;34m:\u001b[0m \u001b[0mint\u001b[0m\u001b[0;34m,\u001b[0m \u001b[0mvalue\u001b[0m\u001b[0;34m:\u001b[0m \u001b[0mint\u001b[0m\u001b[0;34m,\u001b[0m \u001b[0mheight\u001b[0m\u001b[0;34m:\u001b[0m \u001b[0mint\u001b[0m\u001b[0;34m)\u001b[0m \u001b[0;34m->\u001b[0m \u001b[0mTuple\u001b[0m\u001b[0;34m(\u001b[0m\u001b[0mint\u001b[0m\u001b[0;34m)\u001b[0m\u001b[0;34m:\u001b[0m\u001b[0;34m\u001b[0m\u001b[0;34m\u001b[0m\u001b[0m\n\u001b[0m\u001b[1;32m      3\u001b[0m   \u001b[0;32mif\u001b[0m \u001b[0;32mnot\u001b[0m \u001b[0mcurrent\u001b[0m\u001b[0;34m:\u001b[0m\u001b[0;34m\u001b[0m\u001b[0;34m\u001b[0m\u001b[0m\n\u001b[1;32m      4\u001b[0m     \u001b[0;32mreturn\u001b[0m \u001b[0mparent\u001b[0m\u001b[0;34m,\u001b[0m \u001b[0;36m0\u001b[0m\u001b[0;34m\u001b[0m\u001b[0;34m\u001b[0m\u001b[0m\n\u001b[1;32m      5\u001b[0m \u001b[0;34m\u001b[0m\u001b[0m\n",
            "\u001b[0;31mNameError\u001b[0m: name 'TreeNode' is not defined"
          ]
        }
      ]
    },
    {
      "cell_type": "markdown",
      "source": [
        "##**Task9: Valid Perfect Square**"
      ],
      "metadata": {
        "id": "OpVzmMx3HDXe"
      }
    },
    {
      "cell_type": "code",
      "source": [
        "def is_perfect_square(num: int) -> bool:\n",
        "  \"\"\"\n",
        "    Find if the numbber is perfect square.\n",
        "    For example, 16 = 4x4\n",
        "  \"\"\"\n",
        "  end = num\n",
        "  start = 0\n",
        "  \n",
        "  while start <= end:\n",
        "    mid = start + (end - start)//2\n",
        "    sq = mid * mid \n",
        "    print(start, end, mid, sq)\n",
        "    if sq == num:\n",
        "      return True\n",
        "    elif sq > num:\n",
        "      end = mid - 1\n",
        "    else:\n",
        "      start = mid + 1\n",
        "  return False "
      ],
      "metadata": {
        "id": "RmY7xKdnHKJq"
      },
      "execution_count": null,
      "outputs": []
    },
    {
      "cell_type": "code",
      "source": [
        "print(is_perfect_square(16))"
      ],
      "metadata": {
        "colab": {
          "base_uri": "https://localhost:8080/"
        },
        "id": "9pT4B_AxMGZy",
        "outputId": "2e360a5e-e246-47fd-f58f-784e2e7e7046"
      },
      "execution_count": null,
      "outputs": [
        {
          "output_type": "stream",
          "name": "stdout",
          "text": [
            "0 16 8 64\n",
            "0 7 3 9\n",
            "4 7 5 25\n",
            "4 4 4 16\n",
            "True\n"
          ]
        }
      ]
    },
    {
      "cell_type": "markdown",
      "source": [
        "##**Task10: Found the town jungle**"
      ],
      "metadata": {
        "id": "coa37FDiNRKv"
      }
    },
    {
      "cell_type": "code",
      "source": [
        "from typing import List, Tuple\n",
        "def find_judge(n:int, trust: List[Tuple[int]]) -> int:\n",
        "  \"\"\"\n",
        "    The town judge is tursted by N -1 people and does not trust anyone\n",
        "  \"\"\"\n",
        "  # 1st value of paire denotes how many he trusts and 2d how many trusted him\n",
        "  trusted_table = [[0,0] for i in range(n + 1)]\n",
        "\n",
        "  for pair in trust:\n",
        "    # 1st value of paire denotes how many he trusts\n",
        "    trusted_table[pair[0]][0] += 1\n",
        "    # 2d value of paire denotes how many trusted him\n",
        "    trusted_table[pair[1]][1] += 1\n",
        "  print(trusted_table)\n",
        "\n",
        "  for indx,pair in enumerate(trusted_table):\n",
        "    # Return indx when n-1 people trusted him and he doesn't trust anyone\n",
        "    if pair[0] == 0 and pair[1] == n -1:\n",
        "      return indx\n",
        "  return -1"
      ],
      "metadata": {
        "id": "2UZ3YhCLMjjf"
      },
      "execution_count": null,
      "outputs": []
    },
    {
      "cell_type": "code",
      "source": [
        "print(find_judge(4, [[1,3], [1,4], [2,3], [2,4], [4,3]]))"
      ],
      "metadata": {
        "colab": {
          "base_uri": "https://localhost:8080/"
        },
        "id": "nAsjGtPgQt8L",
        "outputId": "0f091623-ceb8-43a9-87b5-1c7afe68bf49"
      },
      "execution_count": null,
      "outputs": [
        {
          "output_type": "stream",
          "name": "stdout",
          "text": [
            "[[0, 0], [2, 0], [2, 0], [0, 3], [1, 2]]\n",
            "3\n"
          ]
        }
      ]
    },
    {
      "cell_type": "markdown",
      "source": [
        "##**Task11: Flood Fill**\n",
        "\n",
        "An image is represented by an m x n integer grid image where image[i][j] represents the pixel value of the image.\n",
        "\n",
        "You are also given three integers sr, sc, and newColor. You should perform a flood fill on the image starting from the pixel image[sr][sc].\n",
        "\n",
        "To perform a flood fill, consider the starting pixel, plus any pixels connected 4-directionally to the starting pixel of the same color as the starting pixel, plus any pixels connected 4-directionally to those pixels (also with the same color), and so on. Replace the color of all of the aforementioned pixels with newColor.\n",
        "\n",
        "Return the modified image after performing the flood fill.\n",
        "\n",
        "![image.png](data:image/png;base64,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)\n",
        "\n",
        "Input: image = [[1,1,1],[1,1,0],[1,0,1]], sr = 1, sc = 1, newColor = 2\n",
        "Output: [[2,2,2],[2,2,0],[2,0,1]]\n",
        "Explanation: From the center of the image with position (sr, sc) = (1, 1) (i.e., the red pixel), all pixels connected by a path of the same color as the starting pixel (i.e., the blue pixels) are colored with the new color.\n",
        "Note the bottom corner is not colored 2, because it is not 4-directionally connected to the starting pixel.\n",
        "\n"
      ],
      "metadata": {
        "id": "VZSe61lfTO-w"
      }
    },
    {
      "cell_type": "code",
      "source": [
        "from typing import List\n",
        "\n",
        "def dfs(image: List[List[int]], sr: int, sc: int, new_color: int, source: int):\n",
        "\n",
        "  if sr < 0 or sr >= len(image) or sc < 0 or sc >= len(image[0]) \\\n",
        "    or image[sr][sc] != source:\n",
        "    return\n",
        "  image[sr][sc] = new_color\n",
        "\n",
        "  dfs(image, sr-1, sc, new_color, source) # TOP\n",
        "  dfs(image, sr+1, sc, new_color, source) # DOWN\n",
        "  dfs(image, sr, sc-1, new_color, source) # LEFT\n",
        "  dfs(image, sr, sc+1, new_color, source) # RIGHT\n",
        "\n",
        "def floor_fill(image: List[List[int]], sr: int, sc: int, new_color: int) -> List[List[int]]:\n",
        "  \"\"\"\n",
        "\n",
        "  \"\"\"\n",
        "  if new_color == image[sr][sc]:\n",
        "    return image\n",
        "  rows = len(image)\n",
        "  columns = len(image[0])\n",
        "  source = image[sr][sc]\n",
        "  dfs(image, sr, sc, new_color, source)\n"
      ],
      "metadata": {
        "id": "Ajr5oL8QTU9A"
      },
      "execution_count": null,
      "outputs": []
    },
    {
      "cell_type": "code",
      "source": [
        "image = [[1,1,1],[1,1,0],[1,0,1]]\n",
        "sr = 1\n",
        "sc = 1\n",
        "new_color = 2\n",
        "floor_fill(image, sr, sc, new_color)\n",
        "print(image)\n",
        "\n",
        "\n",
        "image = [[0,0,0],[0,0,0]]\n",
        "sr = 0\n",
        "sc = 0\n",
        "new_color = 2\n",
        "floor_fill(image, sr, sc, new_color)\n",
        "print(image)\n"
      ],
      "metadata": {
        "colab": {
          "base_uri": "https://localhost:8080/"
        },
        "id": "FNtDndCWT5Bu",
        "outputId": "79ea3fc2-d0b5-4950-c3c8-3c1571ad98dc"
      },
      "execution_count": null,
      "outputs": [
        {
          "output_type": "stream",
          "name": "stdout",
          "text": [
            "[[2, 2, 2], [2, 2, 0], [2, 0, 1]]\n",
            "[[2, 2, 2], [2, 2, 2]]\n"
          ]
        }
      ]
    },
    {
      "cell_type": "markdown",
      "source": [
        "##**Task12: Single element in a sorted array**\n",
        "\n",
        "You are given a sorted array consisting of only integers where every element appears exactly twice, except for one element which appears exactly once.\n",
        "\n",
        "Return the single element that appears only once.\n",
        "\n",
        "Your solution must run in O(log n) time and O(1) space.\n",
        "\n",
        "![image.png](data:image/png;base64,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)\n",
        "\n",
        "*   List item\n",
        "*   List item\n",
        "\n"
      ],
      "metadata": {
        "id": "GM1FieBXWhfH"
      }
    },
    {
      "cell_type": "code",
      "source": [
        "from typing import List\n",
        "\n",
        "def single_non_duplicate(nums: List[int]) -> int:\n",
        "  \"\"\"\n",
        "  \n",
        "  \"\"\"\n",
        "  # Edge Case when the list is empty\n",
        "  if not nums: \n",
        "    return -1 \n",
        "  elif len(nums) == 1:\n",
        "    return nums[0]\n",
        "  \n",
        "  # Settung up two pointers\n",
        "  start, end = 0, len(nums) - 1\n",
        "\n",
        "  while start <= end:\n",
        "    mid  = start + (end - start) // 2 \n",
        "    # If an element found \n",
        "    if nums[mid] != nums[mid-1] and nums[mid] != nums[mid+1]:\n",
        "      return nums[mid]\n",
        "    elif (mid%2==0 and nums[mid]==nums[mid-1]) or (mid%2==1 and nums[mid]==nums[mid+1]):\n",
        "        end = mid - 1\n",
        "    else:\n",
        "        start = mid + 1"
      ],
      "metadata": {
        "id": "qliCVu7uWg-l"
      },
      "execution_count": null,
      "outputs": []
    },
    {
      "cell_type": "code",
      "source": [
        "print(single_non_duplicate([1,1,2,3,3,4,4,8,8]))\n",
        "print(single_non_duplicate([3,3,7,7,10,11,11]))"
      ],
      "metadata": {
        "colab": {
          "base_uri": "https://localhost:8080/"
        },
        "id": "WxwC0bk0cOSN",
        "outputId": "b3e5af3d-d3d1-41e5-b735-3b2525292a71"
      },
      "execution_count": null,
      "outputs": [
        {
          "output_type": "stream",
          "name": "stdout",
          "text": [
            "2\n",
            "10\n"
          ]
        }
      ]
    },
    {
      "cell_type": "markdown",
      "source": [
        "##**Task13: Remove K digits | Build lowest number**\n",
        "\n",
        "Given string num representing a non-negative integer num, and an integer k, return the smallest possible integer after removing k digits from num.\n",
        "\n",
        "![image.png](data:image/png;base64,iVBORw0KGgoAAAANSUhEUgAAAycAAAIaCAYAAAA6OjJuAAAgAElEQVR4nO3dvYskSWL3cf01Dee2o3YlZMloRrCIHqMH5Mm5hYGGgaUYmoEzZGjvQNDOqqFgYOAsOYtoWIpmNGc8xkisJRqa0b6Ik+SJk0DD9C7EY1RWVb5GvlRlVVT15wtf2O2qzIzIjMyMX0ZkzR8FAAAAAEiAP9p1AQAAAAAgBOEEAAAAQCIIJwAAAACSQDgBAAAAkATCCQAAAIAkEE4AAAAAJIFwAgAAACAJhBMAAAAASSCcAAAAAEgC4QQAAABAEggnAAAAAJJAOAEAAACQBMIJAAAAgCQQTgAAAAAkQYdw8i68OD4JRyVfvB2/cMNZlPlZ+Or7ddbzQ/jqaVbnl+82VTgAAAAANQgnDXw3fVass3ACAAAAjEqPcLLuKMQ22VQ4eRZevHwmnAAAAABbYK1wMnu5GFl4FWblv718FwrToo6r3y2uOzdCkwWB1frzIzUNyxTKV1/m/Pq6BpflCEo+nHz/OjzZu8AGAAAApM3AaV2LTvkqfDyZ/hDC21fzz5++Dt+F4uf1AaV+ytjR8Ul48rQ0rWq5zlXweNIYfMrhpKkc7eFCOAEAAAC2w5rhJBQ66vOwEOuwl0PDat3zkZFciFiEkUXgqQk0T6Y/VMo4X09pO5V1rEZRVuuopzacAAAAANg4G3nnpPDyeKET3zQyUg4nq3VXQsMy/DSNioSQDzXxcFIzQiOcAAAAAEmwfjhZhofq+yGLjn01aGwinNR9p/vISVeEEwAAAGA7DP4p4XkwKL5zshpBmYeAys/xPn220XBSsea9lPL0sfrvN+OdEwAAAGA7rBVOlr9+VfcCfOXXuvK/rrWhaV1v86M2Tb8CtvhbzUvxwgkAAACQDB3CSWrs47+7AgAAAKAN4QQAAABAEggnAAAAAJJgD8MJAAAAgENEOAEAAACQBMIJAAAAgCQQTgAAAAAkgXACAAAAIAmEEwAAAABJIJwAAAAASALhBAAAAEASCCcAAAAAkkA4AQAAAJAEwgkAAACAJBBOAAAAACSBcAIAAAAgCYQTAAAAAEkgnAAAAABIAuEEAAAAQBJ0CicPP/0cPn56IEmSJMnRbA0ngglJkiTJbdgaTnZdQJIkSZKPQ+GEJEmSZBIKJyRJkiSTUDghSZIkmYTCCUmSJMkkFE5IkiRJJqFwQpIkSTIJhROSJEmSSSickCRJkkxC4YQkSZJkEgonJEmSJJNQOCFJkiSZhMIJSZIkySQUTkiSJEkmoXByQN5dn4ej48tw8+k2XByfhNPrDzsvU9r1+xCuzk7CxWz3dSNJkuTY4eR+Gk6PT8JRwfNwdT9mpeYdzqPJ7c537tadXWad9/k+KHbes/1y3NwZn3f+i5/fTCLHrnB8e3wWK8vsMre9y3DTuX7D28o2w0l0f5IkST5ytzNyknU4t9MJfOTh5Gwa7iqd7ttwcXweru4jnfHZZTg6uwwXkc763fV5tv7Ffl6Fh+6fRcpyPw2n+UCyrE9b/dZrK7saOSnuF5IkSe4unGRP1i8muSfli0DR4bPlU/PcuotPpeufTi9GB7o/db8NF8eX4Spbrrjs/LObQp3m/393fR5Or6fh4vgkHJ1Nw9UkPmqxHZs64x3Cy2LfNYW+5ahG189qtjW7LK1/Ua7t7I+6kaMxje5PkiTJR+jOw8lRrjO/DBKlzwrLR8LJfN3xkZNh4SS3vkJHOx5Oyu9HzANLy3Zrp8JtqsNcHz5uJov9Ufd5Vv8sZDU95Y91tOs/awgnx6URly2Fk5tJvH6bO0bd9idJkuRjdOfhpDZklD/LvwC9Zjjpb3MAaQ0nk9uQf/rfKZyMattoRcs0p6bRkd6jJs3buiuMUE23MnJSGJnbprH9RpIk+Qjdj3CS//9DDydbHTnJdc7L1j7Vr06zWo0QVbcX+6zT+x7ld1A27qIM8/DbeR9v7BiNPW2NJElyv9yLcFI35Ss/Dak2nDRMmRn6zklzOFl0Lhdl2bORkz6fl15QHx5Mupel1/7q/cMLuTIs3nPa5jtB5Rf+SZIkH7m7+ynhDuGk6al0/sX3i+uaTmXh52g380J8fTipm4aUYjjJvecQfdJf9ytfDaMpsdGD6MhCrCzFkZzeQWGx3c6jZqX6Zu1mvGMU2Z8kSZJM9B9hrLxzQnax5/QskiRJJqVwwoOw/4gYSZIkU1M4IUmSJJmEaYYTkiRJko9O4YQkSZJkEgonJEmSJJNQOCFJkiSZhMIJSZIkySQUTkiSJEkmoXBCkiRJMgmFE5IkSZJJKJyQJEmSTELhZE3vrs/D0fFluPl0Gy52/K/ap1QWkiRJsq/jh5PZZTg6PlnavcP8IVydnYSjye0GKzzCOmeXWSCYr7tYv2x7xyfhYlZa7n4aTpf75Txc3deUs265wv68DDedy0KSJEmm7bjhJOuALzvJWce60uGudY/Cydk03GXrXtXtNlwcn4er+/LfF+VYBYu76/NsHS3L3U/DaT6QLLfdVhaSJEkyfUcNJzeT8tP9+XSjo8ltNLjMlyubjS5ky11MciMIi7AxdJ1Z+ebTojY94tAhKCxHPFqWm12WgtUiyOy+IZEkSZLrOn44yT/ZX4xcnE3DXeuoSsMox3I6VNaZzy83dJ2Zuwond9fnNWVqCCfHpREX4YQkSZIH4ojhJBdE6v62ZjhZBYjcy99rhpNxbAkntaMmzcstAtQ8RE2NnJAkSfJgTHJa1/y7HcNJ/v/3LJysfl2r33LFfdG0PEmSJLlfjvtCfDkczC4r747Mg0Tdr1PVjbyUlytNbRq6zsxtTuuKB5Pm5cqf+0UukiRJHopb/ynhfGc7/5L6xXX2onvlHYv6F+I3us7ss82Gk2yUqK6sNXVY1SOyXC5wdf/VM5IkSXI/3L9/hLHyzglJkiTJQ1A4IUmSJJmEwglJkiTJJNy/cEKSJEnyIBVOSJIkSSahcEKSJEkyCYUTkiRJkkkonJAkSZJMQuGEJEmSZBIKJyRJkiSTUDghSZIkmYTCCUmSJMkk3MNw8iFcnZ2Eo+O5SfxL8bPLdMpysN6Gi+PLcHOw2+vh/TSclst2Pw2nxyfhYjZkXQOWY/9jtDcmeI0tmPC5ab8kaIf90vs6uOa+3tp1d3/axM1kdc0p75fYZzxMRw4nxZvc3PNwdb+Bwmcn93ZunFk9Jrf1nycRTm7DxRj7eevO93X1AjTWRXbb29uAWwknTftlfe+uzzd2k8nftJJq833CSXYM+tdhpGM0uwxHZ9Nwt+t9uI/n5k7dxX5Z3eMrxynariPLZffTuZuoz2MIJ4dyrsSuaZu+3o13j+P6biecjHGjSymcJOFtuMjdAO6uzxPpYAzb18JJxK08lR+z43sZLkZYd1JtvvMx+hCuzlbf61eHcY7R3fV5Ite6PTw3d+ouRpfPw9V93XGKtevIcuXzZiNBeYz9klobPJRzRTjh3J2Fk8UTz2W4WDwtmdyunipMck9QyjfL2nBSHalZfh5dZ/NyxSez5adALdMfCk+AupZl7uLpcvfwVQwnlYt84SnW6oS8uz4Pp9fT+ajL2TRcTUpPsyLLlY/rzaRaxz5DsYs61+/r7CKb26eFfbPl7d1MTsLFdX6b7ft6aDnrlstvLzrkXWqDTW07v1x8v1TL0r+Npt2pLp/zq3LO28RVbv/E2uCgp76zy07L9T1Gw8+Hbu266Xxovb4kci3oe2zn62xox5061LHtlTqUuWt5fH8O3y/R61mrHc7n2nZds9zssnQOl+5rfba/PA7t1/JYWyleDxZ1aNnXHa8v8dGmbuvc/rnSXM6287352tqlLTV81uN+my9n9PrJnbuDaV2lpynH5+HqPpuStLgoLRtU9t3sxKprdLGTd7X+6joLn8WWy9ejqeNTV5by3/J16FCWdcPJzSRf3vLTk9V359u5DDfZtLDT6w/ZBeZDVs5yhyd/0cuXOb+N5u11bTP1T4BydSrc7La9vWz/5jogN5NSB6G2LEPLOS9LMTB2uNGX11/baWqqf/NNYlXXfq7C6ybDSW4642gjtPl2FmuDbceo3X4BK3azbjpvB5ahZZ1N50P0+jK0fqNcC4atc9WmV9/pdgx7bK8UTpr3Z919tNu1p/l6tkY7bG3XDeGkto8QL0P8OMSv5bE6FO+jXY/f8H029Nq67ftmUzl7ne+d72Oxz9rbdfP+NHKSsjue1pULL/nvVDr7q4b+sfE7c6uJuBhOasNCbLl8OXuEk9VJ+lCtQ0tZhll656Rmf9bVr3gBX/1tcVEp1zl/sudHSgrfjWyva5tpHZ7OX9i2vb1PkYterCxDy1kOFTsOJ8tzpc8oReGJ6IhTxjYxhaEy2tTeaex2jDZd/vr92Hbetlm3fJdrQWNbabi+DK3fONeCYetc1mV2GU7PzpeBrL1+setLSzhp3J/ljlpu/7Xsl+Gd4thxamvXkfa7fNI97dRhjh+H+LW8uSyxznqXdQ48d/teW7d+rjSXs/V8b7y2dmlLTdMAm+sQ35/CScruRzjpMjLx6aHyYnrdyEltIIgtly9n8uEkUteGY7BOOPl4Pw2nZ9Nw9+lDuDpr6wT3azO9LrLb3l55P+SNlWVoOQeHky4vjPcPJ+Xzrf1GWjeCOsZoR58Rs47r6NhpXDecVK8Xw9vuow4ng68FA9eZhe6768twNZuG08ltx3295XDSsl/GCifxdt3hGtP1PIoeh/0JJ4X69Aop275v1pezvX02XVu77JeGkbYudajdn8JJyu40nKyGkuundTWHhep38g0wPx+4TzipXa5DPTYalLLl153WVbwplKacfCptp+li0jo9JAsls0VIyZdl+ElfeHelsM7YzXyb24vdzGNlGVjOwn5ftM8OF/X78nFpPkebpm+1tr9B05catrluSK+7UfVdZ910pS7hpNMxqndYMIkcox1N69p8ONnmtWDgOu+n4fTsMlxMsoc0k8twcdZlX7dtr74t9QonsWmHNft50+GkvV23dQ7nn3dqK9HjMDScxB5KjhxOBqxz2/fNunL26U8Ur61d9ktTgOxYh5r9Gb3HbeShMYe6s58SXjzRXR74mhfia1+cqh3GKweL7G/XuZMhGggiy5UaavVls6ayVKeKleswZjipTIUr77esE9dvGLbmptt0Ajdsr1NdCst2vMFseXvRm3msLAPLmW9LF7N82epHJZpeQDzquFzzfqku1//i3XADWmyv89PCyFTGwess7rP5tJIO4SR6jLq2vQH7tPYYdThv29pa3f6KrHOscLK9a8HQdRavs92DZve2lG+D7eEkMlIa2S/Dwknk/hdt17H7Zule3LlMseMQ29dt18Hy592uBW3Xvi51731t3dq50lzOtvO9+drab79E+4TLOnTYn03Xz9w5KJzsxjT/EcaG90lI9rBmrnen0ZCduaEneaOvkyRJjqVwQh6qlXCSbke9/0jhbtZJkiTHVTghD9bqsLZziiRJpmya4YQkSZLko1M4IUmSJJmEwglJkiTJJBROSJIkSSahcEKSJEkyCYUTkiRJkkkonJAkSZJMQuGEJEmSZBIKJyRJkiSTUDghSZIkmYTCCUmSJMkkbA0nDz/9vPNCkiRJkjx8W8OJgEKSJElyG3YKJwAAAAAwNsIJAAAAgCQQTgAAAAAkgXACAAAAIAmEEwAAAABJIJwAAAAASALhBAAAAEASCCcAAAAAkkA4AQAAAJAEwgkAAACAJBBOAAAAACSBcAIAAAAgCYQTAAAAAEkgnAAAAABIAuEEAAAAQBIIJwAAAACSQDgBAAAAkATCCQAAAIAkEE4AAAAAJEGHcPIuvDg+CUclX7wdv3DDWZT5Wfjq+4GrePuqVOdXYbbRMgIAAADII5xEly/59HX4bsMlBQAAADCnRzhZYxRi62wgnLx8t/rf71+HJ0ZPAAAAgFFZK5zMXlanPC3/9vJdCOGH8NXT8ghEvoOfX3dutCILBqv150dqGpYplK++zPn19Qou5XCy/P99CmwAAABA2gyc1rXolK/Cx5PpD6v3NJbTn+rCST6gNEyfOj4JT54+a5hStQoeTxqDTzmcNJWjS7jILbsYTRFOAAAAgI2zZjgJhY76PCzEOuzl0LBa93xkJBcEFmFk+WJ6NdA8mf5QKeN8PaXtVNaxGkVZraOGZd28bwIAAACMzUbeOflumhvlyL+r0TgyUg4nq3VXQkPlfY+68qxCTTyc1IzQNIWT3DLRAAMAAABgI6wfTvKjC6X3QxahpRo0NhFO6r7TfeRkrToDAAAA2DiDf0p4HgyK75ysRlDmIaAwonJ8Eo6ePttoOGn+qd/m6WOdfhq4caQlW593TgAAAICNs1Y4Wf76Vd0L8JVf68r/utaGpnW9zY/aNP0K2OJvNS/FN4STSqgSTgAAAIDR6RBOUsOUKwAAAOAQEU4AAAAAJIFwAgAAACAJ9jCcAAAAADhEhBMAAAAASSCcAAAAAEgC4QQAAABAEggnAAAAAJJAOAEAAACQBMIJAAAAgCQQTgAAAAAkgXACAAAAIAmEEwAAAABJIJwAAAAASALhBAAAAEASCCcAAAAAkkA4AQAAAJAEwgkAAACAJBBOAAAAACRBp3Dy8NPP4eOnB5IkSZIczdZwIpiQJEmS3Iat4WTXBSRJkiT5OBROSJIkSSahcEKSJEkyCYUTkiRJkkkonJAkSZJMQuGEJEmSZBIKJyRJkiSTUDghSZIkmYTCCUmSJMkkFE5IkiRJJqFwQpIkSTIJhROSJEmSSSickCRJkkxC4YQkSZJkEgonB+Td9Xk4Or4MN59uw8XxSTi9/rDzMm2nnB/C1dlJuJjtvm4kSZIc7rjh5H4aTo9PwlHB83B1P2al5h3Vo8ntznfu1p1dZp3++T4odvqz/XJc04kvHKfS8Rnjs2g5hx/z7YaTyP4kSZLkILczcjK73GIn7pGHk7NpuKt01m/DxfF5uLqv68TPRy+Wf7ufhtPjy3Cz3JeL/85GPM6m4a51udhnsXKud8y3FxJi+5MkSZJD3V04yZ6sX0wuV6Mqi0DR4bPl0/bcum8m5VGa6lP7+ZSiPk/rb8PF8WW4ypYrLjv/7KZQp/n/312fh9Prabg4PglHZ9NwNUnhKXtNZ3oZFIr7p7acyxGPluX6rHOEeo2/vcj+JEmS5GB3Hk6Ocp35ZZAofVZYPhJO5uuOj5wMCye59eU76C3hpPxexTywtGy3dircpjrA1c703fX5sm43k1WQqitn/rux5fqsczOu6rXY3l2X5dbe18IJSZLkJt15OKkNGeXP8i9OrxlO+tscQFrDyeQ2rKYAPXQLJ6PaHE5uJieFQFEpZyGUxZfrvM4N16swwraj/UmSJMnh7kc4yf//oYeTLY+cLPbfqlwNASZfz7blOqxzsy7WX3rXpU0jJyRJkkm5F+GkbsrX/LO6X0zK/tYwtWfoOyfN4WTxTsuiLPs1clKsw0P9CEk5mLQuF1/noPbStV6L95W2+OMLwglJkuRm3N1PCXcIJ01Ps/Mvvl9c13RGZ5fV7WWfbTacrNY3X+d0+d20wkn23kzTPm362d+2kYWhPyXctd10Hv0qhYTKyM2W9ydJkiQHmeY/wlh554SPy57Ts0iSJHkQCidMyv4jWyRJkjwUhROSJEmSSZhmOCFJkiT56BROSJIkSSahcEKSJEkyCYUTkiRJkkkonJAkSZJMQuGEJEmSZBIKJyRJkiSTUDghSZIkmYTCyZrO/0Xzy3Dz6TZcbOEfjtz29kiSJMltOX44mV2Go+OTpd070x/C1dlJOJrcbrDCI6xzdpmFhfm6C/XL/qX7ed3Pw9X9w/qfxbZHkiRJ7rHjhpOsk73sQGdB5WLWZfk9Cidn03CXrXtVtw/h6uwy3GTfu7s+z773ED5mox7L795Pw+nx4ruxz2LbI0mSJPfbUcPJzeQke8q/+Nu84300uY0Gl/lyZbMRhGy5i0luRGYRNoauMyvffMrUSKMRyxGPh1zAKG73YtbyWQINhiRJkhzL8cNJrqO9HLk4m4a71lGVhlGO5ZSnXEd/sdzQdWaOGU7urs+X283/92IfXU3m2419tuvGQpIkSY7piOEkF0Tq/rZmOFl11nMvhq8ZTkYzP2ryaRVObiYnhSCSDyd1n+26sZAkSZJjmuS0rvl3O4aT/P8nGE5Wv66V+3tWrlXgyL0/EvssgQZDkiRJjuW4L8SXw8HssvLuyLwTnoWGuiBRGHkpL7fo/K+5zsxNT+uqDSafHsI8pOXedymMrMQ+I0mSJA/Xrf+UcH4EIP+S+sV19qL7rGnZYgDZ6DqzzzYaTmrKWSjr0J8SJkmSJA/U/ftHGCvvnJAkSZI8BIUTkiRJkkkonJAkSZJMwv0LJyRJkiQPUuGEJEmSZBIKJyRJkiSTUDghSZIkmYTCCUmSJMkkFE5IkiRJJqFwQpIkSTIJhROSJEmSSSickCRJkkzCPQwnH8LV2Uk4Op6bxL8UP7tMpywH6224OL4MNxte781k1ZYuZiOU+34aTsvlvp+G07G2l5J1dU/kuG/eHZXzsbSlZE2pfaZUFrLBDV+z3MMP05HDSTFIzD0PV/ebajDbCgRZPSa39Z8nEU5uw8UY+3nrzvd19aQf88bbtM0NuPML2+oc3PqFtFc42cVx36QHEk6y9dVeQ4Z+NsTKNbXPOTrG+TxG+xxazn05V7Z5HA6lfiltb6SyjHL/O+R7+ON0O+HkbBruRmkwiYSTJLwNF7lOwd31+Tj7fUv7+qDDydbbxI5uasLJnvkhXJ2t6lC8hswffiyPT+HYxj4b6OwyHJ2dh9Pl9oWTccsyVnvao05o8mV5zHXfYXl2eg9/vO4snCyG4pbhIntSdjS5XaXSyeVqJKAcDGrDSXWkZvl5dJ3Ny+WHDKujEi1TzGaXA8oy9+76vOdoTDGcVE6owpPN1Ul8d30eTq+n81GXs2m4mpSeskeWKx/Xm0m1jn2GWxd1rt/X2Y03t08L+2bA9srtprJMZJ3ldlFYtrTcUe44NA9Bz+t3ldsHhfqV2lK/ttH/wt1cv5ZyRuqeznGP1aHUwcudR/FzZXg5byYn4eI6/3m3G2F0OkNpe4Me4swuV2WZXRbO98Uxu5i1fNZ3m/ltn03DzfV5tp5SG45dlxrb0rD2sk77bDqPWsuZzLkSWy5+rrSVc8j5N3SftZ63NduLnUdDy9L3+rlue6lvh+39glg528oSuzcOvv+1eqj38LrZR12OX8t9JXYt6PHZmIMDO5jWVXoyd3weru6zKUmLDvpyB+RujA07KbZzVuuvrrPwWWy5fD2aRk7qylL+W74OHcqybji5meTLW36itvrufDuX4SZ7+nl6/SG7mH/Iylm+sedvMPky57fRvL3BF5lPpTaS7zittb2mbfZYZ++nyE3bi9Uvt+1SZ3D4Pu1oTf2ayzn0Cfo2j3uPdVY6Rw3nSnmdlXOluZw3k5PC8byZ9DlW9fut3zrqvbs+X9Yn/9+L8l5NVvug6bPB21+08ftpOJ3cFusZvS61taVtXpdi59E65+UWz5XWe0CkY9+1nBtZZ0s7jp63zduLn0dDjl/kGA1u13GLfYE+xzbWrjuWZSP3v6HnxCHdwxfHsqnPVd1G432lzzlds85tjZbteFpXLrzkv1Pp7K8uKh8bvzO3muqL4aQ2LMSWy5ezRzhZXRAfqnVoKcswS++c1OzPuvqtOhbFwFLudKxOjlU58yMlhe9GtjfsIlNz0uQvGGttr2GbbeusPAWpf8Lc78LWdJPcQThpql+snJ3qnsJxb9vXkXDScK5UL+rlznT8SePwc79+vy2vZ0OnopY6B4u65zs6N6VwUvfZ4OtZri3Nb8irerZdl7o+RR39uhQ9jwael1s+V+L7ep1w0vS9kcJJ1/O2tL34eTQ0nLRdX3q269btRR7CbvzYtrX5pmXbtjfgnDioe/j8ePWpX9N9JXrcW9a59n2lh/sRTrqMTOQaW3H4sUM4iS2XL2fy4SRS14ZjsE44+Xg/zeaEfwhXZ+s/FWg+6Rf169gp3sQ2o+uMTKEb5cJWHoLuE7xi+7RDW6qUJaFwMvi4bzmctJRzjHBSaMc9bybVa9dD5RpZqV/TZ4PqVNpns8twNJmuH062fV1qm2q7zXAysO6PPZzEzyPhpP7Yxtp807IjhJNDuofPLqvX8IH3lehx73qdGHBf6etOw8lq2Kl+WldzWKh+J7/D8nOU+4ST2uU61GOjQSnfgGpGhpotnmzFDkZpmLK2odZcuDsNM5+Hq9k09+JqfHtdrH/q2tYJ2HQHL7LO0n6YX3TqhuYXbWnNC9t9ef9uon4RY/VrfTrbVvcUjnvXDmWxDr06ObHpbjX1Hi2cVOoXtzaYVPZLXf2aPsv/rUc9CzfJ+XXmtPO0rlhb2uJ1KXoexdaZ0LnSeWpv/fneqZyNbanPOlvadPS87XjNqjmP+h+/7u2le7uOGXmwutaUvYaydGjzWwsnB3MPvw0XtcsOvK90mM7X6TpRd4w28qB97s5+SniRIpeVqHkhvvZlpdphp3KwyP52ndvp0UAQWa6004uptzSVqlTW8lSxch3GDCeVqXDl/ZY19viFu6neHRpjw/Y61aWwbMeL5aDt1bXPSFsrzd9c/H3+smXNVIDjk3Axy5c7tr0+T126dvrj7TNmc/06ToOo1D2l4969Dvm6t3dyIk/GWtrS0KfnXa6DnW8W0Wtr0/Hp8Flunw4LJzXXmbbrUlN5tnxdil0nuuy33Z8r8X3ddK60l7P5XBm2zmbb7nHN2+twHvU+fn2mAfZo172uFV221yEsNJSluc0Pv/8Nuw7G2/x+3MOb+9Bd6tc6ot7rXtV+Pmzkx1Ay0/xHGOtGIsjHas2T6LXn9JPkTuz50ILcd93DeyuckKlbubCtO42NJHelcMJHpnt4b4UTMnmrw6nODZL7qXDCx6Z7eF/TDCckSZIkH53CCUmSJMkkFE5IkiRJJqFwQpIkSTIJhROSJEmSSSickCRJkkxC4YQkSZJkEgonJEmSJCxEc/EAACAASURBVJNQOCFJkiSZhMIJSZIkySQUTkiSJEkmYWs4efjp550XkiRJkuTh2xpOBBSSJEmS27BTOAEAAACAsRFOAAAAACSBcAIAAAAgCYQTAAAAAEkgnAAAAABIAuEEAAAAQBIIJwAAAACSQDgBAAAAkATCCQAAAIAkEE4AAAAAJIFwAgAAACAJhBMAAAAASSCcAAAAAEgC4QQAAABAEggnAAAAAJJAOAEAAACQBMIJAAAAgCQQTgAAAAAkgXACAAAAIAk6hJN34cXxSTgq+eLt+IUbzqLMz8JX3w9Z/ofw1dNSnV++23QhAQAAAOQQTmqpCSfHJ+HJ9IdNFxQAAABARo9wMrSjvws2W+bZS6MnAAAAwNisFU6WnfbjV2FW/tvLd6F+BGL13eK6cyM0WQhYrT8/UtOwTKF89WXOr69PcFkstxw5+f51eLJ3gQ0AAABIm4HTuhad8lX4eDL9IYS3r+afP30dvgvFz+sDSv2UsaPjk/Dk6bPi35brXAWPJ43BpxxOmsoRCRfLAFIzaiKcAAAAABtnzXASCh31eViIddjLoWG17vnISC5ELMLIIvDUBJrVOyDl9ZS2U1lHzWhImXI4Sf49GwAAAGC/2cg7J99Nn9WPMDSOjJTDyWrdzVOomkZFQsiHmng4GfiSe024AQAAALBZ1g8nkRGGRWhpfldjnXBS953uIye9EE4AAACA0Rn8U8LzYFB852Q1gjLvxBdGVI5PwtHTZxsNJxVr3kspTx+r/36JmsBVGBXyzgkAAACwcdYKJ8tfv6p7Ab7ya135X9fa0LSut/kQ0fQrYIu/1bwU3yeceCEeAAAAGJUO4SQ19vHfXQEAAADQhnACAAAAIAmEEwAAAABJsIfhBAAAAMAhIpwAAAAASALhBAAAAEASCCcAAAAAkkA4AQAAAJAEwgkAAACAJBBOAAAAACSBcAIAAAAgCYQTAAAAAEkgnAAAAABIAuEEAAAAQBIIJwAAAACSQDgBAAAAkATCCQAAAIAkEE4AAAAAJIFwAgAAACAJOoWTh59+Dh8/PZAkSZLkaLaGE8GEJEmS5DZsDSe7LiBJkiTJx6FwQpIkSTIJhROSJEmSSSickCRJkkxC4YQkSZJkEgonJEmSJJNQOCFJkiSZhMIJSZIkySQUTkiSJEkmoXBCkiRJMgmFE5IkSZJJKJyQJEmSTELhhCRJkmQSCickSZIkk1A4OSDvrs/D0fFluPl0Gy6OT8Lp9YcE1/khXJ2dhIvZ7vcXSZIk03LccHI/DafHJ+Go4Hm4uh+zUvPO79Hkduc7d+vOLrMgMd8HxSCR7ZfjmmBQOE6l4xNd5/Djs9VwEqsfSZIkk3E7Iyezy/pO8Sg+8nByNg13lQBwGy6Oz8PVfV0wmI+ILP92Pw2nx5fhpnWd6x2f7YWTD+HqbFWfu+vzrD4JHC+SJEkW3F04yZ5mX0wuV6Mqi0DR4bPlE/zcum8m5VGa6pPy+TSlPiMAt+Hi+DJcZcsVl51/dlOo0/z/767Pw+n1NFwcn4Sjs2m4mjSMWmzVmmCwDB/F/TNeOYtlGH97dW0xd8xIkiSZjDsPJ0e5zvwySJQ+KywfCSfzdcdHToaFk9z6Cp3beDgpv6sxDywt262dCrepzns1nNxdny/rdjNZBalNvK/SVobF9jqNYmxov+TrS5IkybTceTipDRnlz/IvY68ZTvrbHEBaw8nkNqymVD10Cyej2hxObiYnhZAydjgpjIZtS6MmJEmSSbsf4ST//4ceTrY8crLYf6tyjf1OyGL9pXdd2lxzv6xGssaqF0mSJNd1L8JJ3ZSv+Wd1v0CV/a1hutDQd06aw8ninZZFWfZr5KRYh4f+owu9f+wgV4bFu0Ujv28imJAkSe6Hu/sp4Q7hpOkJef7F94vrmg7u7LK6veyzzYaT1frm65wuv5tWOMnem2nap+v81O5i2c4jVaWAVBm52bCjjkSRJElyk6b5jzBW3jlhuvacnkWSJEk2KJxwsP1HoUiSJMlmhROSJEmSSZhmOCFJkiT56BROSJIkSSahcEKSJEkyCYUTkiRJkkkonJAkSZJMQuGEJEmSZBIKJyRJkiSTUDghSZIkmYTCCUmSJMkkFE7W9O76PBwdX4abT7fhose/aj90OZIkSfJQHT+czC7D0fHJ0u6d8A/h6uwkHE1uN1jhEdY5u8xCxnzdhfrdT8Ppsu7n4eq+43IkSZLkI3TccJJ1zpcd7yyoXMy6LL9H4eRsGu6yda/qNh8RWf7//TScHl+Gm9blSJIkycfpqOHkZnKSjQ4s/jbvsB9NbqPBZb5c2WzkIVvuYpIbkVmEjaHrzMo3n2q1oVGMZfgorlsIIUmSJOsdP5zkOujLkYuzabhrHVVpGOVYTpXKQk9+uaHrzNxkOLm7Pl9uZ7Efriamb5EkSZJNjhhOckGk7m9rhpNVJz/3Qvma4WSTLsLJzeSkEFKEE5IkSbLeJKd1zb/bMZzk/z+hcLLY9iqMeLeEJEmSjDnuC/HlcDC7rLw7Mu+8Z6GhLkgURl7Kyy2mYq25zsyNvnPy6TZc5N9pWf461+4POkmSJJmiW/8p4fzIQf4l9Yvr7EX3WdOyxQCy0XVmn202nJTLWvopYZIkSZIF9+8fYay8c0KSJEnyEBROSJIkSSahcEKSJEkyCfcvnJAkSZI8SIUTkiRJkkkonJAkSZJMQuGEJEmSZBIKJyRJkiSTUDghSZIkmYTCCUmSJMkkFE5IkiRJJqFwQpIkSTIJ9zCcfAhXZyfh6HhuEv9S/OwynbIcsDeT1XG/mHX/bJi34eL4MtyMWaf7aTgtb+N+Gk6H1GHocoNN8Dzc9vF7VOUsWdd2W7+/4fa54XWudw3Z8vnQu+4ptbMOZdn69Wxb5VzzOCSxX8jxHTmcFC/Yc8/D1f0GCp+dpNvpFGX1mNzWf55EOLkNF2Ps5+ScH4v6i3Pss77rO5RwMmSfdHB2GY7OpuEu2faQUmcs5r6Us+TGwska7XOUjtrA8jSeDyOdf7335y7a2RplSaIT/gjCSba+w+4zcB/dTjgZoxOTUjhJwttwkbu43F2fJ9J5HOdYHGw42er+Gu7d9Xki50NKnbEh7ks5S26s7Y7Ued9yeZrPh23XL6XzIaWyDHGMcqZU9/kDzeXx2cr9iOzmzsLJYgh9GS6y0Yejye3q6cDkcjUSUL7w14aT6kjN8vPoOpuXyw/1V0clWobyZ5cDyjL37vq852hMMZxULjSFJySrC9Ld9Xk4vZ7OR13OpuFqUprWEFmufFxvJtU69p0mUd7f/Z609usILPZx/bHNbiK5Y1g4FgPrV17uKHeMotNKSm2pqY3ml4vXr1qWLm2tfp3FOlxc59e7gTaYzPGbr/Mqt93VOkudjtz5F6/f8HJG9/WgcyxWv3jb7bq9Xu1zwDqHtuvWa0jsOthwPgyrX8P2cyMzw/ZnSzsb1Ob77pduZWk+ti1liVwjh+3roeWsO88W58rQ4zBCmy+N9i2OWToPCviY3cG0rtUNbX4ynIer+2xK0qKDvjzRsu9mJ3LhpOkwcrJaf3Wdhc9iy+Xr0fSkuK4s5b/l69ChLOuGk5tJvrzlpzWr7863cxlusqcop9cfss7Uh6yc5c5s/gaTL3N+G83b69V+ap/kbHPkJLcPZ5fVG0zv+nV5UlVXntL6a6eQNNWjeZ/cTIbfiJqeFN9MTgplW24j0paibTDB49dpnaVw0ly/umtfqRMXO8fr9vXgc6ytfus8Ze3fPoeuc5123Xz+xdvLJkdOVg95Vtutrr/v/owd24FtPnp/WLcsTcch1j7brpF99/XQcpbvv5s4Dptv8/k2tbiWXE36hnlyHHc8rSsXXvLfqXT2Vzf1j43fmVt9YlMMJ7VhIbZcvpw9wsmqQ/JQrUNLWYZZeuekZn/W1a94IV79bdGBKtc5fxHMj5QUvhvZXms9Kk+/dhlO6jubg+tXvmHuOJws2/yA6VmxcNK4rYa2FGuDSR2/2Drbwklj/cod31x9Wso5uBPeeI5F6tep7Q45TpsPJ+u069p1dmgvmwwny7YxuwynZ+fLc6RulsDgd046H78u7Xr1/WKbXKcsHUJi5fzrH07i+3qdcjZdT4Yeh823+cXxywepG+GEibgf4aTLyMSnh8qL6XUjJ7WBILZcvpzJh5NIXRuOwTrh5OP9NJyeTcPdpw/h6qz/jSFah+V+TTCcDK3f4HBSniJQd+Nbo/OXn1LZsS57HU7Wap9bDCct5RwWTmLn2GGEk3Xade06O7SXjb5zMrsMR5PbcHd9Ga5m03CadSCL6xBOysu1XyP77uv9CSeD2nzlh3zWORfJzbrTcLKallA/ras5LFS/8/HTQ6mTvwg+3cNJ7XId6rHRoJQtv+60rmI4Kk3J+FTaTlPHqdOw/fn8ol7YN83bi1pa//xmM3Y4aXpa1NYRXbd+i3bWoX735f3br+6dnob1vEn2DSet07oGh5MtHr/OT26Lx7ZXOIlNpeq6rwefY22jTW1td8T22XOdQ9t1bDpRbDuxH4joXb/7aTg9uwwXk+zBz+QyXOQf/gzan5sPJ+33h3XK0jOcdLpG9t3XQ8sZe5g5cjjpfWxLDxXLy23kwSnZ3539lPDiKcey0de8EJ9frjjXubzOcrDI/nadu1hGA0FkuU+l8hWeypSmUpXKWp4qVq7DmOGkMhWuvN+yC3lrx7C23tX90vaCXtcn1fmnX/OXiBcXy7q2VH/8Yi8p1lr7c4otN5GB9cu3iYvZbcf61f0wQ7flmutXXa7v1JNe4STSltYNJ9s7fvF15o9tvu22h5PIE99IOYdO62o+x7rXr9h2Yw5tn0PXObRdt5Szpb1Ef72ud/2K1+7ig6ah+3OEcBI5p4eXJVa/PiMnXcNzbF8PLWfd593Ose22+fa26SV57so0/xHGDi+7k4/Gmida5gaTZKZrJHlQCidk6lZuvEOnJZHkAeoaSR6UwgmZvNVhe+cGSS50jSQPyTTDCUmSJMlHp3BCkiRJMgmFE5IkSZJJKJyQJEmSTELhhCRJkmQSCickSZIkk1A4IUmSJJmEwglJkiTJJBROSJIkSSahcEKSJEkyCVvDycNPP++8kCRJkiQP39ZwIqCQJEmS3IadwgkAAAAAjI1wAgAAACAJhBMAAAAASSCcAAAAAEgC4QQAAABAEggnAAAAAJJAOAEAAACQBMIJAAAAgCQQTgAAAAAkgXACAAAAIAmEEwAAAABJIJwAAAAASALhBAAAAEASCCcAAAAAkkA4AQAAAJAEwgkAAACAJBBOAAAAACSBcAIAAAAgCYQTAAAAAEkgnAAAAABIAuEEAAAAQBIIJwAAAACSQDgBAAAAkATCCQAAAIAkEE4AAAAAJIFwAgAAACAJhBMAAAAASSCcAAAAAEgC4QQAAABAEggnAAAAAJJAOAEAAACQBMIJAAAAgCQQTgAAAAAkgXACAAAAIAmEEwAAAABJIJwAAAAASALhBAAAAEASCCcAAAAAkkA4AQAAAJAEwgkAAACAJBBOAAAAACSBcAIAAAAgCYQTAAAAAEkgnAAAAABIAuEEAAAAQBIIJwAAAACSQDgBAAAAkATCCQAAAIAkEE4AAAAAJIFwAgAAACAJhBMAAAAASSCcAAAAAEgC4QQAAABAEggnAAAAAJKgVzj5bvosHB2fFHwy/WGsso3Au/Di+CQcHT8LX32/67IAAAAAyNMxnCw69VW3EU4WoWj9bfUPJ5vbNgAAAIAYHcLJD+Grp4swUurUf/86vBi9077a/vYDwi63DQAAADwu2sPJ96/Dk46jDbOXpZGVl+9q1vMqzJb/XfxOefkn0/+XC0YLX4VZLjS8eJuNhjx9Hb4rBKn89xeURk6iZWpeV7WcP/TaTwAAAACqtIeTt6/mnfCnr8N3jV+q68ifFJfLdd6flL774m3T+yzt4aS4naZyLAJKUzipK1N9OHnT9N6NcAIAAACsRWs4WYaGWDhZBJh8xzw3EvHibc3/595jKYaT/EhHCPVTq3LBIT86U6H8jklTOKkvU922m8sJAAAAYB26j5xERgTqA0x+6lUoTqEqfT7v+Fdfum8KCJV1L2l6cb8tnDSVqW7bTeUEAAAAsA4dXojPd8ZLowWLF+KXASb3eXmaU2sQWLF8p6M0VastnFR+Wasy1WoT4aSpnAAAAADWodtPCS/DR9VyJ779nZP6IFB5mT43Zav4WfmF+FUxK++tPH22ZjipbvvXTeX0zgkAAACwFj3+Eca6KVP5jnhNQGn6ta7S92vDSX40Iv9LWpFwUv3Z467vnERGc0rbroSTmhf+hRMAAACgP73+hXgAAAAAGAvhBAAAAEASCCcAAAAAkkA4AQAAAJAEwgkAAACAJBBOAAAAACSBcAIAAAAgCYQTAAAAAEkgnAAAAABIAuEEAAAAQBIIJwAAAACSQDgBAAAAkATCCQAAAIAkEE4AAAAAJIFwAgAAACAJhBMAAAAASSCcAAAAAEgC4QQAAABAEggnAAAAAJJAOAEAAACQBMIJAAAAgCQQTgAAAAAkwUGEk4effg4fPz2QHNmHn37e9ekOAAAOmL0PJ4IJuV0FFAAAMBZ7H0523VEjH6MAAABjIJyQLPjh69+Ezz7/Yu71t7XfAQAAGAPhhGTBD1+/Cb/9Mf4dAACAMTjYcLJ4+vv869/vvLNX9nfXX4TPPv9Nawfw0fr+zfLJfXLHLyvbl+8TKEvE1vaf28fl0REjJwAAYFckGE4ewn/+yz+Ev/n134fZ/cfWbzd2vK6/DR9//CZ8uYnO7fs34bPP34TfbbDz+LvrDYaTEcqXhO/f7Cyc/O46sj/fv9lsONn08Wtr/z9+E57/6pvwIfv/D1//prE+TaMoAAAAY5BcOPnXv/vL8Ivjk3B0fBKOjv8s/PXN/0S/H+2krR1Ovg1ffv5F+CzXkSs8cS7ZpyO9DCeF9fXtoI5QvsXIwNffhOd15SqNHBSf0C/K8yZ8+atsuR8X6xnQ+W4MJ9l2FtbUv7H8nx7Cx0+/D7/91eKz34Tfvp9/t1CHkoXO+/s34cv3+e8NDRbjta9Y+68Gjm/Dl8sRkm/Dl7nyNIVoAACAMUgsnPxzmPzpIphk/tVvwx8iS4wVTsaeelUMJ/07t6OWr1ymckgojxwU9vO8w/3l+/nfny/WM2S0oSGcVDrM79/UdPCby/+763zYmJe3vJ22kZPCvh8wwrOVqX19wklDQGqqFwAAwBgkFk7+LfztXxTDyS9++Y8h1hUa0jlr75h3nKu/1shJzVP/VMoXDR9tn+c6uj9+E54vnshvLJzUj2yUw0in8kW202taV592tqX2FStXazjpIAAAwBgkFk5C+MP7X4c//+MsmPzJL8Obf49/f0jnrGt4GPN9h99dL6YeDZsSNGr5kg4nvw+/vW7pSPcNJzXtZLRwsqX2FStX9R2T/LSubgIAAIxBcuEkhBDCw/+G//qP/w7/1+GrQzpnfTqQY029WU5N+nG9gDJK+TqEk+f5zn7hqX7XcLJ47yMeAuo68B++/k28Y99S/vK0sLqgUPhO+RhtIJyM3b7i5fo2/Db399gL8U0CAACMQZrhpAd1HafCT6HWvTTdy5qXltc03ynNl3XYk/QNly83rWj13ki5fPmpVfkXyv9p9ffs16KWL5pXfoK3KZzkX1ZvmLb1KTctrvx57/J/EZ5fv6l24n+M/yBAfP27bV9d2n9h//UcNRFOAADAWBxkOCF7ucOfLN5XAQAAxkA44aO0MHKwwVGLxyIAAMAYCCckewsAADAGwgnJ3gIAAIzB3oeTh59+3nlHjXxMPvz0865PewAAcKDsfTgJQUAht6VgAgAAxuQgwgkAAACA/Uc4AQAAAJAEwgkAAACAJBBOAAAAACTBQYSTXbwQ78VgAAAAYLPsfTjZ5S91CSgAAADA5tj7cLLrn1YFAAAAsBmEk30PJ29fhaPjZ+Gr73dZiB/CV09PwtHxSXgy/WHD634XXhy/CrNNrOr71+HJ09fhuxD67bck9jEAAMDhI5zsezjpyttX4ejlu1FW/d302WjrHi2crMOI+xIAAOAxI5wIJ2vz3fTZCCMmC4QTAACAx0KC4eQh/Oe//EP4m1//fZjdf2z9dprhZDXNae6ic136e6Gj/EP46umz8NX378KLynJzvps+q1lnsfNe953i307Ci7ex9XWoz7Lc5Xqu1t1t+S71XtVv9rJm2tjbV6X15cmv8yS8mObDSTn0dPvu+vsSAAAATSQXTv717/4y/GLZyfuz8Nc3/xP9fiUwvH8TPvv8i/Dl19+E559/ET77/Ivw2edvwu/Kn7+f//+Hr38TPvv8i/D869+Hj5++DV9+/kX47Fdvwpe/ypb7cbGe3Dqi4STriOeerH83fR1mtX9/VtPRX3VsZy9z3//+dXiS7/S+fVcNJ43fCdWn/bHvttbnWSEQxEdO1qx3vn5vX5U6/vNlY4EoX67Zy3wwyoeT8nezMjUFmcH7EgAAADESCyf/HCZ/WnwSf/RXvw1/iCxRO6Lx/k0lkMzDx+r/F+Hk46eH8PHHb8KXy8/nAeXL9/O/P1+sp7xMUzipdKAzyh3YEMJq1KD837llFh3k71+HJ7UvZZfDScOL27Ud6g4vebeWuyWcrFvvmhCxDCO164581rTePt8NYfi+BAAAQJTEwsm/hb/9i2I4+cUv/zHE3uxoCifN4aNDOPnVN+FD9vfn19/WLxMLJ3XTjGr/3qeTnv1/ZfpUqeNc+51Q/55E03d7lbslnKxd75ppa1k9em+3ab19vrv4/pB9CQAAgCiJhZMQ/vD+1+HP/zgLJn/yy/Dm3+Pf36twstYIQp75+xHzTnDTC+P574SWl7hL3+1V7g4hYWMjJ/n/fxdexEYr6rZbODYt4aTpu4vPhuxLAAAAREkunIQQQnj43/Bf//Hf4f86fHVoOHlemsb1fFPhJOuc5jvr0XdOlv/f0kl/+yrX4c1Pbyp2suu/E6od6th3C7SVe+A7J13rXRO+Zi9PwouXbb+YVT4OsfdI+nw3dN+XpnsBAAD0Is1w0oOmF+I/K7w38kXupfdVIJl/7zfht+/n33n+9T+t/n797XLZ51//vvIiffzXuoq//FTs5Lb9alVuNZV3TnLL1r0w3vid4rZXHeem73atz5z2nxJeo951I0NvX3WbPlWo47Pw1dvIevt8t+u+FE4AAAB6cXjhJImfEsaoRH8+eIPb8G+ZAAAAbBXhRDjZM6o/Ebx5vDcCAACwC4QT4WRvmL3sMgVtCF3/MUkAAACMiXAinAAAAABJsPfh5OGnn3cWTB5++nnX1QcAAAAOhr0PJyHsJqAIJgAAAMBmOYhwAgAAAGD/EU4AAAAAJIFwAgAAACAJDiKceOcEAAAA2H/2Ppz4tS4AAADgMNj7cLKrYLIQAAAAwGYQTrYRTr5/HZ48fR2+G3VPbJsfwldPn4Wvvt91ObbBu/Di+FWYbXq1+Xbx9lU4On4s+3Pf+CF89fQkHB2fhCfTH0bcxp4f/1HacPnc28axAADsEuFEOKnn7atw9PJd5AsH0JnqzBbCCXZDazsP4bvps9bvrL/dAzyfOuzbdorn3ijHAgCQFMKJcFKPcJJDODlYOoaTjT+lF046Ug0nRkwA4LBJMJw8hP/8l38If/Prvw+z+4+t304znLwLL47nUw+Ojk/Ci2m5E7qamnB0fBKOKh3U0vJvV598N322Wq6xw7zo6OTXU/5ucxmK2yhuv9c23r7KrWfV8Zq9rE7J+G76LFeG5vpXaNhGW/nqyhDevqo5Fovy5OsWKV9jeWqWK7SL/Da6HL+2NtZUpsxlp7GpLlkZ3r4OTwrbj7fdbu2zebvFdlB+Ul7a9nL9TXVY7NP856tj0t7Oy9tbfCe2D5r2W9M+yq+z5zFvOi+2eLyLrNpw075tbh9tx7DpWAAADo3kwsm//t1fhl8sb0B/Fv765n+i368EhvdvwmeffxG+/Pqb8PzzL8Jnn38RPvv8Tfhd+fP38///8PVvwmeffxGef/378PHTt+HLz78In/3qTfjyV9lyPy7Wk1tHNJzMb6L5ju/sZf6mnt1kc08Uix2y8vLvwotFh+r71+FJ/ob+9l0knFQ745VOXmMZQseRk9g2QphNS+srvF9RnUee7/jV1r+Gxm20lS9ahjLl4NBcvrbyNLeL6jbajt9qXdn3u4zCFEZrYnWpW2dLu+nZPhv34cvsONSUtbjt18tOa/26Fh3efJleVf+/18hJt/O39VjUjpz0Oebx82LJmMe7QinEl+vY2D7ajqGREwB4TCQWTv45TP609MTvr34b/hBZonZE4/2bSiCZh4/V/y/CycdPD+Hjj9+EL5efzwPKl+/nf3++WE95maZwUr4BL/7W1IELIRSmdNQ8vV8+5f/+dXjS6YXTmikifcoQwrBpXdFpStXO9zIIlF8Mb6p/K3WjD03lqylD45P+3Hp7lS+3XFu76FP21nU1UXOMG+tSE9ba2k3X9tm2D7O6fPWyVNa64xNdV10HvlSvvuGk9dyJhdxSudumda19Xox8vCt0CSc1y7YeQ+EEAB4TiYWTfwt/+xfFcPKLX/5jiL3Z0RROmsNHh3Dyq2/Ch+zvz6+/rV+mKZzUTQ1q6WRUwkl5SsZxqePWOq2hf0dnlHCSK2t5Gkd+uk6hk9VW/zKN22gvX74M8U5PKZx0PD6F8rS1iz7hpHVd9VTqGK1LTRm6tJsu7bPDMa4ta139ouuqf1eo0t76hJPWfdDx3ZEh4aTPeVEud+s6Bh7vAi3hZFGncvvocQyFEwA4fBILJyH84f2vw5//cRZM/uSX4c2/x7+fZDipe/eicUpTCG0jJ/XMp6zE3wfJ/anS0Rl55KSyjVLHZflUtqZD0/Ul8eg2uozs5N9JiHUo4yMnncrT1i7WDSdt+633Mg2d1c5P0iPts/UYvwsvnr4KL1qe+reva4SRk9Z9MGI46fPjCVs/3iF0CieF69bJnAAAAgxJREFU72bHofUYCicA8JhILpyEEEJ4+N/wX//x3+H/Onx1aDh5XprG9XxT4SS76Ta/D9Awj7v0wmrtDfjtq9ILrAPDSWsZwmbCSeUl+2JHZ/byJLx4Wd5OpP5lotvoNu2svgxl8h2k+PFpLk9bu+gTrNrWVVf+5gBRv6/rOqEt7aZz+2zbbt07J9Vl5u+cxNaVvXOy1rtVHd85KbwbMkI46XNebOt41243Ek4a20fbMWwIJ52nuQIA9ok0w0kPml6I/6zw3sgXuZfeV4Fk/r3fhN++n3/n+df/tPr79bfLZZ9//fvKi/TRX+sqTO3JfgGn8sQ+9gs4pc8L7y3U/QJPma6jBt3KsFYAWk7ReF2dYtP4j7Y11L+2DE3b6PhOTDalJP6OQPzXupp+2ahS52i76Dnq09rGVsxeVqfMNP16UzTc1X0/No2vNfBVt1v5UYWXkbI2/LpbMRC+CrPCtKHmX8BqagPVp/Wxc6frTwKXtzvgnG04L7Z2vGvrVH+eLMNmY/toOYbZt4QTADh8Di+cJPFTwtgb+k6XSZWN/JsSh8ZI/z4NAAAYDeFEOHnEVH/edz+JvX/0mBFOAADYN4QT4eRRspz6spejDf5Bum4IJwAA7BvCiXACAAAAJMHeh5OHn37eWTB5+OnnXVcfAAAAOBj2PpyEsJuAIpgAAAAAm+UgwgkAAACA/ef/Ax5S6g/RLK86AAAAAElFTkSuQmCC)"
      ],
      "metadata": {
        "id": "ZMXxOsq9cvCQ"
      }
    },
    {
      "cell_type": "code",
      "source": [
        "def remove_k_digits(nums: str, k: int) -> str:\n",
        "  n = len(nums)\n",
        "  stack = list()\n",
        "\n",
        "  # Iterate over each element\n",
        "  for num in nums:\n",
        "    # Remove from stask if stack is not empty, k is greater than 0 and the number \n",
        "    # in stack is greater than next value (deep direction) \n",
        "    while stack and k > 0 and stack[-1] > num:\n",
        "      stack.pop()\n",
        "      k -= 1\n",
        "    \n",
        "    # Add to the stack not leading zeros\n",
        "    if (stack and num == '0') or num != '0' :\n",
        "      stack.append(num)\n",
        "\n",
        "  # If K number is not zero , remove from the top of the stack\n",
        "  while stack and k > 0 :\n",
        "    stack.pop()\n",
        "    k -= 1\n",
        "  \n",
        "  # Return 0 if stack is an empty\n",
        "  if not stack:\n",
        "    return '0'\n",
        "  return ''.join(stack)"
      ],
      "metadata": {
        "id": "ZmFhQ1R_czht"
      },
      "execution_count": null,
      "outputs": []
    },
    {
      "cell_type": "code",
      "source": [
        "print(remove_k_digits('1432219', 3))\n",
        "print(remove_k_digits('10200', 1))\n",
        "print(remove_k_digits('10', 2))"
      ],
      "metadata": {
        "colab": {
          "base_uri": "https://localhost:8080/"
        },
        "id": "gHcVsXZNmL1b",
        "outputId": "b2c2cd75-ca2a-4303-da6c-f1ebcd76ae04"
      },
      "execution_count": null,
      "outputs": [
        {
          "output_type": "stream",
          "name": "stdout",
          "text": [
            "1219\n",
            "200\n",
            "0\n"
          ]
        }
      ]
    },
    {
      "cell_type": "markdown",
      "source": [
        "##**Task13: Implement Trie**\n",
        "\n",
        "A trie (pronounced as \"try\") or prefix tree is a tree data structure used to efficiently store and retrieve keys in a dataset of strings. There are various applications of this data structure, such as autocomplete and spellchecker.\n",
        "\n",
        "Implement the Trie class:\n",
        "\n",
        "    Trie() Initializes the trie object.\n",
        "    void insert(String word) Inserts the string word into the trie.\n",
        "    boolean search(String word) Returns true if the string word is in the trie (i.e., was inserted before), and false otherwise.\n",
        "    boolean startsWith(String prefix) Returns true if there is a previously inserted string word that has the prefix prefix, and false otherwise.\n"
      ],
      "metadata": {
        "id": "jUTiHlxvUoet"
      }
    },
    {
      "cell_type": "code",
      "source": [
        "class Node:\n",
        "  \"\"\"\n",
        "    Node in the Trie\n",
        "  \"\"\"\n",
        "  def __init__(self, value):\n",
        "    self.val = value\n",
        "    self.child = {}\n",
        "    self.end = False\n",
        "\n",
        "class Trie:\n",
        "  def __init__(self):\n",
        "    self.root = Node('/')\n",
        "\n",
        "  def insert(self, word: str) -> None:\n",
        "    \"\"\"\n",
        "      Insert the word to the Trie\n",
        "    \"\"\"\n",
        "    pointer = self.root\n",
        "    for char in word:\n",
        "      if not pointer.child.get(char, False):\n",
        "        pointer.child[char] = Node(char)\n",
        "      pointer = pointer.child[char]\n",
        "    pointer.end = True\n",
        "\n",
        "  def search(self, word: str) -> bool:\n",
        "    \"\"\"\n",
        "      Search for a word in the Trie. If all characters are found and \n",
        "      end variable set to True, then the word is found. \n",
        "    \"\"\"\n",
        "    pointer = self.root\n",
        "    for char in word:\n",
        "      if not pointer.child.get(char, False):\n",
        "        return False \n",
        "      pointer = pointer.child[char]\n",
        "    if not pointer.end:\n",
        "      return False\n",
        "    return True\n",
        "\n",
        "  def starts_with(self, prefix: str) -> bool:\n",
        "    \"\"\"\n",
        "      Look for the prefix in the Trie\n",
        "    \"\"\"\n",
        "    pointer = self.root\n",
        "    for char in prefix:\n",
        "      if not pointer.child.get(char, False):\n",
        "        return False\n",
        "      pointer = pointer.child[char]\n",
        "    return True"
      ],
      "metadata": {
        "id": "N8VQJKqzUuFo"
      },
      "execution_count": 32,
      "outputs": []
    },
    {
      "cell_type": "code",
      "source": [
        "trie = Trie()\n",
        "trie.insert('apple')\n",
        "print(trie.search('apple'))    # Return True\n",
        "print(trie.search('app'))      # Return False\n",
        "print(trie.starts_with('app')) # Return True\n",
        "trie.insert('app')\n",
        "print(trie.search('app'))      # Return True"
      ],
      "metadata": {
        "colab": {
          "base_uri": "https://localhost:8080/"
        },
        "id": "wGLqhSRnbfEQ",
        "outputId": "b1f3ec1b-9058-4f58-9f27-27dde560417d"
      },
      "execution_count": 33,
      "outputs": [
        {
          "output_type": "stream",
          "name": "stdout",
          "text": [
            "True\n",
            "False\n",
            "True\n",
            "True\n"
          ]
        }
      ]
    },
    {
      "cell_type": "markdown",
      "source": [
        "##**Task14: Maximum Sum Circular**\n",
        "\n",
        "Given a circular integer array nums of length n, return the maximum possible sum of a non-empty subarray of nums.\n",
        "\n",
        "A circular array means the end of the array connects to the beginning of the array. Formally, the next element of nums[i] is nums[(i + 1) % n] and the previous element of nums[i] is nums[(i - 1 + n) % n].\n",
        "\n",
        "A subarray may only include each element of the fixed buffer nums at most once. Formally, for a subarray nums[i], nums[i + 1], ..., nums[j], there does not exist i <= k1, k2 <= j with k1 % n == k2 % n.\n",
        "\n",
        "![image.png](data:image/png;base64,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)"
      ],
      "metadata": {
        "id": "qqQ-mp2XeKQi"
      }
    },
    {
      "cell_type": "code",
      "source": [
        "def maximumn_sum_circular_subarray(nums: list) -> int:\n",
        "  \"\"\"\n",
        "\n",
        "  \"\"\"\n",
        "  reverted_nums = [num * -1 for num in nums]\n",
        "  max_subarray = float(\"-inf\")\n",
        "  tmp_max_sum, total_sum = 0, 0\n",
        "\n",
        "  for num in reverted_nums:\n",
        "    print(total_sum, tmp_max_sum, max_subarray)\n",
        "    total_sum += num\n",
        "    tmp_max_sum += num\n",
        "    if tmp_max_sum > max_subarray and num < tmp_max_sum:\n",
        "      max_subarray = tmp_max_sum\n",
        "    else:\n",
        "      tmp_max_sum = num\n",
        "    print(total_sum, tmp_max_sum, max_subarray)\n",
        "  return -(total_sum - max_subarray)"
      ],
      "metadata": {
        "id": "7S2HKBZTeOk7"
      },
      "execution_count": 62,
      "outputs": []
    },
    {
      "cell_type": "code",
      "source": [
        "# print(maximumn_sum_circular_subarray([5, -3, -2, 6, -1, 4]))\n",
        "print(maximumn_sum_circular_subarray([1,-2,3,-2]))\n"
      ],
      "metadata": {
        "colab": {
          "base_uri": "https://localhost:8080/"
        },
        "id": "wfj5F-1ij60h",
        "outputId": "c96f61fc-0e51-4777-9b2c-0a490f124a16"
      },
      "execution_count": 63,
      "outputs": [
        {
          "output_type": "stream",
          "name": "stdout",
          "text": [
            "0 0 -inf\n",
            "-1 -1 -inf\n",
            "-1 -1 -inf\n",
            "1 2 -inf\n",
            "1 2 -inf\n",
            "-2 -1 -1\n",
            "-2 -1 -1\n",
            "0 2 -1\n",
            "-1\n"
          ]
        }
      ]
    }
  ]
}