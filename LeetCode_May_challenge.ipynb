{
  "nbformat": 4,
  "nbformat_minor": 0,
  "metadata": {
    "colab": {
      "name": " LeetCode_May_challenge.ipynb",
      "provenance": [],
      "authorship_tag": "ABX9TyPPA/mSBrxyPkblie2lqaPP",
      "include_colab_link": true
    },
    "kernelspec": {
      "name": "python3",
      "display_name": "Python 3"
    },
    "language_info": {
      "name": "python"
    }
  },
  "cells": [
    {
      "cell_type": "markdown",
      "metadata": {
        "id": "view-in-github",
        "colab_type": "text"
      },
      "source": [
        "<a href=\"https://colab.research.google.com/github/DSNortsev/Algorithms/blob/master/LeetCode_May_challenge.ipynb\" target=\"_parent\"><img src=\"https://colab.research.google.com/assets/colab-badge.svg\" alt=\"Open In Colab\"/></a>"
      ]
    },
    {
      "cell_type": "markdown",
      "metadata": {
        "id": "fr9zT7vDlInl"
      },
      "source": [
        "##**Task1: Interval List Intersections**"
      ]
    },
    {
      "cell_type": "code",
      "metadata": {
        "id": "XbRSStIUk5bA"
      },
      "source": [
        "from typing import List, Tuple\n",
        "def interval_list_intersaction(vector_a: Tuple[int], vector_b: Tuple[int]) -> List[Tuple[int]]:\n",
        "  \"\"\"\n",
        "    Find all intersection between all vectors. All vectors are sorted \n",
        "    # sorted_vectors = sorted(vector, key = lamda k:k[0])\n",
        "  \"\"\"\n",
        "  indx_a, indx_b = 0, 0 \n",
        "  size_a = len(vector_a)\n",
        "  size_b = len(vector_b)\n",
        "  result = list()\n",
        "\n",
        "  # Iterate over each element and stote the answer\n",
        "  while (indx_a < size_a and indx_b < size_b):\n",
        "    if vector_b[indx_b][0] <= vector_a[indx_a][1] and \\\n",
        "      vector_a[indx_a][0] <= vector_b[indx_b][1]:\n",
        "      element1 = max(vector_a[indx_a][0], vector_b[indx_b][0])\n",
        "      element2 = min(vector_a[indx_a][1], vector_b[indx_b][1])\n",
        "      result.append([element1, element2])\n",
        "    \n",
        "    # Increment the index of pointer A or B\n",
        "    if vector_a[indx_a][1] > vector_b[indx_b][1]:\n",
        "      indx_b += 1\n",
        "    else:\n",
        "      indx_a += 1\n",
        "  return result"
      ],
      "execution_count": 14,
      "outputs": []
    },
    {
      "cell_type": "code",
      "metadata": {
        "colab": {
          "base_uri": "https://localhost:8080/"
        },
        "id": "4ar1CIYZqtio",
        "outputId": "4fe51d00-13fb-4511-9958-c869592c5be6"
      },
      "source": [
        "interval_a = [(0,2), (5,10), (13,23), (24,25)]\n",
        "interval_b = [(1,5), (8,12), (15,24), (25,26)]\n",
        "\n",
        "interval_list_intersaction(interval_a, interval_b)"
      ],
      "execution_count": 15,
      "outputs": [
        {
          "output_type": "execute_result",
          "data": {
            "text/plain": [
              "[[1, 2], [5, 5], [8, 10], [15, 23], [24, 24], [25, 25]]"
            ]
          },
          "metadata": {},
          "execution_count": 15
        }
      ]
    },
    {
      "cell_type": "markdown",
      "metadata": {
        "id": "uAgQfFN_syRy"
      },
      "source": [
        "##**Task2: First bad version**"
      ]
    },
    {
      "cell_type": "code",
      "metadata": {
        "id": "yXvgEvLVs-d-"
      },
      "source": [
        "def fist_bad_version(n: int) -> int:\n",
        "  \"\"\"\n",
        "    Find nad version by using binary search\n",
        "  \"\"\"\n",
        "  start = 0 \n",
        "  end = n \n",
        "  result = n \n",
        "\n",
        "  while start <= end:\n",
        "    mid = (start + end) // 2\n",
        "    if is_bad_version(mid):\n",
        "      result = mid\n",
        "      end = mid - 1\n",
        "    else:\n",
        "      start = mid + 1\n",
        "  return result"
      ],
      "execution_count": null,
      "outputs": []
    },
    {
      "cell_type": "markdown",
      "metadata": {
        "id": "fj_dRhtX0E_n"
      },
      "source": [
        "##**Task3: Jewels and stones**"
      ]
    },
    {
      "cell_type": "code",
      "metadata": {
        "id": "JVQtLX9y0Ee_"
      },
      "source": [
        "def num_jewels_in_stones(jewels: str, stones: str) -> int: \n",
        "  # Use set since the hash table is used for searching\n",
        "  # O(1)\n",
        "  jewels = set(jewels)\n",
        "  count = 0\n",
        "\n",
        "  for stone in stones:\n",
        "    if stone in jewels:\n",
        "      count += 1\n",
        "  return count"
      ],
      "execution_count": 21,
      "outputs": []
    },
    {
      "cell_type": "markdown",
      "metadata": {
        "id": "nEw-sbf44EZC"
      },
      "source": [
        "##**Task4: Ransom note**"
      ]
    },
    {
      "cell_type": "code",
      "metadata": {
        "id": "PQYsUPvU4Kk4"
      },
      "source": [
        "def is_ransom_note_formed(ransom_note: str, magazine: str) -> bool:\n",
        "  \"\"\"\n",
        "    Use dictionary (hasp map) to check if ransom note can be constructed\n",
        "  \"\"\"\n",
        "  letters_count = dict()\n",
        "  for letter in magazine:\n",
        "    if letters_count.get(letter):\n",
        "      letters_count[letter] += 1\n",
        "    else:\n",
        "       letters_count[letter] = 0\n",
        "\n",
        "  for letter in ransom_note:\n",
        "    if not letters_count.get(letter) or letters_count.get(letter) - 1 < 0 :\n",
        "      return False\n",
        "    letters_count[letter] -= 1\n",
        "  return True"
      ],
      "execution_count": null,
      "outputs": []
    },
    {
      "cell_type": "markdown",
      "metadata": {
        "id": "QT3y4Gl7_fCa"
      },
      "source": [
        "##**Task5: Number complement**\n",
        "\n",
        "The complement of an integer is the integer you get when you flip all the 0's to 1's and all the 1's to 0's in its binary representation.\n",
        "\n",
        "    For example, The integer 5 is \"101\" in binary and its complement is \"010\" which is the integer 2.\n",
        "\n",
        "Given an integer num, return its complement.\n",
        "\n",
        "![image.png](data:image/png;base64,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)"
      ]
    },
    {
      "cell_type": "code",
      "metadata": {
        "id": "wtNPhoHl_hXq"
      },
      "source": [
        "def find_complement(num: int) -> int:\n",
        "  \"\"\"\n",
        "    Convert to binary and slice the prefix of binary indication \"0b\"\n",
        "  \"\"\"\n",
        "  num = list(str(bin(num)[2:]))\n",
        "  for i,x in enumerate(num):\n",
        "    if x == \"0\":\n",
        "      num[i] = \"1\"\n",
        "    elif x == \"1\":\n",
        "      num[i] = \"0\"\n",
        "  return(int(\"\".join(num), 2))"
      ],
      "execution_count": 31,
      "outputs": []
    },
    {
      "cell_type": "code",
      "metadata": {
        "colab": {
          "base_uri": "https://localhost:8080/"
        },
        "id": "jQJbPp-bDH2a",
        "outputId": "325dfd8b-a4ca-4cbd-8a75-ef7f39d14c28"
      },
      "source": [
        "print(find_complement(10))\n",
        "print(find_complement(5))\n",
        "print(find_complement(1))\n",
        "print(find_complement(0))"
      ],
      "execution_count": 34,
      "outputs": [
        {
          "output_type": "stream",
          "name": "stdout",
          "text": [
            "5\n",
            "2\n",
            "0\n",
            "1\n"
          ]
        }
      ]
    },
    {
      "cell_type": "markdown",
      "metadata": {
        "id": "UJE33lOPEIrw"
      },
      "source": [
        "##**Task6: First unique characters in a string**\n",
        "\n",
        "Given a string s, find the first non-repeating character in it and return its index. If it does not exist, return -1.\n",
        "\n",
        "![image.png](data:image/png;base64,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)"
      ]
    },
    {
      "cell_type": "code",
      "metadata": {
        "id": "TAWdDoUnEPvR"
      },
      "source": [
        "def firts_uniq_char(string: str) -> int:\n",
        "  \"\"\"\n",
        "    Find the first occurrence of unique character in string\n",
        "  \"\"\"\n",
        "  occurrence = {}\n",
        "\n",
        "  for char in string:\n",
        "    if char in occurrence:\n",
        "      occurrence[char] += 1\n",
        "    else:\n",
        "      occurrence[char] = 1\n",
        "\n",
        "  for indx, char in enumerate(string):\n",
        "    if occurrence[char] == 1:\n",
        "      return indx\n",
        "  return -1"
      ],
      "execution_count": 52,
      "outputs": []
    },
    {
      "cell_type": "code",
      "metadata": {
        "colab": {
          "base_uri": "https://localhost:8080/"
        },
        "id": "eLe3WDwyHUSV",
        "outputId": "b5a6cb8d-c762-476d-aa7b-773a779341c9"
      },
      "source": [
        "print(firts_uniq_char('leetcode'))\n",
        "print(firts_uniq_char('loveleetcode'))\n",
        "print(firts_uniq_char('aabb'))"
      ],
      "execution_count": 54,
      "outputs": [
        {
          "output_type": "stream",
          "name": "stdout",
          "text": [
            "0\n",
            "2\n",
            "-1\n"
          ]
        }
      ]
    },
    {
      "cell_type": "markdown",
      "metadata": {
        "id": "d8_NSPTeIWzC"
      },
      "source": [
        "##**Task7: Majority element**"
      ]
    },
    {
      "cell_type": "code",
      "metadata": {
        "id": "8tMX5qaqIe1R"
      },
      "source": [
        "def majaroty_elements(nums: list) -> int:\n",
        "  \"\"\"\n",
        "    Find the majority element in the list which is greater than n/2.\n",
        "    Majarity element is guaranteed \n",
        "  \"\"\"\n",
        "  majority = nums[0]\n",
        "  count = 1\n",
        "\n",
        "  for num in nums[1:]:\n",
        "    if num == majority:\n",
        "      count += 1\n",
        "    else:\n",
        "      count -= 1\n",
        "      if count == 0:\n",
        "        majority = num\n",
        "        count = 1\n",
        "  return majority"
      ],
      "execution_count": 55,
      "outputs": []
    },
    {
      "cell_type": "code",
      "metadata": {
        "colab": {
          "base_uri": "https://localhost:8080/"
        },
        "id": "yfPHAgqOMjPR",
        "outputId": "c5d806dc-5130-4d5f-e243-79c0418b3a86"
      },
      "source": [
        "print(majaroty_elements([3,2,3]))\n",
        "print(majaroty_elements([2,2,1,1,1,2,2]))"
      ],
      "execution_count": 56,
      "outputs": [
        {
          "output_type": "stream",
          "name": "stdout",
          "text": [
            "3\n",
            "2\n"
          ]
        }
      ]
    },
    {
      "cell_type": "markdown",
      "metadata": {
        "id": "n4rx15QBMyv4"
      },
      "source": [
        "##**Task8: Cousins in a binary tree**"
      ]
    },
    {
      "cell_type": "code",
      "metadata": {
        "colab": {
          "base_uri": "https://localhost:8080/",
          "height": 246
        },
        "id": "s0eTB7S3M54j",
        "outputId": "b20302b5-f1e4-4d41-f1cf-9c49523e51bb"
      },
      "source": [
        "from typing import Tuple\n",
        "def find_height(current: TreeNode, parent: int, value: int, height: int) -> Tuple(int):\n",
        "  if not current:\n",
        "    return parent, 0\n",
        "\n",
        "  if current.val == value:\n",
        "    return parent, height\n",
        "\n",
        "    parent = current.val\n",
        "    # Left tree\n",
        "    parent, height = find_height(current.left, parent, value, height+1)\n",
        "    if height:\n",
        "      return parent, height\n",
        "    parent = current.val\n",
        "    # right tree\n",
        "    parent, height = find_height(current.right, parent, value, height+1)\n",
        "    if height:\n",
        "      return parent, height\n",
        "    \n",
        "\n",
        "def is_cousins(root: TreeNode, x: int, y: int) -> bool:\n",
        "  \"\"\"\n",
        "    Two nodes are cousins if they have the same height and diffrent parents\n",
        "  \"\"\"\n",
        "\n",
        "  if root.val == x or root.val == y:\n",
        "    # Nodes can not be root \n",
        "    return False\n",
        "\n",
        "  parent_x, parent_y  = -1, -1\n",
        "  height_x = find_height(root, parent_x, x, 0)\n",
        "  height_y = find_height(root, parent_y, y, 0)\n",
        "\n",
        "  if parent_x != parent_y and height_x == height_y:\n",
        "    return True \n",
        "  return False"
      ],
      "execution_count": 60,
      "outputs": [
        {
          "output_type": "error",
          "ename": "NameError",
          "evalue": "ignored",
          "traceback": [
            "\u001b[0;31m---------------------------------------------------------------------------\u001b[0m",
            "\u001b[0;31mNameError\u001b[0m                                 Traceback (most recent call last)",
            "\u001b[0;32m<ipython-input-60-9a34c75c14cb>\u001b[0m in \u001b[0;36m<module>\u001b[0;34m()\u001b[0m\n\u001b[1;32m      1\u001b[0m \u001b[0;32mfrom\u001b[0m \u001b[0mtyping\u001b[0m \u001b[0;32mimport\u001b[0m \u001b[0mTuple\u001b[0m\u001b[0;34m\u001b[0m\u001b[0;34m\u001b[0m\u001b[0m\n\u001b[0;32m----> 2\u001b[0;31m \u001b[0;32mdef\u001b[0m \u001b[0mfind_height\u001b[0m\u001b[0;34m(\u001b[0m\u001b[0mcurrent\u001b[0m\u001b[0;34m:\u001b[0m \u001b[0mTreeNode\u001b[0m\u001b[0;34m,\u001b[0m \u001b[0mparent\u001b[0m\u001b[0;34m:\u001b[0m \u001b[0mint\u001b[0m\u001b[0;34m,\u001b[0m \u001b[0mvalue\u001b[0m\u001b[0;34m:\u001b[0m \u001b[0mint\u001b[0m\u001b[0;34m,\u001b[0m \u001b[0mheight\u001b[0m\u001b[0;34m:\u001b[0m \u001b[0mint\u001b[0m\u001b[0;34m)\u001b[0m \u001b[0;34m->\u001b[0m \u001b[0mTuple\u001b[0m\u001b[0;34m(\u001b[0m\u001b[0mint\u001b[0m\u001b[0;34m)\u001b[0m\u001b[0;34m:\u001b[0m\u001b[0;34m\u001b[0m\u001b[0;34m\u001b[0m\u001b[0m\n\u001b[0m\u001b[1;32m      3\u001b[0m   \u001b[0;32mif\u001b[0m \u001b[0;32mnot\u001b[0m \u001b[0mcurrent\u001b[0m\u001b[0;34m:\u001b[0m\u001b[0;34m\u001b[0m\u001b[0;34m\u001b[0m\u001b[0m\n\u001b[1;32m      4\u001b[0m     \u001b[0;32mreturn\u001b[0m \u001b[0mparent\u001b[0m\u001b[0;34m,\u001b[0m \u001b[0;36m0\u001b[0m\u001b[0;34m\u001b[0m\u001b[0;34m\u001b[0m\u001b[0m\n\u001b[1;32m      5\u001b[0m \u001b[0;34m\u001b[0m\u001b[0m\n",
            "\u001b[0;31mNameError\u001b[0m: name 'TreeNode' is not defined"
          ]
        }
      ]
    }
  ]
}