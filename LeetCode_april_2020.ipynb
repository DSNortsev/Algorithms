{
  "nbformat": 4,
  "nbformat_minor": 0,
  "metadata": {
    "colab": {
      "name": "LeetCode_april_2020.ipynb",
      "provenance": [],
      "authorship_tag": "ABX9TyM8UzW2qnTiM2XjN70IMiEk",
      "include_colab_link": true
    },
    "kernelspec": {
      "name": "python3",
      "display_name": "Python 3"
    },
    "language_info": {
      "name": "python"
    }
  },
  "cells": [
    {
      "cell_type": "markdown",
      "metadata": {
        "id": "view-in-github",
        "colab_type": "text"
      },
      "source": [
        "<a href=\"https://colab.research.google.com/github/DSNortsev/Algorithms/blob/master/LeetCode_april_2020.ipynb\" target=\"_parent\"><img src=\"https://colab.research.google.com/assets/colab-badge.svg\" alt=\"Open In Colab\"/></a>"
      ]
    },
    {
      "cell_type": "markdown",
      "metadata": {
        "id": "9zkfmT65Sjf5"
      },
      "source": [
        "**TECH DOSE**\n",
        "\n",
        "Types of DP:\n",
        "* Knapsack (O/1, Bounded, Unbounded)\n",
        "* LCS (Longest Common Subsequence)\n",
        "* LIS (Longest Increasing Subsequence)\n",
        "* Matrix chain multiplication \n",
        "* DP on grid\n",
        "* Kadane's Algorithm\n",
        "* Others"
      ]
    },
    {
      "cell_type": "markdown",
      "metadata": {
        "id": "oW9-Pi1Hmgfy"
      },
      "source": [
        "**1. Single number**"
      ]
    },
    {
      "cell_type": "code",
      "metadata": {
        "colab": {
          "base_uri": "https://localhost:8080/"
        },
        "id": "bOT6phxASQUI",
        "outputId": "ab9014ea-d6c1-4f6e-b5b8-69451b41b189"
      },
      "source": [
        "numbers = [2, 4, 2, 4 , 3, 5]\n",
        "\n",
        "def single_number(numbers):\n",
        "  result = []\n",
        "  count_duplicates = {}\n",
        "  for number in numbers:\n",
        "    if count_duplicates.get(number):\n",
        "      count_duplicates[number] += 1\n",
        "    else:\n",
        "      count_duplicates[number] = 1\n",
        "  \n",
        "  for k, v in count_duplicates.items():\n",
        "      if v == 1:\n",
        "        result.append(k)\n",
        "  return result\n",
        "\n",
        "\n",
        "single_number(numbers)"
      ],
      "execution_count": null,
      "outputs": [
        {
          "output_type": "execute_result",
          "data": {
            "text/plain": [
              "[3, 5]"
            ]
          },
          "metadata": {},
          "execution_count": 18
        }
      ]
    },
    {
      "cell_type": "markdown",
      "metadata": {
        "id": "Odzo2xWry4ax"
      },
      "source": [
        "**2. Happy Number** \n"
      ]
    },
    {
      "cell_type": "code",
      "metadata": {
        "colab": {
          "base_uri": "https://localhost:8080/"
        },
        "id": "0KBZ6sLzSjBP",
        "outputId": "542bbbae-515b-45b4-e528-29c57acf5452"
      },
      "source": [
        "def is_happy(number):\n",
        "  seen_number = set()\n",
        "\n",
        "  while True:\n",
        "      total_sum = 0\n",
        "      value = 0\n",
        "      while number > 0:\n",
        "        number, digit  = divmod(number, 10)\n",
        "        total_sum += digit ** 2\n",
        "      \n",
        "      if total_sum == 1:\n",
        "        return True\n",
        "      elif total_sum in seen_number:\n",
        "        return False\n",
        "      seen_number.add(total_sum)\n",
        "      number = total_sum\n",
        "\n",
        "\n",
        "print(is_happy(19))\n",
        "print(is_happy(25))"
      ],
      "execution_count": null,
      "outputs": [
        {
          "output_type": "stream",
          "name": "stdout",
          "text": [
            "True\n",
            "False\n"
          ]
        }
      ]
    },
    {
      "cell_type": "markdown",
      "metadata": {
        "id": "VU3AKh1I4vc1"
      },
      "source": [
        "**3. Longest Sum contiguous subarray**"
      ]
    },
    {
      "cell_type": "code",
      "metadata": {
        "colab": {
          "base_uri": "https://localhost:8080/"
        },
        "id": "RMi2uIi644Ta",
        "outputId": "f8af28a4-d43e-4047-89ee-e8005a8f7488"
      },
      "source": [
        "def longest_contiguous_subarray(array):\n",
        "  max_end = 0\n",
        "  max_total = float('-inf')\n",
        "\n",
        "  for element in array:\n",
        "    max_end = max_end + element\n",
        "    if max_end < element:\n",
        "      max_end = element\n",
        "    if max_total < max_end:\n",
        "      max_total = max_end\n",
        "  return max_total\n",
        "\n",
        "longest_contiguous_subarray([-2,-3, 4, -1, -2, 1, 5, -3])"
      ],
      "execution_count": null,
      "outputs": [
        {
          "output_type": "execute_result",
          "data": {
            "text/plain": [
              "7"
            ]
          },
          "metadata": {},
          "execution_count": 62
        }
      ]
    },
    {
      "cell_type": "markdown",
      "metadata": {
        "id": "oQy0UMvRH6lj"
      },
      "source": [
        "**4. Move Zeroes**\n",
        "Move all zeros to the right \n",
        "\n",
        "Example:\n",
        "Input: [1, 0, 3, 0, 12]\n",
        "\n",
        "Output: [1, 3, 12, 0, 0]"
      ]
    },
    {
      "cell_type": "code",
      "metadata": {
        "id": "b5YGs2AGIBR9"
      },
      "source": [
        "def move_zeroes(array: list) -> list:\n",
        "  \"\"\"\n",
        "    Move all zeros to the right\n",
        "  \"\"\"\n",
        "  elm_count = len(array)\n",
        "  # left is pointer to last zero\n",
        "  # right is moving towards the end =\n",
        "  left, right = 0, 0\n",
        "  \n",
        "  if elm_count in (0,1):\n",
        "      return array\n",
        "\n",
        "  while right < elm_count:\n",
        "    if array[right] == 0:\n",
        "      right += 1\n",
        "    else:\n",
        "      array[left], array[right] = array[right], array[left]\n",
        "      right += 1\n",
        "      left += 1\n",
        "  return array "
      ],
      "execution_count": null,
      "outputs": []
    },
    {
      "cell_type": "code",
      "metadata": {
        "colab": {
          "base_uri": "https://localhost:8080/"
        },
        "id": "UTUcDPjAKsIn",
        "outputId": "d7537919-7cc1-4543-be2e-a98f6571a6c2"
      },
      "source": [
        "array1 = [1, 0, 3, 0, 12]\n",
        "array3 = [1]\n",
        "array2 = []\n",
        "\n",
        "print(move_zeroes(array1))\n",
        "print(move_zeroes(array2))\n",
        "print(move_zeroes(array3))"
      ],
      "execution_count": null,
      "outputs": [
        {
          "output_type": "stream",
          "name": "stdout",
          "text": [
            "[1, 3, 12, 0, 0]\n",
            "[]\n",
            "[1]\n"
          ]
        }
      ]
    },
    {
      "cell_type": "markdown",
      "metadata": {
        "id": "2pfyEYWFMSct"
      },
      "source": [
        "**5. Best time to buy and sekk stock**\n",
        "\n",
        "You can buy and sell or skip stocks \n",
        "\n",
        "Exmaple:\n",
        "\n",
        "Input: [7, 1, 5, 3, 6, 4]\n",
        "\n",
        "Output: 7\n",
        "\n"
      ]
    },
    {
      "cell_type": "code",
      "metadata": {
        "id": "bcpC98hUMYbE"
      },
      "source": [
        "def max_profit(prices: list) -> int:\n",
        "  \"\"\"\n",
        "    Calculate the max profit by buying, selling or skipping the stocks.\n",
        "    The stock can;t be bought or sold at the same day.\n",
        "  \"\"\"\n",
        "  total_profit = 0\n",
        "  for indx in range(1,len(prices)):\n",
        "    if prices[indx] > prices[indx-1]:\n",
        "       total_profit += prices[indx] - prices[indx-1]\n",
        "  return total_profit"
      ],
      "execution_count": null,
      "outputs": []
    },
    {
      "cell_type": "code",
      "metadata": {
        "colab": {
          "base_uri": "https://localhost:8080/"
        },
        "id": "uswCFoB5QrUA",
        "outputId": "2d6b4239-5e63-4e47-9d42-ab61bfd9a514"
      },
      "source": [
        "# we can not sell on 7 and buy on 4\n",
        "# (5 - 1) + (6 - 3) = 7\n",
        "prices1 = [7, 1, 5, 3, 6, 4]\n",
        "prices2 = [1, 2, 3, 4, 5]\n",
        "prices3 = [5, 4, 3, 2, 1]\n",
        "\n",
        "print(max_profit(prices1))\n",
        "print(max_profit(prices2))\n",
        "print(max_profit(prices3))"
      ],
      "execution_count": null,
      "outputs": [
        {
          "output_type": "stream",
          "name": "stdout",
          "text": [
            "7\n",
            "4\n",
            "0\n"
          ]
        }
      ]
    },
    {
      "cell_type": "markdown",
      "metadata": {
        "id": "aMELpLoERnr3"
      },
      "source": [
        "**6. Group Anagrams**\n",
        "\n",
        "eat and tea are anagrams"
      ]
    },
    {
      "cell_type": "code",
      "metadata": {
        "id": "zTdAQJhPRt6e"
      },
      "source": [
        "def group_anagrams(words: list) -> list:\n",
        "  anagrams = {}\n",
        "  for word in words:\n",
        "    sorted_letters = \"\".join(sorted(word))\n",
        "    if anagrams.get(sorted_letters):\n",
        "      anagrams[sorted_letters].append(word)\n",
        "    else:\n",
        "      anagrams[sorted_letters] = [word]\n",
        "  \n",
        "  return list(anagrams.values())"
      ],
      "execution_count": null,
      "outputs": []
    },
    {
      "cell_type": "code",
      "metadata": {
        "colab": {
          "base_uri": "https://localhost:8080/"
        },
        "id": "UbjOOU1dUoWf",
        "outputId": "e7ab455b-dff2-4ca5-909a-239517cec345"
      },
      "source": [
        "words = ['eat', 'tea', 'tan', 'ate', 'nat', 'bat']\n",
        "print(group_anagrams(words))"
      ],
      "execution_count": null,
      "outputs": [
        {
          "output_type": "stream",
          "name": "stdout",
          "text": [
            "[['eat', 'tea', 'ate'], ['tan', 'nat'], ['bat']]\n"
          ]
        }
      ]
    },
    {
      "cell_type": "markdown",
      "metadata": {
        "id": "VUXg6s0rWMlO"
      },
      "source": [
        "**7. Counting elements**\n",
        "\n",
        "Counting numnber of x of (x+1) is present in an array."
      ]
    },
    {
      "cell_type": "code",
      "metadata": {
        "id": "YiOtLd5MWR4B"
      },
      "source": [
        "def count_elements(numbers: list) -> int:\n",
        "  \"\"\"\n",
        "    Counting numnber of x of (x+1) is present in an array.\n",
        "  \"\"\"\n",
        "  total_count = len(numbers)\n",
        "  sorted_numbers = sorted(numbers)\n",
        "  left, right, count = 0, 1, 0\n",
        "\n",
        "  while right < total_count:\n",
        "    if sorted_numbers[right] == sorted_numbers[left] + 1:\n",
        "      count += right - left\n",
        "      left = right\n",
        "      right += 1\n",
        "    elif sorted_numbers[right] == sorted_numbers[left]:\n",
        "      right += 1\n",
        "    else:\n",
        "      left = right\n",
        "      right += 1\n",
        "  return count"
      ],
      "execution_count": null,
      "outputs": []
    },
    {
      "cell_type": "code",
      "metadata": {
        "colab": {
          "base_uri": "https://localhost:8080/"
        },
        "id": "42K7ZewJarIB",
        "outputId": "f958a523-80d5-4309-8f64-b880459494e9"
      },
      "source": [
        "numbers = [1, 3, 2, 3, 5, 0]\n",
        "# [0, 1, 2, 3, 3, 5], so count would be 3 which is 0-1, 1-2, 2-3\n",
        "print(count_elements(numbers))"
      ],
      "execution_count": null,
      "outputs": [
        {
          "output_type": "stream",
          "name": "stdout",
          "text": [
            "3\n"
          ]
        }
      ]
    },
    {
      "cell_type": "markdown",
      "metadata": {
        "id": "L-M0_qR1bNkN"
      },
      "source": [
        "**8. Middle of link list**\n",
        "\n"
      ]
    },
    {
      "cell_type": "code",
      "metadata": {
        "id": "zY53wXjebTFQ"
      },
      "source": [
        "def middle_of_link_list(array: list) -> list:\n",
        "  total_elements = len(array)\n",
        "\n",
        "  if total_elements <= 2:\n",
        "    return array\n",
        "  \n",
        "  indx = total_elements // 2\n",
        "  if total_elements % 2 == 0:\n",
        "    return [array[indx-1], array[indx]]\n",
        "  return [array[indx]]"
      ],
      "execution_count": null,
      "outputs": []
    },
    {
      "cell_type": "code",
      "metadata": {
        "colab": {
          "base_uri": "https://localhost:8080/"
        },
        "id": "t6rw3ABRcoJD",
        "outputId": "d4d9aed9-2c43-4917-b98e-1cec65f7a50d"
      },
      "source": [
        "print(middle_of_link_list([]))\n",
        "print(middle_of_link_list([1]))\n",
        "print(middle_of_link_list([1, 2]))\n",
        "print(middle_of_link_list([1,2,3]))\n",
        "print(middle_of_link_list([1,2,3,4]))"
      ],
      "execution_count": null,
      "outputs": [
        {
          "output_type": "stream",
          "name": "stdout",
          "text": [
            "[]\n",
            "[1]\n",
            "[1, 2]\n",
            "[2]\n",
            "[2, 3]\n"
          ]
        }
      ]
    },
    {
      "cell_type": "markdown",
      "metadata": {
        "id": "VDQlYEm3dbtF"
      },
      "source": [
        "**9.Backspcae string compare**\n",
        "\n",
        "\\# means backspace remoing an character\n",
        "\n",
        "ab#cd# = ac\n",
        "\n",
        "ac# = a"
      ]
    },
    {
      "cell_type": "code",
      "metadata": {
        "id": "wU1uRGridsPt"
      },
      "source": [
        "def backspace_string_compare(string1: str, string2: str) -> bool:\n",
        "  processed_str = {\n",
        "    \"result1\": '',\n",
        "    \"result2\": ''\n",
        "  }\n",
        "\n",
        "  for indx, string in enumerate([string1, string2],1):\n",
        "    for character in string:\n",
        "      if character.islower():\n",
        "        processed_str[f'result{indx}'] += character\n",
        "      else:\n",
        "        processed_str[f'result{indx}'] = processed_str[f'result{indx}'][:-1]   \n",
        "  return processed_str['result1'] == processed_str['result2']"
      ],
      "execution_count": null,
      "outputs": []
    },
    {
      "cell_type": "code",
      "metadata": {
        "colab": {
          "base_uri": "https://localhost:8080/"
        },
        "id": "CHS95omwfzVD",
        "outputId": "bb653c0b-cf6c-4d08-e253-1c7d73e5c325"
      },
      "source": [
        "string1 = 'ab#cd#'\n",
        "string2 = 'ac#d#c'\n",
        "print(backspace_string_compare(string1, string2))"
      ],
      "execution_count": null,
      "outputs": [
        {
          "output_type": "stream",
          "name": "stdout",
          "text": [
            "True\n"
          ]
        }
      ]
    },
    {
      "cell_type": "markdown",
      "metadata": {
        "id": "oUnxJx2kjCa-"
      },
      "source": [
        "**10.Diameter of Binary Tree**\n"
      ]
    },
    {
      "cell_type": "code",
      "metadata": {
        "id": "Um8XSICpjJDQ"
      },
      "source": [
        "class TreeNode:\n",
        "    def __init__(self, val=0, left=None, right=None):\n",
        "        self.val = val\n",
        "        self.left = left\n",
        "        self.right = right\n",
        "\n",
        "class Solution:\n",
        "    def diameterOfBinaryTree(self, root: Optional[TreeNode]) -> int:\n",
        "        height,diameter=self.help(root)\n",
        "        return diameter\n",
        "    \n",
        "    def help(self,root):\n",
        "        if not root:\n",
        "            return 0,0\n",
        "        left_height,left_diam=self.help(root.left)\n",
        "        right_height,right_diam=self.help(root.right)\n",
        "        height=max(left_height,right_height)+1\n",
        "        return height,max(left_height+right_height,left_diam,right_diam)"
      ],
      "execution_count": null,
      "outputs": []
    },
    {
      "cell_type": "markdown",
      "metadata": {
        "id": "_brGSP8PlqL_"
      },
      "source": [
        "**11.Last stone weight**\n"
      ]
    },
    {
      "cell_type": "code",
      "metadata": {
        "id": "bG-P3Uuklthd"
      },
      "source": [
        "from typing import List\n",
        "\n",
        "def last_stone_weight(stones: List[int]) -> int:\n",
        "  while len(stones) > 1:\n",
        "    stones = sorted(stones)\n",
        "    x = stones.pop(-1)\n",
        "    y = stones.pop(-1)\n",
        "    if x != y:\n",
        "      stones.append(x - y)\n",
        "  return  stones[0] if stones else 0"
      ],
      "execution_count": 1,
      "outputs": []
    },
    {
      "cell_type": "code",
      "metadata": {
        "id": "sFtZOthvvfM7"
      },
      "source": [
        "# O(nlogn) with Heap\n",
        "from typing import List\n",
        "from heapq import heappush, heappop\n",
        "\n",
        "def last_stone_weight(stones: List[int]) -> int:\n",
        "    heap = []\n",
        "    for stone in stones: # O(n)\n",
        "        heappush(heap, -stone) # O(logn)\n",
        "    print(heap)\n",
        "    \n",
        "    while len(heap) > 1:\n",
        "        y = heappop(heap)\n",
        "        x = heappop(heap)\n",
        "        \n",
        "        if x > y: heappush(heap, y - x)\n",
        "            \n",
        "    return abs(heappop(heap)) if heap else 0\n"
      ],
      "execution_count": 19,
      "outputs": []
    },
    {
      "cell_type": "code",
      "metadata": {
        "colab": {
          "base_uri": "https://localhost:8080/"
        },
        "id": "fI7ccYJyuKEF",
        "outputId": "9bdb00eb-8233-4d3a-8a85-f2c8325d4094"
      },
      "source": [
        "stones1 = [2, 7, 4, 10]\n",
        "stones2 = [2, 7]\n",
        "stones3 = [3]\n",
        "stones4 = []\n",
        "\n",
        "print(last_stone_weight(stones1))\n",
        "print(last_stone_weight(stones2))\n",
        "print(last_stone_weight(stones3))\n",
        "print(last_stone_weight(stones4))"
      ],
      "execution_count": 18,
      "outputs": [
        {
          "output_type": "stream",
          "name": "stdout",
          "text": [
            "[-10, -7, -4, -2]\n",
            "1\n",
            "[-7, -2]\n",
            "5\n",
            "[-3]\n",
            "3\n",
            "[]\n",
            "0\n"
          ]
        }
      ]
    },
    {
      "cell_type": "markdown",
      "metadata": {
        "id": "F3xTIHMKxCMM"
      },
      "source": [
        "**12.Contiguous array**\n"
      ]
    },
    {
      "cell_type": "code",
      "metadata": {
        "id": "erYURowmxTn_"
      },
      "source": [
        "def find_max_length_binary(binary_array: list) -> int:\n",
        "  sum = 0 \n",
        "  longest_subarray = 0\n",
        "  sum_dictioary = {}\n",
        "\n",
        "  for i in range(len(binary_array)):\n",
        "    sum += 1 if binary_array[i] != 0 else -1\n",
        "\n",
        "    if sum == 0:\n",
        "      longest_subarray = i + 1 if longest_subarray < i + 1 else longest_subarray\n",
        "    elif sum in sum_dictioary:\n",
        "      longest_subarray = max(longest_subarray, i - sum_dictioary[sum])\n",
        "    else:\n",
        "      sum_dictioary[sum] = i\n",
        "  return longest_subarray\n"
      ],
      "execution_count": 23,
      "outputs": []
    },
    {
      "cell_type": "code",
      "metadata": {
        "colab": {
          "base_uri": "https://localhost:8080/"
        },
        "id": "jO8If-dW2mCv",
        "outputId": "6a26fc2a-69c4-4c84-babd-95b192727ede"
      },
      "source": [
        "array1 = [0,1]\n",
        "array2 = [0,1,0,1,0,1]\n",
        "array3 = [0,1,0,1,0,0]\n",
        "\n",
        "print(find_max_length_binary(array1))\n",
        "print(find_max_length_binary(array2))\n",
        "print(find_max_length_binary(array3))"
      ],
      "execution_count": 32,
      "outputs": [
        {
          "output_type": "stream",
          "name": "stdout",
          "text": [
            "2\n",
            "6\n",
            "4\n"
          ]
        }
      ]
    },
    {
      "cell_type": "markdown",
      "metadata": {
        "id": "qocy86I53D1G"
      },
      "source": [
        "**13.Perfrom string shifts**\n",
        "\n",
        "You are given a string s containing lowercase English letters, and a matrix shift, where shift[i] = [directioni, amounti]:\n",
        "\n",
        "    directioni can be 0 (for left shift) or 1 (for right shift).\n",
        "    amounti is the amount by which string s is to be shifted.\n",
        "    A left shift by 1 means remove the first character of s and append it to the end.\n",
        "    Similarly, a right shift by 1 means remove the last character of s and add it to the beginning.\n",
        "\n",
        "Return the final string after all operations.\n",
        "\n",
        "```\n",
        "Input: s = \"abcdefg\", shift = [[1,1],[1,1],[0,2],[1,3]]\n",
        "Output: \"efgabcd\"\n",
        "Explanation:  \n",
        "[1,1] means shift to right by 1. \"abcdefg\" -> \"gabcdef\"\n",
        "[1,1] means shift to right by 1. \"gabcdef\" -> \"fgabcde\"\n",
        "[0,2] means shift to left by 2. \"fgabcde\" -> \"abcdefg\"\n",
        "[1,3] means shift to right by 3. \"abcdefg\" -> \"efgabcd\"\n",
        "```\n",
        "\n",
        " "
      ]
    },
    {
      "cell_type": "code",
      "metadata": {
        "id": "ODKbmLHE7c6-"
      },
      "source": [
        "def string_shift(string: str, vectors: list) -> str:\n",
        "  val = 0\n",
        "  result = ''\n",
        "\n",
        "  for vector in vectors:\n",
        "    # 0 is left rotation and negative value \n",
        "    # 1 is right rotation and postive value\n",
        "    val += -vector[1] if vector[0] == 0 else vector[1]\n",
        "\n",
        "  length = len(string)\n",
        "  val %= length\n",
        "  print(val)\n",
        "  if val > 0:\n",
        "    # Right rotation\n",
        "    result = string[length-val:] + string[:length-val]\n",
        "  elif val < 0:\n",
        "    # Left roration\n",
        "    # Remove negative sign\n",
        "    val = abs(val)\n",
        "    result = string[length-val:] + string[:length-val]\n",
        "  return result  "
      ],
      "execution_count": 46,
      "outputs": []
    },
    {
      "cell_type": "code",
      "metadata": {
        "colab": {
          "base_uri": "https://localhost:8080/"
        },
        "id": "zODZIN_I_b1I",
        "outputId": "5397fd0e-1c6f-4b1c-99c9-81c69a21c61e"
      },
      "source": [
        "string = \"abcdefg\"\n",
        "vectors = [[1,1],[1,1],[0,2],[1,3]]\n",
        "print(string_shift(string, vectors))"
      ],
      "execution_count": 44,
      "outputs": [
        {
          "output_type": "stream",
          "name": "stdout",
          "text": [
            "3\n",
            "efgabcd\n"
          ]
        }
      ]
    },
    {
      "cell_type": "markdown",
      "metadata": {
        "id": "NCKFJecZAzdz"
      },
      "source": [
        "**14.Product of array except self**"
      ]
    },
    {
      "cell_type": "code",
      "metadata": {
        "id": "7EPdMXvDA5yc"
      },
      "source": [
        "import math \n",
        "\n",
        "def product_of_array(array: list) -> list:\n",
        "  total_product = 1\n",
        "  for element in array:\n",
        "    total_product *= element\n",
        "  \n",
        "  return [total_product//element for element in array]"
      ],
      "execution_count": 61,
      "outputs": []
    },
    {
      "cell_type": "code",
      "metadata": {
        "colab": {
          "base_uri": "https://localhost:8080/"
        },
        "id": "mP_B4GjsCuJh",
        "outputId": "57cc7c39-6939-4c55-ce2a-21e10c6b37b2"
      },
      "source": [
        "input1 = []\n",
        "input2 = [1]\n",
        "input3 = [1, 2]\n",
        "input4 = [1,2,3,4]\n",
        "\n",
        "print(product_of_array(input1))\n",
        "print(product_of_array(input2))\n",
        "print(product_of_array(input3))\n",
        "print(product_of_array(input4))"
      ],
      "execution_count": 64,
      "outputs": [
        {
          "output_type": "stream",
          "name": "stdout",
          "text": [
            "[]\n",
            "[1]\n",
            "[2, 1]\n",
            "[24, 12, 8, 6]\n"
          ]
        }
      ]
    },
    {
      "cell_type": "markdown",
      "metadata": {
        "id": "3I2nGnX5G-dE"
      },
      "source": [
        "**15. Valid parenthesis String**"
      ]
    },
    {
      "cell_type": "code",
      "metadata": {
        "id": "r0gszmT5G96n"
      },
      "source": [
        "def check_valid_string(string: str) -> bool:\n",
        "  open, star = [], []\n",
        "  length = len(string)\n",
        "  for indx in range(length):\n",
        "    if string[indx] == '(':\n",
        "      open.append(indx)\n",
        "    elif string[indx] == '*':\n",
        "      star.append(indx)\n",
        "    else:\n",
        "      if open:\n",
        "        # First pop from open stack\n",
        "        open.pop()\n",
        "      elif star:\n",
        "        # Pop from star stack\n",
        "        star.pop()\n",
        "      else:\n",
        "        # Can't balance the string\n",
        "        return False\n",
        "\n",
        "  # Now processing leftover openning brackets\n",
        "  while open:\n",
        "    if not star:\n",
        "      return False\n",
        "    elif open[-1] < star[-1]:\n",
        "      open.pop()\n",
        "      star.pop()\n",
        "    else:\n",
        "      return False\n",
        "  return True"
      ],
      "execution_count": 84,
      "outputs": []
    },
    {
      "cell_type": "code",
      "metadata": {
        "colab": {
          "base_uri": "https://localhost:8080/"
        },
        "id": "XsSvpopWL9Xz",
        "outputId": "c230d8c4-92de-4b0d-e99b-584264b3be24"
      },
      "source": [
        "string1 = \"()\"\n",
        "string2 =  \"(*)\"\n",
        "string3 =  \"(*))\"\n",
        "string4 = \")(*))\"\n",
        "\n",
        "print(check_valid_string(string1))\n",
        "print(check_valid_string(string2))\n",
        "print(check_valid_string(string3))\n",
        "print(check_valid_string(string4))"
      ],
      "execution_count": 82,
      "outputs": [
        {
          "output_type": "stream",
          "name": "stdout",
          "text": [
            "True\n",
            "True\n",
            "True\n",
            "False\n"
          ]
        }
      ]
    }
  ]
}