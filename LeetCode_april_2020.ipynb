{
  "nbformat": 4,
  "nbformat_minor": 0,
  "metadata": {
    "colab": {
      "name": "LeetCode_april_2020.ipynb",
      "provenance": [],
      "authorship_tag": "ABX9TyOELx3UpDJY3sj3YrYdskfI",
      "include_colab_link": true
    },
    "kernelspec": {
      "name": "python3",
      "display_name": "Python 3"
    },
    "language_info": {
      "name": "python"
    }
  },
  "cells": [
    {
      "cell_type": "markdown",
      "metadata": {
        "id": "view-in-github",
        "colab_type": "text"
      },
      "source": [
        "<a href=\"https://colab.research.google.com/github/DSNortsev/Algorithms/blob/master/LeetCode_april_2020.ipynb\" target=\"_parent\"><img src=\"https://colab.research.google.com/assets/colab-badge.svg\" alt=\"Open In Colab\"/></a>"
      ]
    },
    {
      "cell_type": "markdown",
      "metadata": {
        "id": "9zkfmT65Sjf5"
      },
      "source": [
        "**TECH DOSE**\n",
        "\n",
        "Types of DP:\n",
        "* Knapsack (O/1, Bounded, Unbounded)\n",
        "* LCS (Longest Common Subsequence)\n",
        "* LIS (Longest Increasing Subsequence)\n",
        "* Matrix chain multiplication \n",
        "* DP on grid\n",
        "* Kadane's Algorithm\n",
        "* Others"
      ]
    },
    {
      "cell_type": "markdown",
      "metadata": {
        "id": "oW9-Pi1Hmgfy"
      },
      "source": [
        "**1. Single number**"
      ]
    },
    {
      "cell_type": "code",
      "metadata": {
        "colab": {
          "base_uri": "https://localhost:8080/"
        },
        "id": "bOT6phxASQUI",
        "outputId": "ab9014ea-d6c1-4f6e-b5b8-69451b41b189"
      },
      "source": [
        "numbers = [2, 4, 2, 4 , 3, 5]\n",
        "\n",
        "def single_number(numbers):\n",
        "  result = []\n",
        "  count_duplicates = {}\n",
        "  for number in numbers:\n",
        "    if count_duplicates.get(number):\n",
        "      count_duplicates[number] += 1\n",
        "    else:\n",
        "      count_duplicates[number] = 1\n",
        "  \n",
        "  for k, v in count_duplicates.items():\n",
        "      if v == 1:\n",
        "        result.append(k)\n",
        "  return result\n",
        "\n",
        "\n",
        "single_number(numbers)"
      ],
      "execution_count": null,
      "outputs": [
        {
          "output_type": "execute_result",
          "data": {
            "text/plain": [
              "[3, 5]"
            ]
          },
          "metadata": {},
          "execution_count": 18
        }
      ]
    },
    {
      "cell_type": "markdown",
      "metadata": {
        "id": "Odzo2xWry4ax"
      },
      "source": [
        "**2. Happy Number** \n"
      ]
    },
    {
      "cell_type": "code",
      "metadata": {
        "colab": {
          "base_uri": "https://localhost:8080/"
        },
        "id": "0KBZ6sLzSjBP",
        "outputId": "542bbbae-515b-45b4-e528-29c57acf5452"
      },
      "source": [
        "def is_happy(number):\n",
        "  seen_number = set()\n",
        "\n",
        "  while True:\n",
        "      total_sum = 0\n",
        "      value = 0\n",
        "      while number > 0:\n",
        "        number, digit  = divmod(number, 10)\n",
        "        total_sum += digit ** 2\n",
        "      \n",
        "      if total_sum == 1:\n",
        "        return True\n",
        "      elif total_sum in seen_number:\n",
        "        return False\n",
        "      seen_number.add(total_sum)\n",
        "      number = total_sum\n",
        "\n",
        "\n",
        "print(is_happy(19))\n",
        "print(is_happy(25))"
      ],
      "execution_count": null,
      "outputs": [
        {
          "output_type": "stream",
          "name": "stdout",
          "text": [
            "True\n",
            "False\n"
          ]
        }
      ]
    },
    {
      "cell_type": "markdown",
      "metadata": {
        "id": "VU3AKh1I4vc1"
      },
      "source": [
        "**3. Longest Sum contiguous subarray**"
      ]
    },
    {
      "cell_type": "code",
      "metadata": {
        "colab": {
          "base_uri": "https://localhost:8080/"
        },
        "id": "RMi2uIi644Ta",
        "outputId": "f8af28a4-d43e-4047-89ee-e8005a8f7488"
      },
      "source": [
        "def longest_contiguous_subarray(array):\n",
        "  max_end = 0\n",
        "  max_total = float('-inf')\n",
        "\n",
        "  for element in array:\n",
        "    max_end = max_end + element\n",
        "    if max_end < element:\n",
        "      max_end = element\n",
        "    if max_total < max_end:\n",
        "      max_total = max_end\n",
        "  return max_total\n",
        "\n",
        "longest_contiguous_subarray([-2,-3, 4, -1, -2, 1, 5, -3])"
      ],
      "execution_count": null,
      "outputs": [
        {
          "output_type": "execute_result",
          "data": {
            "text/plain": [
              "7"
            ]
          },
          "metadata": {},
          "execution_count": 62
        }
      ]
    },
    {
      "cell_type": "markdown",
      "metadata": {
        "id": "oQy0UMvRH6lj"
      },
      "source": [
        "**4. Move Zeroes**"
      ]
    },
    {
      "cell_type": "code",
      "metadata": {
        "id": "b5YGs2AGIBR9"
      },
      "source": [
        ""
      ],
      "execution_count": null,
      "outputs": []
    }
  ]
}