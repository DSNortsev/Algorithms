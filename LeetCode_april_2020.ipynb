{
  "nbformat": 4,
  "nbformat_minor": 0,
  "metadata": {
    "colab": {
      "name": "LeetCode_april_2020.ipynb",
      "provenance": [],
      "authorship_tag": "ABX9TyNsMgKlXGyquuXzP2QzWpq5",
      "include_colab_link": true
    },
    "kernelspec": {
      "name": "python3",
      "display_name": "Python 3"
    },
    "language_info": {
      "name": "python"
    }
  },
  "cells": [
    {
      "cell_type": "markdown",
      "metadata": {
        "id": "view-in-github",
        "colab_type": "text"
      },
      "source": [
        "<a href=\"https://colab.research.google.com/github/DSNortsev/Algorithms/blob/master/LeetCode_april_2020.ipynb\" target=\"_parent\"><img src=\"https://colab.research.google.com/assets/colab-badge.svg\" alt=\"Open In Colab\"/></a>"
      ]
    },
    {
      "cell_type": "markdown",
      "metadata": {
        "id": "9zkfmT65Sjf5"
      },
      "source": [
        "**TECH DOSE**\n",
        "\n",
        "Types of DP:\n",
        "* Knapsack (O/1, Bounded, Unbounded)\n",
        "* LCS (Longest Common Subsequence)\n",
        "* LIS (Longest Increasing Subsequence)\n",
        "* Matrix chain multiplication \n",
        "* DP on grid\n",
        "* Kadane's Algorithm\n",
        "* Others"
      ]
    },
    {
      "cell_type": "markdown",
      "metadata": {
        "id": "oW9-Pi1Hmgfy"
      },
      "source": [
        "**1. Single number**"
      ]
    },
    {
      "cell_type": "code",
      "metadata": {
        "colab": {
          "base_uri": "https://localhost:8080/"
        },
        "id": "bOT6phxASQUI",
        "outputId": "ab9014ea-d6c1-4f6e-b5b8-69451b41b189"
      },
      "source": [
        "numbers = [2, 4, 2, 4 , 3, 5]\n",
        "\n",
        "def single_number(numbers):\n",
        "  result = []\n",
        "  count_duplicates = {}\n",
        "  for number in numbers:\n",
        "    if count_duplicates.get(number):\n",
        "      count_duplicates[number] += 1\n",
        "    else:\n",
        "      count_duplicates[number] = 1\n",
        "  \n",
        "  for k, v in count_duplicates.items():\n",
        "      if v == 1:\n",
        "        result.append(k)\n",
        "  return result\n",
        "\n",
        "\n",
        "single_number(numbers)"
      ],
      "execution_count": null,
      "outputs": [
        {
          "output_type": "execute_result",
          "data": {
            "text/plain": [
              "[3, 5]"
            ]
          },
          "metadata": {},
          "execution_count": 18
        }
      ]
    },
    {
      "cell_type": "markdown",
      "metadata": {
        "id": "Odzo2xWry4ax"
      },
      "source": [
        "**2. Happy Number** \n"
      ]
    },
    {
      "cell_type": "code",
      "metadata": {
        "colab": {
          "base_uri": "https://localhost:8080/"
        },
        "id": "0KBZ6sLzSjBP",
        "outputId": "542bbbae-515b-45b4-e528-29c57acf5452"
      },
      "source": [
        "def is_happy(number):\n",
        "  seen_number = set()\n",
        "\n",
        "  while True:\n",
        "      total_sum = 0\n",
        "      value = 0\n",
        "      while number > 0:\n",
        "        number, digit  = divmod(number, 10)\n",
        "        total_sum += digit ** 2\n",
        "      \n",
        "      if total_sum == 1:\n",
        "        return True\n",
        "      elif total_sum in seen_number:\n",
        "        return False\n",
        "      seen_number.add(total_sum)\n",
        "      number = total_sum\n",
        "\n",
        "\n",
        "print(is_happy(19))\n",
        "print(is_happy(25))"
      ],
      "execution_count": null,
      "outputs": [
        {
          "output_type": "stream",
          "name": "stdout",
          "text": [
            "True\n",
            "False\n"
          ]
        }
      ]
    },
    {
      "cell_type": "markdown",
      "metadata": {
        "id": "VU3AKh1I4vc1"
      },
      "source": [
        "**3. Longest Sum contiguous subarray**"
      ]
    },
    {
      "cell_type": "code",
      "metadata": {
        "colab": {
          "base_uri": "https://localhost:8080/"
        },
        "id": "RMi2uIi644Ta",
        "outputId": "f8af28a4-d43e-4047-89ee-e8005a8f7488"
      },
      "source": [
        "def longest_contiguous_subarray(array):\n",
        "  max_end = 0\n",
        "  max_total = float('-inf')\n",
        "\n",
        "  for element in array:\n",
        "    max_end = max_end + element\n",
        "    if max_end < element:\n",
        "      max_end = element\n",
        "    if max_total < max_end:\n",
        "      max_total = max_end\n",
        "  return max_total\n",
        "\n",
        "longest_contiguous_subarray([-2,-3, 4, -1, -2, 1, 5, -3])"
      ],
      "execution_count": null,
      "outputs": [
        {
          "output_type": "execute_result",
          "data": {
            "text/plain": [
              "7"
            ]
          },
          "metadata": {},
          "execution_count": 62
        }
      ]
    },
    {
      "cell_type": "markdown",
      "metadata": {
        "id": "oQy0UMvRH6lj"
      },
      "source": [
        "**4. Move Zeroes**\n",
        "Move all zeros to the right \n",
        "\n",
        "Example:\n",
        "Input: [1, 0, 3, 0, 12]\n",
        "\n",
        "Output: [1, 3, 12, 0, 0]"
      ]
    },
    {
      "cell_type": "code",
      "metadata": {
        "id": "b5YGs2AGIBR9"
      },
      "source": [
        "def move_zeroes(array: list) -> list:\n",
        "  \"\"\"\n",
        "    Move all zeros to the right\n",
        "  \"\"\"\n",
        "  elm_count = len(array)\n",
        "  # left is pointer to last zero\n",
        "  # right is moving towards the end =\n",
        "  left, right = 0, 0\n",
        "  \n",
        "  if elm_count in (0,1):\n",
        "      return array\n",
        "\n",
        "  while right < elm_count:\n",
        "    if array[right] == 0:\n",
        "      right += 1\n",
        "    else:\n",
        "      array[left], array[right] = array[right], array[left]\n",
        "      right += 1\n",
        "      left += 1\n",
        "  return array "
      ],
      "execution_count": null,
      "outputs": []
    },
    {
      "cell_type": "code",
      "metadata": {
        "colab": {
          "base_uri": "https://localhost:8080/"
        },
        "id": "UTUcDPjAKsIn",
        "outputId": "d7537919-7cc1-4543-be2e-a98f6571a6c2"
      },
      "source": [
        "array1 = [1, 0, 3, 0, 12]\n",
        "array3 = [1]\n",
        "array2 = []\n",
        "\n",
        "print(move_zeroes(array1))\n",
        "print(move_zeroes(array2))\n",
        "print(move_zeroes(array3))"
      ],
      "execution_count": null,
      "outputs": [
        {
          "output_type": "stream",
          "name": "stdout",
          "text": [
            "[1, 3, 12, 0, 0]\n",
            "[]\n",
            "[1]\n"
          ]
        }
      ]
    },
    {
      "cell_type": "markdown",
      "metadata": {
        "id": "2pfyEYWFMSct"
      },
      "source": [
        "**5. Best time to buy and sekk stock**\n",
        "\n",
        "You can buy and sell or skip stocks \n",
        "\n",
        "Exmaple:\n",
        "\n",
        "Input: [7, 1, 5, 3, 6, 4]\n",
        "\n",
        "Output: 7\n",
        "\n"
      ]
    },
    {
      "cell_type": "code",
      "metadata": {
        "id": "bcpC98hUMYbE"
      },
      "source": [
        "def max_profit(prices: list) -> int:\n",
        "  \"\"\"\n",
        "    Calculate the max profit by buying, selling or skipping the stocks.\n",
        "    The stock can;t be bought or sold at the same day.\n",
        "  \"\"\"\n",
        "  total_profit = 0\n",
        "  for indx in range(1,len(prices)):\n",
        "    if prices[indx] > prices[indx-1]:\n",
        "       total_profit += prices[indx] - prices[indx-1]\n",
        "  return total_profit"
      ],
      "execution_count": null,
      "outputs": []
    },
    {
      "cell_type": "code",
      "metadata": {
        "colab": {
          "base_uri": "https://localhost:8080/"
        },
        "id": "uswCFoB5QrUA",
        "outputId": "2d6b4239-5e63-4e47-9d42-ab61bfd9a514"
      },
      "source": [
        "# we can not sell on 7 and buy on 4\n",
        "# (5 - 1) + (6 - 3) = 7\n",
        "prices1 = [7, 1, 5, 3, 6, 4]\n",
        "prices2 = [1, 2, 3, 4, 5]\n",
        "prices3 = [5, 4, 3, 2, 1]\n",
        "\n",
        "print(max_profit(prices1))\n",
        "print(max_profit(prices2))\n",
        "print(max_profit(prices3))"
      ],
      "execution_count": null,
      "outputs": [
        {
          "output_type": "stream",
          "name": "stdout",
          "text": [
            "7\n",
            "4\n",
            "0\n"
          ]
        }
      ]
    },
    {
      "cell_type": "markdown",
      "metadata": {
        "id": "aMELpLoERnr3"
      },
      "source": [
        "**6. Group Anagrams**\n",
        "\n",
        "eat and tea are anagrams"
      ]
    },
    {
      "cell_type": "code",
      "metadata": {
        "id": "zTdAQJhPRt6e"
      },
      "source": [
        "def group_anagrams(words: list) -> list:\n",
        "  anagrams = {}\n",
        "  for word in words:\n",
        "    sorted_letters = \"\".join(sorted(word))\n",
        "    if anagrams.get(sorted_letters):\n",
        "      anagrams[sorted_letters].append(word)\n",
        "    else:\n",
        "      anagrams[sorted_letters] = [word]\n",
        "  \n",
        "  return list(anagrams.values())"
      ],
      "execution_count": null,
      "outputs": []
    },
    {
      "cell_type": "code",
      "metadata": {
        "colab": {
          "base_uri": "https://localhost:8080/"
        },
        "id": "UbjOOU1dUoWf",
        "outputId": "e7ab455b-dff2-4ca5-909a-239517cec345"
      },
      "source": [
        "words = ['eat', 'tea', 'tan', 'ate', 'nat', 'bat']\n",
        "print(group_anagrams(words))"
      ],
      "execution_count": null,
      "outputs": [
        {
          "output_type": "stream",
          "name": "stdout",
          "text": [
            "[['eat', 'tea', 'ate'], ['tan', 'nat'], ['bat']]\n"
          ]
        }
      ]
    },
    {
      "cell_type": "markdown",
      "metadata": {
        "id": "VUXg6s0rWMlO"
      },
      "source": [
        "**7. Counting elements**\n",
        "\n",
        "Counting numnber of x of (x+1) is present in an array."
      ]
    },
    {
      "cell_type": "code",
      "metadata": {
        "id": "YiOtLd5MWR4B"
      },
      "source": [
        "def count_elements(numbers: list) -> int:\n",
        "  \"\"\"\n",
        "    Counting numnber of x of (x+1) is present in an array.\n",
        "  \"\"\"\n",
        "  total_count = len(numbers)\n",
        "  sorted_numbers = sorted(numbers)\n",
        "  left, right, count = 0, 1, 0\n",
        "\n",
        "  while right < total_count:\n",
        "    if sorted_numbers[right] == sorted_numbers[left] + 1:\n",
        "      count += right - left\n",
        "      left = right\n",
        "      right += 1\n",
        "    elif sorted_numbers[right] == sorted_numbers[left]:\n",
        "      right += 1\n",
        "    else:\n",
        "      left = right\n",
        "      right += 1\n",
        "  return count"
      ],
      "execution_count": null,
      "outputs": []
    },
    {
      "cell_type": "code",
      "metadata": {
        "colab": {
          "base_uri": "https://localhost:8080/"
        },
        "id": "42K7ZewJarIB",
        "outputId": "f958a523-80d5-4309-8f64-b880459494e9"
      },
      "source": [
        "numbers = [1, 3, 2, 3, 5, 0]\n",
        "# [0, 1, 2, 3, 3, 5], so count would be 3 which is 0-1, 1-2, 2-3\n",
        "print(count_elements(numbers))"
      ],
      "execution_count": null,
      "outputs": [
        {
          "output_type": "stream",
          "name": "stdout",
          "text": [
            "3\n"
          ]
        }
      ]
    },
    {
      "cell_type": "markdown",
      "metadata": {
        "id": "L-M0_qR1bNkN"
      },
      "source": [
        "**8. Middle of link list**\n",
        "\n"
      ]
    },
    {
      "cell_type": "code",
      "metadata": {
        "id": "zY53wXjebTFQ"
      },
      "source": [
        "def middle_of_link_list(array: list) -> list:\n",
        "  total_elements = len(array)\n",
        "\n",
        "  if total_elements <= 2:\n",
        "    return array\n",
        "  \n",
        "  indx = total_elements // 2\n",
        "  if total_elements % 2 == 0:\n",
        "    return [array[indx-1], array[indx]]\n",
        "  return [array[indx]]"
      ],
      "execution_count": null,
      "outputs": []
    },
    {
      "cell_type": "code",
      "metadata": {
        "colab": {
          "base_uri": "https://localhost:8080/"
        },
        "id": "t6rw3ABRcoJD",
        "outputId": "d4d9aed9-2c43-4917-b98e-1cec65f7a50d"
      },
      "source": [
        "print(middle_of_link_list([]))\n",
        "print(middle_of_link_list([1]))\n",
        "print(middle_of_link_list([1, 2]))\n",
        "print(middle_of_link_list([1,2,3]))\n",
        "print(middle_of_link_list([1,2,3,4]))"
      ],
      "execution_count": null,
      "outputs": [
        {
          "output_type": "stream",
          "name": "stdout",
          "text": [
            "[]\n",
            "[1]\n",
            "[1, 2]\n",
            "[2]\n",
            "[2, 3]\n"
          ]
        }
      ]
    },
    {
      "cell_type": "markdown",
      "metadata": {
        "id": "VDQlYEm3dbtF"
      },
      "source": [
        "**9.Backspcae string compare**\n",
        "\n",
        "\\# means backspace remoing an character\n",
        "\n",
        "ab#cd# = ac\n",
        "\n",
        "ac# = a"
      ]
    },
    {
      "cell_type": "code",
      "metadata": {
        "id": "wU1uRGridsPt"
      },
      "source": [
        "def backspace_string_compare(string1: str, string2: str) -> bool:\n",
        "  processed_str = {\n",
        "    \"result1\": '',\n",
        "    \"result2\": ''\n",
        "  }\n",
        "\n",
        "  for indx, string in enumerate([string1, string2],1):\n",
        "    for character in string:\n",
        "      if character.islower():\n",
        "        processed_str[f'result{indx}'] += character\n",
        "      else:\n",
        "        processed_str[f'result{indx}'] = processed_str[f'result{indx}'][:-1]   \n",
        "  return processed_str['result1'] == processed_str['result2']"
      ],
      "execution_count": null,
      "outputs": []
    },
    {
      "cell_type": "code",
      "metadata": {
        "colab": {
          "base_uri": "https://localhost:8080/"
        },
        "id": "CHS95omwfzVD",
        "outputId": "bb653c0b-cf6c-4d08-e253-1c7d73e5c325"
      },
      "source": [
        "string1 = 'ab#cd#'\n",
        "string2 = 'ac#d#c'\n",
        "print(backspace_string_compare(string1, string2))"
      ],
      "execution_count": null,
      "outputs": [
        {
          "output_type": "stream",
          "name": "stdout",
          "text": [
            "True\n"
          ]
        }
      ]
    },
    {
      "cell_type": "markdown",
      "metadata": {
        "id": "oUnxJx2kjCa-"
      },
      "source": [
        "**10.Diameter of Binary Tree**\n"
      ]
    },
    {
      "cell_type": "code",
      "metadata": {
        "id": "Um8XSICpjJDQ"
      },
      "source": [
        "class TreeNode:\n",
        "    def __init__(self, val=0, left=None, right=None):\n",
        "        self.val = val\n",
        "        self.left = left\n",
        "        self.right = right\n",
        "\n",
        "class Solution:\n",
        "    def diameterOfBinaryTree(self, root: Optional[TreeNode]) -> int:\n",
        "        height,diameter=self.help(root)\n",
        "        return diameter\n",
        "    \n",
        "    def help(self,root):\n",
        "        if not root:\n",
        "            return 0,0\n",
        "        left_height,left_diam=self.help(root.left)\n",
        "        right_height,right_diam=self.help(root.right)\n",
        "        height=max(left_height,right_height)+1\n",
        "        return height,max(left_height+right_height,left_diam,right_diam)"
      ],
      "execution_count": null,
      "outputs": []
    },
    {
      "cell_type": "markdown",
      "metadata": {
        "id": "_brGSP8PlqL_"
      },
      "source": [
        "**11.Last stone weight**\n"
      ]
    },
    {
      "cell_type": "code",
      "metadata": {
        "id": "bG-P3Uuklthd"
      },
      "source": [
        "from typing import List\n",
        "\n",
        "def last_stone_weight(stones: List[int]) -> int:\n",
        "  while len(stones) > 1:\n",
        "    stones = sorted(stones)\n",
        "    x = stones.pop(-1)\n",
        "    y = stones.pop(-1)\n",
        "    if x != y:\n",
        "      stones.append(x - y)\n",
        "  return  stones[0] if stones else 0"
      ],
      "execution_count": null,
      "outputs": []
    },
    {
      "cell_type": "code",
      "metadata": {
        "id": "sFtZOthvvfM7"
      },
      "source": [
        "# O(nlogn) with Heap\n",
        "from typing import List\n",
        "from heapq import heappush, heappop\n",
        "\n",
        "def last_stone_weight(stones: List[int]) -> int:\n",
        "    heap = []\n",
        "    for stone in stones: # O(n)\n",
        "        heappush(heap, -stone) # O(logn)\n",
        "    print(heap)\n",
        "    \n",
        "    while len(heap) > 1:\n",
        "        y = heappop(heap)\n",
        "        x = heappop(heap)\n",
        "        \n",
        "        if x > y: heappush(heap, y - x)\n",
        "            \n",
        "    return abs(heappop(heap)) if heap else 0\n"
      ],
      "execution_count": null,
      "outputs": []
    },
    {
      "cell_type": "code",
      "metadata": {
        "colab": {
          "base_uri": "https://localhost:8080/"
        },
        "id": "fI7ccYJyuKEF",
        "outputId": "9bdb00eb-8233-4d3a-8a85-f2c8325d4094"
      },
      "source": [
        "stones1 = [2, 7, 4, 10]\n",
        "stones2 = [2, 7]\n",
        "stones3 = [3]\n",
        "stones4 = []\n",
        "\n",
        "print(last_stone_weight(stones1))\n",
        "print(last_stone_weight(stones2))\n",
        "print(last_stone_weight(stones3))\n",
        "print(last_stone_weight(stones4))"
      ],
      "execution_count": null,
      "outputs": [
        {
          "output_type": "stream",
          "name": "stdout",
          "text": [
            "[-10, -7, -4, -2]\n",
            "1\n",
            "[-7, -2]\n",
            "5\n",
            "[-3]\n",
            "3\n",
            "[]\n",
            "0\n"
          ]
        }
      ]
    },
    {
      "cell_type": "markdown",
      "metadata": {
        "id": "F3xTIHMKxCMM"
      },
      "source": [
        "**12.Contiguous array**\n"
      ]
    },
    {
      "cell_type": "code",
      "metadata": {
        "id": "erYURowmxTn_"
      },
      "source": [
        "def find_max_length_binary(binary_array: list) -> int:\n",
        "  sum = 0 \n",
        "  longest_subarray = 0\n",
        "  sum_dictioary = {}\n",
        "\n",
        "  for i in range(len(binary_array)):\n",
        "    sum += 1 if binary_array[i] != 0 else -1\n",
        "\n",
        "    if sum == 0:\n",
        "      longest_subarray = i + 1 if longest_subarray < i + 1 else longest_subarray\n",
        "    elif sum in sum_dictioary:\n",
        "      longest_subarray = max(longest_subarray, i - sum_dictioary[sum])\n",
        "    else:\n",
        "      sum_dictioary[sum] = i\n",
        "  return longest_subarray\n"
      ],
      "execution_count": null,
      "outputs": []
    },
    {
      "cell_type": "code",
      "metadata": {
        "colab": {
          "base_uri": "https://localhost:8080/"
        },
        "id": "jO8If-dW2mCv",
        "outputId": "6a26fc2a-69c4-4c84-babd-95b192727ede"
      },
      "source": [
        "array1 = [0,1]\n",
        "array2 = [0,1,0,1,0,1]\n",
        "array3 = [0,1,0,1,0,0]\n",
        "\n",
        "print(find_max_length_binary(array1))\n",
        "print(find_max_length_binary(array2))\n",
        "print(find_max_length_binary(array3))"
      ],
      "execution_count": null,
      "outputs": [
        {
          "output_type": "stream",
          "name": "stdout",
          "text": [
            "2\n",
            "6\n",
            "4\n"
          ]
        }
      ]
    },
    {
      "cell_type": "markdown",
      "metadata": {
        "id": "qocy86I53D1G"
      },
      "source": [
        "**13.Perfrom string shifts**\n",
        "\n",
        "You are given a string s containing lowercase English letters, and a matrix shift, where shift[i] = [directioni, amounti]:\n",
        "\n",
        "    directioni can be 0 (for left shift) or 1 (for right shift).\n",
        "    amounti is the amount by which string s is to be shifted.\n",
        "    A left shift by 1 means remove the first character of s and append it to the end.\n",
        "    Similarly, a right shift by 1 means remove the last character of s and add it to the beginning.\n",
        "\n",
        "Return the final string after all operations.\n",
        "\n",
        "```\n",
        "Input: s = \"abcdefg\", shift = [[1,1],[1,1],[0,2],[1,3]]\n",
        "Output: \"efgabcd\"\n",
        "Explanation:  \n",
        "[1,1] means shift to right by 1. \"abcdefg\" -> \"gabcdef\"\n",
        "[1,1] means shift to right by 1. \"gabcdef\" -> \"fgabcde\"\n",
        "[0,2] means shift to left by 2. \"fgabcde\" -> \"abcdefg\"\n",
        "[1,3] means shift to right by 3. \"abcdefg\" -> \"efgabcd\"\n",
        "```\n",
        "\n",
        " "
      ]
    },
    {
      "cell_type": "code",
      "metadata": {
        "id": "ODKbmLHE7c6-"
      },
      "source": [
        "def string_shift(string: str, vectors: list) -> str:\n",
        "  val = 0\n",
        "  result = ''\n",
        "\n",
        "  for vector in vectors:\n",
        "    # 0 is left rotation and negative value \n",
        "    # 1 is right rotation and postive value\n",
        "    val += -vector[1] if vector[0] == 0 else vector[1]\n",
        "\n",
        "  length = len(string)\n",
        "  val %= length\n",
        "  print(val)\n",
        "  if val > 0:\n",
        "    # Right rotation\n",
        "    result = string[length-val:] + string[:length-val]\n",
        "  elif val < 0:\n",
        "    # Left roration\n",
        "    # Remove negative sign\n",
        "    val = abs(val)\n",
        "    result = string[length-val:] + string[:length-val]\n",
        "  return result  "
      ],
      "execution_count": null,
      "outputs": []
    },
    {
      "cell_type": "code",
      "metadata": {
        "colab": {
          "base_uri": "https://localhost:8080/"
        },
        "id": "zODZIN_I_b1I",
        "outputId": "5397fd0e-1c6f-4b1c-99c9-81c69a21c61e"
      },
      "source": [
        "string = \"abcdefg\"\n",
        "vectors = [[1,1],[1,1],[0,2],[1,3]]\n",
        "print(string_shift(string, vectors))"
      ],
      "execution_count": null,
      "outputs": [
        {
          "output_type": "stream",
          "name": "stdout",
          "text": [
            "3\n",
            "efgabcd\n"
          ]
        }
      ]
    },
    {
      "cell_type": "markdown",
      "metadata": {
        "id": "NCKFJecZAzdz"
      },
      "source": [
        "**14.Product of array except self**"
      ]
    },
    {
      "cell_type": "code",
      "metadata": {
        "id": "7EPdMXvDA5yc"
      },
      "source": [
        "import math \n",
        "\n",
        "def product_of_array(array: list) -> list:\n",
        "  total_product = 1\n",
        "  for element in array:\n",
        "    total_product *= element\n",
        "  \n",
        "  return [total_product//element for element in array]"
      ],
      "execution_count": null,
      "outputs": []
    },
    {
      "cell_type": "code",
      "metadata": {
        "colab": {
          "base_uri": "https://localhost:8080/"
        },
        "id": "mP_B4GjsCuJh",
        "outputId": "57cc7c39-6939-4c55-ce2a-21e10c6b37b2"
      },
      "source": [
        "input1 = []\n",
        "input2 = [1]\n",
        "input3 = [1, 2]\n",
        "input4 = [1,2,3,4]\n",
        "\n",
        "print(product_of_array(input1))\n",
        "print(product_of_array(input2))\n",
        "print(product_of_array(input3))\n",
        "print(product_of_array(input4))"
      ],
      "execution_count": null,
      "outputs": [
        {
          "output_type": "stream",
          "name": "stdout",
          "text": [
            "[]\n",
            "[1]\n",
            "[2, 1]\n",
            "[24, 12, 8, 6]\n"
          ]
        }
      ]
    },
    {
      "cell_type": "markdown",
      "metadata": {
        "id": "3I2nGnX5G-dE"
      },
      "source": [
        "**15. Valid parenthesis String**"
      ]
    },
    {
      "cell_type": "code",
      "metadata": {
        "id": "r0gszmT5G96n"
      },
      "source": [
        "def check_valid_string(string: str) -> bool:\n",
        "  open, star = [], []\n",
        "  length = len(string)\n",
        "  for indx in range(length):\n",
        "    if string[indx] == '(':\n",
        "      open.append(indx)\n",
        "    elif string[indx] == '*':\n",
        "      star.append(indx)\n",
        "    else:\n",
        "      if open:\n",
        "        # First pop from open stack\n",
        "        open.pop()\n",
        "      elif star:\n",
        "        # Pop from star stack\n",
        "        star.pop()\n",
        "      else:\n",
        "        # Can't balance the string\n",
        "        return False\n",
        "\n",
        "  # Now processing leftover openning brackets\n",
        "  while open:\n",
        "    if not star:\n",
        "      return False\n",
        "    elif open[-1] < star[-1]:\n",
        "      open.pop()\n",
        "      star.pop()\n",
        "    else:\n",
        "      return False\n",
        "  return True"
      ],
      "execution_count": null,
      "outputs": []
    },
    {
      "cell_type": "code",
      "metadata": {
        "colab": {
          "base_uri": "https://localhost:8080/"
        },
        "id": "XsSvpopWL9Xz",
        "outputId": "c230d8c4-92de-4b0d-e99b-584264b3be24"
      },
      "source": [
        "string1 = \"()\"\n",
        "string2 =  \"(*)\"\n",
        "string3 =  \"(*))\"\n",
        "string4 = \")(*))\"\n",
        "\n",
        "print(check_valid_string(string1))\n",
        "print(check_valid_string(string2))\n",
        "print(check_valid_string(string3))\n",
        "print(check_valid_string(string4))"
      ],
      "execution_count": null,
      "outputs": [
        {
          "output_type": "stream",
          "name": "stdout",
          "text": [
            "True\n",
            "True\n",
            "True\n",
            "False\n"
          ]
        }
      ]
    },
    {
      "cell_type": "markdown",
      "metadata": {
        "id": "ThMrizZn1UVj"
      },
      "source": [
        "**16.Number of Islands**\n",
        "\n",
        "Given an m x n 2D binary grid grid which represents a map of '1's (land) and '0's (water), return the number of islands.\n",
        "\n",
        "An island is surrounded by water and is formed by connecting adjacent lands horizontally or vertically. You may assume all four edges of the grid are all surrounded by water."
      ]
    },
    {
      "cell_type": "code",
      "metadata": {
        "id": "5II2p7-b1YAb"
      },
      "source": [
        "from typing import List\n",
        "\n",
        "def num_islands(grid: List[List[str]]) -> int:\n",
        "  num_islands = 0\n",
        "\n",
        "  if not grid or not grid[0]:\n",
        "    return 0\n",
        "\n",
        "  for i,row in enumerate(grid):\n",
        "    for j,cell in enumerate(row):\n",
        "      if cell == \"1\":\n",
        "        num_islands += 1\n",
        "        grid = delete_island(grid, i, j)\n",
        "        print(grid)\n",
        "  return num_islands\n",
        "\n",
        "def delete_island(grid, i, j):\n",
        "  if grid[i][j] == \"1\":\n",
        "    grid[i][j] = \"0\"\n",
        "    if i > 0:\n",
        "      # Up\n",
        "      grid = delete_island(grid,i-1,j)\n",
        "    if i < len(grid)-1:\n",
        "      #Down\n",
        "      grid = delete_island(grid,i+1,j)\n",
        "    if j > 0:\n",
        "      # Left\n",
        "      grid = delete_island(grid,i,j-1)\n",
        "    if j < len(grid[0])-1:\n",
        "      # Right\n",
        "      grid = delete_island(grid,i,j+1)\n",
        "  return grid"
      ],
      "execution_count": null,
      "outputs": []
    },
    {
      "cell_type": "code",
      "metadata": {
        "colab": {
          "base_uri": "https://localhost:8080/"
        },
        "id": "kLyN4xBS6vn1",
        "outputId": "cf9a9003-1f34-4cd7-a33e-2b0c6181b6a2"
      },
      "source": [
        "grid1 = [\n",
        "  [\"1\",\"1\",\"0\",\"0\",\"0\"],\n",
        "  [\"1\",\"1\",\"0\",\"0\",\"0\"],\n",
        "  [\"0\",\"0\",\"1\",\"0\",\"0\"],\n",
        "  [\"0\",\"0\",\"0\",\"1\",\"1\"]\n",
        "]\n",
        "\n",
        "grid2 = [\n",
        "  [\"1\",\"1\",\"1\",\"1\",\"0\"],\n",
        "  [\"1\",\"1\",\"0\",\"1\",\"0\"],\n",
        "  [\"1\",\"1\",\"0\",\"0\",\"0\"],\n",
        "  [\"0\",\"0\",\"0\",\"0\",\"0\"]\n",
        "]\n",
        "\n",
        "grid3 = []\n",
        "grid4 = [[]]\n",
        "\n",
        "print(num_islands(grid1))\n",
        "print(num_islands(grid2))\n",
        "print(num_islands(grid3))\n",
        "print(num_islands(grid4))"
      ],
      "execution_count": null,
      "outputs": [
        {
          "output_type": "stream",
          "name": "stdout",
          "text": [
            "[['0', '0', '0', '0', '0'], ['0', '0', '0', '0', '0'], ['0', '0', '1', '0', '0'], ['0', '0', '0', '1', '1']]\n",
            "[['0', '0', '0', '0', '0'], ['0', '0', '0', '0', '0'], ['0', '0', '0', '0', '0'], ['0', '0', '0', '1', '1']]\n",
            "[['0', '0', '0', '0', '0'], ['0', '0', '0', '0', '0'], ['0', '0', '0', '0', '0'], ['0', '0', '0', '0', '0']]\n",
            "3\n",
            "[['0', '0', '0', '0', '0'], ['0', '0', '0', '0', '0'], ['0', '0', '0', '0', '0'], ['0', '0', '0', '0', '0']]\n",
            "1\n",
            "0\n",
            "0\n"
          ]
        }
      ]
    },
    {
      "cell_type": "markdown",
      "metadata": {
        "id": "CrZYcg7J-dnP"
      },
      "source": [
        "**17. Minimum path sum**\n",
        "\n",
        "Given a m x n grid filled with non-negative numbers, find a path from top left to bottom right, which minimizes the sum of all numbers along its path.\n",
        "\n",
        "Note: You can only move either down or right at any point in time.\n",
        "\n",
        "![image.png](data:image/png;base64,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)\n"
      ]
    },
    {
      "cell_type": "code",
      "metadata": {
        "id": "5shveYvl-oyB"
      },
      "source": [
        "from typing import List\n",
        "\n",
        "def min_path_sum(grid: List[List[int]]) -> int:\n",
        "  \"\"\"\n",
        "    :type grid: List[List[int]]\n",
        "    :rtype: int\n",
        "  \"\"\"\n",
        "  row, col = len(grid), len(grid[0])\n",
        "  dis = [ [0 for c in range(col)] for r in range(row)]\n",
        "  dis[0][0] = grid[0][0]\n",
        "  # Going down first row\n",
        "  for i in range(1, row):\n",
        "    dis[i][0] = dis[i-1][0] + grid[i][0]\n",
        "  # Going right first column\n",
        "  for i in range(1, col):\n",
        "    dis[0][i] = dis[0][i-1] + grid[0][i]\n",
        "  # Fill out the reset\n",
        "  for i in range(1, row):\n",
        "    for j in range(1, col):\n",
        "      dis[i][j] = grid[i][j] + min(dis[i-1][j], dis[i][j-1])\n",
        "  return dis[-1][-1]"
      ],
      "execution_count": null,
      "outputs": []
    },
    {
      "cell_type": "code",
      "metadata": {
        "id": "uOIQX6MmEsH8",
        "colab": {
          "base_uri": "https://localhost:8080/"
        },
        "outputId": "65815113-31d2-4117-cf7d-eb2c9d179d4f"
      },
      "source": [
        "grid1 = [\n",
        "  [1,3,1],\n",
        "  [1,5,1],\n",
        "  [4,2,1]\n",
        "]\n",
        "\n",
        "grid2 = [\n",
        "  [1,2,3],\n",
        "  [4,5,6]\n",
        "]\n",
        "\n",
        "print(min_path_sum(grid1))\n",
        "print(min_path_sum(grid2))"
      ],
      "execution_count": null,
      "outputs": [
        {
          "output_type": "stream",
          "name": "stdout",
          "text": [
            "7\n",
            "12\n"
          ]
        }
      ]
    },
    {
      "cell_type": "markdown",
      "metadata": {
        "id": "-YovGRwsG1gC"
      },
      "source": [
        "**18.Search in rotated sorted array**\n",
        "\n",
        "![image.png](data:image/png;base64,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)"
      ]
    },
    {
      "cell_type": "code",
      "metadata": {
        "id": "AdL8iji1G68E"
      },
      "source": [
        "# Formula: If a sorted array is shifted, if you take the middle, always one side will be sorted. Take the recursion according to that rule.\n",
        "\n",
        "# 1- take the middle and compare with target, if matches return.\n",
        "# 2- if middle is bigger than left side, it means left is sorted\n",
        "# 2a- if [left] < target < [middle] then do recursion with left, middle - 1 (right)\n",
        "# 2b- left side is sorted, but target not in here, search on right side middle + 1 (left), right\n",
        "# 3- if middle is less than right side, it means right is sorted\n",
        "# 3a- if [middle] < target < [right] then do recursion with middle + 1 (left), right\n",
        "# 3b- right side is sorted, but target not in here, search on left side left, middle -1 (right)\n",
        "\n",
        "def search(nums: List[int], target: int) -> int:\n",
        "  \"\"\"\n",
        "  Rule of thumb: If a sorted array is shifted, if you take the middle, \n",
        "  always one side will be sorted. Take the recursion according to that rule\n",
        "  \"\"\"\n",
        "\n",
        "  low, high = 0, len(nums) - 1\n",
        "\n",
        "  while low <= high:\n",
        "      \n",
        "      mid = low + (high-low) // 2\n",
        "      print(f\"low {low}, high {high}, mid {mid}\")\n",
        "            \n",
        "      # 1- take the middle and compare with target, if matches return.\n",
        "      if nums[mid] == target:\n",
        "          return mid\n",
        "      \n",
        "      # 2- if middle is bigger than left side, it means left is sorted\n",
        "      elif nums[low] <= nums[mid]:\n",
        "          if target >= nums[low] and target < nums[mid]:\n",
        "              high = mid - 1\n",
        "          else:\n",
        "              low = mid + 1\n",
        "      # 3- if middle is lower than left side, it means right is sorted\n",
        "      else:\n",
        "          if target > nums[mid] and target <= nums[high]:\n",
        "              low = mid + 1\n",
        "          else:\n",
        "              high = mid - 1\n",
        "  return -1\n"
      ],
      "execution_count": null,
      "outputs": []
    },
    {
      "cell_type": "code",
      "metadata": {
        "id": "IMWJzbTsLAw8",
        "colab": {
          "base_uri": "https://localhost:8080/"
        },
        "outputId": "2d9efb59-9d7e-47de-8cab-20f89eb46d5d"
      },
      "source": [
        "nums1 = [4,5,6,7,0,1,2]\n",
        "target1 = 0\n",
        "\n",
        "nums2 = [4,5,6,7,0,1,2]\n",
        "target2 = 3\n",
        "\n",
        "nums3 = [1]\n",
        "target3 = 0\n",
        "\n",
        "print(search(nums1, target1))\n",
        "print(search(nums2, target2))\n",
        "print(search(nums3, target3))\n"
      ],
      "execution_count": null,
      "outputs": [
        {
          "output_type": "stream",
          "name": "stdout",
          "text": [
            "low 0, high 6, mid 3\n",
            "low 4, high 6, mid 5\n",
            "low 4, high 4, mid 4\n",
            "4\n",
            "low 0, high 6, mid 3\n",
            "low 4, high 6, mid 5\n",
            "low 6, high 6, mid 6\n",
            "-1\n",
            "low 0, high 0, mid 0\n",
            "-1\n"
          ]
        }
      ]
    },
    {
      "cell_type": "markdown",
      "metadata": {
        "id": "FBcgaOF4b7FY"
      },
      "source": [
        "**19. Construct binary search tree from preoder traversal**\n",
        "\n",
        "![image.png](data:image/png;base64,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)"
      ]
    },
    {
      "cell_type": "code",
      "metadata": {
        "id": "qKwrygQZbqh4"
      },
      "source": [
        "from typing import List\n",
        "\n",
        "class TreeNode:\n",
        "    def __init__(self, val=0, left=None, right=None):\n",
        "        self.val = val\n",
        "        self.left = left\n",
        "        self.right = right\n",
        "\n",
        "def bst_from_preorder(preorder: List[int]):\n",
        "    if not preorder:\n",
        "        return None\n",
        "    node = TreeNode(preorder[0])\n",
        "    # Find right side - the first node that's larger than root\n",
        "    right = 1\n",
        "    while right < len(preorder):\n",
        "        if preorder[right] > preorder[0]:\n",
        "            # Found our right side\n",
        "            break\n",
        "        right += 1\n",
        "    node.left = bst_from_preorder(preorder[1:right])\n",
        "    node.right = bst_from_preorder(preorder[right:])\n",
        "    return node\n",
        "\n",
        "\n",
        "def level_order_traversal(root):\n",
        "  \"\"\"\n",
        "    Traverse tree by tree level\n",
        "  \"\"\"\n",
        "  nodes = []\n",
        "  stack = [root]\n",
        "  while stack:\n",
        "    # Pop first element from a tree\n",
        "    node = stack.pop(0)\n",
        "    # Append node value to thre result \n",
        "    nodes.append(node.val if node else None)\n",
        "    if node and (node.left or node.right):\n",
        "        stack.extend([node.left, node.right])\n",
        "  return nodes"
      ],
      "execution_count": null,
      "outputs": []
    },
    {
      "cell_type": "code",
      "metadata": {
        "id": "dr1L6z3alB8U",
        "colab": {
          "base_uri": "https://localhost:8080/"
        },
        "outputId": "eff658a0-74b8-47ac-a376-11357957d1ea"
      },
      "source": [
        "preorder = [8,5,1,7,10,12]\n",
        "\n",
        "tree = bst_from_preorder(preorder)\n",
        "print(level_order_traversal(tree))"
      ],
      "execution_count": null,
      "outputs": [
        {
          "output_type": "stream",
          "name": "stdout",
          "text": [
            "[8, 5, 10, 1, 7, None, 12]\n"
          ]
        }
      ]
    },
    {
      "cell_type": "markdown",
      "metadata": {
        "id": "D2HFi34Ck-A9"
      },
      "source": [
        "**20. Leftmost column with atleast a one**\n",
        "\n",
        "(This problem is an interactive problem.)\n",
        "\n",
        "A row-sorted binary matrix means that all elements are 0 or 1 and each row of the matrix is sorted in non-decreasing order.\n",
        "\n",
        "Given a row-sorted binary matrix binaryMatrix, return the index (0-indexed) of the leftmost column with a 1 in it. If such an index does not exist, return -1.\n",
        "\n",
        "You can't access the Binary Matrix directly. You may only access the matrix using a BinaryMatrix interface:\n",
        "\n",
        "    BinaryMatrix.get(row, col) returns the element of the matrix at index (row, col) (0-indexed).\n",
        "    BinaryMatrix.dimensions() returns the dimensions of the matrix as a list of 2 elements [rows, cols], which means the matrix is rows x cols.\n",
        "\n",
        "Submissions making more than 1000 calls to BinaryMatrix.get will be judged Wrong Answer. Also, any solutions that attempt to circumvent the judge will result in disqualification.\n",
        "\n",
        "For custom testing purposes, the input will be the entire binary matrix mat. You will not have access to the binary matrix directly.\n",
        "\n",
        "![image.png](data:image/png;base64,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)"
      ]
    },
    {
      "cell_type": "code",
      "metadata": {
        "id": "kmJIZIoErglp"
      },
      "source": [
        "from typing import List\n",
        "\n",
        "def left_most_column_with_one(matrix: List[List[int]]) -> int:\n",
        "  result = -1\n",
        "  row = len(matrix) - 1\n",
        "  column = len(matrix[0]) - 1\n",
        "  while row >= 0 and column >= 0:\n",
        "    # if column has value 1 iterate over column \n",
        "    if matrix[row][column] == 1:\n",
        "      result = column\n",
        "      column -= 1\n",
        "    else:\n",
        "      # Otherwise moved up to the next row\n",
        "      row -= 1\n",
        "  return result "
      ],
      "execution_count": null,
      "outputs": []
    },
    {
      "cell_type": "code",
      "metadata": {
        "id": "VevwqSINu-TJ",
        "colab": {
          "base_uri": "https://localhost:8080/"
        },
        "outputId": "3a66f69f-889a-4601-b8ab-b85b92341530"
      },
      "source": [
        "matrix1 = [[0,0],[1,1]]\n",
        "matrix2 = [[0,0],[0,1]]\n",
        "matrix3 = [[0,0],[0,0]]\n",
        "matrix4 = [[0,0,0,1],[0,0,1,1],[0,1,1,1]]\n",
        "\n",
        "print(f'Output: {left_most_column_with_one(matrix1):>2}')\n",
        "print(f'Output: {left_most_column_with_one(matrix2):>2}')\n",
        "print(f'Output: {left_most_column_with_one(matrix3):>2}')\n",
        "print(f'Output: {left_most_column_with_one(matrix4):>2}')"
      ],
      "execution_count": null,
      "outputs": [
        {
          "output_type": "stream",
          "name": "stdout",
          "text": [
            "Output:  0\n",
            "Output:  1\n",
            "Output: -1\n",
            "Output:  1\n"
          ]
        }
      ]
    },
    {
      "cell_type": "markdown",
      "metadata": {
        "id": "3uqbZTszwMqG"
      },
      "source": [
        "**21. Subarray sum equals K**\n",
        "\n",
        "Given an array of integers nums and an integer k, return the total number of continuous subarrays whose sum equals to k.\n",
        "\n",
        "![image.png](data:image/png;base64,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)"
      ]
    },
    {
      "cell_type": "code",
      "metadata": {
        "id": "P0cJ7Xph2ST2"
      },
      "source": [
        "# Logic\n",
        "# Iterate over the array and keep a track of sum of all the encountered elements (prefix sum). Let's call it as currentSum. Whenever, we find currentSum == k, we have found a required subarray.\n",
        "# While iterating, also keep a track of all the currentSum which is calculated. This is done because at any point if currentSum exceeds k then we can check whether currentSum - k has already been found or not. \n",
        "# If it does then we have found more subarrays.\n",
        "\n",
        "def subarray_sum(array: List[int], k: int):\n",
        "  current_sum = 0\n",
        "  subarrays_count = 0 \n",
        "  hashmap = {}\n",
        "  for num in array:\n",
        "    current_sum += num\n",
        "    if current_sum == k:\n",
        "      subarrays_count += 1\n",
        "    if current_sum - k in hashmap:\n",
        "      subarrays_count += hashmap[current_sum - k]\n",
        "\n",
        "    if current_sum in hashmap:\n",
        "      hashmap[current_sum] += 1\n",
        "    else:\n",
        "      hashmap[current_sum] = 1\n",
        "  return subarrays_count"
      ],
      "execution_count": null,
      "outputs": []
    },
    {
      "cell_type": "code",
      "metadata": {
        "id": "IzwKXpSz3QkH",
        "colab": {
          "base_uri": "https://localhost:8080/"
        },
        "outputId": "78771d6e-cf62-48ef-d493-d7d38c815625"
      },
      "source": [
        "array1 = [1,1,1]\n",
        "k1 = 2\n",
        "\n",
        "array2 = [1,2,3]\n",
        "k2 = 3\n",
        "\n",
        "print(f'Output: {subarray_sum(array1, k1)}')\n",
        "print(f'Output: {subarray_sum(array2, k2)}')"
      ],
      "execution_count": null,
      "outputs": [
        {
          "output_type": "stream",
          "name": "stdout",
          "text": [
            "Output: 2\n",
            "Output: 2\n"
          ]
        }
      ]
    },
    {
      "cell_type": "markdown",
      "metadata": {
        "id": "8aeTOb4728Nv"
      },
      "source": [
        "**22.Bitwise and of Numbers Range**\n",
        "\n",
        "![image.png](data:image/png;base64,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)"
      ]
    },
    {
      "cell_type": "code",
      "metadata": {
        "id": "wDlhKyL23DKw"
      },
      "source": [
        "def range_bitwise_and(m: int, n: int) -> int:\n",
        "  shift = 0   \n",
        "  # find the common 1-bits\n",
        "  while m != n:\n",
        "      m = m >> 1\n",
        "      n = n >> 1\n",
        "      shift += 1\n",
        "  return m << shift"
      ],
      "execution_count": null,
      "outputs": []
    },
    {
      "cell_type": "code",
      "metadata": {
        "colab": {
          "base_uri": "https://localhost:8080/"
        },
        "id": "vMe5pgKB9Vnj",
        "outputId": "d4e540ee-d57c-4a4e-d826-3d7891d028fc"
      },
      "source": [
        "print(range_bitwise_and(9, 12))\n",
        "print(range_bitwise_and(5, 7))\n",
        "print(range_bitwise_and(0, 0))\n",
        "print(range_bitwise_and(1, 2147483647))"
      ],
      "execution_count": null,
      "outputs": [
        {
          "output_type": "stream",
          "name": "stdout",
          "text": [
            "8\n",
            "4\n",
            "0\n",
            "0\n"
          ]
        }
      ]
    },
    {
      "cell_type": "markdown",
      "metadata": {
        "id": "rClZO7Ru-1wp"
      },
      "source": [
        "**23.LRU cache**\n",
        "\n",
        "Design a data structure that follows the constraints of a Least Recently Used (LRU) cache.\n",
        "\n",
        "Implement the LRUCache class:\n",
        "\n",
        "    LRUCache(int capacity) Initialize the LRU cache with positive size capacity.\n",
        "    int get(int key) Return the value of the key if the key exists, otherwise return -1.\n",
        "    void put(int key, int value) Update the value of the key if the key exists. Otherwise, add the key-value pair to the cache. If the number of keys exceeds the capacity from this operation, evict the least recently used key.\n",
        "\n",
        "The functions get and put must each run in O(1) average time complexity.\n",
        "\n",
        "\n",
        "Example 1:\n",
        "```\n",
        "Input\n",
        "[\"LRUCache\", \"put\", \"put\", \"get\", \"put\", \"get\", \"put\", \"get\", \"get\", \"get\"]\n",
        "[[2], [1, 1], [2, 2], [1], [3, 3], [2], [4, 4], [1], [3], [4]]\n",
        "Output\n",
        "[null, null, null, 1, null, -1, null, -1, 3, 4]\n",
        "\n",
        "Explanation\n",
        "LRUCache lRUCache = new LRUCache(2);\n",
        "lRUCache.put(1, 1); // cache is {1=1}\n",
        "lRUCache.put(2, 2); // cache is {1=1, 2=2}\n",
        "lRUCache.get(1);    // return 1\n",
        "lRUCache.put(3, 3); // LRU key was 2, evicts key 2, cache is {1=1, 3=3}\n",
        "lRUCache.get(2);    // returns -1 (not found)\n",
        "lRUCache.put(4, 4); // LRU key was 1, evicts key 1, cache is {4=4, 3=3}\n",
        "lRUCache.get(1);    // return -1 (not found)\n",
        "lRUCache.get(3);    // return 3\n",
        "lRUCache.get(4);    // return 4\n",
        "```\n",
        "\n"
      ]
    },
    {
      "cell_type": "code",
      "metadata": {
        "id": "10lz-PrT-6m6"
      },
      "source": [
        "from collections import OrderedDict\n",
        "\n",
        "class LRUCache:\n",
        "\n",
        "  def __init__(self, capacity: int):\n",
        "    self.capacity = capacity\n",
        "    self.hashmap = OrderedDict()\n",
        "\n",
        "  def get(self, key: int) -> int:\n",
        "    \"\"\"\n",
        "      Get the key of the cache\n",
        "    \"\"\"\n",
        "    # Check if key is already in OrderedDictioanry and move it to the end\n",
        "    # as the most recent\n",
        "    if key in self.hashmap:\n",
        "      self.hashmap.move_to_end(key)\n",
        "      return self.hashmap[key]\n",
        "    return -1\n",
        "\n",
        "  def put(self, key: int, value: int) -> None:\n",
        "    \"\"\"\n",
        "      Insert value to the cache\n",
        "    \"\"\"\n",
        "    # Check if key is already in OrderedDictioanry and move it to the end\n",
        "    # as the most recent\n",
        "    if key in self.hashmap:\n",
        "      self.hashmap.move_to_end(key)\n",
        "    self.hashmap[key] = value\n",
        "    # if hashmap exceeds the capacity remove the least frequent element\n",
        "    if len(self.hashmap) > self.capacity:    \n",
        "      self.hashmap.popitem(last=False)"
      ],
      "execution_count": null,
      "outputs": []
    },
    {
      "cell_type": "code",
      "metadata": {
        "colab": {
          "base_uri": "https://localhost:8080/"
        },
        "id": "SaBho1MiA6Ia",
        "outputId": "f5e10543-d9fc-4d24-86be-0cbb98b61090"
      },
      "source": [
        "lru_cache = LRUCache(2)\n",
        "lru_cache.put(1, 1)\n",
        "lru_cache.put(2, 2)\n",
        "print(lru_cache.get(1))\n",
        "lru_cache.put(3, 3)\n",
        "print(lru_cache.get(2))\n",
        "lru_cache.put(4, 4)\n",
        "print(lru_cache.get(1))\n",
        "print(lru_cache.get(3))\n",
        "print(lru_cache.get(4))\n",
        "print(lru_cache.hashmap)"
      ],
      "execution_count": null,
      "outputs": [
        {
          "output_type": "stream",
          "name": "stdout",
          "text": [
            "1\n",
            "-1\n",
            "-1\n",
            "3\n",
            "4\n",
            "OrderedDict([(3, 3), (4, 4)])\n"
          ]
        }
      ]
    },
    {
      "cell_type": "markdown",
      "metadata": {
        "id": "XLI1ora0Eg2A"
      },
      "source": [
        "**24.Jump game**\n",
        "\n",
        "You are given an integer array nums. You are initially positioned at the array's first index, and each element in the array represents your maximum jump length at that position.\n",
        "\n",
        "Return true if you can reach the last index, or false otherwise.\n",
        "\n",
        "Example 1:\n",
        "```\n",
        "Input: nums = [2,3,1,1,4]\n",
        "Output: true\n",
        "Explanation: Jump 1 step from index 0 to 1, then 3 steps to the last index.\n",
        "```\n",
        "Example 2:\n",
        "```\n",
        "Input: nums = [3,2,1,0,4]\n",
        "Output: false\n",
        "Explanation: You will always arrive at index 3 no matter what. Its maximum jump length is 0, which makes it impossible to reach the last index.\n",
        "```\n",
        "\n",
        "\n"
      ]
    },
    {
      "cell_type": "code",
      "metadata": {
        "id": "uz5MdJfgMayv"
      },
      "source": [
        "def can_jump(nums: list) -> bool:\n",
        "  reachable = 0\n",
        "\n",
        "  for indx, num in enumerate(nums):\n",
        "    # Iterate over each element and get the most reachable element \n",
        "    if reachable < indx:\n",
        "      return False\n",
        "    reachable = max(reachable, indx + nums[indx])\n",
        "  return True"
      ],
      "execution_count": null,
      "outputs": []
    },
    {
      "cell_type": "code",
      "metadata": {
        "colab": {
          "base_uri": "https://localhost:8080/"
        },
        "id": "DArtu8cINMNM",
        "outputId": "cc94f59e-2c14-41fa-f643-3a0bf2f4278a"
      },
      "source": [
        "nums1 = [2,3,1,1,4]\n",
        "nums2 = [3,2,1,0,4]\n",
        "\n",
        "print(can_jump(nums1))\n",
        "print(can_jump(nums2))"
      ],
      "execution_count": null,
      "outputs": [
        {
          "output_type": "stream",
          "name": "stdout",
          "text": [
            "True\n",
            "False\n"
          ]
        }
      ]
    },
    {
      "cell_type": "markdown",
      "metadata": {
        "id": "ySrpO3LvBr-C"
      },
      "source": [
        "**25.Longest common subsequence**\n",
        "\n",
        "Given two strings text1 and text2, return the length of their longest common subsequence. If there is no common subsequence, return 0.\n",
        "\n",
        "A subsequence of a string is a new string generated from the original string with some characters (can be none) deleted without changing the relative order of the remaining characters.\n",
        "\n",
        "    For example, \"ace\" is a subsequence of \"abcde\".\n",
        "\n",
        "A common subsequence of two strings is a subsequence that is common to both strings.\n",
        "\n",
        "![image.png](data:image/png;base64,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)"
      ]
    },
    {
      "cell_type": "code",
      "metadata": {
        "id": "8r8H6tfnBuh-"
      },
      "source": [
        "# DP solution O(N^2)\n",
        "\n",
        "def longest_common_subseq(text1: str, text2: str) -> int:\n",
        "  \"\"\"\n",
        "    Find the longest common subsequence\n",
        "  \"\"\"\n",
        "  length_text1 = len(text1)\n",
        "  length_text2 = len(text2)\n",
        "  # Generate empty DP table\n",
        "  table = [[0 for i in range(length_text2+1)]for j in range(length_text1+1)]\n",
        "\n",
        "  for row in range(1, length_text1+1):\n",
        "    for column in range(1, length_text2+1):\n",
        "\n",
        "      if text1[row-1] == text2[column-1]:\n",
        "        # Get the value frm the diagonal above + 1\n",
        "        table[row][column] = 1 + table[row-1][column-1]\n",
        "      else:\n",
        "        # In case, characters doesn't match, get the max value of\n",
        "        # up and right value in the DP table \n",
        "        table[row][column] = max(table[row-1][column], table[row][column-1])\n",
        "  return table[-1][-1]"
      ],
      "execution_count": 10,
      "outputs": []
    },
    {
      "cell_type": "code",
      "metadata": {
        "id": "LRtXxGoxL2JI",
        "outputId": "859a7e8b-15a9-4823-f4be-e8ba185fefb5",
        "colab": {
          "base_uri": "https://localhost:8080/"
        }
      },
      "source": [
        "print(longest_common_subseq(text1=\"abcde\", text2=\"ace\"))\n",
        "print(longest_common_subseq(text1 = \"abc\", text2 = \"abc\"))\n",
        "print(longest_common_subseq(text1 = \"abc\", text2 = \"def\"))"
      ],
      "execution_count": 9,
      "outputs": [
        {
          "output_type": "stream",
          "name": "stdout",
          "text": [
            "3\n",
            "3\n",
            "0\n"
          ]
        }
      ]
    },
    {
      "cell_type": "markdown",
      "metadata": {
        "id": "4IJC4iOpMl7-"
      },
      "source": [
        "**26.Maximal square**\n",
        "\n",
        "Given an m x n binary matrix filled with 0's and 1's, find the largest square containing only 1's and return its area.\n",
        "\n",
        "![image.png](data:image/png;base64,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)"
      ]
    },
    {
      "cell_type": "code",
      "metadata": {
        "id": "t4rXmr6kMuwT"
      },
      "source": [
        "from typing import List\n",
        "\n",
        "def max_square(matrix: List[List[str]])-> List[int]:\n",
        "  if not matrix or not matrix[0]:\n",
        "    return 0\n",
        "\n",
        "  row_size = len(matrix)\n",
        "  column_size = len(matrix[0])\n",
        "  largest = 0\n",
        "\n",
        "  # Initialize DP table\n",
        "  dp = [[0 for j in range(column_size+1)] for i in range(row_size+1)]\n",
        "\n",
        "  # Iterate over each row and column\n",
        "  for row in range(1,row_size+1):\n",
        "    for column in range(column_size+1):\n",
        "      # if up in the diagonal is equal 1 then compare the value in 3 direction\n",
        "      if matrix[row-1][column-1] == \"1\":\n",
        "        dp[row][column] = 1 + min(dp[row-1][column], dp[row][column-1],\n",
        "                                  dp[row-1][column-1])\n",
        "        largest = dp[row][column] if largest < dp[row][column] else largest\n",
        "  return largest * largest\n"
      ],
      "execution_count": 27,
      "outputs": []
    },
    {
      "cell_type": "code",
      "metadata": {
        "id": "m-A6eq5hSGYg",
        "outputId": "97ade201-4e34-435d-f851-e9b151b8a11b",
        "colab": {
          "base_uri": "https://localhost:8080/"
        }
      },
      "source": [
        "matrix1 = [[\"0\",\"1\"],[\"1\",\"0\"]]\n",
        "matrix2 = [[\"1\",\"0\",\"1\",\"0\",\"0\"],[\"1\",\"0\",\"1\",\"1\",\"1\"],[\"1\",\"1\",\"1\",\"1\",\"1\"],[\"1\",\"0\",\"0\",\"1\",\"0\"]]\n",
        "matrix3 = []\n",
        "matrix4 = [[], []]\n",
        "\n",
        "print(max_square(matrix1))\n",
        "print(max_square(matrix2))\n",
        "print(max_square(matrix3))\n",
        "print(max_square(matrix4))\n"
      ],
      "execution_count": 26,
      "outputs": [
        {
          "output_type": "stream",
          "name": "stdout",
          "text": [
            "1\n",
            "4\n",
            "0\n",
            "0\n"
          ]
        }
      ]
    },
    {
      "cell_type": "markdown",
      "metadata": {
        "id": "tt_FTV-1UyfO"
      },
      "source": [
        "**27.First unique number**\n",
        "\n",
        "You have a queue of integers, you need to retrieve the first unique integer in the queue.\n",
        "\n",
        "Implement the FirstUnique class:\n",
        "\n",
        "    FirstUnique(int[] nums) Initializes the object with the numbers in the queue.\n",
        "    int showFirstUnique() returns the value of the first unique integer of the queue, and returns -1 if there is no such integer.\n",
        "    void add(int value) insert value to the queue.\n",
        "\n",
        "![image.png](data:image/png;base64,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)\n",
        "\n",
        "![image.png](data:image/png;base64,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)\n",
        "\n",
        "![image.png](data:image/png;base64,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)"
      ]
    },
    {
      "cell_type": "code",
      "metadata": {
        "id": "J7P9o3zCU4DA"
      },
      "source": [
        "class FirstUnique:\n",
        "  def __init__(self, nums: list):\n",
        "    self.nums = nums\n",
        "    self.queue = nums[:]\n",
        "    self.hashmap_count = dict()\n",
        "\n",
        "    for num in nums:\n",
        "      if self.hashmap_count.get(num):\n",
        "        self.hashmap_count[num] += 1\n",
        "      else:\n",
        "        self.hashmap_count[num] = 1\n",
        "\n",
        "  def show_first_unique(self):\n",
        "    \"\"\"\n",
        "      Return first unique value in an array\n",
        "    \"\"\"\n",
        "    while self.queue:\n",
        "      if self.hashmap_count[self.queue[0]] > 1:\n",
        "        self.queue.pop(0)\n",
        "        continue\n",
        "      return self.queue[0]\n",
        "    return -1\n",
        "\n",
        "  def add_num(self, value: int) -> None:\n",
        "    self.nums.append(value)\n",
        "    if self.hashmap_count.get(value):\n",
        "      self.hashmap_count[value] += 1\n",
        "    else:\n",
        "      self.hashmap_count[value] = 1\n",
        "      self.queue.append(value)"
      ],
      "execution_count": 39,
      "outputs": []
    },
    {
      "cell_type": "code",
      "metadata": {
        "id": "0GywAZZ9bRtp",
        "outputId": "8122fe2b-b174-43a4-b683-14067d5304b0",
        "colab": {
          "base_uri": "https://localhost:8080/"
        }
      },
      "source": [
        "first_unique = FirstUnique([2,3,5])\n",
        "print(first_unique.show_first_unique())\n",
        "first_unique.add_num(5)\n",
        "print(first_unique.show_first_unique())\n",
        "first_unique.add_num(2)\n",
        "print(first_unique.show_first_unique())\n",
        "first_unique.add_num(3)\n",
        "print(first_unique.show_first_unique())"
      ],
      "execution_count": 44,
      "outputs": [
        {
          "output_type": "stream",
          "name": "stdout",
          "text": [
            "2\n",
            "2\n",
            "3\n",
            "-1\n"
          ]
        }
      ]
    },
    {
      "cell_type": "code",
      "metadata": {
        "id": "pkX0aTQ2aCJh",
        "outputId": "50e2cf32-b98b-47a0-d1a4-da028a99a7dc",
        "colab": {
          "base_uri": "https://localhost:8080/"
        }
      },
      "source": [
        "first_unique = FirstUnique([7,7,7,7,7,7])\n",
        "print(first_unique.show_first_unique())\n",
        "first_unique.add_num(7)\n",
        "first_unique.add_num(3)\n",
        "first_unique.add_num(3)\n",
        "first_unique.add_num(7)\n",
        "first_unique.add_num(17)\n",
        "print(first_unique.show_first_unique())"
      ],
      "execution_count": 42,
      "outputs": [
        {
          "output_type": "stream",
          "name": "stdout",
          "text": [
            "-1\n",
            "17\n"
          ]
        }
      ]
    },
    {
      "cell_type": "code",
      "metadata": {
        "id": "yir5XWaybIOi",
        "outputId": "7d22deb0-a682-4046-92b5-a15057b5ca4d",
        "colab": {
          "base_uri": "https://localhost:8080/"
        }
      },
      "source": [
        "first_unique = FirstUnique([809])\n",
        "print(first_unique.show_first_unique())\n",
        "first_unique.add_num(809)\n",
        "print(first_unique.show_first_unique())"
      ],
      "execution_count": 43,
      "outputs": [
        {
          "output_type": "stream",
          "name": "stdout",
          "text": [
            "809\n",
            "-1\n"
          ]
        }
      ]
    }
  ]
}