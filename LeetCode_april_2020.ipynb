{
  "nbformat": 4,
  "nbformat_minor": 0,
  "metadata": {
    "colab": {
      "name": "LeetCode_april_2020.ipynb",
      "provenance": [],
      "authorship_tag": "ABX9TyMl+lVFHpWrxDln0dblr1nE",
      "include_colab_link": true
    },
    "kernelspec": {
      "name": "python3",
      "display_name": "Python 3"
    },
    "language_info": {
      "name": "python"
    }
  },
  "cells": [
    {
      "cell_type": "markdown",
      "metadata": {
        "id": "view-in-github",
        "colab_type": "text"
      },
      "source": [
        "<a href=\"https://colab.research.google.com/github/DSNortsev/Algorithms/blob/master/LeetCode_april_2020.ipynb\" target=\"_parent\"><img src=\"https://colab.research.google.com/assets/colab-badge.svg\" alt=\"Open In Colab\"/></a>"
      ]
    },
    {
      "cell_type": "markdown",
      "metadata": {
        "id": "9zkfmT65Sjf5"
      },
      "source": [
        "**TECH DOSE**\n",
        "\n",
        "Types of DP:\n",
        "* Knapsack (O/1, Bounded, Unbounded)\n",
        "* LCS (Longest Common Subsequence)\n",
        "* LIS (Longest Increasing Subsequence)\n",
        "* Matrix chain multiplication \n",
        "* DP on grid\n",
        "* Kadane's Algorithm\n",
        "* Others"
      ]
    },
    {
      "cell_type": "markdown",
      "metadata": {
        "id": "oW9-Pi1Hmgfy"
      },
      "source": [
        "**1. Single number**"
      ]
    },
    {
      "cell_type": "code",
      "metadata": {
        "colab": {
          "base_uri": "https://localhost:8080/"
        },
        "id": "bOT6phxASQUI",
        "outputId": "ab9014ea-d6c1-4f6e-b5b8-69451b41b189"
      },
      "source": [
        "numbers = [2, 4, 2, 4 , 3, 5]\n",
        "\n",
        "def single_number(numbers):\n",
        "  result = []\n",
        "  count_duplicates = {}\n",
        "  for number in numbers:\n",
        "    if count_duplicates.get(number):\n",
        "      count_duplicates[number] += 1\n",
        "    else:\n",
        "      count_duplicates[number] = 1\n",
        "  \n",
        "  for k, v in count_duplicates.items():\n",
        "      if v == 1:\n",
        "        result.append(k)\n",
        "  return result\n",
        "\n",
        "\n",
        "single_number(numbers)"
      ],
      "execution_count": null,
      "outputs": [
        {
          "output_type": "execute_result",
          "data": {
            "text/plain": [
              "[3, 5]"
            ]
          },
          "metadata": {},
          "execution_count": 18
        }
      ]
    },
    {
      "cell_type": "markdown",
      "metadata": {
        "id": "Odzo2xWry4ax"
      },
      "source": [
        "**2. Happy Number** \n"
      ]
    },
    {
      "cell_type": "code",
      "metadata": {
        "colab": {
          "base_uri": "https://localhost:8080/"
        },
        "id": "0KBZ6sLzSjBP",
        "outputId": "542bbbae-515b-45b4-e528-29c57acf5452"
      },
      "source": [
        "def is_happy(number):\n",
        "  seen_number = set()\n",
        "\n",
        "  while True:\n",
        "      total_sum = 0\n",
        "      value = 0\n",
        "      while number > 0:\n",
        "        number, digit  = divmod(number, 10)\n",
        "        total_sum += digit ** 2\n",
        "      \n",
        "      if total_sum == 1:\n",
        "        return True\n",
        "      elif total_sum in seen_number:\n",
        "        return False\n",
        "      seen_number.add(total_sum)\n",
        "      number = total_sum\n",
        "\n",
        "\n",
        "print(is_happy(19))\n",
        "print(is_happy(25))"
      ],
      "execution_count": null,
      "outputs": [
        {
          "output_type": "stream",
          "name": "stdout",
          "text": [
            "True\n",
            "False\n"
          ]
        }
      ]
    },
    {
      "cell_type": "markdown",
      "metadata": {
        "id": "VU3AKh1I4vc1"
      },
      "source": [
        "**3. Longest Sum contiguous subarray**"
      ]
    },
    {
      "cell_type": "code",
      "metadata": {
        "colab": {
          "base_uri": "https://localhost:8080/"
        },
        "id": "RMi2uIi644Ta",
        "outputId": "f8af28a4-d43e-4047-89ee-e8005a8f7488"
      },
      "source": [
        "def longest_contiguous_subarray(array):\n",
        "  max_end = 0\n",
        "  max_total = float('-inf')\n",
        "\n",
        "  for element in array:\n",
        "    max_end = max_end + element\n",
        "    if max_end < element:\n",
        "      max_end = element\n",
        "    if max_total < max_end:\n",
        "      max_total = max_end\n",
        "  return max_total\n",
        "\n",
        "longest_contiguous_subarray([-2,-3, 4, -1, -2, 1, 5, -3])"
      ],
      "execution_count": null,
      "outputs": [
        {
          "output_type": "execute_result",
          "data": {
            "text/plain": [
              "7"
            ]
          },
          "metadata": {},
          "execution_count": 62
        }
      ]
    },
    {
      "cell_type": "markdown",
      "metadata": {
        "id": "oQy0UMvRH6lj"
      },
      "source": [
        "**4. Move Zeroes**\n",
        "Move all zeros to the right \n",
        "\n",
        "Example:\n",
        "Input: [1, 0, 3, 0, 12]\n",
        "\n",
        "Output: [1, 3, 12, 0, 0]"
      ]
    },
    {
      "cell_type": "code",
      "metadata": {
        "id": "b5YGs2AGIBR9"
      },
      "source": [
        "def move_zeroes(array: list) -> list:\n",
        "  \"\"\"\n",
        "    Move all zeros to the right\n",
        "  \"\"\"\n",
        "  elm_count = len(array)\n",
        "  # left is pointer to last zero\n",
        "  # right is moving towards the end =\n",
        "  left, right = 0, 0\n",
        "  \n",
        "  if elm_count in (0,1):\n",
        "      return array\n",
        "\n",
        "  while right < elm_count:\n",
        "    if array[right] == 0:\n",
        "      right += 1\n",
        "    else:\n",
        "      array[left], array[right] = array[right], array[left]\n",
        "      right += 1\n",
        "      left += 1\n",
        "  return array "
      ],
      "execution_count": null,
      "outputs": []
    },
    {
      "cell_type": "code",
      "metadata": {
        "colab": {
          "base_uri": "https://localhost:8080/"
        },
        "id": "UTUcDPjAKsIn",
        "outputId": "d7537919-7cc1-4543-be2e-a98f6571a6c2"
      },
      "source": [
        "array1 = [1, 0, 3, 0, 12]\n",
        "array3 = [1]\n",
        "array2 = []\n",
        "\n",
        "print(move_zeroes(array1))\n",
        "print(move_zeroes(array2))\n",
        "print(move_zeroes(array3))"
      ],
      "execution_count": null,
      "outputs": [
        {
          "output_type": "stream",
          "name": "stdout",
          "text": [
            "[1, 3, 12, 0, 0]\n",
            "[]\n",
            "[1]\n"
          ]
        }
      ]
    },
    {
      "cell_type": "markdown",
      "metadata": {
        "id": "2pfyEYWFMSct"
      },
      "source": [
        "**5. Best time to buy and sekk stock**\n",
        "\n",
        "You can buy and sell or skip stocks \n",
        "\n",
        "Exmaple:\n",
        "\n",
        "Input: [7, 1, 5, 3, 6, 4]\n",
        "\n",
        "Output: 7\n",
        "\n"
      ]
    },
    {
      "cell_type": "code",
      "metadata": {
        "id": "bcpC98hUMYbE"
      },
      "source": [
        "def max_profit(prices: list) -> int:\n",
        "  \"\"\"\n",
        "    Calculate the max profit by buying, selling or skipping the stocks.\n",
        "    The stock can;t be bought or sold at the same day.\n",
        "  \"\"\"\n",
        "  total_profit = 0\n",
        "  for indx in range(1,len(prices)):\n",
        "    if prices[indx] > prices[indx-1]:\n",
        "       total_profit += prices[indx] - prices[indx-1]\n",
        "  return total_profit"
      ],
      "execution_count": null,
      "outputs": []
    },
    {
      "cell_type": "code",
      "metadata": {
        "colab": {
          "base_uri": "https://localhost:8080/"
        },
        "id": "uswCFoB5QrUA",
        "outputId": "2d6b4239-5e63-4e47-9d42-ab61bfd9a514"
      },
      "source": [
        "# we can not sell on 7 and buy on 4\n",
        "# (5 - 1) + (6 - 3) = 7\n",
        "prices1 = [7, 1, 5, 3, 6, 4]\n",
        "prices2 = [1, 2, 3, 4, 5]\n",
        "prices3 = [5, 4, 3, 2, 1]\n",
        "\n",
        "print(max_profit(prices1))\n",
        "print(max_profit(prices2))\n",
        "print(max_profit(prices3))"
      ],
      "execution_count": null,
      "outputs": [
        {
          "output_type": "stream",
          "name": "stdout",
          "text": [
            "7\n",
            "4\n",
            "0\n"
          ]
        }
      ]
    },
    {
      "cell_type": "markdown",
      "metadata": {
        "id": "aMELpLoERnr3"
      },
      "source": [
        "**6. Group Anagrams**\n",
        "\n",
        "eat and tea are anagrams"
      ]
    },
    {
      "cell_type": "code",
      "metadata": {
        "id": "zTdAQJhPRt6e"
      },
      "source": [
        "def group_anagrams(words: list) -> list:\n",
        "  anagrams = {}\n",
        "  for word in words:\n",
        "    sorted_letters = \"\".join(sorted(word))\n",
        "    if anagrams.get(sorted_letters):\n",
        "      anagrams[sorted_letters].append(word)\n",
        "    else:\n",
        "      anagrams[sorted_letters] = [word]\n",
        "  \n",
        "  return list(anagrams.values())"
      ],
      "execution_count": null,
      "outputs": []
    },
    {
      "cell_type": "code",
      "metadata": {
        "colab": {
          "base_uri": "https://localhost:8080/"
        },
        "id": "UbjOOU1dUoWf",
        "outputId": "e7ab455b-dff2-4ca5-909a-239517cec345"
      },
      "source": [
        "words = ['eat', 'tea', 'tan', 'ate', 'nat', 'bat']\n",
        "print(group_anagrams(words))"
      ],
      "execution_count": null,
      "outputs": [
        {
          "output_type": "stream",
          "name": "stdout",
          "text": [
            "[['eat', 'tea', 'ate'], ['tan', 'nat'], ['bat']]\n"
          ]
        }
      ]
    },
    {
      "cell_type": "markdown",
      "metadata": {
        "id": "VUXg6s0rWMlO"
      },
      "source": [
        "**7. Counting elements**\n",
        "\n",
        "Counting numnber of x of (x+1) is present in an array."
      ]
    },
    {
      "cell_type": "code",
      "metadata": {
        "id": "YiOtLd5MWR4B"
      },
      "source": [
        "def count_elements(numbers: list) -> int:\n",
        "  \"\"\"\n",
        "    Counting numnber of x of (x+1) is present in an array.\n",
        "  \"\"\"\n",
        "  total_count = len(numbers)\n",
        "  sorted_numbers = sorted(numbers)\n",
        "  left, right, count = 0, 1, 0\n",
        "\n",
        "  while right < total_count:\n",
        "    if sorted_numbers[right] == sorted_numbers[left] + 1:\n",
        "      count += right - left\n",
        "      left = right\n",
        "      right += 1\n",
        "    elif sorted_numbers[right] == sorted_numbers[left]:\n",
        "      right += 1\n",
        "    else:\n",
        "      left = right\n",
        "      right += 1\n",
        "  return count"
      ],
      "execution_count": null,
      "outputs": []
    },
    {
      "cell_type": "code",
      "metadata": {
        "colab": {
          "base_uri": "https://localhost:8080/"
        },
        "id": "42K7ZewJarIB",
        "outputId": "f958a523-80d5-4309-8f64-b880459494e9"
      },
      "source": [
        "numbers = [1, 3, 2, 3, 5, 0]\n",
        "# [0, 1, 2, 3, 3, 5], so count would be 3 which is 0-1, 1-2, 2-3\n",
        "print(count_elements(numbers))"
      ],
      "execution_count": null,
      "outputs": [
        {
          "output_type": "stream",
          "name": "stdout",
          "text": [
            "3\n"
          ]
        }
      ]
    },
    {
      "cell_type": "markdown",
      "metadata": {
        "id": "L-M0_qR1bNkN"
      },
      "source": [
        "**8. Middle of link list**\n",
        "\n"
      ]
    },
    {
      "cell_type": "code",
      "metadata": {
        "id": "zY53wXjebTFQ"
      },
      "source": [
        "def middle_of_link_list(array: list) -> list:\n",
        "  total_elements = len(array)\n",
        "\n",
        "  if total_elements <= 2:\n",
        "    return array\n",
        "  \n",
        "  indx = total_elements // 2\n",
        "  if total_elements % 2 == 0:\n",
        "    return [array[indx-1], array[indx]]\n",
        "  return [array[indx]]"
      ],
      "execution_count": null,
      "outputs": []
    },
    {
      "cell_type": "code",
      "metadata": {
        "colab": {
          "base_uri": "https://localhost:8080/"
        },
        "id": "t6rw3ABRcoJD",
        "outputId": "d4d9aed9-2c43-4917-b98e-1cec65f7a50d"
      },
      "source": [
        "print(middle_of_link_list([]))\n",
        "print(middle_of_link_list([1]))\n",
        "print(middle_of_link_list([1, 2]))\n",
        "print(middle_of_link_list([1,2,3]))\n",
        "print(middle_of_link_list([1,2,3,4]))"
      ],
      "execution_count": null,
      "outputs": [
        {
          "output_type": "stream",
          "name": "stdout",
          "text": [
            "[]\n",
            "[1]\n",
            "[1, 2]\n",
            "[2]\n",
            "[2, 3]\n"
          ]
        }
      ]
    },
    {
      "cell_type": "markdown",
      "metadata": {
        "id": "VDQlYEm3dbtF"
      },
      "source": [
        "**9.Backspcae string compare**\n",
        "\n",
        "\\# means backspace remoing an character\n",
        "\n",
        "ab#cd# = ac\n",
        "\n",
        "ac# = a"
      ]
    },
    {
      "cell_type": "code",
      "metadata": {
        "id": "wU1uRGridsPt"
      },
      "source": [
        "def backspace_string_compare(string1: str, string2: str) -> bool:\n",
        "  processed_str = {\n",
        "    \"result1\": '',\n",
        "    \"result2\": ''\n",
        "  }\n",
        "\n",
        "  for indx, string in enumerate([string1, string2],1):\n",
        "    for character in string:\n",
        "      if character.islower():\n",
        "        processed_str[f'result{indx}'] += character\n",
        "      else:\n",
        "        processed_str[f'result{indx}'] = processed_str[f'result{indx}'][:-1]   \n",
        "  return processed_str['result1'] == processed_str['result2']"
      ],
      "execution_count": null,
      "outputs": []
    },
    {
      "cell_type": "code",
      "metadata": {
        "colab": {
          "base_uri": "https://localhost:8080/"
        },
        "id": "CHS95omwfzVD",
        "outputId": "bb653c0b-cf6c-4d08-e253-1c7d73e5c325"
      },
      "source": [
        "string1 = 'ab#cd#'\n",
        "string2 = 'ac#d#c'\n",
        "print(backspace_string_compare(string1, string2))"
      ],
      "execution_count": null,
      "outputs": [
        {
          "output_type": "stream",
          "name": "stdout",
          "text": [
            "True\n"
          ]
        }
      ]
    },
    {
      "cell_type": "markdown",
      "metadata": {
        "id": "oUnxJx2kjCa-"
      },
      "source": [
        "**10.Diameter of Binary Tree**\n"
      ]
    },
    {
      "cell_type": "code",
      "metadata": {
        "id": "Um8XSICpjJDQ"
      },
      "source": [
        "class TreeNode:\n",
        "    def __init__(self, val=0, left=None, right=None):\n",
        "        self.val = val\n",
        "        self.left = left\n",
        "        self.right = right\n",
        "\n",
        "class Solution:\n",
        "    def diameterOfBinaryTree(self, root: Optional[TreeNode]) -> int:\n",
        "        height,diameter=self.help(root)\n",
        "        return diameter\n",
        "    \n",
        "    def help(self,root):\n",
        "        if not root:\n",
        "            return 0,0\n",
        "        left_height,left_diam=self.help(root.left)\n",
        "        right_height,right_diam=self.help(root.right)\n",
        "        height=max(left_height,right_height)+1\n",
        "        return height,max(left_height+right_height,left_diam,right_diam)"
      ],
      "execution_count": null,
      "outputs": []
    },
    {
      "cell_type": "markdown",
      "metadata": {
        "id": "_brGSP8PlqL_"
      },
      "source": [
        "**11.Last stone weight**\n"
      ]
    },
    {
      "cell_type": "code",
      "metadata": {
        "id": "bG-P3Uuklthd"
      },
      "source": [
        "from typing import List\n",
        "\n",
        "def last_stone_weight(stones: List[int]) -> int:\n",
        "  while len(stones) > 1:\n",
        "    stones = sorted(stones)\n",
        "    x = stones.pop(-1)\n",
        "    y = stones.pop(-1)\n",
        "    if x != y:\n",
        "      stones.append(x - y)\n",
        "  return  stones[0] if stones else 0"
      ],
      "execution_count": null,
      "outputs": []
    },
    {
      "cell_type": "code",
      "metadata": {
        "id": "sFtZOthvvfM7"
      },
      "source": [
        "# O(nlogn) with Heap\n",
        "from typing import List\n",
        "from heapq import heappush, heappop\n",
        "\n",
        "def last_stone_weight(stones: List[int]) -> int:\n",
        "    heap = []\n",
        "    for stone in stones: # O(n)\n",
        "        heappush(heap, -stone) # O(logn)\n",
        "    print(heap)\n",
        "    \n",
        "    while len(heap) > 1:\n",
        "        y = heappop(heap)\n",
        "        x = heappop(heap)\n",
        "        \n",
        "        if x > y: heappush(heap, y - x)\n",
        "            \n",
        "    return abs(heappop(heap)) if heap else 0\n"
      ],
      "execution_count": null,
      "outputs": []
    },
    {
      "cell_type": "code",
      "metadata": {
        "colab": {
          "base_uri": "https://localhost:8080/"
        },
        "id": "fI7ccYJyuKEF",
        "outputId": "9bdb00eb-8233-4d3a-8a85-f2c8325d4094"
      },
      "source": [
        "stones1 = [2, 7, 4, 10]\n",
        "stones2 = [2, 7]\n",
        "stones3 = [3]\n",
        "stones4 = []\n",
        "\n",
        "print(last_stone_weight(stones1))\n",
        "print(last_stone_weight(stones2))\n",
        "print(last_stone_weight(stones3))\n",
        "print(last_stone_weight(stones4))"
      ],
      "execution_count": null,
      "outputs": [
        {
          "output_type": "stream",
          "name": "stdout",
          "text": [
            "[-10, -7, -4, -2]\n",
            "1\n",
            "[-7, -2]\n",
            "5\n",
            "[-3]\n",
            "3\n",
            "[]\n",
            "0\n"
          ]
        }
      ]
    },
    {
      "cell_type": "markdown",
      "metadata": {
        "id": "F3xTIHMKxCMM"
      },
      "source": [
        "**12.Contiguous array**\n"
      ]
    },
    {
      "cell_type": "code",
      "metadata": {
        "id": "erYURowmxTn_"
      },
      "source": [
        "def find_max_length_binary(binary_array: list) -> int:\n",
        "  sum = 0 \n",
        "  longest_subarray = 0\n",
        "  sum_dictioary = {}\n",
        "\n",
        "  for i in range(len(binary_array)):\n",
        "    sum += 1 if binary_array[i] != 0 else -1\n",
        "\n",
        "    if sum == 0:\n",
        "      longest_subarray = i + 1 if longest_subarray < i + 1 else longest_subarray\n",
        "    elif sum in sum_dictioary:\n",
        "      longest_subarray = max(longest_subarray, i - sum_dictioary[sum])\n",
        "    else:\n",
        "      sum_dictioary[sum] = i\n",
        "  return longest_subarray\n"
      ],
      "execution_count": null,
      "outputs": []
    },
    {
      "cell_type": "code",
      "metadata": {
        "colab": {
          "base_uri": "https://localhost:8080/"
        },
        "id": "jO8If-dW2mCv",
        "outputId": "6a26fc2a-69c4-4c84-babd-95b192727ede"
      },
      "source": [
        "array1 = [0,1]\n",
        "array2 = [0,1,0,1,0,1]\n",
        "array3 = [0,1,0,1,0,0]\n",
        "\n",
        "print(find_max_length_binary(array1))\n",
        "print(find_max_length_binary(array2))\n",
        "print(find_max_length_binary(array3))"
      ],
      "execution_count": null,
      "outputs": [
        {
          "output_type": "stream",
          "name": "stdout",
          "text": [
            "2\n",
            "6\n",
            "4\n"
          ]
        }
      ]
    },
    {
      "cell_type": "markdown",
      "metadata": {
        "id": "qocy86I53D1G"
      },
      "source": [
        "**13.Perfrom string shifts**\n",
        "\n",
        "You are given a string s containing lowercase English letters, and a matrix shift, where shift[i] = [directioni, amounti]:\n",
        "\n",
        "    directioni can be 0 (for left shift) or 1 (for right shift).\n",
        "    amounti is the amount by which string s is to be shifted.\n",
        "    A left shift by 1 means remove the first character of s and append it to the end.\n",
        "    Similarly, a right shift by 1 means remove the last character of s and add it to the beginning.\n",
        "\n",
        "Return the final string after all operations.\n",
        "\n",
        "```\n",
        "Input: s = \"abcdefg\", shift = [[1,1],[1,1],[0,2],[1,3]]\n",
        "Output: \"efgabcd\"\n",
        "Explanation:  \n",
        "[1,1] means shift to right by 1. \"abcdefg\" -> \"gabcdef\"\n",
        "[1,1] means shift to right by 1. \"gabcdef\" -> \"fgabcde\"\n",
        "[0,2] means shift to left by 2. \"fgabcde\" -> \"abcdefg\"\n",
        "[1,3] means shift to right by 3. \"abcdefg\" -> \"efgabcd\"\n",
        "```\n",
        "\n",
        " "
      ]
    },
    {
      "cell_type": "code",
      "metadata": {
        "id": "ODKbmLHE7c6-"
      },
      "source": [
        "def string_shift(string: str, vectors: list) -> str:\n",
        "  val = 0\n",
        "  result = ''\n",
        "\n",
        "  for vector in vectors:\n",
        "    # 0 is left rotation and negative value \n",
        "    # 1 is right rotation and postive value\n",
        "    val += -vector[1] if vector[0] == 0 else vector[1]\n",
        "\n",
        "  length = len(string)\n",
        "  val %= length\n",
        "  print(val)\n",
        "  if val > 0:\n",
        "    # Right rotation\n",
        "    result = string[length-val:] + string[:length-val]\n",
        "  elif val < 0:\n",
        "    # Left roration\n",
        "    # Remove negative sign\n",
        "    val = abs(val)\n",
        "    result = string[length-val:] + string[:length-val]\n",
        "  return result  "
      ],
      "execution_count": null,
      "outputs": []
    },
    {
      "cell_type": "code",
      "metadata": {
        "colab": {
          "base_uri": "https://localhost:8080/"
        },
        "id": "zODZIN_I_b1I",
        "outputId": "5397fd0e-1c6f-4b1c-99c9-81c69a21c61e"
      },
      "source": [
        "string = \"abcdefg\"\n",
        "vectors = [[1,1],[1,1],[0,2],[1,3]]\n",
        "print(string_shift(string, vectors))"
      ],
      "execution_count": null,
      "outputs": [
        {
          "output_type": "stream",
          "name": "stdout",
          "text": [
            "3\n",
            "efgabcd\n"
          ]
        }
      ]
    },
    {
      "cell_type": "markdown",
      "metadata": {
        "id": "NCKFJecZAzdz"
      },
      "source": [
        "**14.Product of array except self**"
      ]
    },
    {
      "cell_type": "code",
      "metadata": {
        "id": "7EPdMXvDA5yc"
      },
      "source": [
        "import math \n",
        "\n",
        "def product_of_array(array: list) -> list:\n",
        "  total_product = 1\n",
        "  for element in array:\n",
        "    total_product *= element\n",
        "  \n",
        "  return [total_product//element for element in array]"
      ],
      "execution_count": null,
      "outputs": []
    },
    {
      "cell_type": "code",
      "metadata": {
        "colab": {
          "base_uri": "https://localhost:8080/"
        },
        "id": "mP_B4GjsCuJh",
        "outputId": "57cc7c39-6939-4c55-ce2a-21e10c6b37b2"
      },
      "source": [
        "input1 = []\n",
        "input2 = [1]\n",
        "input3 = [1, 2]\n",
        "input4 = [1,2,3,4]\n",
        "\n",
        "print(product_of_array(input1))\n",
        "print(product_of_array(input2))\n",
        "print(product_of_array(input3))\n",
        "print(product_of_array(input4))"
      ],
      "execution_count": null,
      "outputs": [
        {
          "output_type": "stream",
          "name": "stdout",
          "text": [
            "[]\n",
            "[1]\n",
            "[2, 1]\n",
            "[24, 12, 8, 6]\n"
          ]
        }
      ]
    },
    {
      "cell_type": "markdown",
      "metadata": {
        "id": "3I2nGnX5G-dE"
      },
      "source": [
        "**15. Valid parenthesis String**"
      ]
    },
    {
      "cell_type": "code",
      "metadata": {
        "id": "r0gszmT5G96n"
      },
      "source": [
        "def check_valid_string(string: str) -> bool:\n",
        "  open, star = [], []\n",
        "  length = len(string)\n",
        "  for indx in range(length):\n",
        "    if string[indx] == '(':\n",
        "      open.append(indx)\n",
        "    elif string[indx] == '*':\n",
        "      star.append(indx)\n",
        "    else:\n",
        "      if open:\n",
        "        # First pop from open stack\n",
        "        open.pop()\n",
        "      elif star:\n",
        "        # Pop from star stack\n",
        "        star.pop()\n",
        "      else:\n",
        "        # Can't balance the string\n",
        "        return False\n",
        "\n",
        "  # Now processing leftover openning brackets\n",
        "  while open:\n",
        "    if not star:\n",
        "      return False\n",
        "    elif open[-1] < star[-1]:\n",
        "      open.pop()\n",
        "      star.pop()\n",
        "    else:\n",
        "      return False\n",
        "  return True"
      ],
      "execution_count": null,
      "outputs": []
    },
    {
      "cell_type": "code",
      "metadata": {
        "colab": {
          "base_uri": "https://localhost:8080/"
        },
        "id": "XsSvpopWL9Xz",
        "outputId": "c230d8c4-92de-4b0d-e99b-584264b3be24"
      },
      "source": [
        "string1 = \"()\"\n",
        "string2 =  \"(*)\"\n",
        "string3 =  \"(*))\"\n",
        "string4 = \")(*))\"\n",
        "\n",
        "print(check_valid_string(string1))\n",
        "print(check_valid_string(string2))\n",
        "print(check_valid_string(string3))\n",
        "print(check_valid_string(string4))"
      ],
      "execution_count": null,
      "outputs": [
        {
          "output_type": "stream",
          "name": "stdout",
          "text": [
            "True\n",
            "True\n",
            "True\n",
            "False\n"
          ]
        }
      ]
    },
    {
      "cell_type": "markdown",
      "metadata": {
        "id": "ThMrizZn1UVj"
      },
      "source": [
        "**16.Number of Islands**\n",
        "\n",
        "Given an m x n 2D binary grid grid which represents a map of '1's (land) and '0's (water), return the number of islands.\n",
        "\n",
        "An island is surrounded by water and is formed by connecting adjacent lands horizontally or vertically. You may assume all four edges of the grid are all surrounded by water."
      ]
    },
    {
      "cell_type": "code",
      "metadata": {
        "id": "5II2p7-b1YAb"
      },
      "source": [
        "from typing import List\n",
        "\n",
        "def num_islands(grid: List[List[str]]) -> int:\n",
        "  num_islands = 0\n",
        "\n",
        "  if not grid or not grid[0]:\n",
        "    return 0\n",
        "\n",
        "  for i,row in enumerate(grid):\n",
        "    for j,cell in enumerate(row):\n",
        "      if cell == \"1\":\n",
        "        num_islands += 1\n",
        "        grid = delete_island(grid, i, j)\n",
        "        print(grid)\n",
        "  return num_islands\n",
        "\n",
        "def delete_island(grid, i, j):\n",
        "  if grid[i][j] == \"1\":\n",
        "    grid[i][j] = \"0\"\n",
        "    if i > 0:\n",
        "      # Up\n",
        "      grid = delete_island(grid,i-1,j)\n",
        "    if i < len(grid)-1:\n",
        "      #Down\n",
        "      grid = delete_island(grid,i+1,j)\n",
        "    if j > 0:\n",
        "      # Left\n",
        "      grid = delete_island(grid,i,j-1)\n",
        "    if j < len(grid[0])-1:\n",
        "      # Right\n",
        "      grid = delete_island(grid,i,j+1)\n",
        "  return grid"
      ],
      "execution_count": 39,
      "outputs": []
    },
    {
      "cell_type": "code",
      "metadata": {
        "colab": {
          "base_uri": "https://localhost:8080/"
        },
        "id": "kLyN4xBS6vn1",
        "outputId": "cf9a9003-1f34-4cd7-a33e-2b0c6181b6a2"
      },
      "source": [
        "grid1 = [\n",
        "  [\"1\",\"1\",\"0\",\"0\",\"0\"],\n",
        "  [\"1\",\"1\",\"0\",\"0\",\"0\"],\n",
        "  [\"0\",\"0\",\"1\",\"0\",\"0\"],\n",
        "  [\"0\",\"0\",\"0\",\"1\",\"1\"]\n",
        "]\n",
        "\n",
        "grid2 = [\n",
        "  [\"1\",\"1\",\"1\",\"1\",\"0\"],\n",
        "  [\"1\",\"1\",\"0\",\"1\",\"0\"],\n",
        "  [\"1\",\"1\",\"0\",\"0\",\"0\"],\n",
        "  [\"0\",\"0\",\"0\",\"0\",\"0\"]\n",
        "]\n",
        "\n",
        "grid3 = []\n",
        "grid4 = [[]]\n",
        "\n",
        "print(num_islands(grid1))\n",
        "print(num_islands(grid2))\n",
        "print(num_islands(grid3))\n",
        "print(num_islands(grid4))"
      ],
      "execution_count": 45,
      "outputs": [
        {
          "output_type": "stream",
          "name": "stdout",
          "text": [
            "[['0', '0', '0', '0', '0'], ['0', '0', '0', '0', '0'], ['0', '0', '1', '0', '0'], ['0', '0', '0', '1', '1']]\n",
            "[['0', '0', '0', '0', '0'], ['0', '0', '0', '0', '0'], ['0', '0', '0', '0', '0'], ['0', '0', '0', '1', '1']]\n",
            "[['0', '0', '0', '0', '0'], ['0', '0', '0', '0', '0'], ['0', '0', '0', '0', '0'], ['0', '0', '0', '0', '0']]\n",
            "3\n",
            "[['0', '0', '0', '0', '0'], ['0', '0', '0', '0', '0'], ['0', '0', '0', '0', '0'], ['0', '0', '0', '0', '0']]\n",
            "1\n",
            "0\n",
            "0\n"
          ]
        }
      ]
    },
    {
      "cell_type": "markdown",
      "metadata": {
        "id": "CrZYcg7J-dnP"
      },
      "source": [
        "**17. Minimum path sum**\n",
        "\n",
        "Given a m x n grid filled with non-negative numbers, find a path from top left to bottom right, which minimizes the sum of all numbers along its path.\n",
        "\n",
        "Note: You can only move either down or right at any point in time.\n",
        "\n",
        "![image.png](data:image/png;base64,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)\n"
      ]
    },
    {
      "cell_type": "code",
      "metadata": {
        "id": "5shveYvl-oyB"
      },
      "source": [
        "from typing import List\n",
        "\n",
        "def min_path_sum(grid: List[List[int]]) -> int:\n",
        "  \"\"\"\n",
        "    :type grid: List[List[int]]\n",
        "    :rtype: int\n",
        "  \"\"\"\n",
        "  row, col = len(grid), len(grid[0])\n",
        "  dis = [ [0 for c in range(col)] for r in range(row)]\n",
        "  dis[0][0] = grid[0][0]\n",
        "  # Going down first row\n",
        "  for i in range(1, row):\n",
        "    dis[i][0] = dis[i-1][0] + grid[i][0]\n",
        "  # Going right first column\n",
        "  for i in range(1, col):\n",
        "    dis[0][i] = dis[0][i-1] + grid[0][i]\n",
        "  # Fill out the reset\n",
        "  for i in range(1, row):\n",
        "    for j in range(1, col):\n",
        "      dis[i][j] = grid[i][j] + min(dis[i-1][j], dis[i][j-1])\n",
        "  return dis[-1][-1]"
      ],
      "execution_count": 69,
      "outputs": []
    },
    {
      "cell_type": "code",
      "metadata": {
        "id": "uOIQX6MmEsH8",
        "outputId": "65815113-31d2-4117-cf7d-eb2c9d179d4f",
        "colab": {
          "base_uri": "https://localhost:8080/"
        }
      },
      "source": [
        "grid1 = [\n",
        "  [1,3,1],\n",
        "  [1,5,1],\n",
        "  [4,2,1]\n",
        "]\n",
        "\n",
        "grid2 = [\n",
        "  [1,2,3],\n",
        "  [4,5,6]\n",
        "]\n",
        "\n",
        "print(min_path_sum(grid1))\n",
        "print(min_path_sum(grid2))"
      ],
      "execution_count": 70,
      "outputs": [
        {
          "output_type": "stream",
          "name": "stdout",
          "text": [
            "7\n",
            "12\n"
          ]
        }
      ]
    },
    {
      "cell_type": "markdown",
      "metadata": {
        "id": "-YovGRwsG1gC"
      },
      "source": [
        "**18.Search in rotated sorted array**\n",
        "\n",
        "![image.png](data:image/png;base64,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)"
      ]
    },
    {
      "cell_type": "code",
      "metadata": {
        "id": "AdL8iji1G68E"
      },
      "source": [
        "# Formula: If a sorted array is shifted, if you take the middle, always one side will be sorted. Take the recursion according to that rule.\n",
        "\n",
        "# 1- take the middle and compare with target, if matches return.\n",
        "# 2- if middle is bigger than left side, it means left is sorted\n",
        "# 2a- if [left] < target < [middle] then do recursion with left, middle - 1 (right)\n",
        "# 2b- left side is sorted, but target not in here, search on right side middle + 1 (left), right\n",
        "# 3- if middle is less than right side, it means right is sorted\n",
        "# 3a- if [middle] < target < [right] then do recursion with middle + 1 (left), right\n",
        "# 3b- right side is sorted, but target not in here, search on left side left, middle -1 (right)\n",
        "\n",
        "def search(nums: List[int], target: int) -> int:\n",
        "  \"\"\"\n",
        "  Rule of thumb: If a sorted array is shifted, if you take the middle, \n",
        "  always one side will be sorted. Take the recursion according to that rule\n",
        "  \"\"\"\n",
        "\n",
        "  low, high = 0, len(nums) - 1\n",
        "\n",
        "  while low <= high:\n",
        "      \n",
        "      mid = low + (high-low) // 2\n",
        "      print(f\"low {low}, high {high}, mid {mid}\")\n",
        "            \n",
        "      # 1- take the middle and compare with target, if matches return.\n",
        "      if nums[mid] == target:\n",
        "          return mid\n",
        "      \n",
        "      # 2- if middle is bigger than left side, it means left is sorted\n",
        "      elif nums[low] <= nums[mid]:\n",
        "          if target >= nums[low] and target < nums[mid]:\n",
        "              high = mid - 1\n",
        "          else:\n",
        "              low = mid + 1\n",
        "      # 3- if middle is lower than left side, it means right is sorted\n",
        "      else:\n",
        "          if target > nums[mid] and target <= nums[high]:\n",
        "              low = mid + 1\n",
        "          else:\n",
        "              high = mid - 1\n",
        "  return -1\n"
      ],
      "execution_count": 75,
      "outputs": []
    },
    {
      "cell_type": "code",
      "metadata": {
        "id": "IMWJzbTsLAw8",
        "outputId": "2d9efb59-9d7e-47de-8cab-20f89eb46d5d",
        "colab": {
          "base_uri": "https://localhost:8080/"
        }
      },
      "source": [
        "nums1 = [4,5,6,7,0,1,2]\n",
        "target1 = 0\n",
        "\n",
        "nums2 = [4,5,6,7,0,1,2]\n",
        "target2 = 3\n",
        "\n",
        "nums3 = [1]\n",
        "target3 = 0\n",
        "\n",
        "print(search(nums1, target1))\n",
        "print(search(nums2, target2))\n",
        "print(search(nums3, target3))\n"
      ],
      "execution_count": 74,
      "outputs": [
        {
          "output_type": "stream",
          "name": "stdout",
          "text": [
            "low 0, high 6, mid 3\n",
            "low 4, high 6, mid 5\n",
            "low 4, high 4, mid 4\n",
            "4\n",
            "low 0, high 6, mid 3\n",
            "low 4, high 6, mid 5\n",
            "low 6, high 6, mid 6\n",
            "-1\n",
            "low 0, high 0, mid 0\n",
            "-1\n"
          ]
        }
      ]
    }
  ]
}