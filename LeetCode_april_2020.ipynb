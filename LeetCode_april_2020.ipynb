{
  "nbformat": 4,
  "nbformat_minor": 0,
  "metadata": {
    "colab": {
      "name": "LeetCode_april_2020.ipynb",
      "provenance": [],
      "authorship_tag": "ABX9TyOGr6Me7GVsRlVRsIbKGmlY",
      "include_colab_link": true
    },
    "kernelspec": {
      "name": "python3",
      "display_name": "Python 3"
    },
    "language_info": {
      "name": "python"
    }
  },
  "cells": [
    {
      "cell_type": "markdown",
      "metadata": {
        "id": "view-in-github",
        "colab_type": "text"
      },
      "source": [
        "<a href=\"https://colab.research.google.com/github/DSNortsev/Algorithms/blob/master/LeetCode_april_2020.ipynb\" target=\"_parent\"><img src=\"https://colab.research.google.com/assets/colab-badge.svg\" alt=\"Open In Colab\"/></a>"
      ]
    },
    {
      "cell_type": "markdown",
      "metadata": {
        "id": "9zkfmT65Sjf5"
      },
      "source": [
        "**TECH DOSE**\n",
        "\n",
        "Types of DP:\n",
        "* Knapsack (O/1, Bounded, Unbounded)\n",
        "* LCS (Longest Common Subsequence)\n",
        "* LIS (Longest Increasing Subsequence)\n",
        "* Matrix chain multiplication \n",
        "* DP on grid\n",
        "* Kadane's Algorithm\n",
        "* Others"
      ]
    },
    {
      "cell_type": "markdown",
      "metadata": {
        "id": "oW9-Pi1Hmgfy"
      },
      "source": [
        "**1. Single number**"
      ]
    },
    {
      "cell_type": "code",
      "metadata": {
        "colab": {
          "base_uri": "https://localhost:8080/"
        },
        "id": "bOT6phxASQUI",
        "outputId": "ab9014ea-d6c1-4f6e-b5b8-69451b41b189"
      },
      "source": [
        "numbers = [2, 4, 2, 4 , 3, 5]\n",
        "\n",
        "def single_number(numbers):\n",
        "  result = []\n",
        "  count_duplicates = {}\n",
        "  for number in numbers:\n",
        "    if count_duplicates.get(number):\n",
        "      count_duplicates[number] += 1\n",
        "    else:\n",
        "      count_duplicates[number] = 1\n",
        "  \n",
        "  for k, v in count_duplicates.items():\n",
        "      if v == 1:\n",
        "        result.append(k)\n",
        "  return result\n",
        "\n",
        "\n",
        "single_number(numbers)"
      ],
      "execution_count": null,
      "outputs": [
        {
          "output_type": "execute_result",
          "data": {
            "text/plain": [
              "[3, 5]"
            ]
          },
          "metadata": {},
          "execution_count": 18
        }
      ]
    },
    {
      "cell_type": "markdown",
      "metadata": {
        "id": "Odzo2xWry4ax"
      },
      "source": [
        "**2. Happy Number** \n"
      ]
    },
    {
      "cell_type": "code",
      "metadata": {
        "colab": {
          "base_uri": "https://localhost:8080/"
        },
        "id": "0KBZ6sLzSjBP",
        "outputId": "542bbbae-515b-45b4-e528-29c57acf5452"
      },
      "source": [
        "def is_happy(number):\n",
        "  seen_number = set()\n",
        "\n",
        "  while True:\n",
        "      total_sum = 0\n",
        "      value = 0\n",
        "      while number > 0:\n",
        "        number, digit  = divmod(number, 10)\n",
        "        total_sum += digit ** 2\n",
        "      \n",
        "      if total_sum == 1:\n",
        "        return True\n",
        "      elif total_sum in seen_number:\n",
        "        return False\n",
        "      seen_number.add(total_sum)\n",
        "      number = total_sum\n",
        "\n",
        "\n",
        "print(is_happy(19))\n",
        "print(is_happy(25))"
      ],
      "execution_count": null,
      "outputs": [
        {
          "output_type": "stream",
          "name": "stdout",
          "text": [
            "True\n",
            "False\n"
          ]
        }
      ]
    },
    {
      "cell_type": "markdown",
      "metadata": {
        "id": "VU3AKh1I4vc1"
      },
      "source": [
        "**3. Longest Sum contiguous subarray**"
      ]
    },
    {
      "cell_type": "code",
      "metadata": {
        "colab": {
          "base_uri": "https://localhost:8080/"
        },
        "id": "RMi2uIi644Ta",
        "outputId": "f8af28a4-d43e-4047-89ee-e8005a8f7488"
      },
      "source": [
        "def longest_contiguous_subarray(array):\n",
        "  max_end = 0\n",
        "  max_total = float('-inf')\n",
        "\n",
        "  for element in array:\n",
        "    max_end = max_end + element\n",
        "    if max_end < element:\n",
        "      max_end = element\n",
        "    if max_total < max_end:\n",
        "      max_total = max_end\n",
        "  return max_total\n",
        "\n",
        "longest_contiguous_subarray([-2,-3, 4, -1, -2, 1, 5, -3])"
      ],
      "execution_count": null,
      "outputs": [
        {
          "output_type": "execute_result",
          "data": {
            "text/plain": [
              "7"
            ]
          },
          "metadata": {},
          "execution_count": 62
        }
      ]
    },
    {
      "cell_type": "markdown",
      "metadata": {
        "id": "oQy0UMvRH6lj"
      },
      "source": [
        "**4. Move Zeroes**\n",
        "Move all zeros to the right \n",
        "\n",
        "Example:\n",
        "Input: [1, 0, 3, 0, 12]\n",
        "\n",
        "Output: [1, 3, 12, 0, 0]"
      ]
    },
    {
      "cell_type": "code",
      "metadata": {
        "id": "b5YGs2AGIBR9"
      },
      "source": [
        "def move_zeroes(array: list) -> list:\n",
        "  \"\"\"\n",
        "    Move all zeros to the right\n",
        "  \"\"\"\n",
        "  elm_count = len(array)\n",
        "  # left is pointer to last zero\n",
        "  # right is moving towards the end =\n",
        "  left, right = 0, 0\n",
        "  \n",
        "  if elm_count in (0,1):\n",
        "      return array\n",
        "\n",
        "  while right < elm_count:\n",
        "    if array[right] == 0:\n",
        "      right += 1\n",
        "    else:\n",
        "      array[left], array[right] = array[right], array[left]\n",
        "      right += 1\n",
        "      left += 1\n",
        "  return array "
      ],
      "execution_count": null,
      "outputs": []
    },
    {
      "cell_type": "code",
      "metadata": {
        "colab": {
          "base_uri": "https://localhost:8080/"
        },
        "id": "UTUcDPjAKsIn",
        "outputId": "d7537919-7cc1-4543-be2e-a98f6571a6c2"
      },
      "source": [
        "array1 = [1, 0, 3, 0, 12]\n",
        "array3 = [1]\n",
        "array2 = []\n",
        "\n",
        "print(move_zeroes(array1))\n",
        "print(move_zeroes(array2))\n",
        "print(move_zeroes(array3))"
      ],
      "execution_count": null,
      "outputs": [
        {
          "output_type": "stream",
          "name": "stdout",
          "text": [
            "[1, 3, 12, 0, 0]\n",
            "[]\n",
            "[1]\n"
          ]
        }
      ]
    },
    {
      "cell_type": "markdown",
      "metadata": {
        "id": "2pfyEYWFMSct"
      },
      "source": [
        "**5. Best time to buy and sekk stock**\n",
        "\n",
        "You can buy and sell or skip stocks \n",
        "\n",
        "Exmaple:\n",
        "\n",
        "Input: [7, 1, 5, 3, 6, 4]\n",
        "\n",
        "Output: 7\n",
        "\n"
      ]
    },
    {
      "cell_type": "code",
      "metadata": {
        "id": "bcpC98hUMYbE"
      },
      "source": [
        "def max_profit(prices: list) -> int:\n",
        "  \"\"\"\n",
        "    Calculate the max profit by buying, selling or skipping the stocks.\n",
        "    The stock can;t be bought or sold at the same day.\n",
        "  \"\"\"\n",
        "  total_profit = 0\n",
        "  for indx in range(1,len(prices)):\n",
        "    if prices[indx] > prices[indx-1]:\n",
        "       total_profit += prices[indx] - prices[indx-1]\n",
        "  return total_profit"
      ],
      "execution_count": null,
      "outputs": []
    },
    {
      "cell_type": "code",
      "metadata": {
        "colab": {
          "base_uri": "https://localhost:8080/"
        },
        "id": "uswCFoB5QrUA",
        "outputId": "2d6b4239-5e63-4e47-9d42-ab61bfd9a514"
      },
      "source": [
        "# we can not sell on 7 and buy on 4\n",
        "# (5 - 1) + (6 - 3) = 7\n",
        "prices1 = [7, 1, 5, 3, 6, 4]\n",
        "prices2 = [1, 2, 3, 4, 5]\n",
        "prices3 = [5, 4, 3, 2, 1]\n",
        "\n",
        "print(max_profit(prices1))\n",
        "print(max_profit(prices2))\n",
        "print(max_profit(prices3))"
      ],
      "execution_count": null,
      "outputs": [
        {
          "output_type": "stream",
          "name": "stdout",
          "text": [
            "7\n",
            "4\n",
            "0\n"
          ]
        }
      ]
    },
    {
      "cell_type": "markdown",
      "metadata": {
        "id": "aMELpLoERnr3"
      },
      "source": [
        "**6. Group Anagrams**\n",
        "\n",
        "eat and tea are anagrams"
      ]
    },
    {
      "cell_type": "code",
      "metadata": {
        "id": "zTdAQJhPRt6e"
      },
      "source": [
        "def group_anagrams(words: list) -> list:\n",
        "  anagrams = {}\n",
        "  for word in words:\n",
        "    sorted_letters = \"\".join(sorted(word))\n",
        "    if anagrams.get(sorted_letters):\n",
        "      anagrams[sorted_letters].append(word)\n",
        "    else:\n",
        "      anagrams[sorted_letters] = [word]\n",
        "  \n",
        "  return list(anagrams.values())"
      ],
      "execution_count": null,
      "outputs": []
    },
    {
      "cell_type": "code",
      "metadata": {
        "colab": {
          "base_uri": "https://localhost:8080/"
        },
        "id": "UbjOOU1dUoWf",
        "outputId": "e7ab455b-dff2-4ca5-909a-239517cec345"
      },
      "source": [
        "words = ['eat', 'tea', 'tan', 'ate', 'nat', 'bat']\n",
        "print(group_anagrams(words))"
      ],
      "execution_count": null,
      "outputs": [
        {
          "output_type": "stream",
          "name": "stdout",
          "text": [
            "[['eat', 'tea', 'ate'], ['tan', 'nat'], ['bat']]\n"
          ]
        }
      ]
    },
    {
      "cell_type": "markdown",
      "metadata": {
        "id": "VUXg6s0rWMlO"
      },
      "source": [
        "**7. Counting elements**\n",
        "\n",
        "Counting numnber of x of (x+1) is present in an array."
      ]
    },
    {
      "cell_type": "code",
      "metadata": {
        "id": "YiOtLd5MWR4B"
      },
      "source": [
        "def count_elements(numbers: list) -> int:\n",
        "  \"\"\"\n",
        "    Counting numnber of x of (x+1) is present in an array.\n",
        "  \"\"\"\n",
        "  total_count = len(numbers)\n",
        "  sorted_numbers = sorted(numbers)\n",
        "  left, right, count = 0, 1, 0\n",
        "\n",
        "  while right < total_count:\n",
        "    if sorted_numbers[right] == sorted_numbers[left] + 1:\n",
        "      count += right - left\n",
        "      left = right\n",
        "      right += 1\n",
        "    elif sorted_numbers[right] == sorted_numbers[left]:\n",
        "      right += 1\n",
        "    else:\n",
        "      left = right\n",
        "      right += 1\n",
        "  return count"
      ],
      "execution_count": null,
      "outputs": []
    },
    {
      "cell_type": "code",
      "metadata": {
        "colab": {
          "base_uri": "https://localhost:8080/"
        },
        "id": "42K7ZewJarIB",
        "outputId": "f958a523-80d5-4309-8f64-b880459494e9"
      },
      "source": [
        "numbers = [1, 3, 2, 3, 5, 0]\n",
        "# [0, 1, 2, 3, 3, 5], so count would be 3 which is 0-1, 1-2, 2-3\n",
        "print(count_elements(numbers))"
      ],
      "execution_count": null,
      "outputs": [
        {
          "output_type": "stream",
          "name": "stdout",
          "text": [
            "3\n"
          ]
        }
      ]
    },
    {
      "cell_type": "markdown",
      "metadata": {
        "id": "L-M0_qR1bNkN"
      },
      "source": [
        "**8. Middle of link list**\n",
        "\n"
      ]
    },
    {
      "cell_type": "code",
      "metadata": {
        "id": "zY53wXjebTFQ"
      },
      "source": [
        "def middle_of_link_list(array: list) -> list:\n",
        "  total_elements = len(array)\n",
        "\n",
        "  if total_elements <= 2:\n",
        "    return array\n",
        "  \n",
        "  indx = total_elements // 2\n",
        "  if total_elements % 2 == 0:\n",
        "    return [array[indx-1], array[indx]]\n",
        "  return [array[indx]]"
      ],
      "execution_count": null,
      "outputs": []
    },
    {
      "cell_type": "code",
      "metadata": {
        "colab": {
          "base_uri": "https://localhost:8080/"
        },
        "id": "t6rw3ABRcoJD",
        "outputId": "d4d9aed9-2c43-4917-b98e-1cec65f7a50d"
      },
      "source": [
        "print(middle_of_link_list([]))\n",
        "print(middle_of_link_list([1]))\n",
        "print(middle_of_link_list([1, 2]))\n",
        "print(middle_of_link_list([1,2,3]))\n",
        "print(middle_of_link_list([1,2,3,4]))"
      ],
      "execution_count": null,
      "outputs": [
        {
          "output_type": "stream",
          "name": "stdout",
          "text": [
            "[]\n",
            "[1]\n",
            "[1, 2]\n",
            "[2]\n",
            "[2, 3]\n"
          ]
        }
      ]
    },
    {
      "cell_type": "markdown",
      "metadata": {
        "id": "VDQlYEm3dbtF"
      },
      "source": [
        "**9.Backspcae string compare**\n",
        "\n",
        "\\# means backspace remoing an character\n",
        "\n",
        "ab#cd# = ac\n",
        "\n",
        "ac# = a"
      ]
    },
    {
      "cell_type": "code",
      "metadata": {
        "id": "wU1uRGridsPt"
      },
      "source": [
        "def backspace_string_compare(string1: str, string2: str) -> bool:\n",
        "  processed_str = {\n",
        "    \"result1\": '',\n",
        "    \"result2\": ''\n",
        "  }\n",
        "\n",
        "  for indx, string in enumerate([string1, string2],1):\n",
        "    for character in string:\n",
        "      if character.islower():\n",
        "        processed_str[f'result{indx}'] += character\n",
        "      else:\n",
        "        processed_str[f'result{indx}'] = processed_str[f'result{indx}'][:-1]   \n",
        "  return processed_str['result1'] == processed_str['result2']"
      ],
      "execution_count": null,
      "outputs": []
    },
    {
      "cell_type": "code",
      "metadata": {
        "colab": {
          "base_uri": "https://localhost:8080/"
        },
        "id": "CHS95omwfzVD",
        "outputId": "bb653c0b-cf6c-4d08-e253-1c7d73e5c325"
      },
      "source": [
        "string1 = 'ab#cd#'\n",
        "string2 = 'ac#d#c'\n",
        "print(backspace_string_compare(string1, string2))"
      ],
      "execution_count": null,
      "outputs": [
        {
          "output_type": "stream",
          "name": "stdout",
          "text": [
            "True\n"
          ]
        }
      ]
    },
    {
      "cell_type": "markdown",
      "metadata": {
        "id": "oUnxJx2kjCa-"
      },
      "source": [
        "**10.Diameter of Binary Tree**\n"
      ]
    },
    {
      "cell_type": "code",
      "metadata": {
        "id": "Um8XSICpjJDQ"
      },
      "source": [
        "class TreeNode:\n",
        "    def __init__(self, val=0, left=None, right=None):\n",
        "        self.val = val\n",
        "        self.left = left\n",
        "        self.right = right\n",
        "\n",
        "class Solution:\n",
        "    def diameterOfBinaryTree(self, root: Optional[TreeNode]) -> int:\n",
        "        height,diameter=self.help(root)\n",
        "        return diameter\n",
        "    \n",
        "    def help(self,root):\n",
        "        if not root:\n",
        "            return 0,0\n",
        "        left_height,left_diam=self.help(root.left)\n",
        "        right_height,right_diam=self.help(root.right)\n",
        "        height=max(left_height,right_height)+1\n",
        "        return height,max(left_height+right_height,left_diam,right_diam)"
      ],
      "execution_count": null,
      "outputs": []
    },
    {
      "cell_type": "markdown",
      "metadata": {
        "id": "_brGSP8PlqL_"
      },
      "source": [
        "**11.Last stone weight**\n"
      ]
    },
    {
      "cell_type": "code",
      "metadata": {
        "id": "bG-P3Uuklthd"
      },
      "source": [
        "from typing import List\n",
        "\n",
        "def last_stone_weight(stones: List[int]) -> int:\n",
        "  while len(stones) > 1:\n",
        "    stones = sorted(stones)\n",
        "    x = stones.pop(-1)\n",
        "    y = stones.pop(-1)\n",
        "    if x != y:\n",
        "      stones.append(x - y)\n",
        "  return  stones[0] if stones else 0"
      ],
      "execution_count": null,
      "outputs": []
    },
    {
      "cell_type": "code",
      "metadata": {
        "id": "sFtZOthvvfM7"
      },
      "source": [
        "# O(nlogn) with Heap\n",
        "from typing import List\n",
        "from heapq import heappush, heappop\n",
        "\n",
        "def last_stone_weight(stones: List[int]) -> int:\n",
        "    heap = []\n",
        "    for stone in stones: # O(n)\n",
        "        heappush(heap, -stone) # O(logn)\n",
        "    print(heap)\n",
        "    \n",
        "    while len(heap) > 1:\n",
        "        y = heappop(heap)\n",
        "        x = heappop(heap)\n",
        "        \n",
        "        if x > y: heappush(heap, y - x)\n",
        "            \n",
        "    return abs(heappop(heap)) if heap else 0\n"
      ],
      "execution_count": null,
      "outputs": []
    },
    {
      "cell_type": "code",
      "metadata": {
        "colab": {
          "base_uri": "https://localhost:8080/"
        },
        "id": "fI7ccYJyuKEF",
        "outputId": "9bdb00eb-8233-4d3a-8a85-f2c8325d4094"
      },
      "source": [
        "stones1 = [2, 7, 4, 10]\n",
        "stones2 = [2, 7]\n",
        "stones3 = [3]\n",
        "stones4 = []\n",
        "\n",
        "print(last_stone_weight(stones1))\n",
        "print(last_stone_weight(stones2))\n",
        "print(last_stone_weight(stones3))\n",
        "print(last_stone_weight(stones4))"
      ],
      "execution_count": null,
      "outputs": [
        {
          "output_type": "stream",
          "name": "stdout",
          "text": [
            "[-10, -7, -4, -2]\n",
            "1\n",
            "[-7, -2]\n",
            "5\n",
            "[-3]\n",
            "3\n",
            "[]\n",
            "0\n"
          ]
        }
      ]
    },
    {
      "cell_type": "markdown",
      "metadata": {
        "id": "F3xTIHMKxCMM"
      },
      "source": [
        "**12.Contiguous array**\n"
      ]
    },
    {
      "cell_type": "code",
      "metadata": {
        "id": "erYURowmxTn_"
      },
      "source": [
        "def find_max_length_binary(binary_array: list) -> int:\n",
        "  sum = 0 \n",
        "  longest_subarray = 0\n",
        "  sum_dictioary = {}\n",
        "\n",
        "  for i in range(len(binary_array)):\n",
        "    sum += 1 if binary_array[i] != 0 else -1\n",
        "\n",
        "    if sum == 0:\n",
        "      longest_subarray = i + 1 if longest_subarray < i + 1 else longest_subarray\n",
        "    elif sum in sum_dictioary:\n",
        "      longest_subarray = max(longest_subarray, i - sum_dictioary[sum])\n",
        "    else:\n",
        "      sum_dictioary[sum] = i\n",
        "  return longest_subarray\n"
      ],
      "execution_count": null,
      "outputs": []
    },
    {
      "cell_type": "code",
      "metadata": {
        "colab": {
          "base_uri": "https://localhost:8080/"
        },
        "id": "jO8If-dW2mCv",
        "outputId": "6a26fc2a-69c4-4c84-babd-95b192727ede"
      },
      "source": [
        "array1 = [0,1]\n",
        "array2 = [0,1,0,1,0,1]\n",
        "array3 = [0,1,0,1,0,0]\n",
        "\n",
        "print(find_max_length_binary(array1))\n",
        "print(find_max_length_binary(array2))\n",
        "print(find_max_length_binary(array3))"
      ],
      "execution_count": null,
      "outputs": [
        {
          "output_type": "stream",
          "name": "stdout",
          "text": [
            "2\n",
            "6\n",
            "4\n"
          ]
        }
      ]
    },
    {
      "cell_type": "markdown",
      "metadata": {
        "id": "qocy86I53D1G"
      },
      "source": [
        "**13.Perfrom string shifts**\n",
        "\n",
        "You are given a string s containing lowercase English letters, and a matrix shift, where shift[i] = [directioni, amounti]:\n",
        "\n",
        "    directioni can be 0 (for left shift) or 1 (for right shift).\n",
        "    amounti is the amount by which string s is to be shifted.\n",
        "    A left shift by 1 means remove the first character of s and append it to the end.\n",
        "    Similarly, a right shift by 1 means remove the last character of s and add it to the beginning.\n",
        "\n",
        "Return the final string after all operations.\n",
        "\n",
        "```\n",
        "Input: s = \"abcdefg\", shift = [[1,1],[1,1],[0,2],[1,3]]\n",
        "Output: \"efgabcd\"\n",
        "Explanation:  \n",
        "[1,1] means shift to right by 1. \"abcdefg\" -> \"gabcdef\"\n",
        "[1,1] means shift to right by 1. \"gabcdef\" -> \"fgabcde\"\n",
        "[0,2] means shift to left by 2. \"fgabcde\" -> \"abcdefg\"\n",
        "[1,3] means shift to right by 3. \"abcdefg\" -> \"efgabcd\"\n",
        "```\n",
        "\n",
        " "
      ]
    },
    {
      "cell_type": "code",
      "metadata": {
        "id": "ODKbmLHE7c6-"
      },
      "source": [
        "def string_shift(string: str, vectors: list) -> str:\n",
        "  val = 0\n",
        "  result = ''\n",
        "\n",
        "  for vector in vectors:\n",
        "    # 0 is left rotation and negative value \n",
        "    # 1 is right rotation and postive value\n",
        "    val += -vector[1] if vector[0] == 0 else vector[1]\n",
        "\n",
        "  length = len(string)\n",
        "  val %= length\n",
        "  print(val)\n",
        "  if val > 0:\n",
        "    # Right rotation\n",
        "    result = string[length-val:] + string[:length-val]\n",
        "  elif val < 0:\n",
        "    # Left roration\n",
        "    # Remove negative sign\n",
        "    val = abs(val)\n",
        "    result = string[length-val:] + string[:length-val]\n",
        "  return result  "
      ],
      "execution_count": null,
      "outputs": []
    },
    {
      "cell_type": "code",
      "metadata": {
        "colab": {
          "base_uri": "https://localhost:8080/"
        },
        "id": "zODZIN_I_b1I",
        "outputId": "5397fd0e-1c6f-4b1c-99c9-81c69a21c61e"
      },
      "source": [
        "string = \"abcdefg\"\n",
        "vectors = [[1,1],[1,1],[0,2],[1,3]]\n",
        "print(string_shift(string, vectors))"
      ],
      "execution_count": null,
      "outputs": [
        {
          "output_type": "stream",
          "name": "stdout",
          "text": [
            "3\n",
            "efgabcd\n"
          ]
        }
      ]
    },
    {
      "cell_type": "markdown",
      "metadata": {
        "id": "NCKFJecZAzdz"
      },
      "source": [
        "**14.Product of array except self**"
      ]
    },
    {
      "cell_type": "code",
      "metadata": {
        "id": "7EPdMXvDA5yc"
      },
      "source": [
        "import math \n",
        "\n",
        "def product_of_array(array: list) -> list:\n",
        "  total_product = 1\n",
        "  for element in array:\n",
        "    total_product *= element\n",
        "  \n",
        "  return [total_product//element for element in array]"
      ],
      "execution_count": null,
      "outputs": []
    },
    {
      "cell_type": "code",
      "metadata": {
        "colab": {
          "base_uri": "https://localhost:8080/"
        },
        "id": "mP_B4GjsCuJh",
        "outputId": "57cc7c39-6939-4c55-ce2a-21e10c6b37b2"
      },
      "source": [
        "input1 = []\n",
        "input2 = [1]\n",
        "input3 = [1, 2]\n",
        "input4 = [1,2,3,4]\n",
        "\n",
        "print(product_of_array(input1))\n",
        "print(product_of_array(input2))\n",
        "print(product_of_array(input3))\n",
        "print(product_of_array(input4))"
      ],
      "execution_count": null,
      "outputs": [
        {
          "output_type": "stream",
          "name": "stdout",
          "text": [
            "[]\n",
            "[1]\n",
            "[2, 1]\n",
            "[24, 12, 8, 6]\n"
          ]
        }
      ]
    },
    {
      "cell_type": "markdown",
      "metadata": {
        "id": "3I2nGnX5G-dE"
      },
      "source": [
        "**15. Valid parenthesis String**"
      ]
    },
    {
      "cell_type": "code",
      "metadata": {
        "id": "r0gszmT5G96n"
      },
      "source": [
        "def check_valid_string(string: str) -> bool:\n",
        "  open, star = [], []\n",
        "  length = len(string)\n",
        "  for indx in range(length):\n",
        "    if string[indx] == '(':\n",
        "      open.append(indx)\n",
        "    elif string[indx] == '*':\n",
        "      star.append(indx)\n",
        "    else:\n",
        "      if open:\n",
        "        # First pop from open stack\n",
        "        open.pop()\n",
        "      elif star:\n",
        "        # Pop from star stack\n",
        "        star.pop()\n",
        "      else:\n",
        "        # Can't balance the string\n",
        "        return False\n",
        "\n",
        "  # Now processing leftover openning brackets\n",
        "  while open:\n",
        "    if not star:\n",
        "      return False\n",
        "    elif open[-1] < star[-1]:\n",
        "      open.pop()\n",
        "      star.pop()\n",
        "    else:\n",
        "      return False\n",
        "  return True"
      ],
      "execution_count": null,
      "outputs": []
    },
    {
      "cell_type": "code",
      "metadata": {
        "colab": {
          "base_uri": "https://localhost:8080/"
        },
        "id": "XsSvpopWL9Xz",
        "outputId": "c230d8c4-92de-4b0d-e99b-584264b3be24"
      },
      "source": [
        "string1 = \"()\"\n",
        "string2 =  \"(*)\"\n",
        "string3 =  \"(*))\"\n",
        "string4 = \")(*))\"\n",
        "\n",
        "print(check_valid_string(string1))\n",
        "print(check_valid_string(string2))\n",
        "print(check_valid_string(string3))\n",
        "print(check_valid_string(string4))"
      ],
      "execution_count": null,
      "outputs": [
        {
          "output_type": "stream",
          "name": "stdout",
          "text": [
            "True\n",
            "True\n",
            "True\n",
            "False\n"
          ]
        }
      ]
    },
    {
      "cell_type": "markdown",
      "metadata": {
        "id": "ThMrizZn1UVj"
      },
      "source": [
        "**16.Number of Islands**\n",
        "\n",
        "Given an m x n 2D binary grid grid which represents a map of '1's (land) and '0's (water), return the number of islands.\n",
        "\n",
        "An island is surrounded by water and is formed by connecting adjacent lands horizontally or vertically. You may assume all four edges of the grid are all surrounded by water."
      ]
    },
    {
      "cell_type": "code",
      "metadata": {
        "id": "5II2p7-b1YAb"
      },
      "source": [
        "from typing import List\n",
        "\n",
        "def num_islands(grid: List[List[str]]) -> int:\n",
        "  num_islands = 0\n",
        "\n",
        "  if not grid or not grid[0]:\n",
        "    return 0\n",
        "\n",
        "  for i,row in enumerate(grid):\n",
        "    for j,cell in enumerate(row):\n",
        "      if cell == \"1\":\n",
        "        num_islands += 1\n",
        "        grid = delete_island(grid, i, j)\n",
        "        print(grid)\n",
        "  return num_islands\n",
        "\n",
        "def delete_island(grid, i, j):\n",
        "  if grid[i][j] == \"1\":\n",
        "    grid[i][j] = \"0\"\n",
        "    if i > 0:\n",
        "      # Up\n",
        "      grid = delete_island(grid,i-1,j)\n",
        "    if i < len(grid)-1:\n",
        "      #Down\n",
        "      grid = delete_island(grid,i+1,j)\n",
        "    if j > 0:\n",
        "      # Left\n",
        "      grid = delete_island(grid,i,j-1)\n",
        "    if j < len(grid[0])-1:\n",
        "      # Right\n",
        "      grid = delete_island(grid,i,j+1)\n",
        "  return grid"
      ],
      "execution_count": null,
      "outputs": []
    },
    {
      "cell_type": "code",
      "metadata": {
        "colab": {
          "base_uri": "https://localhost:8080/"
        },
        "id": "kLyN4xBS6vn1",
        "outputId": "cf9a9003-1f34-4cd7-a33e-2b0c6181b6a2"
      },
      "source": [
        "grid1 = [\n",
        "  [\"1\",\"1\",\"0\",\"0\",\"0\"],\n",
        "  [\"1\",\"1\",\"0\",\"0\",\"0\"],\n",
        "  [\"0\",\"0\",\"1\",\"0\",\"0\"],\n",
        "  [\"0\",\"0\",\"0\",\"1\",\"1\"]\n",
        "]\n",
        "\n",
        "grid2 = [\n",
        "  [\"1\",\"1\",\"1\",\"1\",\"0\"],\n",
        "  [\"1\",\"1\",\"0\",\"1\",\"0\"],\n",
        "  [\"1\",\"1\",\"0\",\"0\",\"0\"],\n",
        "  [\"0\",\"0\",\"0\",\"0\",\"0\"]\n",
        "]\n",
        "\n",
        "grid3 = []\n",
        "grid4 = [[]]\n",
        "\n",
        "print(num_islands(grid1))\n",
        "print(num_islands(grid2))\n",
        "print(num_islands(grid3))\n",
        "print(num_islands(grid4))"
      ],
      "execution_count": null,
      "outputs": [
        {
          "output_type": "stream",
          "name": "stdout",
          "text": [
            "[['0', '0', '0', '0', '0'], ['0', '0', '0', '0', '0'], ['0', '0', '1', '0', '0'], ['0', '0', '0', '1', '1']]\n",
            "[['0', '0', '0', '0', '0'], ['0', '0', '0', '0', '0'], ['0', '0', '0', '0', '0'], ['0', '0', '0', '1', '1']]\n",
            "[['0', '0', '0', '0', '0'], ['0', '0', '0', '0', '0'], ['0', '0', '0', '0', '0'], ['0', '0', '0', '0', '0']]\n",
            "3\n",
            "[['0', '0', '0', '0', '0'], ['0', '0', '0', '0', '0'], ['0', '0', '0', '0', '0'], ['0', '0', '0', '0', '0']]\n",
            "1\n",
            "0\n",
            "0\n"
          ]
        }
      ]
    },
    {
      "cell_type": "markdown",
      "metadata": {
        "id": "CrZYcg7J-dnP"
      },
      "source": [
        "**17. Minimum path sum**\n",
        "\n",
        "Given a m x n grid filled with non-negative numbers, find a path from top left to bottom right, which minimizes the sum of all numbers along its path.\n",
        "\n",
        "Note: You can only move either down or right at any point in time.\n",
        "\n",
        "![image.png](data:image/png;base64,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)\n"
      ]
    },
    {
      "cell_type": "code",
      "metadata": {
        "id": "5shveYvl-oyB"
      },
      "source": [
        "from typing import List\n",
        "\n",
        "def min_path_sum(grid: List[List[int]]) -> int:\n",
        "  \"\"\"\n",
        "    :type grid: List[List[int]]\n",
        "    :rtype: int\n",
        "  \"\"\"\n",
        "  row, col = len(grid), len(grid[0])\n",
        "  dis = [ [0 for c in range(col)] for r in range(row)]\n",
        "  dis[0][0] = grid[0][0]\n",
        "  # Going down first row\n",
        "  for i in range(1, row):\n",
        "    dis[i][0] = dis[i-1][0] + grid[i][0]\n",
        "  # Going right first column\n",
        "  for i in range(1, col):\n",
        "    dis[0][i] = dis[0][i-1] + grid[0][i]\n",
        "  # Fill out the reset\n",
        "  for i in range(1, row):\n",
        "    for j in range(1, col):\n",
        "      dis[i][j] = grid[i][j] + min(dis[i-1][j], dis[i][j-1])\n",
        "  return dis[-1][-1]"
      ],
      "execution_count": null,
      "outputs": []
    },
    {
      "cell_type": "code",
      "metadata": {
        "id": "uOIQX6MmEsH8",
        "colab": {
          "base_uri": "https://localhost:8080/"
        },
        "outputId": "65815113-31d2-4117-cf7d-eb2c9d179d4f"
      },
      "source": [
        "grid1 = [\n",
        "  [1,3,1],\n",
        "  [1,5,1],\n",
        "  [4,2,1]\n",
        "]\n",
        "\n",
        "grid2 = [\n",
        "  [1,2,3],\n",
        "  [4,5,6]\n",
        "]\n",
        "\n",
        "print(min_path_sum(grid1))\n",
        "print(min_path_sum(grid2))"
      ],
      "execution_count": null,
      "outputs": [
        {
          "output_type": "stream",
          "name": "stdout",
          "text": [
            "7\n",
            "12\n"
          ]
        }
      ]
    },
    {
      "cell_type": "markdown",
      "metadata": {
        "id": "-YovGRwsG1gC"
      },
      "source": [
        "**18.Search in rotated sorted array**\n",
        "\n",
        "![image.png](data:image/png;base64,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)"
      ]
    },
    {
      "cell_type": "code",
      "metadata": {
        "id": "AdL8iji1G68E"
      },
      "source": [
        "# Formula: If a sorted array is shifted, if you take the middle, always one side will be sorted. Take the recursion according to that rule.\n",
        "\n",
        "# 1- take the middle and compare with target, if matches return.\n",
        "# 2- if middle is bigger than left side, it means left is sorted\n",
        "# 2a- if [left] < target < [middle] then do recursion with left, middle - 1 (right)\n",
        "# 2b- left side is sorted, but target not in here, search on right side middle + 1 (left), right\n",
        "# 3- if middle is less than right side, it means right is sorted\n",
        "# 3a- if [middle] < target < [right] then do recursion with middle + 1 (left), right\n",
        "# 3b- right side is sorted, but target not in here, search on left side left, middle -1 (right)\n",
        "\n",
        "def search(nums: List[int], target: int) -> int:\n",
        "  \"\"\"\n",
        "  Rule of thumb: If a sorted array is shifted, if you take the middle, \n",
        "  always one side will be sorted. Take the recursion according to that rule\n",
        "  \"\"\"\n",
        "\n",
        "  low, high = 0, len(nums) - 1\n",
        "\n",
        "  while low <= high:\n",
        "      \n",
        "      mid = low + (high-low) // 2\n",
        "      print(f\"low {low}, high {high}, mid {mid}\")\n",
        "            \n",
        "      # 1- take the middle and compare with target, if matches return.\n",
        "      if nums[mid] == target:\n",
        "          return mid\n",
        "      \n",
        "      # 2- if middle is bigger than left side, it means left is sorted\n",
        "      elif nums[low] <= nums[mid]:\n",
        "          if target >= nums[low] and target < nums[mid]:\n",
        "              high = mid - 1\n",
        "          else:\n",
        "              low = mid + 1\n",
        "      # 3- if middle is lower than left side, it means right is sorted\n",
        "      else:\n",
        "          if target > nums[mid] and target <= nums[high]:\n",
        "              low = mid + 1\n",
        "          else:\n",
        "              high = mid - 1\n",
        "  return -1\n"
      ],
      "execution_count": null,
      "outputs": []
    },
    {
      "cell_type": "code",
      "metadata": {
        "id": "IMWJzbTsLAw8",
        "colab": {
          "base_uri": "https://localhost:8080/"
        },
        "outputId": "2d9efb59-9d7e-47de-8cab-20f89eb46d5d"
      },
      "source": [
        "nums1 = [4,5,6,7,0,1,2]\n",
        "target1 = 0\n",
        "\n",
        "nums2 = [4,5,6,7,0,1,2]\n",
        "target2 = 3\n",
        "\n",
        "nums3 = [1]\n",
        "target3 = 0\n",
        "\n",
        "print(search(nums1, target1))\n",
        "print(search(nums2, target2))\n",
        "print(search(nums3, target3))\n"
      ],
      "execution_count": null,
      "outputs": [
        {
          "output_type": "stream",
          "name": "stdout",
          "text": [
            "low 0, high 6, mid 3\n",
            "low 4, high 6, mid 5\n",
            "low 4, high 4, mid 4\n",
            "4\n",
            "low 0, high 6, mid 3\n",
            "low 4, high 6, mid 5\n",
            "low 6, high 6, mid 6\n",
            "-1\n",
            "low 0, high 0, mid 0\n",
            "-1\n"
          ]
        }
      ]
    },
    {
      "cell_type": "markdown",
      "metadata": {
        "id": "FBcgaOF4b7FY"
      },
      "source": [
        "**19. Construct binary search tree from preoder traversal**\n",
        "\n",
        "![image.png](data:image/png;base64,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)"
      ]
    },
    {
      "cell_type": "code",
      "metadata": {
        "id": "qKwrygQZbqh4"
      },
      "source": [
        "from typing import List\n",
        "\n",
        "class TreeNode:\n",
        "    def __init__(self, val=0, left=None, right=None):\n",
        "        self.val = val\n",
        "        self.left = left\n",
        "        self.right = right\n",
        "\n",
        "def bst_from_preorder(preorder: List[int]):\n",
        "    if not preorder:\n",
        "        return None\n",
        "    node = TreeNode(preorder[0])\n",
        "    # Find right side - the first node that's larger than root\n",
        "    right = 1\n",
        "    while right < len(preorder):\n",
        "        if preorder[right] > preorder[0]:\n",
        "            # Found our right side\n",
        "            break\n",
        "        right += 1\n",
        "    node.left = bst_from_preorder(preorder[1:right])\n",
        "    node.right = bst_from_preorder(preorder[right:])\n",
        "    return node\n",
        "\n",
        "\n",
        "def level_order_traversal(root):\n",
        "  \"\"\"\n",
        "    Traverse tree by tree level\n",
        "  \"\"\"\n",
        "  nodes = []\n",
        "  stack = [root]\n",
        "  while stack:\n",
        "    # Pop first element from a tree\n",
        "    node = stack.pop(0)\n",
        "    # Append node value to thre result \n",
        "    nodes.append(node.val if node else None)\n",
        "    if node and (node.left or node.right):\n",
        "        stack.extend([node.left, node.right])\n",
        "  return nodes"
      ],
      "execution_count": null,
      "outputs": []
    },
    {
      "cell_type": "code",
      "metadata": {
        "id": "dr1L6z3alB8U",
        "colab": {
          "base_uri": "https://localhost:8080/"
        },
        "outputId": "eff658a0-74b8-47ac-a376-11357957d1ea"
      },
      "source": [
        "preorder = [8,5,1,7,10,12]\n",
        "\n",
        "tree = bst_from_preorder(preorder)\n",
        "print(level_order_traversal(tree))"
      ],
      "execution_count": null,
      "outputs": [
        {
          "output_type": "stream",
          "name": "stdout",
          "text": [
            "[8, 5, 10, 1, 7, None, 12]\n"
          ]
        }
      ]
    },
    {
      "cell_type": "markdown",
      "metadata": {
        "id": "D2HFi34Ck-A9"
      },
      "source": [
        "**20. Leftmost column with atleast a one**\n",
        "\n",
        "(This problem is an interactive problem.)\n",
        "\n",
        "A row-sorted binary matrix means that all elements are 0 or 1 and each row of the matrix is sorted in non-decreasing order.\n",
        "\n",
        "Given a row-sorted binary matrix binaryMatrix, return the index (0-indexed) of the leftmost column with a 1 in it. If such an index does not exist, return -1.\n",
        "\n",
        "You can't access the Binary Matrix directly. You may only access the matrix using a BinaryMatrix interface:\n",
        "\n",
        "    BinaryMatrix.get(row, col) returns the element of the matrix at index (row, col) (0-indexed).\n",
        "    BinaryMatrix.dimensions() returns the dimensions of the matrix as a list of 2 elements [rows, cols], which means the matrix is rows x cols.\n",
        "\n",
        "Submissions making more than 1000 calls to BinaryMatrix.get will be judged Wrong Answer. Also, any solutions that attempt to circumvent the judge will result in disqualification.\n",
        "\n",
        "For custom testing purposes, the input will be the entire binary matrix mat. You will not have access to the binary matrix directly.\n",
        "\n",
        "![image.png](data:image/png;base64,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)"
      ]
    },
    {
      "cell_type": "code",
      "metadata": {
        "id": "kmJIZIoErglp"
      },
      "source": [
        "from typing import List\n",
        "\n",
        "def left_most_column_with_one(matrix: List[List[int]]) -> int:\n",
        "  result = -1\n",
        "  row = len(matrix) - 1\n",
        "  column = len(matrix[0]) - 1\n",
        "  while row >= 0 and column >= 0:\n",
        "    # if column has value 1 iterate over column \n",
        "    if matrix[row][column] == 1:\n",
        "      result = column\n",
        "      column -= 1\n",
        "    else:\n",
        "      # Otherwise moved up to the next row\n",
        "      row -= 1\n",
        "  return result "
      ],
      "execution_count": null,
      "outputs": []
    },
    {
      "cell_type": "code",
      "metadata": {
        "id": "VevwqSINu-TJ",
        "colab": {
          "base_uri": "https://localhost:8080/"
        },
        "outputId": "3a66f69f-889a-4601-b8ab-b85b92341530"
      },
      "source": [
        "matrix1 = [[0,0],[1,1]]\n",
        "matrix2 = [[0,0],[0,1]]\n",
        "matrix3 = [[0,0],[0,0]]\n",
        "matrix4 = [[0,0,0,1],[0,0,1,1],[0,1,1,1]]\n",
        "\n",
        "print(f'Output: {left_most_column_with_one(matrix1):>2}')\n",
        "print(f'Output: {left_most_column_with_one(matrix2):>2}')\n",
        "print(f'Output: {left_most_column_with_one(matrix3):>2}')\n",
        "print(f'Output: {left_most_column_with_one(matrix4):>2}')"
      ],
      "execution_count": null,
      "outputs": [
        {
          "output_type": "stream",
          "name": "stdout",
          "text": [
            "Output:  0\n",
            "Output:  1\n",
            "Output: -1\n",
            "Output:  1\n"
          ]
        }
      ]
    },
    {
      "cell_type": "markdown",
      "metadata": {
        "id": "3uqbZTszwMqG"
      },
      "source": [
        "**21. Subarray sum equals K**\n",
        "\n",
        "Given an array of integers nums and an integer k, return the total number of continuous subarrays whose sum equals to k.\n",
        "\n",
        "![image.png](data:image/png;base64,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)"
      ]
    },
    {
      "cell_type": "code",
      "metadata": {
        "id": "P0cJ7Xph2ST2"
      },
      "source": [
        "# Logic\n",
        "# Iterate over the array and keep a track of sum of all the encountered elements (prefix sum). Let's call it as currentSum. Whenever, we find currentSum == k, we have found a required subarray.\n",
        "# While iterating, also keep a track of all the currentSum which is calculated. This is done because at any point if currentSum exceeds k then we can check whether currentSum - k has already been found or not. \n",
        "# If it does then we have found more subarrays.\n",
        "\n",
        "def subarray_sum(array: List[int], k: int):\n",
        "  current_sum = 0\n",
        "  subarrays_count = 0 \n",
        "  hashmap = {}\n",
        "  for num in array:\n",
        "    current_sum += num\n",
        "    if current_sum == k:\n",
        "      subarrays_count += 1\n",
        "    if current_sum - k in hashmap:\n",
        "      subarrays_count += hashmap[current_sum - k]\n",
        "\n",
        "    if current_sum in hashmap:\n",
        "      hashmap[current_sum] += 1\n",
        "    else:\n",
        "      hashmap[current_sum] = 1\n",
        "  return subarrays_count"
      ],
      "execution_count": null,
      "outputs": []
    },
    {
      "cell_type": "code",
      "metadata": {
        "id": "IzwKXpSz3QkH",
        "colab": {
          "base_uri": "https://localhost:8080/"
        },
        "outputId": "78771d6e-cf62-48ef-d493-d7d38c815625"
      },
      "source": [
        "array1 = [1,1,1]\n",
        "k1 = 2\n",
        "\n",
        "array2 = [1,2,3]\n",
        "k2 = 3\n",
        "\n",
        "print(f'Output: {subarray_sum(array1, k1)}')\n",
        "print(f'Output: {subarray_sum(array2, k2)}')"
      ],
      "execution_count": null,
      "outputs": [
        {
          "output_type": "stream",
          "name": "stdout",
          "text": [
            "Output: 2\n",
            "Output: 2\n"
          ]
        }
      ]
    },
    {
      "cell_type": "markdown",
      "metadata": {
        "id": "8aeTOb4728Nv"
      },
      "source": [
        "**22.Bitwise and of Numbers Range**\n",
        "\n",
        "![image.png](data:image/png;base64,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)"
      ]
    },
    {
      "cell_type": "code",
      "metadata": {
        "id": "wDlhKyL23DKw"
      },
      "source": [
        "def range_bitwise_and(m: int, n: int) -> int:\n",
        "  shift = 0   \n",
        "  # find the common 1-bits\n",
        "  while m != n:\n",
        "      m = m >> 1\n",
        "      n = n >> 1\n",
        "      shift += 1\n",
        "  return m << shift"
      ],
      "execution_count": 34,
      "outputs": []
    },
    {
      "cell_type": "code",
      "metadata": {
        "colab": {
          "base_uri": "https://localhost:8080/"
        },
        "id": "vMe5pgKB9Vnj",
        "outputId": "d4e540ee-d57c-4a4e-d826-3d7891d028fc"
      },
      "source": [
        "print(range_bitwise_and(9, 12))\n",
        "print(range_bitwise_and(5, 7))\n",
        "print(range_bitwise_and(0, 0))\n",
        "print(range_bitwise_and(1, 2147483647))"
      ],
      "execution_count": 37,
      "outputs": [
        {
          "output_type": "stream",
          "name": "stdout",
          "text": [
            "8\n",
            "4\n",
            "0\n",
            "0\n"
          ]
        }
      ]
    },
    {
      "cell_type": "markdown",
      "metadata": {
        "id": "rClZO7Ru-1wp"
      },
      "source": [
        "**23.LRU cache**\n",
        "\n",
        "Design a data structure that follows the constraints of a Least Recently Used (LRU) cache.\n",
        "\n",
        "Implement the LRUCache class:\n",
        "\n",
        "    LRUCache(int capacity) Initialize the LRU cache with positive size capacity.\n",
        "    int get(int key) Return the value of the key if the key exists, otherwise return -1.\n",
        "    void put(int key, int value) Update the value of the key if the key exists. Otherwise, add the key-value pair to the cache. If the number of keys exceeds the capacity from this operation, evict the least recently used key.\n",
        "\n",
        "The functions get and put must each run in O(1) average time complexity.\n",
        "\n",
        "\n",
        "Example 1:\n",
        "```\n",
        "Input\n",
        "[\"LRUCache\", \"put\", \"put\", \"get\", \"put\", \"get\", \"put\", \"get\", \"get\", \"get\"]\n",
        "[[2], [1, 1], [2, 2], [1], [3, 3], [2], [4, 4], [1], [3], [4]]\n",
        "Output\n",
        "[null, null, null, 1, null, -1, null, -1, 3, 4]\n",
        "\n",
        "Explanation\n",
        "LRUCache lRUCache = new LRUCache(2);\n",
        "lRUCache.put(1, 1); // cache is {1=1}\n",
        "lRUCache.put(2, 2); // cache is {1=1, 2=2}\n",
        "lRUCache.get(1);    // return 1\n",
        "lRUCache.put(3, 3); // LRU key was 2, evicts key 2, cache is {1=1, 3=3}\n",
        "lRUCache.get(2);    // returns -1 (not found)\n",
        "lRUCache.put(4, 4); // LRU key was 1, evicts key 1, cache is {4=4, 3=3}\n",
        "lRUCache.get(1);    // return -1 (not found)\n",
        "lRUCache.get(3);    // return 3\n",
        "lRUCache.get(4);    // return 4\n",
        "```\n",
        "\n"
      ]
    },
    {
      "cell_type": "code",
      "metadata": {
        "id": "10lz-PrT-6m6"
      },
      "source": [
        "from collections import OrderedDict\n",
        "\n",
        "class LRUCache:\n",
        "\n",
        "  def __init__(self, capacity: int):\n",
        "    self.capacity = capacity\n",
        "    self.hashmap = OrderedDict()\n",
        "\n",
        "  def get(self, key: int) -> int:\n",
        "    \"\"\"\n",
        "      Get the key of the cache\n",
        "    \"\"\"\n",
        "    # Check if key is already in OrderedDictioanry and move it to the end\n",
        "    # as the most recent\n",
        "    if key in self.hashmap:\n",
        "      self.hashmap.move_to_end(key)\n",
        "      return self.hashmap[key]\n",
        "    return -1\n",
        "\n",
        "  def put(self, key: int, value: int) -> None:\n",
        "    \"\"\"\n",
        "      Insert value to the cache\n",
        "    \"\"\"\n",
        "    # Check if key is already in OrderedDictioanry and move it to the end\n",
        "    # as the most recent\n",
        "    if key in self.hashmap:\n",
        "      self.hashmap.move_to_end(key)\n",
        "    self.hashmap[key] = value\n",
        "    # if hashmap exceeds the capacity remove the least frequent element\n",
        "    if len(self.hashmap) > self.capacity:    \n",
        "      self.hashmap.popitem(last=False)"
      ],
      "execution_count": 50,
      "outputs": []
    },
    {
      "cell_type": "code",
      "metadata": {
        "colab": {
          "base_uri": "https://localhost:8080/"
        },
        "id": "SaBho1MiA6Ia",
        "outputId": "f5e10543-d9fc-4d24-86be-0cbb98b61090"
      },
      "source": [
        "lru_cache = LRUCache(2)\n",
        "lru_cache.put(1, 1)\n",
        "lru_cache.put(2, 2)\n",
        "print(lru_cache.get(1))\n",
        "lru_cache.put(3, 3)\n",
        "print(lru_cache.get(2))\n",
        "lru_cache.put(4, 4)\n",
        "print(lru_cache.get(1))\n",
        "print(lru_cache.get(3))\n",
        "print(lru_cache.get(4))\n",
        "print(lru_cache.hashmap)"
      ],
      "execution_count": 54,
      "outputs": [
        {
          "output_type": "stream",
          "name": "stdout",
          "text": [
            "1\n",
            "-1\n",
            "-1\n",
            "3\n",
            "4\n",
            "OrderedDict([(3, 3), (4, 4)])\n"
          ]
        }
      ]
    },
    {
      "cell_type": "markdown",
      "metadata": {
        "id": "XLI1ora0Eg2A"
      },
      "source": [
        "**24.Jump game**\n",
        "\n",
        "You are given an integer array nums. You are initially positioned at the array's first index, and each element in the array represents your maximum jump length at that position.\n",
        "\n",
        "Return true if you can reach the last index, or false otherwise.\n",
        "\n",
        "Example 1:\n",
        "```\n",
        "Input: nums = [2,3,1,1,4]\n",
        "Output: true\n",
        "Explanation: Jump 1 step from index 0 to 1, then 3 steps to the last index.\n",
        "```\n",
        "Example 2:\n",
        "```\n",
        "Input: nums = [3,2,1,0,4]\n",
        "Output: false\n",
        "Explanation: You will always arrive at index 3 no matter what. Its maximum jump length is 0, which makes it impossible to reach the last index.\n",
        "```\n",
        "\n",
        "\n"
      ]
    },
    {
      "cell_type": "code",
      "metadata": {
        "id": "uz5MdJfgMayv"
      },
      "source": [
        "def can_jump(nums: list) -> bool:\n",
        "  reachable = 0\n",
        "\n",
        "  for indx, num in enumerate(nums):\n",
        "    # Iterate over each element and get the most reachable element \n",
        "    if reachable < indx:\n",
        "      return False\n",
        "    reachable = max(reachable, indx + nums[indx])\n",
        "  return True"
      ],
      "execution_count": 82,
      "outputs": []
    },
    {
      "cell_type": "code",
      "metadata": {
        "colab": {
          "base_uri": "https://localhost:8080/"
        },
        "id": "DArtu8cINMNM",
        "outputId": "cc94f59e-2c14-41fa-f643-3a0bf2f4278a"
      },
      "source": [
        "nums1 = [2,3,1,1,4]\n",
        "nums2 = [3,2,1,0,4]\n",
        "\n",
        "print(can_jump(nums1))\n",
        "print(can_jump(nums2))"
      ],
      "execution_count": 80,
      "outputs": [
        {
          "output_type": "stream",
          "name": "stdout",
          "text": [
            "True\n",
            "False\n"
          ]
        }
      ]
    }
  ]
}