{
  "nbformat": 4,
  "nbformat_minor": 5,
  "metadata": {
    "kernelspec": {
      "display_name": "Python 3",
      "language": "python",
      "name": "python3"
    },
    "language_info": {
      "codemirror_mode": {
        "name": "ipython",
        "version": 3
      },
      "file_extension": ".py",
      "mimetype": "text/x-python",
      "name": "python",
      "nbconvert_exporter": "python",
      "pygments_lexer": "ipython3",
      "version": "3.9.2"
    },
    "colab": {
      "name": "netsuite_interview_task.ipynb",
      "provenance": [],
      "include_colab_link": true
    }
  },
  "cells": [
    {
      "cell_type": "markdown",
      "metadata": {
        "id": "view-in-github",
        "colab_type": "text"
      },
      "source": [
        "<a href=\"https://colab.research.google.com/github/DSNortsev/Algorithms/blob/master/netsuite_interview_task.ipynb\" target=\"_parent\"><img src=\"https://colab.research.google.com/assets/colab-badge.svg\" alt=\"Open In Colab\"/></a>"
      ]
    },
    {
      "cell_type": "code",
      "metadata": {
        "colab": {
          "base_uri": "https://localhost:8080/"
        },
        "id": "assured-preliminary",
        "outputId": "7c33a6ed-206a-4ee6-ce4e-ec79ea660661"
      },
      "source": [
        "brackets1 = [[0, 0.10], [10000, 0.15], [20000, 0.20], [30000, 0.30], [50000, 0.35]]\n",
        "brackets2 = [[0, 0.10]]\n",
        "brackets3 = []\n",
        "\n",
        "def calculate_taxes(income, brackets):\n",
        "  total_tax_income = 0\n",
        "\n",
        "  if not brackets:\n",
        "    # Empty tax brackets\n",
        "    return total_tax_income\n",
        "\n",
        "  if len(brackets) == 1:\n",
        "    # Case when only one tax bracket\n",
        "    lower_bound = brackets[0][0]\n",
        "    tax_percentage = brackets[0][1]\n",
        "    total_tax_income  = (income - lower_bound) * tax_percentage\n",
        "    return total_tax_income\n",
        "\n",
        "  for indx in range(1, len(brackets)):\n",
        "    # Start iterating from the second element\n",
        "    lower_bound = brackets[indx-1]\n",
        "    upper_bound = brackets[indx]\n",
        "\n",
        "    if income > upper_bound[0]:\n",
        "      tax_amount = upper_bound[0] - lower_bound[0]\n",
        "      total_tax_income  +=  tax_amount * lower_bound[1]    \n",
        "    elif income <= upper_bound[0]:\n",
        "      tax_amount = income - lower_bound[0]\n",
        "      total_tax_income  += tax_amount * lower_bound[1]\n",
        "      break\n",
        "\n",
        "    if indx == len(brackets) - 1:\n",
        "      # Calculate income taxes for the salary exceeding the last upper bound bracket\n",
        "      tax_amount = income - upper_bound[0]\n",
        "      total_tax_income  += tax_amount * upper_bound[1]\n",
        "\n",
        "  return total_tax_income \n",
        "\n",
        "\n",
        "print(f'Total income tax: {calculate_taxes(0, brackets1):>7} of     0$ income')\n",
        "print(f'Total income tax: {calculate_taxes(8000, brackets1):>7} of  8000$ income')\n",
        "print(f'Total income tax: {calculate_taxes(10000, brackets1):>7} of 10000$ income')\n",
        "print(f'Total income tax: {calculate_taxes(19000, brackets1):>7} of 19000$ income')\n",
        "print(f'Total income tax: {calculate_taxes(20000, brackets1):>7} of 20000$ income')\n",
        "print(f'Total income tax: {calculate_taxes(29000, brackets1):>7} of 29000$ income')\n",
        "print(f'Total income tax: {calculate_taxes(30000, brackets1):>7} of 30000$ income')\n",
        "print(f'Total income tax: {calculate_taxes(49000, brackets1):>7} of 49000$ income')\n",
        "print(f'Total income tax: {calculate_taxes(50000, brackets1):>7} of 50000$ income')\n",
        "print(f'Total income tax: {calculate_taxes(55000, brackets1):>7} of 55000$ income')\n",
        "print(f'Total income tax: {calculate_taxes(55000, brackets2):>7} of 55000$ income')\n",
        "print(f'Total income tax: {calculate_taxes(55000, brackets3):>7} of 55000$ income')"
      ],
      "id": "assured-preliminary",
      "execution_count": 46,
      "outputs": [
        {
          "output_type": "stream",
          "text": [
            "Total income tax:     0.0 of     0$ income\n",
            "Total income tax:   800.0 of  8000$ income\n",
            "Total income tax:  1000.0 of 10000$ income\n",
            "Total income tax:  2350.0 of 19000$ income\n",
            "Total income tax:  2500.0 of 20000$ income\n",
            "Total income tax:  4300.0 of 29000$ income\n",
            "Total income tax:  4500.0 of 30000$ income\n",
            "Total income tax: 10200.0 of 49000$ income\n",
            "Total income tax: 10500.0 of 50000$ income\n",
            "Total income tax: 12250.0 of 55000$ income\n",
            "Total income tax:  5500.0 of 55000$ income\n",
            "Total income tax:       0 of 55000$ income\n"
          ],
          "name": "stdout"
        }
      ]
    }
  ]
}