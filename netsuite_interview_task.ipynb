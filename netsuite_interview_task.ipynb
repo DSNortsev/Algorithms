{
  "nbformat": 4,
  "nbformat_minor": 5,
  "metadata": {
    "kernelspec": {
      "display_name": "Python 3",
      "language": "python",
      "name": "python3"
    },
    "language_info": {
      "codemirror_mode": {
        "name": "ipython",
        "version": 3
      },
      "file_extension": ".py",
      "mimetype": "text/x-python",
      "name": "python",
      "nbconvert_exporter": "python",
      "pygments_lexer": "ipython3",
      "version": "3.9.2"
    },
    "colab": {
      "name": "netsuite_interview_task.ipynb",
      "provenance": [],
      "include_colab_link": true
    }
  },
  "cells": [
    {
      "cell_type": "markdown",
      "metadata": {
        "id": "view-in-github",
        "colab_type": "text"
      },
      "source": [
        "<a href=\"https://colab.research.google.com/github/DSNortsev/Algorithms/blob/master/netsuite_interview_task.ipynb\" target=\"_parent\"><img src=\"https://colab.research.google.com/assets/colab-badge.svg\" alt=\"Open In Colab\"/></a>"
      ]
    },
    {
      "cell_type": "code",
      "metadata": {
        "colab": {
          "base_uri": "https://localhost:8080/"
        },
        "id": "assured-preliminary",
        "outputId": "6460da8c-f355-4a04-ebbf-348c83c76443"
      },
      "source": [
        "brackets = [[0, 0.10], [10000, 0.15], [20000, 0.20], [30000, 0.30], [50000, 0.35]]\n",
        "def calculate_taxes(income, brackets):\n",
        "  total_tax = 0\n",
        "\n",
        "  if not brackets:\n",
        "    print(\"Empty tax brackets\")\n",
        "\n",
        "  if len(brackets) == 1:\n",
        "    \"\"\"Case when only one tax bracket\"\"\"\n",
        "    lower_bound = brackets[0][0]\n",
        "    tax_percentage = brackets[0][1]\n",
        "    total_tax = (income - lower_bound) * tax_percentag\n",
        "    return total_tax\n",
        "\n",
        "\n",
        "  for indx in range(1, len(brackets)):\n",
        "    # Start iterating from second element\n",
        "    lower_bound = brackets[indx-1]\n",
        "    upper_bound = brackets[indx]\n",
        "\n",
        "    if income > upper_bound[0]:\n",
        "      tax_amount = upper_bound[0] - lower_bound[0]\n",
        "      total_tax +=  tax_amount * lower_bound[1]\n",
        "\n",
        "    elif income <= upper_bound[0]:\n",
        "      tax_amount = income - lower_bound[0]\n",
        "      total_taxes += tax_amount * lower_bound[1]\n",
        "\n",
        "    if indx == len(brackets) - 1:\n",
        "      # Calculate income taxes if salary exceeds the last upper bound bracket\n",
        "      tax_amount = income - upper_bound[0]\n",
        "      total_tax += tax_amount * upper_bound[1]\n",
        "\n",
        "  return total_tax\n",
        "\n",
        "\n",
        "calculate_taxes(55000, brackets)"
      ],
      "id": "assured-preliminary",
      "execution_count": 1,
      "outputs": [
        {
          "output_type": "execute_result",
          "data": {
            "text/plain": [
              "12250.0"
            ]
          },
          "metadata": {
            "tags": []
          },
          "execution_count": 1
        }
      ]
    }
  ]
}