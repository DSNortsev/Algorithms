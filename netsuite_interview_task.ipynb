{
 "cells": [
  {
   "cell_type": "code",
   "execution_count": 1,
   "id": "assured-preliminary",
   "metadata": {},
   "outputs": [
    {
     "data": {
      "text/plain": [
       "12250.0"
      ]
     },
     "execution_count": 1,
     "metadata": {},
     "output_type": "execute_result"
    }
   ],
   "source": [
    "brackets = [[0, 0.10], [10000, 0.15], [20000, 0.20], [30000, 0.30], [50000, 0.35]]\n",
    "def calculate_taxes(income, brackets):\n",
    "  total_tax = 0\n",
    "\n",
    "  if not brackets:\n",
    "    print(\"Empty tax brackets\")\n",
    "\n",
    "  if len(brackets) == 1:\n",
    "    \"\"\"Case when only onbe tax bracket\"\"\"\n",
    "    lower_bound = brackets[0][0]\n",
    "    tax_percentage = brackets[0][1]\n",
    "    total_tax = (income - lower_bound) * tax_percentag\n",
    "    return total_tax\n",
    "\n",
    "\n",
    "  for indx in range(1, len(brackets)):\n",
    "    lower_bound = brackets[indx-1]\n",
    "    upper_bound = brackets[indx]\n",
    "\n",
    "    if income > upper_bound[0]:\n",
    "      tax_amount = upper_bound[0] - lower_bound[0]\n",
    "      total_tax +=  tax_amount * lower_bound[1]\n",
    "\n",
    "    elif income <= upper_bound[0]:\n",
    "      tax_amount = income - lower_bound[0]\n",
    "      total_taxes += tax_amount * lower_bound[1]\n",
    "\n",
    "    if indx == len(brackets) - 1:\n",
    "      tax_amount = income - upper_bound[0]\n",
    "      total_tax += tax_amount * upper_bound[1]\n",
    "\n",
    "  return total_tax\n",
    "\n",
    "\n",
    "calculate_taxes(55000, brackets)"
   ]
  }
 ],
 "metadata": {
  "kernelspec": {
   "display_name": "Python 3",
   "language": "python",
   "name": "python3"
  },
  "language_info": {
   "codemirror_mode": {
    "name": "ipython",
    "version": 3
   },
   "file_extension": ".py",
   "mimetype": "text/x-python",
   "name": "python",
   "nbconvert_exporter": "python",
   "pygments_lexer": "ipython3",
   "version": "3.9.2"
  }
 },
 "nbformat": 4,
 "nbformat_minor": 5
}
