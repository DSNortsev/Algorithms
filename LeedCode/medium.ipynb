{
  "nbformat": 4,
  "nbformat_minor": 5,
  "metadata": {
    "kernelspec": {
      "display_name": "Python 3",
      "language": "python",
      "name": "python3"
    },
    "language_info": {
      "codemirror_mode": {
        "name": "ipython",
        "version": 3
      },
      "file_extension": ".py",
      "mimetype": "text/x-python",
      "name": "python",
      "nbconvert_exporter": "python",
      "pygments_lexer": "ipython3",
      "version": "3.9.2"
    },
    "colab": {
      "name": "medium.ipynb",
      "provenance": [],
      "include_colab_link": true
    }
  },
  "cells": [
    {
      "cell_type": "markdown",
      "metadata": {
        "id": "view-in-github",
        "colab_type": "text"
      },
      "source": [
        "<a href=\"https://colab.research.google.com/github/DSNortsev/Algorithms/blob/master/LeedCode/medium.ipynb\" target=\"_parent\"><img src=\"https://colab.research.google.com/assets/colab-badge.svg\" alt=\"Open In Colab\"/></a>"
      ]
    },
    {
      "cell_type": "markdown",
      "metadata": {
        "id": "lX8flsWTq49R"
      },
      "source": [
        "**1041. Robot Bounded In Circle**\n",
        "\n",
        "On an infinite plane, a robot initially stands at (0, 0) and faces north. The robot can receive one of three instructions:\n",
        "\n",
        "    \"G\": go straight 1 unit;\n",
        "    \"L\": turn 90 degrees to the left;\n",
        "    \"R\": turn 90 degrees to the right.\n",
        "\n",
        "The robot performs the instructions given in order, and repeats them forever.\n",
        "\n",
        "Return true if and only if there exists a circle in the plane such that the robot never leaves the circle.\n",
        "\n",
        "**Example 1:**\n",
        "\n",
        "```\n",
        "Input: instructions = \"GGLLGG\"\n",
        "Output: true\n",
        "Explanation: The robot moves from (0,0) to (0,2), turns 180 degrees, and then returns to (0,0).\n",
        "When repeating these instructions, the robot remains in the circle of radius 2 centered at the origin.\n",
        "```\n",
        "\n",
        "**Example 2:**\n",
        "\n",
        "```\n",
        "Input: instructions = \"GG\"\n",
        "Output: false\n",
        "Explanation: The robot moves north indefinitely.\n",
        "```\n",
        "\n",
        "\n",
        "\n",
        "Example 3:\n",
        "\n",
        "```\n",
        "Input: instructions = \"GL\"\n",
        "Output: true\n",
        "Explanation: The robot moves from (0, 0) -> (0, 1) -> (-1, 1) -> (-1, 0) -> (0, 0) -> ...\n",
        "```\n",
        "\n",
        "Constraints:\n",
        "\n",
        "    1 <= instructions.length <= 100\n",
        "    instructions[i] is 'G', 'L' or, 'R'\n"
      ],
      "id": "lX8flsWTq49R"
    },
    {
      "cell_type": "code",
      "metadata": {
        "id": "fallen-silence"
      },
      "source": [
        "class Solution:\n",
        "    def isRobotBounded(self, instructions: str) -> bool:\n",
        "        # x,y coordinates North, East, South, West\n",
        "        directions = [(0,1), (1,0), (0,-1), (-1,0)]\n",
        "        robot_position = [0,0]\n",
        "        # Initial direction is North, which is first element in directions \n",
        "        robot_direction = 0\n",
        "        \n",
        "        # Iterate over commands\n",
        "        for i in range(0, len(instructions)):\n",
        "            current_move = instructions[i]\n",
        "            \n",
        "            if current_move == 'R':\n",
        "                robot_direction = (robot_direction + 1) % 4\n",
        "            elif current_move == 'L':\n",
        "                # Add 3 to go back by one\n",
        "                robot_direction = (robot_direction + 3) % 4\n",
        "            else:\n",
        "                robot_position = [sum(i) for i in zip(robot_position, directions[robot_direction])]\n",
        "                \n",
        "        # Return True if robot is in initial position or not facing North, maximum\n",
        "        # in 4th loop it will get back\n",
        "        return  robot_position == [0, 0] or robot_direction != 0  "
      ],
      "id": "fallen-silence",
      "execution_count": null,
      "outputs": []
    },
    {
      "cell_type": "markdown",
      "metadata": {
        "id": "raWabkGmJlxi"
      },
      "source": [
        "### Calcuate progressive taxes\n",
        "\n",
        "\n"
      ],
      "id": "raWabkGmJlxi"
    },
    {
      "cell_type": "code",
      "metadata": {
        "id": "3aBYmGhHJus_",
        "colab": {
          "base_uri": "https://localhost:8080/"
        },
        "outputId": "c19a23a6-bbad-4a24-dc7e-e95a77a40b65"
      },
      "source": [
        "brackets = [[0, 0.10], [10000, 0.15], [20000, 0.20], [30000, 0.30], [50000, 0.35]]\n",
        "\n",
        "\n",
        "def calculate_taxes(income):\n",
        "  total_taxes = 0\n",
        "  for i in range(0, len(brackets)-1):\n",
        "    if income > brackets[i][0] and income > brackets[i+1][0]:\n",
        "      tax_income = brackets[i+1][0] - brackets[i][0]\n",
        "      total_taxes = total_taxes + tax_income * brackets[i][1]\n",
        "    elif income > brackets[i][0] and income <= brackets[i+1][0]:\n",
        "      total_taxes = total_taxes + ((income - brackets[i][0]) * brackets[i][1])\n",
        "\n",
        "  if income > brackets[-1][0]:\n",
        "      total_taxes = total_taxes + ((income - brackets[-1][0]) * brackets[-1][1] )\n",
        "\n",
        "  return total_taxes\n",
        " \n",
        "\n",
        "calculate_taxes(55000)"
      ],
      "id": "3aBYmGhHJus_",
      "execution_count": null,
      "outputs": [
        {
          "output_type": "execute_result",
          "data": {
            "text/plain": [
              "12250.0"
            ]
          },
          "metadata": {
            "tags": []
          },
          "execution_count": 1
        }
      ]
    },
    {
      "cell_type": "code",
      "metadata": {
        "colab": {
          "base_uri": "https://localhost:8080/"
        },
        "id": "YgssKKwfuir5",
        "outputId": "52713a86-6bc2-4585-d919-fb5ecaa0bc46"
      },
      "source": [
        "brackets = [[0, 0.10], [10000, 0.15], [20000, 0.20], [30000, 0.30], [50000, 0.35]]\n",
        "def calculate_taxes(income, brackets):\n",
        "  total_taxes = 0\n",
        "\n",
        "  if not brackets:\n",
        "    print(\"Empty tax brackets\")\n",
        "\n",
        "  if len(brackets) == 1:\n",
        "    \"\"\"Case when only one tax bracket\"\"\"\n",
        "    lower_bound = brackets[0][0]\n",
        "    tax_percentage = brackets[0][1]\n",
        "    total_taxes = (income - lower_bound) * tax_percentag\n",
        "    return total_taxes\n",
        "\n",
        "\n",
        "  for indx in range(1, len(brackets)):\n",
        "    lower_bound = brackets[indx-1]\n",
        "    upper_bound = brackets[indx]\n",
        "\n",
        "    if income > upper_bound[0]:\n",
        "      tax_amount = upper_bound[0] - lower_bound[0]\n",
        "      total_taxes +=  tax_amount * lower_bound[1]\n",
        "\n",
        "    elif income <= upper_bound[0]:\n",
        "      tax_amount = income - lower_bound[0]\n",
        "      total_taxes += tax_amount * lower_bound[1]\n",
        "\n",
        "    if indx == len(brackets) - 1:\n",
        "      tax_amount = income - upper_bound[0]\n",
        "      total_taxes += tax_amount * upper_bound[1]\n",
        "\n",
        "  return total_taxes\n",
        "\n",
        "\n",
        "calculate_taxes(55000, brackets)"
      ],
      "id": "YgssKKwfuir5",
      "execution_count": 19,
      "outputs": [
        {
          "output_type": "execute_result",
          "data": {
            "text/plain": [
              "12250.0"
            ]
          },
          "metadata": {
            "tags": []
          },
          "execution_count": 19
        }
      ]
    }
  ]
}