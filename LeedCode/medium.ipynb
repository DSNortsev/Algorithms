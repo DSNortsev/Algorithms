{
  "nbformat": 4,
  "nbformat_minor": 5,
  "metadata": {
    "kernelspec": {
      "display_name": "Python 3",
      "language": "python",
      "name": "python3"
    },
    "language_info": {
      "codemirror_mode": {
        "name": "ipython",
        "version": 3
      },
      "file_extension": ".py",
      "mimetype": "text/x-python",
      "name": "python",
      "nbconvert_exporter": "python",
      "pygments_lexer": "ipython3",
      "version": "3.9.2"
    },
    "colab": {
      "name": "medium.ipynb",
      "provenance": [],
      "include_colab_link": true
    }
  },
  "cells": [
    {
      "cell_type": "markdown",
      "metadata": {
        "id": "view-in-github",
        "colab_type": "text"
      },
      "source": [
        "<a href=\"https://colab.research.google.com/github/DSNortsev/Algorithms/blob/master/LeedCode/medium.ipynb\" target=\"_parent\"><img src=\"https://colab.research.google.com/assets/colab-badge.svg\" alt=\"Open In Colab\"/></a>"
      ]
    },
    {
      "cell_type": "markdown",
      "metadata": {
        "id": "lX8flsWTq49R"
      },
      "source": [
        "**1041. Robot Bounded In Circle**\n",
        "\n",
        "On an infinite plane, a robot initially stands at (0, 0) and faces north. The robot can receive one of three instructions:\n",
        "\n",
        "    \"G\": go straight 1 unit;\n",
        "    \"L\": turn 90 degrees to the left;\n",
        "    \"R\": turn 90 degrees to the right.\n",
        "\n",
        "The robot performs the instructions given in order, and repeats them forever.\n",
        "\n",
        "Return true if and only if there exists a circle in the plane such that the robot never leaves the circle.\n",
        "\n",
        "**Example 1:**\n",
        "\n",
        "```\n",
        "Input: instructions = \"GGLLGG\"\n",
        "Output: true\n",
        "Explanation: The robot moves from (0,0) to (0,2), turns 180 degrees, and then returns to (0,0).\n",
        "When repeating these instructions, the robot remains in the circle of radius 2 centered at the origin.\n",
        "```\n",
        "\n",
        "**Example 2:**\n",
        "\n",
        "```\n",
        "Input: instructions = \"GG\"\n",
        "Output: false\n",
        "Explanation: The robot moves north indefinitely.\n",
        "```\n",
        "\n",
        "\n",
        "\n",
        "Example 3:\n",
        "\n",
        "```\n",
        "Input: instructions = \"GL\"\n",
        "Output: true\n",
        "Explanation: The robot moves from (0, 0) -> (0, 1) -> (-1, 1) -> (-1, 0) -> (0, 0) -> ...\n",
        "```\n",
        "\n",
        "Constraints:\n",
        "\n",
        "    1 <= instructions.length <= 100\n",
        "    instructions[i] is 'G', 'L' or, 'R'\n"
      ],
      "id": "lX8flsWTq49R"
    },
    {
      "cell_type": "code",
      "metadata": {
        "id": "fallen-silence"
      },
      "source": [
        "class Solution:\n",
        "    def isRobotBounded(self, instructions: str) -> bool:\n",
        "        # x,y coordinates North, East, South, West\n",
        "        directions = [(0,1), (1,0), (0,-1), (-1,0)]\n",
        "        robot_position = [0,0]\n",
        "        # Initial direction is North, which is first element in directions \n",
        "        robot_direction = 0\n",
        "        \n",
        "        # Iterate over commands\n",
        "        for i in range(0, len(instructions)):\n",
        "            current_move = instructions[i]\n",
        "            \n",
        "            if current_move == 'R':\n",
        "                robot_direction = (robot_direction + 1) % 4\n",
        "            elif current_move == 'L':\n",
        "                # Add 3 to go back by one\n",
        "                robot_direction = (robot_direction + 3) % 4\n",
        "            else:\n",
        "                robot_position = [sum(i) for i in zip(robot_position, directions[robot_direction])]\n",
        "                \n",
        "      \n",
        "        return  robot_position == [0, 0] or robot_direction != 0  "
      ],
      "id": "fallen-silence",
      "execution_count": 1,
      "outputs": []
    }
  ]
}