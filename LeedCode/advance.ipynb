{
  "nbformat": 4,
  "nbformat_minor": 5,
  "metadata": {
    "kernelspec": {
      "display_name": "Python 3",
      "language": "python",
      "name": "python3"
    },
    "language_info": {
      "codemirror_mode": {
        "name": "ipython",
        "version": 3
      },
      "file_extension": ".py",
      "mimetype": "text/x-python",
      "name": "python",
      "nbconvert_exporter": "python",
      "pygments_lexer": "ipython3",
      "version": "3.9.2"
    },
    "colab": {
      "name": "advance.ipynb",
      "provenance": [],
      "include_colab_link": true
    }
  },
  "cells": [
    {
      "cell_type": "markdown",
      "metadata": {
        "id": "view-in-github",
        "colab_type": "text"
      },
      "source": [
        "<a href=\"https://colab.research.google.com/github/DSNortsev/Algorithms/blob/master/LeedCode/advance.ipynb\" target=\"_parent\"><img src=\"https://colab.research.google.com/assets/colab-badge.svg\" alt=\"Open In Colab\"/></a>"
      ]
    },
    {
      "cell_type": "markdown",
      "metadata": {
        "id": "ToaXwGD4zVW5"
      },
      "source": [
        "### Median of Two Sorted Arrays\n",
        "\n",
        "Given two sorted arrays nums1 and nums2 of size m and n respectively, return the median of the two sorted arrays.\n",
        "\n",
        "Example 1:\n",
        "```\n",
        "Input: nums1 = [1,3], nums2 = [2]\n",
        "Output: 2.00000\n",
        "Explanation: merged array = [1,2,3] and median is 2.\n",
        "```\n",
        "Example 2:\n",
        "```\n",
        "Input: nums1 = [1,2], nums2 = [3,4]\n",
        "Output: 2.50000\n",
        "Explanation: merged array = [1,2,3,4] and median is (2 + 3) / 2 = 2.5.\n",
        "```\n",
        "Example 3:\n",
        "```\n",
        "Input: nums1 = [0,0], nums2 = [0,0]\n",
        "Output: 0.00000\n",
        "```\n",
        "Example 4:\n",
        "```\n",
        "Input: nums1 = [], nums2 = [1]\n",
        "Output: 1.00000\n",
        "```\n",
        "Example 5:\n",
        "```\n",
        "Input: nums1 = [2], nums2 = []\n",
        "Output: 2.00000\n",
        "```\n"
      ],
      "id": "ToaXwGD4zVW5"
    },
    {
      "cell_type": "code",
      "metadata": {
        "id": "wanted-midnight",
        "outputId": "0ac92eae-a06f-428c-bc0e-3ff326c169ad",
        "colab": {
          "base_uri": "https://localhost:8080/"
        }
      },
      "source": [
        "def find_median(nums1, nums2):\n",
        "\n",
        "    median = 0\n",
        "    completed_list = nums1 + nums2\n",
        "    size = len(completed_list)\n",
        "    completed_list.sort()\n",
        "    if size == 0:\n",
        "      return 0\n",
        "    if size == 1:\n",
        "      return completed_list[0]\n",
        "\n",
        "    if (size % 2 > 0):\n",
        "        indx = int(size / 2)\n",
        "        print(indx)\n",
        "        median = completed_list[indx]\n",
        "    else:\n",
        "        indx1 = int(size/2 - 1)\n",
        "        indx2 = int(size/2)\n",
        "        median = (completed_list[indx1] + completed_list[indx2]) / 2\n",
        "    return median\n",
        "\n",
        "find_median([1,2], [3,4])"
      ],
      "id": "wanted-midnight",
      "execution_count": 35,
      "outputs": [
        {
          "output_type": "execute_result",
          "data": {
            "text/plain": [
              "2.5"
            ]
          },
          "metadata": {
            "tags": []
          },
          "execution_count": 35
        }
      ]
    }
  ]
}