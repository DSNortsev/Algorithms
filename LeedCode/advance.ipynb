{
  "nbformat": 4,
  "nbformat_minor": 5,
  "metadata": {
    "kernelspec": {
      "display_name": "Python 3",
      "language": "python",
      "name": "python3"
    },
    "language_info": {
      "codemirror_mode": {
        "name": "ipython",
        "version": 3
      },
      "file_extension": ".py",
      "mimetype": "text/x-python",
      "name": "python",
      "nbconvert_exporter": "python",
      "pygments_lexer": "ipython3",
      "version": "3.9.2"
    },
    "colab": {
      "name": "advance.ipynb",
      "provenance": [],
      "include_colab_link": true
    }
  },
  "cells": [
    {
      "cell_type": "markdown",
      "metadata": {
        "id": "view-in-github",
        "colab_type": "text"
      },
      "source": [
        "<a href=\"https://colab.research.google.com/github/DSNortsev/Algorithms/blob/master/LeedCode/advance.ipynb\" target=\"_parent\"><img src=\"https://colab.research.google.com/assets/colab-badge.svg\" alt=\"Open In Colab\"/></a>"
      ]
    },
    {
      "cell_type": "markdown",
      "metadata": {
        "id": "ToaXwGD4zVW5"
      },
      "source": [
        "### Median of Two Sorted Arrays\n",
        "\n",
        "Given two sorted arrays nums1 and nums2 of size m and n respectively, return the median of the two sorted arrays.\n",
        "\n",
        "Example 1:\n",
        "```\n",
        "Input: nums1 = [1,3], nums2 = [2]\n",
        "Output: 2.00000\n",
        "Explanation: merged array = [1,2,3] and median is 2.\n",
        "```\n",
        "Example 2:\n",
        "```\n",
        "Input: nums1 = [1,2], nums2 = [3,4]\n",
        "Output: 2.50000\n",
        "Explanation: merged array = [1,2,3,4] and median is (2 + 3) / 2 = 2.5.\n",
        "```\n",
        "Example 3:\n",
        "```\n",
        "Input: nums1 = [0,0], nums2 = [0,0]\n",
        "Output: 0.00000\n",
        "```\n",
        "Example 4:\n",
        "```\n",
        "Input: nums1 = [], nums2 = [1]\n",
        "Output: 1.00000\n",
        "```\n",
        "Example 5:\n",
        "```\n",
        "Input: nums1 = [2], nums2 = []\n",
        "Output: 2.00000\n",
        "```\n"
      ],
      "id": "ToaXwGD4zVW5"
    },
    {
      "cell_type": "code",
      "metadata": {
        "id": "wanted-midnight",
        "colab": {
          "base_uri": "https://localhost:8080/"
        },
        "outputId": "0ac92eae-a06f-428c-bc0e-3ff326c169ad"
      },
      "source": [
        "def find_median(nums1, nums2):\n",
        "\n",
        "    median = 0\n",
        "    completed_list = nums1 + nums2\n",
        "    size = len(completed_list)\n",
        "    completed_list.sort()\n",
        "    if size == 0:\n",
        "      return 0\n",
        "    if size == 1:\n",
        "      return completed_list[0]\n",
        "\n",
        "    if (size % 2 > 0):\n",
        "        indx = int(size / 2)\n",
        "        print(indx)\n",
        "        median = completed_list[indx]\n",
        "    else:\n",
        "        indx1 = int(size/2 - 1)\n",
        "        indx2 = int(size/2)\n",
        "        median = (completed_list[indx1] + completed_list[indx2]) / 2\n",
        "    return median\n",
        "\n",
        "find_median([1,2], [3,4])"
      ],
      "id": "wanted-midnight",
      "execution_count": null,
      "outputs": [
        {
          "output_type": "execute_result",
          "data": {
            "text/plain": [
              "2.5"
            ]
          },
          "metadata": {
            "tags": []
          },
          "execution_count": 35
        }
      ]
    },
    {
      "cell_type": "markdown",
      "metadata": {
        "id": "ocEwfDNDkDqm"
      },
      "source": [
        "# **Binary Search Tree**\n",
        "\n",
        "## **Searching a key**\n",
        "\n",
        "To search a given key in Binary Search Tree, we first compare it with root, if the key is present at root, we return root. If key is greater than root’s key, we recur for right subtree of root node. Otherwise we recur for left subtree.\n",
        "Advantages of trees\n",
        "\n",
        "Trees are so useful and frequently used, because they have some very serious advantages:\n",
        "\n",
        "  * Trees reflect structural relationships in the data\n",
        "  * Trees are used to represent hierarchies\n",
        "  * Trees provide an efficient insertion and searching\n",
        "  * Trees are very flexible data, allowing to move subtrees around with minumum effort\n",
        "\n",
        "## **Traversals¶**\n",
        "\n",
        "A traversal is a process that visits all the nodes in the tree. Since a tree is a nonlinear data structure, there is no unique traversal. We will consider several traversal algorithms with we group in the following two kinds\n",
        "\n",
        "  * depth-first traversal\n",
        "  * breadth-first traversal\n",
        "\n",
        "There are three different types of depth-first traversals, :\n",
        "\n",
        "  * PreOrder traversal - visit the parent first and then left and right children;\n",
        "  * InOrder traversal - visit the left child, then the parent and the right child;\n",
        "  * PostOrder traversal - visit left child, then the right child and then the parent;\n",
        "\n",
        "There is only one kind of breadth-first traversal--the level order traversal. This traversal visits nodes by levels from top to bottom and from left to right. As an example consider the following tree and its four traversals:\n",
        "\n",
        "  * PreOrder - 8, 5, 9, 7, 1, 12, 2, 4, 11, 3\n",
        "  * InOrder - 9, 5, 1, 7, 2, 12, 8, 4, 3, 11\n",
        "  * PostOrder - 9, 1, 2, 12, 7, 5, 3, 11, 4, 8\n",
        "  * LevelOrder - 8, 5, 4, 9, 7, 11, 1, 12, 3, 2\n",
        "\n",
        "\n",
        "** Time complexity: **\n",
        "\n",
        "  Worse case O(N)\n",
        "\n",
        "  Best Case O(1)\n",
        "\n",
        "  Average Case O(LogN)\n"
      ],
      "id": "ocEwfDNDkDqm"
    },
    {
      "cell_type": "code",
      "metadata": {
        "id": "iTDYNWhAmMYl"
      },
      "source": [
        "# A utility function to search a given key in BST \n",
        "def search(root,key): \n",
        "      \n",
        "    # Base Cases: root is null or key is present at root \n",
        "    if root is None or root.val == key: \n",
        "        return root \n",
        "  \n",
        "    # Key is greater than root's key \n",
        "    if root.val < key: \n",
        "        return search(root.right,key) \n",
        "    \n",
        "    # Key is smaller than root's key \n",
        "    return search(root.left,key)\n",
        "\n"
      ],
      "id": "iTDYNWhAmMYl",
      "execution_count": null,
      "outputs": []
    },
    {
      "cell_type": "code",
      "metadata": {
        "colab": {
          "base_uri": "https://localhost:8080/"
        },
        "id": "h1TufIvKkAr6",
        "outputId": "3247eb53-7b12-4cdd-ad40-7dc7993c0388"
      },
      "source": [
        "# Python program to demonstrate insert operation in binary search tree  \n",
        "  \n",
        "# A utility class that represents an individual node in a BST \n",
        "class Node: \n",
        "    def __init__(self,key):\n",
        "        self.parent = None\n",
        "        self.left = None\n",
        "        self.right = None\n",
        "        self.val = key \n",
        "\n",
        "# A utility function to insert a new node with the given key \n",
        "def insert(root, node): \n",
        "    if root is None: \n",
        "        root = node\n",
        "    else: \n",
        "        if root.val < node.val: \n",
        "            if root.right is None:\n",
        "                root.right = node\n",
        "                root.right.parent = root \n",
        "            else: \n",
        "                insert(root.right, node) \n",
        "        else: \n",
        "            if root.left is None:\n",
        "                root.left = node\n",
        "                root.left.parent = root \n",
        "            else: \n",
        "                insert(root.left, node) \n",
        "\n",
        "# A utility function to do inorder tree traversal \n",
        "def inorder(root): \n",
        "    if root: \n",
        "        inorder(root.left) \n",
        "        print(root.val) \n",
        "        inorder(root.right)\n",
        "        \n",
        "# Driver program to test the above functions \n",
        "# Let us create the following BST \n",
        "#      50 \n",
        "#    /      \\ \n",
        "#   30     70 \n",
        "#   / \\    / \\ \n",
        "#  20 40  60 80 \n",
        "r = Node(50) \n",
        "insert(r,Node(30)) \n",
        "insert(r,Node(20)) \n",
        "insert(r,Node(40)) \n",
        "insert(r,Node(70)) \n",
        "insert(r,Node(60)) \n",
        "insert(r,Node(80)) \n",
        "  \n",
        "# Print inoder traversal of the BST \n",
        "inorder(r)"
      ],
      "id": "h1TufIvKkAr6",
      "execution_count": null,
      "outputs": [
        {
          "output_type": "stream",
          "text": [
            "20\n",
            "30\n",
            "40\n",
            "50\n",
            "60\n",
            "70\n",
            "80\n"
          ],
          "name": "stdout"
        }
      ]
    },
    {
      "cell_type": "code",
      "metadata": {
        "colab": {
          "base_uri": "https://localhost:8080/"
        },
        "id": "3zE5dFKLmPEG",
        "outputId": "901a1395-a7bd-44f0-b6cd-8c0984302ca3"
      },
      "source": [
        "# Search returns None, if key does not exist in Binary tree\n",
        "print(search(r,45))"
      ],
      "id": "3zE5dFKLmPEG",
      "execution_count": null,
      "outputs": [
        {
          "output_type": "stream",
          "text": [
            "None\n"
          ],
          "name": "stdout"
        }
      ]
    },
    {
      "cell_type": "code",
      "metadata": {
        "colab": {
          "base_uri": "https://localhost:8080/"
        },
        "id": "lKTx7NucmR41",
        "outputId": "4526df5b-f8d1-44e8-ec02-25e6f1669895"
      },
      "source": [
        "# Search returns Node object, if key exists in Binary tree\n",
        "print(search(r,70))\n",
        "print(search(r,70).val)"
      ],
      "id": "lKTx7NucmR41",
      "execution_count": null,
      "outputs": [
        {
          "output_type": "stream",
          "text": [
            "<__main__.Node object at 0x7f57742c0150>\n",
            "70\n"
          ],
          "name": "stdout"
        }
      ]
    },
    {
      "cell_type": "markdown",
      "metadata": {
        "id": "CNGQ6IZtnMTE"
      },
      "source": [
        "\n",
        "## **Find the node with maximum value in a Binary Search Tree using recursion**\n",
        "\n",
        "Approach: Just traverse the node from root to right recursively until right is NULL. The node whose right is NULL is the node with the maximum value.\n"
      ],
      "id": "CNGQ6IZtnMTE"
    },
    {
      "cell_type": "code",
      "metadata": {
        "colab": {
          "base_uri": "https://localhost:8080/"
        },
        "id": "6fDjXSHanOZG",
        "outputId": "764adaee-aa0d-4e01-87b9-09ea13921220"
      },
      "source": [
        "# Returns maximum value in a  \n",
        "# given Binary Tree  \n",
        "def find_max_in_bst(tree): \n",
        "    maximum = tree \n",
        "      \n",
        "    #loop down to find the rightmost leaf \n",
        "    while maximum.right: \n",
        "        maximum = maximum.right \n",
        "    return maximum.val\n",
        "\n",
        "find_max_in_bst(r)"
      ],
      "id": "6fDjXSHanOZG",
      "execution_count": null,
      "outputs": [
        {
          "output_type": "execute_result",
          "data": {
            "text/plain": [
              "80"
            ]
          },
          "metadata": {},
          "execution_count": 5
        }
      ]
    },
    {
      "cell_type": "markdown",
      "metadata": {
        "id": "i0fml40NnZxS"
      },
      "source": [
        "\n",
        "## **Find the node with minimum value in a Binary Search Tree using recursion**\n",
        "\n",
        "Approach: Just traverse the node from root to left recursively until right is NULL. The node whose left is NULL is the node with the maximum value.\n"
      ],
      "id": "i0fml40NnZxS"
    },
    {
      "cell_type": "code",
      "metadata": {
        "colab": {
          "base_uri": "https://localhost:8080/"
        },
        "id": "WLrCRIo7ncbI",
        "outputId": "4dd54e1a-3df4-458d-f3ae-3a428bac6866"
      },
      "source": [
        "# Returns maximum value in a  \n",
        "# given Binary Tree  \n",
        "def find_min_in_bst(tree): \n",
        "    minimum = tree \n",
        "      \n",
        "    #loop down to find the leftmost leaf \n",
        "    while minimum.left: \n",
        "        minimum = minimum.left\n",
        "    return minimum.val\n",
        "\n",
        "find_min_in_bst(r)\n"
      ],
      "id": "WLrCRIo7ncbI",
      "execution_count": null,
      "outputs": [
        {
          "output_type": "execute_result",
          "data": {
            "text/plain": [
              "20"
            ]
          },
          "metadata": {},
          "execution_count": 6
        }
      ]
    },
    {
      "cell_type": "code",
      "metadata": {
        "id": "CjnDv4Y8wWzU"
      },
      "source": [
        ""
      ],
      "id": "CjnDv4Y8wWzU",
      "execution_count": null,
      "outputs": []
    },
    {
      "cell_type": "markdown",
      "metadata": {
        "id": "qN-qTTwpqqGW"
      },
      "source": [
        "## Breadth First Search or BFS for a Graph\n",
        "\n",
        "As discussed earlier, Breadth-First Search (BFS) is an algorithm used for traversing graphs or trees. Traversing means visiting each node of the graph. Breadth-First Search is a recursive algorithm to search all the vertices of a graph or a tree. BFS in python can be implemented by using data structures like a dictionary and lists. Breadth-First Search in tree and graph is almost the same. The only difference is that the graph may contain cycles, so we may traverse to the same node again.\n",
        "\n",
        "BFS starts from a node, then it checks all the nodes at distance one from the beginning node, then it checks all the nodes at distance two, and so on. So as to recollect the nodes to be visited, BFS uses a queue.\n",
        "\n",
        "The steps of the algorithm work as follow:\n",
        "\n",
        "* Start by putting any one of the graph’s vertices at the back of the queue.\n",
        "* Now take the front item of the queue and add it to the visited list.\n",
        "* Create a list of that vertex's adjacent nodes. Add those which are not within the visited list to the rear of the queue.\n",
        "* Keep continuing steps two and three till the queue is empty.\n",
        "\n",
        "Many times, a graph may contain two different disconnected parts and therefore to make sure that we have visited every vertex, we can also run the BFS algorithm at every node."
      ],
      "id": "qN-qTTwpqqGW"
    },
    {
      "cell_type": "code",
      "metadata": {
        "colab": {
          "base_uri": "https://localhost:8080/"
        },
        "id": "CNYfU5btqpnK",
        "outputId": "59bcfb35-a4a4-45c4-8a62-3135b7aa5e5c"
      },
      "source": [
        "graph = {\n",
        "  '5' : ['3','7'],\n",
        "  '3' : ['2', '4', '5'],\n",
        "  '7' : ['8'],\n",
        "  '2' : [],\n",
        "  '4' : ['8'],\n",
        "  '8' : []\n",
        "}\n",
        "\n",
        "visited = [] # List for visited nodes.\n",
        "queue = []     #Initialize a queue\n",
        "\n",
        "def bfs(visited, graph, node): #function for BFS\n",
        "  visited.append(node)\n",
        "  queue.append(node)\n",
        "\n",
        "  while queue:          # Creating loop to visit each node\n",
        "    m = queue.pop(0) \n",
        "    print (m, end = \" \") \n",
        "\n",
        "    for neighbour in graph[m]:\n",
        "      if neighbour not in visited:\n",
        "        visited.append(neighbour)\n",
        "        queue.append(neighbour)\n",
        "\n",
        "# Driver Code\n",
        "print(\"Following is the Breadth-First Search\")\n",
        "bfs(visited, graph, '5')    # function calling\n",
        "\n",
        "# Time Complexity\n",
        "\n",
        "# The time complexity of the Breadth first Search algorithm is in the form of O(V+E), where V is the representation of the number of nodes and E is the number of edges.\n",
        "\n",
        "# Also, the space complexity of the BFS algorithm is O(V)."
      ],
      "id": "CNYfU5btqpnK",
      "execution_count": null,
      "outputs": [
        {
          "output_type": "stream",
          "text": [
            "Following is the Breadth-First Search\n",
            "5 3 7 2 4 8 "
          ],
          "name": "stdout"
        }
      ]
    },
    {
      "cell_type": "markdown",
      "metadata": {
        "id": "fMrOba5FAfvx"
      },
      "source": [
        "## Depth First Search\n",
        "\n",
        "The Depth-First Search is a recursive algorithm that uses the concept of backtracking. It involves thorough searches of all the nodes by going ahead if potential, else by backtracking. Here, the word backtrack means once you are moving forward and there are not any more nodes along the present path, you progress backward on an equivalent path to seek out nodes to traverse. All the nodes are progressing to be visited on the current path until all the unvisited nodes are traversed after which subsequent paths are going to be selected.\n",
        "\n",
        "\n",
        "### DFS Algorithm\n",
        "\n",
        "Before learning the python code for Depth-First and its output, let us go through the algorithm it follows for the same. The recursive method of the Depth-First Search algorithm is implemented using stack. A standard Depth-First Search implementation puts every vertex of the graph into one in all 2 categories: 1) Visited 2) Not Visited. The only purpose of this algorithm is to visit all the vertex of the graph avoiding cycles.\n",
        "\n",
        "The DSF algorithm follows as:\n",
        "\n",
        "* We will start by putting any one of the graph's vertex on top of the stack.\n",
        "* After that take the top item of the stack and add it to the visited list of the vertex.\n",
        "* Next, create a list of that adjacent node of the vertex. Add the ones which aren't in the visited list of vertexes to the top of the stack.\n",
        "* Lastly, keep repeating steps 2 and 3 until the stack is empty.\n"
      ],
      "id": "fMrOba5FAfvx"
    },
    {
      "cell_type": "code",
      "metadata": {
        "colab": {
          "base_uri": "https://localhost:8080/"
        },
        "id": "YYEgQ83JAZX5",
        "outputId": "1d46365a-c65e-4850-f3bd-fb4e426b2d43"
      },
      "source": [
        "visited = set() # Set to keep track of visited nodes of graph.\n",
        "\n",
        "def dfs(visited, graph, node):  # function for dfs \n",
        "    if node not in visited:\n",
        "        print (node, end = \" \")\n",
        "        visited.add(node)\n",
        "        for neighbour in graph[node]:\n",
        "            dfs(visited, graph, neighbour)\n",
        "\n",
        "# Driver Code\n",
        "print(\"Following is the Depth-First Search\")\n",
        "dfs(visited, graph, '5')"
      ],
      "id": "YYEgQ83JAZX5",
      "execution_count": null,
      "outputs": [
        {
          "output_type": "stream",
          "text": [
            "Following is the Depth-First Search\n",
            "5 3 2 4 8 7 "
          ],
          "name": "stdout"
        }
      ]
    },
    {
      "cell_type": "markdown",
      "metadata": {
        "id": "HDAHZlHVwXTD"
      },
      "source": [
        "## Is Subsequence\n",
        "Given two strings s and t, return true if s is a subsequence of t, or false otherwise.\n",
        "\n",
        "A subsequence of a string is a new string that is formed from the original string by deleting some (can be none) of the characters without disturbing the relative positions of the remaining characters. (i.e., \"ace\" is a subsequence of \"abcde\" while \"aec\" is not).\n",
        "\n",
        " \n",
        "\n",
        "Example 1:\n",
        "\n",
        "Input: s = \"abc\", t = \"ahbgdc\"\n",
        "Output: true\n",
        "\n",
        "Example 2:\n",
        "\n",
        "Input: s = \"axc\", t = \"ahbgdc\"\n",
        "Output: false\n",
        "\n",
        " \n",
        "\n",
        "Constraints:\n",
        "\n",
        "    0 <= s.length <= 100\n",
        "    0 <= t.length <= 104\n",
        "    s and t consist only of lowercase English letters.\n"
      ],
      "id": "HDAHZlHVwXTD"
    },
    {
      "cell_type": "code",
      "metadata": {
        "colab": {
          "base_uri": "https://localhost:8080/"
        },
        "id": "OxcqDFxtwgcD",
        "outputId": "0f5ee802-d272-4ff6-cc00-8f6e99be5bb6"
      },
      "source": [
        "# Time Complexity O(t)\n",
        "# Approach 1: Divide and Conquer with Greedy\n",
        "\n",
        "def is_subsequence(s: str, t: str):\n",
        "  LEFT_BOUND, RIGHT_BOUND = len(s), len(t)\n",
        "\n",
        "  def rec_isSubsequence(left_index, right_index):\n",
        "    # base cases\n",
        "    if left_index == LEFT_BOUND:\n",
        "        return True\n",
        "    if right_index == RIGHT_BOUND:\n",
        "        return False\n",
        "    # consume both strings or just the target string\n",
        "    if s[left_index] == t[right_index]:\n",
        "        left_index += 1\n",
        "    right_index += 1\n",
        "\n",
        "    return rec_isSubsequence(left_index, right_index)\n",
        "\n",
        "  return rec_isSubsequence(0, 0)\n",
        "\n",
        "is_subsequence('abc', 'abc')"
      ],
      "id": "OxcqDFxtwgcD",
      "execution_count": null,
      "outputs": [
        {
          "output_type": "execute_result",
          "data": {
            "text/plain": [
              "True"
            ]
          },
          "metadata": {},
          "execution_count": 10
        }
      ]
    },
    {
      "cell_type": "code",
      "metadata": {
        "colab": {
          "base_uri": "https://localhost:8080/"
        },
        "id": "T6DsfsehyqEw",
        "outputId": "7581ff16-dacf-4f33-aa1e-077f1b085043"
      },
      "source": [
        "# Approach 2: Two-Pointers\n",
        "# Time Complexity O(t)\n",
        "def is_subsequence(s: str, t: str) -> bool:\n",
        "    LEFT_BOUND, RIGHT_BOUND = len(s), len(t)\n",
        "\n",
        "    p_left = p_right = 0\n",
        "    while p_left < LEFT_BOUND and p_right < RIGHT_BOUND:\n",
        "        # move both pointers or just the right pointer\n",
        "        if s[p_left] == t[p_right]:\n",
        "            p_left += 1\n",
        "        p_right += 1\n",
        "\n",
        "    return p_left == LEFT_BOUND\n",
        "\n",
        "\n",
        "print(is_subsequence('abc', 'ahbgdc'))\n",
        "print(is_subsequence(\"axc\", \"ahbgdc\"))"
      ],
      "id": "T6DsfsehyqEw",
      "execution_count": null,
      "outputs": [
        {
          "output_type": "stream",
          "text": [
            "True\n",
            "False\n"
          ],
          "name": "stdout"
        }
      ]
    },
    {
      "cell_type": "markdown",
      "metadata": {
        "id": "eVz7j-IH0ciD"
      },
      "source": [
        "Given an m x n binary matrix filled with 0's and 1's, find the largest square containing only 1's and return its area.\n",
        "\n",
        " Input: matrix = [[\"1\",\"0\",\"1\",\"0\",\"0\"],[\"1\",\"0\",\"1\",\"1\",\"1\"],[\"1\",\"1\",\"1\",\"1\",\"1\"],[\"1\",\"0\",\"0\",\"1\",\"0\"]]\n",
        "Output: 4\n",
        "\n",
        "Input: matrix = [[\"0\",\"1\"],[\"1\",\"0\"]]\n",
        "Output: 1\n",
        "\n",
        "Input: matrix = [[\"0\"]]\n",
        "Output: 0\n",
        "\n",
        "Constraints:\n",
        "\n",
        "    m == matrix.length\n",
        "    n == matrix[i].length\n",
        "    1 <= m, n <= 300\n",
        "    matrix[i][j] is '0' or '1'.\n"
      ],
      "id": "eVz7j-IH0ciD"
    },
    {
      "cell_type": "code",
      "metadata": {
        "id": "WIy5H6cMzybs"
      },
      "source": [
        "# Approach #1 Brute Force"
      ],
      "id": "WIy5H6cMzybs",
      "execution_count": null,
      "outputs": []
    },
    {
      "cell_type": "code",
      "metadata": {
        "colab": {
          "base_uri": "https://localhost:8080/"
        },
        "id": "P4phPxB04A0R",
        "outputId": "03771578-58b5-4ef5-9481-7b97b1f6bd2c"
      },
      "source": [
        "set_str1 = set('abcacdsd')\n",
        "set_str2 = set('dsabc')\n",
        "print(set_str1)\n",
        "print(set_str2)\n",
        "print(set_str1 == set_str2)"
      ],
      "id": "P4phPxB04A0R",
      "execution_count": null,
      "outputs": [
        {
          "output_type": "stream",
          "text": [
            "{'c', 'd', 's', 'a', 'b'}\n",
            "{'d', 'c', 's', 'a', 'b'}\n",
            "True\n"
          ],
          "name": "stdout"
        }
      ]
    },
    {
      "cell_type": "code",
      "metadata": {
        "id": "9zQ8cgiM-WfO"
      },
      "source": [
        ""
      ],
      "id": "9zQ8cgiM-WfO",
      "execution_count": null,
      "outputs": []
    },
    {
      "cell_type": "markdown",
      "metadata": {
        "id": "253uaZQO-ZG7"
      },
      "source": [
        "## String Transforms Into Another String\n",
        "\n",
        "Given two strings str1 and str2 of the same length, determine whether you can transform str1 into str2 by doing zero or more conversions.\n",
        "\n",
        "In one conversion you can convert all occurrences of one character in str1 to any other lowercase English character.\n",
        "\n",
        "Return true if and only if you can transform str1 into str2.\n",
        "\n",
        " \n",
        "\n",
        "Example 1:\n",
        "\n",
        "Input: str1 = \"aabcc\", str2 = \"ccdee\"\n",
        "\n",
        "Output: true\n",
        "\n",
        "Explanation: Convert 'c' to 'e' then 'b' to 'd' then 'a' to 'c'. Note that the order of conversions matter.\n",
        "\n",
        "\n",
        "\n",
        "Example 2:\n",
        "\n",
        "Input: str1 = \"leetcode\", str2 = \"codeleet\"\n",
        "\n",
        "Output: false\n",
        "\n",
        "Explanation: There is no way to transform str1 to str2.\n",
        "\n",
        " \n",
        "\n",
        "Constraints:\n",
        "\n",
        "    1 <= str1.length == str2.length <= 104\n",
        "    str1 and str2 contain only lowercase English letters.\n",
        "\n"
      ],
      "id": "253uaZQO-ZG7"
    },
    {
      "cell_type": "code",
      "metadata": {
        "colab": {
          "base_uri": "https://localhost:8080/"
        },
        "id": "HdBercnY5_7Z",
        "outputId": "43f0ab68-2ebc-4d94-ec37-abb024289494"
      },
      "source": [
        "def can_convert(str1: str, str2: str) -> bool:\n",
        "    '''\n",
        "    A char in str1 can only point to 1 char in str2,\n",
        "    however, multiple chars in str1 can point to same char in str2\n",
        "    '''\n",
        "    book = {}\n",
        "    for i in range(len(str1)):\n",
        "        if str1[i] not in book:\n",
        "            book[str1[i]] = str2[i]\n",
        "            \n",
        "        elif book[str1[i]] != str2[i]:\n",
        "            return False\n",
        "\n",
        "    return str1 == str2 or len(set(str2)) < 26\n",
        "\n",
        "print(can_convert(\"aabb\", \"bbaa\"))\n",
        "print(can_convert(\"leetcode\", \"codeleet\"))"
      ],
      "id": "HdBercnY5_7Z",
      "execution_count": null,
      "outputs": [
        {
          "output_type": "stream",
          "text": [
            "True\n",
            "False\n"
          ],
          "name": "stdout"
        }
      ]
    },
    {
      "cell_type": "markdown",
      "metadata": {
        "id": "bi2B745FEtyI"
      },
      "source": [
        "# Binary Search"
      ],
      "id": "bi2B745FEtyI"
    },
    {
      "cell_type": "code",
      "metadata": {
        "id": "CY8-_v7VFSko"
      },
      "source": [
        "# Recursive\n",
        "def binary_search_recursive(array, element, start, end):\n",
        "    if start > end:\n",
        "        return -1\n",
        "\n",
        "    mid = (start + end) // 2\n",
        "    print(f'Array: {array}')\n",
        "    print(f'End:{end} - Middle: {mid}\\n')\n",
        "\n",
        "    if element == array[mid]:\n",
        "        return mid\n",
        "\n",
        "    if element < array[mid]:\n",
        "        return binary_search_recursive(array, element, start, mid-1)\n",
        "    else:\n",
        "        return binary_search_recursive(array, element, mid+1, end)"
      ],
      "id": "CY8-_v7VFSko",
      "execution_count": null,
      "outputs": []
    },
    {
      "cell_type": "code",
      "metadata": {
        "id": "V1iVMCvrFTgY",
        "colab": {
          "base_uri": "https://localhost:8080/"
        },
        "outputId": "ef3acf19-9b4c-46f9-b03f-fa9abc23532e"
      },
      "source": [
        "element = 18\n",
        "array = [1, 2, 5, 7, 13, 15, 16, 18, 24, 28, 29]\n",
        "\n",
        "print(f'Searching for {element}')\n",
        "print(f'Index of {element}: {binary_search_recursive(array, element, 0, len(array))}')"
      ],
      "id": "V1iVMCvrFTgY",
      "execution_count": null,
      "outputs": [
        {
          "output_type": "stream",
          "text": [
            "Searching for 18\n",
            "Array: [1, 2, 5, 7, 13, 15, 16, 18, 24, 28, 29]\n",
            "End:11 - Middle: 5\n",
            "\n",
            "Array: [1, 2, 5, 7, 13, 15, 16, 18, 24, 28, 29]\n",
            "End:11 - Middle: 8\n",
            "\n",
            "Array: [1, 2, 5, 7, 13, 15, 16, 18, 24, 28, 29]\n",
            "End:7 - Middle: 6\n",
            "\n",
            "Array: [1, 2, 5, 7, 13, 15, 16, 18, 24, 28, 29]\n",
            "End:7 - Middle: 7\n",
            "\n",
            "Index of 18: 7\n"
          ],
          "name": "stdout"
        }
      ]
    },
    {
      "cell_type": "code",
      "metadata": {
        "id": "ZdScGrFaHcOo"
      },
      "source": [
        "# Iterative\n",
        "def binary_search_iterative(array, element):\n",
        "    mid = 0\n",
        "    start = 0\n",
        "    end = len(array)\n",
        "    step = 1\n",
        "\n",
        "    while (start <= end):\n",
        "        print(\"Subarray in step {}: {}\".format(step, str(array[start:end+1])))\n",
        "        step = step+1\n",
        "        mid = (start + end) // 2\n",
        "\n",
        "        if not array[start:end+1]:\n",
        "          return -1\n",
        "\n",
        "        if element == array[mid]:\n",
        "            return mid\n",
        "\n",
        "        if element < array[mid]:\n",
        "            end = mid - 1\n",
        "        else:\n",
        "            start = mid + 1\n",
        "    return -1"
      ],
      "id": "ZdScGrFaHcOo",
      "execution_count": null,
      "outputs": []
    },
    {
      "cell_type": "code",
      "metadata": {
        "colab": {
          "base_uri": "https://localhost:8080/"
        },
        "id": "4ZS64SYzHgw8",
        "outputId": "a02202a9-c2a8-459b-96cd-cdfe99e9a2c1"
      },
      "source": [
        "print(f'Searching for {element}')\n",
        "print(f'Index of {element}: {binary_search_iterative(array, element)}')"
      ],
      "id": "4ZS64SYzHgw8",
      "execution_count": null,
      "outputs": [
        {
          "output_type": "stream",
          "text": [
            "Searching for 18\n",
            "Subarray in step 1: [1, 2, 5, 7, 13, 15, 16, 18, 24, 28, 29]\n",
            "Subarray in step 2: [16, 18, 24, 28, 29]\n",
            "Subarray in step 3: [16, 18]\n",
            "Subarray in step 4: [18]\n",
            "Index of 18: 7\n"
          ],
          "name": "stdout"
        }
      ]
    },
    {
      "cell_type": "code",
      "metadata": {
        "id": "jcEat95OH3GT",
        "colab": {
          "base_uri": "https://localhost:8080/"
        },
        "outputId": "53fbb5c6-c838-43cd-ae7b-f21da7e164f6"
      },
      "source": [
        "print(f'Index of {element}: {binary_search_iterative([1], 3)}')"
      ],
      "id": "jcEat95OH3GT",
      "execution_count": null,
      "outputs": [
        {
          "output_type": "stream",
          "text": [
            "Subarray in step 1: [1]\n",
            "Subarray in step 2: []\n",
            "Index of 18: -1\n"
          ],
          "name": "stdout"
        }
      ]
    },
    {
      "cell_type": "code",
      "metadata": {
        "id": "Ch2mXrIDKvLp",
        "colab": {
          "base_uri": "https://localhost:8080/"
        },
        "outputId": "c8f5cfd0-4c54-4553-ee95-2f7dbad39af8"
      },
      "source": [
        "print(f'Index of {element}: {binary_search_iterative([], 3)}')"
      ],
      "id": "Ch2mXrIDKvLp",
      "execution_count": null,
      "outputs": [
        {
          "output_type": "stream",
          "text": [
            "Subarray in step 1: []\n",
            "Index of 18: -1\n"
          ],
          "name": "stdout"
        }
      ]
    },
    {
      "cell_type": "markdown",
      "metadata": {
        "id": "aYLQ_lzONZvT"
      },
      "source": [
        "## **Maximal Square**\n",
        "Given an m x n binary matrix filled with 0's and 1's, find the largest square containing only 1's and return its area."
      ],
      "id": "aYLQ_lzONZvT"
    },
    {
      "cell_type": "code",
      "metadata": {
        "id": "N4XjxXGzNaHN",
        "outputId": "db9b8cfa-0279-4404-ca4d-ed1be2b8c5ce",
        "colab": {
          "base_uri": "https://localhost:8080/"
        }
      },
      "source": [
        "# Maximum size square sub-matrix with all 1s\n",
        " \n",
        "def find_max_sub_square(matrix):\n",
        "    max_matrix = 0 \n",
        "    rows = len(matrix)       # number of rows in matrix[][]\n",
        "    columns = len(matrix[0]) # nummber of columns in matrix[][]\n",
        " \n",
        "    # Initialize matrix with all zeros (first row and column is zeros\n",
        "    # since we can not view values above)\n",
        "    sub_matrix = [[0 for column in range(columns)] for row in range(rows)]\n",
        " \n",
        "    # Construct other entries based on min values from values above around it \n",
        "    # 0 0\n",
        "    # 0 (1)   will give 1 meaning that matix of shape (1,1) exist\n",
        "    #\n",
        "    # 1  1\n",
        "    # 1 (1) will give 2 meaning that matix of shape (2,2) exist\n",
        "    #\n",
        "    # 2  2\n",
        "    # 2 (1) will give 3 meaning that matix of shape (3,3) exist\n",
        "    for i in range(1, rows):\n",
        "        for j in range(1, columns):\n",
        "            if (matrix[i][j] == 1):\n",
        "              sub_matrix[i][j] = min(sub_matrix[i][j-1], sub_matrix[i-1][j],\n",
        "                            sub_matrix[i-1][j-1]) + 1\n",
        "              max_matrix = sub_matrix[i][j] if sub_matrix[i][j] > max_matrix else max_matrix\n",
        "            else:\n",
        "                sub_matrix[i][j] = 0\n",
        "    # Return the shape of the matrix\n",
        "    return (max_matrix, max_matrix)\n",
        "    \n",
        " \n",
        "# Driver Program\n",
        "M = [[0, 1, 1, 0, 1],\n",
        "    [1, 1, 0, 1, 0],\n",
        "    [0, 1, 1, 1, 0],\n",
        "    [1, 1, 1, 1, 0],\n",
        "    [1, 1, 1, 1, 1],\n",
        "    [0, 0, 0, 0, 0]]\n",
        " \n",
        "print(find_max_sub_square(M))"
      ],
      "id": "N4XjxXGzNaHN",
      "execution_count": 23,
      "outputs": [
        {
          "output_type": "stream",
          "text": [
            "(3, 3)\n"
          ],
          "name": "stdout"
        }
      ]
    }
  ]
}