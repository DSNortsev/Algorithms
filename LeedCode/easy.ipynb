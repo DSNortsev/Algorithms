{
  "nbformat": 4,
  "nbformat_minor": 5,
  "metadata": {
    "kernelspec": {
      "display_name": "Python 3",
      "language": "python",
      "name": "python3"
    },
    "language_info": {
      "codemirror_mode": {
        "name": "ipython",
        "version": 3
      },
      "file_extension": ".py",
      "mimetype": "text/x-python",
      "name": "python",
      "nbconvert_exporter": "python",
      "pygments_lexer": "ipython3",
      "version": "3.9.2"
    },
    "colab": {
      "name": "easy.ipynb",
      "provenance": [],
      "include_colab_link": true
    }
  },
  "cells": [
    {
      "cell_type": "markdown",
      "metadata": {
        "id": "view-in-github",
        "colab_type": "text"
      },
      "source": [
        "<a href=\"https://colab.research.google.com/github/DSNortsev/Algorithms/blob/master/LeedCode/easy.ipynb\" target=\"_parent\"><img src=\"https://colab.research.google.com/assets/colab-badge.svg\" alt=\"Open In Colab\"/></a>"
      ]
    },
    {
      "cell_type": "markdown",
      "metadata": {
        "id": "sCBR4MrDp-Wv"
      },
      "source": [
        "**Power of Two**\n",
        "\n",
        "**Power of Three**\n",
        "\n",
        "**Power of Four**"
      ],
      "id": "sCBR4MrDp-Wv"
    },
    {
      "cell_type": "code",
      "metadata": {
        "id": "important-cancellation"
      },
      "source": [
        "class Solution:\n",
        "    def isPowerOfTwo(self, n: int) -> bool:\n",
        "        if n == 0:\n",
        "            return False \n",
        "        return n & (-n) == n \n",
        "\n",
        "class Solution:\n",
        "    def isPowerOfThree(self, n: int) -> bool:\n",
        "        if n == 0:\n",
        "            return False\n",
        "        while n % 3 == 0:\n",
        "            n /= 3\n",
        "        return n == 1\n",
        "\n",
        "class Solution:\n",
        "    def isPowerOfFour(self, n: int) -> bool:\n",
        "        return n > 0 and n & (-n) == n and n % 3 == 1"
      ],
      "id": "important-cancellation",
      "execution_count": null,
      "outputs": []
    },
    {
      "cell_type": "markdown",
      "metadata": {
        "id": "oVjuAqH2sklM"
      },
      "source": [
        "**Two Sum**\n",
        "\n",
        "Given an array of integers nums and an integer target, return indices of the two numbers such that they add up to target.\n",
        "\n",
        "You may assume that each input would have exactly one solution, and you may not use the same element twice.\n",
        "\n",
        "You can return the answer in any order.\n",
        "\n",
        "Example 1:\n",
        "```\n",
        "Input: nums = [2,7,11,15], target = 9\n",
        "Output: [0,1]\n",
        "Output: Because nums[0] + nums[1] == 9, we return [0, 1].\n",
        "```\n",
        "Example 2:\n",
        "```\n",
        "Input: nums = [3,2,4], target = 6\n",
        "Output: [1,2]\n",
        "```\n",
        "Example 3:\n",
        "```\n",
        "Input: nums = [3,3], target = 6\n",
        "Output: [0,1]\n",
        "```"
      ],
      "id": "oVjuAqH2sklM"
    },
    {
      "cell_type": "code",
      "metadata": {
        "id": "jR-lMgtds0cJ"
      },
      "source": [
        "from typing import List\n",
        "\n",
        "# Approach 1: Brute Force\n",
        "#Time complexity : O(n2)O(n^2)O(n2). For each element, we try to find its\n",
        "#complement by looping through the rest of array which takes O(n)O(n)O(n) time.\n",
        "#Therefore, the time complexity is O(n2)O(n^2)O(n2).\n",
        "\n",
        "def twoSum(self, nums: List[int], target: int) -> List[int]:\n",
        "    for i in range(len(nums)-1):\n",
        "        for j in range(i+1,len(nums)):\n",
        "            if nums[i] + nums[j] == target:\n",
        "                return [i,j]"
      ],
      "id": "jR-lMgtds0cJ",
      "execution_count": 2,
      "outputs": []
    },
    {
      "cell_type": "code",
      "metadata": {
        "colab": {
          "base_uri": "https://localhost:8080/"
        },
        "id": "alpTjp1QvaoF",
        "outputId": "939a173a-8f91-4956-a819-0fae1abda03d"
      },
      "source": [
        "# Time complexity : O(n)O(n)O(n). We traverse the list containing nnn elements only once.\n",
        "# Each look up in the table costs only O(1)O(1)O(1) time.\n",
        "\n",
        "def twoSum(nums, target):\n",
        "  required = {}\n",
        "  for i in range(len(nums)):\n",
        "      if target - nums[i] in required:\n",
        "        return [required[target - nums[i]],i]\n",
        "      else:\n",
        "        print(nums[i],i)\n",
        "        required[nums[i]]=i\n",
        "input_list = [2,8,12,15]\n",
        "twoSum(input_list, 20)"
      ],
      "id": "alpTjp1QvaoF",
      "execution_count": null,
      "outputs": [
        {
          "output_type": "stream",
          "text": [
            "2 0\n",
            "8 1\n"
          ],
          "name": "stdout"
        },
        {
          "output_type": "execute_result",
          "data": {
            "text/plain": [
              "[1, 2]"
            ]
          },
          "metadata": {
            "tags": []
          },
          "execution_count": 7
        }
      ]
    },
    {
      "cell_type": "markdown",
      "metadata": {
        "id": "5-Vf-3XTy_B0"
      },
      "source": [
        "** Two Sum II - Input array is sorted**"
      ],
      "id": "5-Vf-3XTy_B0"
    },
    {
      "cell_type": "code",
      "metadata": {
        "id": "8bfoYQkTzAnA"
      },
      "source": [
        "# Time complexity : O(n)O(n)O(n). Each of the nnn elements is visited at most once,\n",
        "# thus the time complexity is O(n)O(n)O(n).\n",
        "def twoSum(numbers: List[int], target: int) -> List[int]:\n",
        "    start, end  = 0, len(numbers)-1\n",
        "    while start < end:      \n",
        "        total_sum  = numbers[start] + numbers[end]\n",
        "        if total_sum < target:\n",
        "            start += 1\n",
        "        elif total_sum > target:\n",
        "            end  -= 1\n",
        "        else:\n",
        "            return [start, end]"
      ],
      "id": "8bfoYQkTzAnA",
      "execution_count": 7,
      "outputs": []
    },
    {
      "cell_type": "code",
      "metadata": {
        "id": "Yj40Br54Wx7M",
        "outputId": "f3de6ef7-2586-4a2a-f7da-b1725b783f75",
        "colab": {
          "base_uri": "https://localhost:8080/"
        }
      },
      "source": [
        "input_list = [2,8,12,15]\n",
        "twoSum(input_list, 27)"
      ],
      "id": "Yj40Br54Wx7M",
      "execution_count": 10,
      "outputs": [
        {
          "output_type": "execute_result",
          "data": {
            "text/plain": [
              "[2, 3]"
            ]
          },
          "metadata": {
            "tags": []
          },
          "execution_count": 10
        }
      ]
    },
    {
      "cell_type": "markdown",
      "metadata": {
        "id": "ub8HUL-NkLPS"
      },
      "source": [
        "### Count Primes\n",
        "\n",
        "Example 1:\n",
        "```\n",
        "Input: n = 10\n",
        "Output: 4\n",
        "Explanation: There are 4 prime numbers less than 10, they are 2, 3, 5, 7.\n",
        "```\n",
        "Example 2:\n",
        "```\n",
        "Input: n = 0\n",
        "Output: 0\n",
        "```\n",
        "Example 3:\n",
        "```\n",
        "Input: n = 1\n",
        "Output: 0\n",
        "```"
      ],
      "id": "ub8HUL-NkLPS"
    },
    {
      "cell_type": "code",
      "metadata": {
        "id": "x3t6WT3okd8C",
        "colab": {
          "base_uri": "https://localhost:8080/"
        },
        "outputId": "00cb8e5d-5da6-40d6-c4b2-c89664299e89"
      },
      "source": [
        "def is_prime(num):\n",
        "  # Check if number is greater than 1\n",
        "  if num > 1:\n",
        "    # Iterate from 2 to n / 2\n",
        "      for i in range(2, int(num/2)+1):\n",
        "  \n",
        "          # If num is divisible by any number between\n",
        "          # 2 and n / 2, it is not prime\n",
        "          if (num % i) == 0:\n",
        "              return False\n",
        "              break\n",
        "      else:\n",
        "          return True          \n",
        "  return False\n",
        "      \n",
        "\n",
        "\n",
        "def count_primes(number):\n",
        "  \"\"\"Find total count of prime numbers\"\"\"\n",
        "  count = 0\n",
        "  prime_numbers = []\n",
        "  for i in range(2, number): \n",
        "    if is_prime(i):\n",
        "      count += 1\n",
        "      prime_numbers.append(i)\n",
        "  return count, prime_numbers\n",
        "\n",
        "count_primes(20)"
      ],
      "id": "x3t6WT3okd8C",
      "execution_count": null,
      "outputs": [
        {
          "output_type": "execute_result",
          "data": {
            "text/plain": [
              "(8, [2, 3, 5, 7, 11, 13, 17, 19])"
            ]
          },
          "metadata": {
            "tags": []
          },
          "execution_count": 7
        }
      ]
    },
    {
      "cell_type": "code",
      "metadata": {
        "id": "JHH5SnDTkbxI",
        "colab": {
          "base_uri": "https://localhost:8080/"
        },
        "outputId": "a8add868-dd8a-4ea2-8cab-0cc59098795c"
      },
      "source": [
        "def count_primes(n: int) -> int:  \n",
        "       \n",
        "      if n <= 2:\n",
        "          return 0\n",
        "      \n",
        "      count = 0          \n",
        "      primes = [True] * n\n",
        "      prime_numbers = []\n",
        "      \n",
        "      for i in range(0, int(n**0.5)+1):\n",
        "          # Mark all numbers as not prime that are less than 2\n",
        "          if i < 2:\n",
        "            primes[i] = False\n",
        "\n",
        "          if not primes[i]:\n",
        "              continue\n",
        "\n",
        "          # mark all multiplies of i not prime\n",
        "          for j in range(i * i, n, i):\n",
        "              primes[j] = False\n",
        "      \n",
        "      for i in range(2, n):\n",
        "          if primes[i]:\n",
        "              count += 1\n",
        "              prime_numbers.append(i)\n",
        "\n",
        "      \n",
        "      return count, prime_numbers\n",
        "count_primes(10)"
      ],
      "id": "JHH5SnDTkbxI",
      "execution_count": 12,
      "outputs": [
        {
          "output_type": "execute_result",
          "data": {
            "text/plain": [
              "(4, [2, 3, 5, 7])"
            ]
          },
          "metadata": {
            "tags": []
          },
          "execution_count": 12
        }
      ]
    },
    {
      "cell_type": "markdown",
      "metadata": {
        "id": "Oo6NsakarPr5"
      },
      "source": [
        "## Unique Email Addresses\n",
        "\n",
        "Every valid email consists of a local name and a domain name, separated by the '@' sign. Besides lowercase letters, the email may contain one or more '.' or '+'.\n",
        "\n",
        "    For example, in \"alice@leetcode.com\", \"alice\" is the local name, and \"leetcode.com\" is the domain name.\n",
        "\n",
        "If you add periods '.' between some characters in the local name part of an email address, mail sent there will be forwarded to the same address without dots in the local name. Note that this rule does not apply to domain names.\n",
        "\n",
        "    For example, \"alice.z@leetcode.com\" and \"alicez@leetcode.com\" forward to the same email address.\n",
        "\n",
        "If you add a plus '+' in the local name, everything after the first plus sign will be ignored. This allows certain emails to be filtered. Note that this rule does not apply to domain names.\n",
        "\n",
        "    For example, \"m.y+name@email.com\" will be forwarded to \"my@email.com\".\n",
        "\n",
        "It is possible to use both of these rules at the same time.\n",
        "\n",
        "Given an array of strings emails where we send one email to each email[i], return the number of different addresses that actually receive mails."
      ],
      "id": "Oo6NsakarPr5"
    },
    {
      "cell_type": "code",
      "metadata": {
        "id": "kesaRaEsrM1X",
        "outputId": "d9efa26b-fb1f-42e6-d34d-7c8055097447",
        "colab": {
          "base_uri": "https://localhost:8080/"
        }
      },
      "source": [
        "from typing import List\n",
        "import re\n",
        "\n",
        "def num_unique_emails(emails: List[str]) -> int:\n",
        "    filtered_emails = []\n",
        "    for email in emails:\n",
        "      local_name, domain_name = email.split('@')\n",
        "      local_name = re.sub(\"\\.|\\+.*\", \"\", local_name)\n",
        "      filtered_email = local_name + \"@\" + domain_name\n",
        "      if filtered_email not in filtered_emails:\n",
        "        filtered_emails.append(filtered_email)\n",
        "    print(f'Output: {len(filtered_emails)}')\n",
        "    print(f'Explanation: {filtered_emails}\\n') \n",
        "\n",
        "emails1 = [\"test.email+alex@leetcode.com\",\"test.e.mail+bob.cathy@leetcode.com\",\"testemail+david@lee.tcode.com\"]\n",
        "emails2 = [\"a@leetcode.com\",\"b@leetcode.com\",\"c@leetcode.com\"]\n",
        "\n",
        "num_unique_emails(emails1)\n",
        "num_unique_emails(emails2)"
      ],
      "id": "kesaRaEsrM1X",
      "execution_count": 17,
      "outputs": [
        {
          "output_type": "stream",
          "text": [
            "Output: 2\n",
            "Explanation: ['testemail@leetcode.com', 'testemail@lee.tcode.com']\n",
            "\n",
            "Output: 3\n",
            "Explanation: ['a@leetcode.com', 'b@leetcode.com', 'c@leetcode.com']\n",
            "\n"
          ],
          "name": "stdout"
        }
      ]
    }
  ]
}