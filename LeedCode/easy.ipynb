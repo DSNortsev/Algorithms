{
  "nbformat": 4,
  "nbformat_minor": 5,
  "metadata": {
    "kernelspec": {
      "display_name": "Python 3",
      "language": "python",
      "name": "python3"
    },
    "language_info": {
      "codemirror_mode": {
        "name": "ipython",
        "version": 3
      },
      "file_extension": ".py",
      "mimetype": "text/x-python",
      "name": "python",
      "nbconvert_exporter": "python",
      "pygments_lexer": "ipython3",
      "version": "3.9.2"
    },
    "colab": {
      "name": "easy.ipynb",
      "provenance": [],
      "include_colab_link": true
    }
  },
  "cells": [
    {
      "cell_type": "markdown",
      "metadata": {
        "id": "view-in-github",
        "colab_type": "text"
      },
      "source": [
        "<a href=\"https://colab.research.google.com/github/DSNortsev/Algorithms/blob/master/LeedCode/easy.ipynb\" target=\"_parent\"><img src=\"https://colab.research.google.com/assets/colab-badge.svg\" alt=\"Open In Colab\"/></a>"
      ]
    },
    {
      "cell_type": "markdown",
      "metadata": {
        "id": "sCBR4MrDp-Wv"
      },
      "source": [
        "**Power of Two**\n",
        "\n",
        "**Power of Three**\n",
        "\n",
        "**Power of Four**"
      ],
      "id": "sCBR4MrDp-Wv"
    },
    {
      "cell_type": "code",
      "metadata": {
        "id": "important-cancellation"
      },
      "source": [
        "class Solution:\n",
        "    def isPowerOfTwo(self, n: int) -> bool:\n",
        "        if n == 0:\n",
        "            return False \n",
        "        return n & (-n) == n \n",
        "\n",
        "class Solution:\n",
        "    def isPowerOfThree(self, n: int) -> bool:\n",
        "        if n == 0:\n",
        "            return False\n",
        "        while n % 3 == 0:\n",
        "            n /= 3\n",
        "        return n == 1\n",
        "\n",
        "class Solution:\n",
        "    def isPowerOfFour(self, n: int) -> bool:\n",
        "        return n > 0 and n & (-n) == n and n % 3 == 1"
      ],
      "id": "important-cancellation",
      "execution_count": null,
      "outputs": []
    },
    {
      "cell_type": "markdown",
      "metadata": {
        "id": "oVjuAqH2sklM"
      },
      "source": [
        "**Two Sum**\n",
        "\n",
        "Given an array of integers nums and an integer target, return indices of the two numbers such that they add up to target.\n",
        "\n",
        "You may assume that each input would have exactly one solution, and you may not use the same element twice.\n",
        "\n",
        "You can return the answer in any order.\n",
        "\n",
        "Example 1:\n",
        "```\n",
        "Input: nums = [2,7,11,15], target = 9\n",
        "Output: [0,1]\n",
        "Output: Because nums[0] + nums[1] == 9, we return [0, 1].\n",
        "```\n",
        "Example 2:\n",
        "```\n",
        "Input: nums = [3,2,4], target = 6\n",
        "Output: [1,2]\n",
        "```\n",
        "Example 3:\n",
        "```\n",
        "Input: nums = [3,3], target = 6\n",
        "Output: [0,1]\n",
        "```"
      ],
      "id": "oVjuAqH2sklM"
    },
    {
      "cell_type": "code",
      "metadata": {
        "id": "jR-lMgtds0cJ"
      },
      "source": [
        "from typing import List\n",
        "\n",
        "# Approach 1: Brute Force\n",
        "#Time complexity : O(n2)O(n^2)O(n2). For each element, we try to find its\n",
        "#complement by looping through the rest of array which takes O(n)O(n)O(n) time.\n",
        "#Therefore, the time complexity is O(n2)O(n^2)O(n2).\n",
        "\n",
        "def twoSum(self, nums: List[int], target: int) -> List[int]:\n",
        "    for i in range(len(nums)-1):\n",
        "        for j in range(i+1,len(nums)):\n",
        "            if nums[i] + nums[j] == target:\n",
        "                return [i,j]"
      ],
      "id": "jR-lMgtds0cJ",
      "execution_count": 2,
      "outputs": []
    },
    {
      "cell_type": "code",
      "metadata": {
        "colab": {
          "base_uri": "https://localhost:8080/"
        },
        "id": "alpTjp1QvaoF",
        "outputId": "939a173a-8f91-4956-a819-0fae1abda03d"
      },
      "source": [
        "# Time complexity : O(n)O(n)O(n). We traverse the list containing nnn elements only once.\n",
        "# Each look up in the table costs only O(1)O(1)O(1) time.\n",
        "\n",
        "def twoSum(nums, target):\n",
        "  required = {}\n",
        "  for i in range(len(nums)):\n",
        "      if target - nums[i] in required:\n",
        "        return [required[target - nums[i]],i]\n",
        "      else:\n",
        "        print(nums[i],i)\n",
        "        required[nums[i]]=i\n",
        "input_list = [2,8,12,15]\n",
        "twoSum(input_list, 20)"
      ],
      "id": "alpTjp1QvaoF",
      "execution_count": 7,
      "outputs": [
        {
          "output_type": "stream",
          "text": [
            "2 0\n",
            "8 1\n"
          ],
          "name": "stdout"
        },
        {
          "output_type": "execute_result",
          "data": {
            "text/plain": [
              "[1, 2]"
            ]
          },
          "metadata": {
            "tags": []
          },
          "execution_count": 7
        }
      ]
    },
    {
      "cell_type": "markdown",
      "metadata": {
        "id": "5-Vf-3XTy_B0"
      },
      "source": [
        "** Two Sum II - Input array is sorted**"
      ],
      "id": "5-Vf-3XTy_B0"
    },
    {
      "cell_type": "code",
      "metadata": {
        "id": "8bfoYQkTzAnA"
      },
      "source": [
        "# Time complexity : O(n)O(n)O(n). Each of the nnn elements is visited at most once,\n",
        "# thus the time complexity is O(n)O(n)O(n).\n",
        "def twoSum(self, numbers: List[int], target: int) -> List[int]:\n",
        "    start, end  = 0, len(numbers)-1\n",
        "    while start < end:      \n",
        "        total_sum  = numbers[start] + numbers[end]\n",
        "        if total_sum < target:\n",
        "            start += 1\n",
        "        elif total_sum > target:\n",
        "            end  -= 1\n",
        "        else:\n",
        "            return [start+1, end+1]"
      ],
      "id": "8bfoYQkTzAnA",
      "execution_count": 8,
      "outputs": []
    }
  ]
}