{
  "nbformat": 4,
  "nbformat_minor": 5,
  "metadata": {
    "kernelspec": {
      "display_name": "Python 3",
      "language": "python",
      "name": "python3"
    },
    "language_info": {
      "codemirror_mode": {
        "name": "ipython",
        "version": 3
      },
      "file_extension": ".py",
      "mimetype": "text/x-python",
      "name": "python",
      "nbconvert_exporter": "python",
      "pygments_lexer": "ipython3",
      "version": "3.9.2"
    },
    "colab": {
      "name": "easy.ipynb",
      "provenance": [],
      "include_colab_link": true
    }
  },
  "cells": [
    {
      "cell_type": "markdown",
      "metadata": {
        "id": "view-in-github",
        "colab_type": "text"
      },
      "source": [
        "<a href=\"https://colab.research.google.com/github/DSNortsev/Algorithms/blob/master/LeedCode/easy.ipynb\" target=\"_parent\"><img src=\"https://colab.research.google.com/assets/colab-badge.svg\" alt=\"Open In Colab\"/></a>"
      ]
    },
    {
      "cell_type": "markdown",
      "metadata": {
        "id": "sCBR4MrDp-Wv"
      },
      "source": [
        "**Power of Two**\n",
        "\n",
        "**Power of Three**\n",
        "\n",
        "**Power of Four**"
      ],
      "id": "sCBR4MrDp-Wv"
    },
    {
      "cell_type": "code",
      "metadata": {
        "id": "important-cancellation"
      },
      "source": [
        "class Solution:\n",
        "    def isPowerOfTwo(self, n: int) -> bool:\n",
        "        if n == 0:\n",
        "            return False \n",
        "        return n & (-n) == n \n",
        "\n",
        "class Solution:\n",
        "    def isPowerOfThree(self, n: int) -> bool:\n",
        "        if n == 0:\n",
        "            return False\n",
        "        while n % 3 == 0:\n",
        "            n /= 3\n",
        "        return n == 1\n",
        "\n",
        "class Solution:\n",
        "    def isPowerOfFour(self, n: int) -> bool:\n",
        "        return n > 0 and n & (-n) == n and n % 3 == 1"
      ],
      "id": "important-cancellation",
      "execution_count": null,
      "outputs": []
    },
    {
      "cell_type": "markdown",
      "metadata": {
        "id": "oVjuAqH2sklM"
      },
      "source": [
        "**Two Sum**\n",
        "\n",
        "Given an array of integers nums and an integer target, return indices of the two numbers such that they add up to target.\n",
        "\n",
        "You may assume that each input would have exactly one solution, and you may not use the same element twice.\n",
        "\n",
        "You can return the answer in any order.\n",
        "\n",
        "Example 1:\n",
        "```\n",
        "Input: nums = [2,7,11,15], target = 9\n",
        "Output: [0,1]\n",
        "Output: Because nums[0] + nums[1] == 9, we return [0, 1].\n",
        "```\n",
        "Example 2:\n",
        "```\n",
        "Input: nums = [3,2,4], target = 6\n",
        "Output: [1,2]\n",
        "```\n",
        "Example 3:\n",
        "```\n",
        "Input: nums = [3,3], target = 6\n",
        "Output: [0,1]\n",
        "```"
      ],
      "id": "oVjuAqH2sklM"
    },
    {
      "cell_type": "code",
      "metadata": {
        "id": "jR-lMgtds0cJ"
      },
      "source": [
        "from typing import List\n",
        "\n",
        "# Approach 1: Brute Force\n",
        "#Time complexity : O(n2)O(n^2)O(n2). For each element, we try to find its\n",
        "#complement by looping through the rest of array which takes O(n)O(n)O(n) time.\n",
        "#Therefore, the time complexity is O(n2)O(n^2)O(n2).\n",
        "\n",
        "def twoSum(self, nums: List[int], target: int) -> List[int]:\n",
        "    for i in range(len(nums)-1):\n",
        "        for j in range(i+1,len(nums)):\n",
        "            if nums[i] + nums[j] == target:\n",
        "                return [i,j]"
      ],
      "id": "jR-lMgtds0cJ",
      "execution_count": null,
      "outputs": []
    },
    {
      "cell_type": "code",
      "metadata": {
        "colab": {
          "base_uri": "https://localhost:8080/"
        },
        "id": "alpTjp1QvaoF",
        "outputId": "939a173a-8f91-4956-a819-0fae1abda03d"
      },
      "source": [
        "# Time complexity : O(n)O(n)O(n). We traverse the list containing nnn elements only once.\n",
        "# Each look up in the table costs only O(1)O(1)O(1) time.\n",
        "\n",
        "def twoSum(nums, target):\n",
        "  required = {}\n",
        "  for i in range(len(nums)):\n",
        "      if target - nums[i] in required:\n",
        "        return [required[target - nums[i]],i]\n",
        "      else:\n",
        "        print(nums[i],i)\n",
        "        required[nums[i]]=i\n",
        "input_list = [2,8,12,15]\n",
        "twoSum(input_list, 20)"
      ],
      "id": "alpTjp1QvaoF",
      "execution_count": null,
      "outputs": [
        {
          "output_type": "stream",
          "text": [
            "2 0\n",
            "8 1\n"
          ],
          "name": "stdout"
        },
        {
          "output_type": "execute_result",
          "data": {
            "text/plain": [
              "[1, 2]"
            ]
          },
          "metadata": {
            "tags": []
          },
          "execution_count": 7
        }
      ]
    },
    {
      "cell_type": "markdown",
      "metadata": {
        "id": "5-Vf-3XTy_B0"
      },
      "source": [
        "** Two Sum II - Input array is sorted**"
      ],
      "id": "5-Vf-3XTy_B0"
    },
    {
      "cell_type": "code",
      "metadata": {
        "id": "8bfoYQkTzAnA"
      },
      "source": [
        "# Time complexity : O(n)O(n)O(n). Each of the nnn elements is visited at most once,\n",
        "# thus the time complexity is O(n)O(n)O(n).\n",
        "def twoSum(numbers: List[int], target: int) -> List[int]:\n",
        "    start, end  = 0, len(numbers)-1\n",
        "    while start < end:      \n",
        "        total_sum  = numbers[start] + numbers[end]\n",
        "        if total_sum < target:\n",
        "            start += 1\n",
        "        elif total_sum > target:\n",
        "            end  -= 1\n",
        "        else:\n",
        "            return [start, end]"
      ],
      "id": "8bfoYQkTzAnA",
      "execution_count": null,
      "outputs": []
    },
    {
      "cell_type": "code",
      "metadata": {
        "id": "Yj40Br54Wx7M",
        "colab": {
          "base_uri": "https://localhost:8080/"
        },
        "outputId": "f3de6ef7-2586-4a2a-f7da-b1725b783f75"
      },
      "source": [
        "input_list = [2,8,12,15]\n",
        "twoSum(input_list, 27)"
      ],
      "id": "Yj40Br54Wx7M",
      "execution_count": null,
      "outputs": [
        {
          "output_type": "execute_result",
          "data": {
            "text/plain": [
              "[2, 3]"
            ]
          },
          "metadata": {
            "tags": []
          },
          "execution_count": 10
        }
      ]
    },
    {
      "cell_type": "markdown",
      "metadata": {
        "id": "ub8HUL-NkLPS"
      },
      "source": [
        "### Count Primes\n",
        "\n",
        "Example 1:\n",
        "```\n",
        "Input: n = 10\n",
        "Output: 4\n",
        "Explanation: There are 4 prime numbers less than 10, they are 2, 3, 5, 7.\n",
        "```\n",
        "Example 2:\n",
        "```\n",
        "Input: n = 0\n",
        "Output: 0\n",
        "```\n",
        "Example 3:\n",
        "```\n",
        "Input: n = 1\n",
        "Output: 0\n",
        "```"
      ],
      "id": "ub8HUL-NkLPS"
    },
    {
      "cell_type": "code",
      "metadata": {
        "id": "x3t6WT3okd8C",
        "colab": {
          "base_uri": "https://localhost:8080/"
        },
        "outputId": "00cb8e5d-5da6-40d6-c4b2-c89664299e89"
      },
      "source": [
        "def is_prime(num):\n",
        "  # Check if number is greater than 1\n",
        "  if num > 1:\n",
        "    # Iterate from 2 to n / 2\n",
        "      for i in range(2, int(num/2)+1):\n",
        "  \n",
        "          # If num is divisible by any number between\n",
        "          # 2 and n / 2, it is not prime\n",
        "          if (num % i) == 0:\n",
        "              return False\n",
        "              break\n",
        "      else:\n",
        "          return True          \n",
        "  return False\n",
        "      \n",
        "\n",
        "\n",
        "def count_primes(number):\n",
        "  \"\"\"Find total count of prime numbers\"\"\"\n",
        "  count = 0\n",
        "  prime_numbers = []\n",
        "  for i in range(2, number): \n",
        "    if is_prime(i):\n",
        "      count += 1\n",
        "      prime_numbers.append(i)\n",
        "  return count, prime_numbers\n",
        "\n",
        "count_primes(20)"
      ],
      "id": "x3t6WT3okd8C",
      "execution_count": null,
      "outputs": [
        {
          "output_type": "execute_result",
          "data": {
            "text/plain": [
              "(8, [2, 3, 5, 7, 11, 13, 17, 19])"
            ]
          },
          "metadata": {
            "tags": []
          },
          "execution_count": 7
        }
      ]
    },
    {
      "cell_type": "code",
      "metadata": {
        "id": "JHH5SnDTkbxI",
        "colab": {
          "base_uri": "https://localhost:8080/"
        },
        "outputId": "a8add868-dd8a-4ea2-8cab-0cc59098795c"
      },
      "source": [
        "def count_primes(n: int) -> int:  \n",
        "       \n",
        "      if n <= 2:\n",
        "          return 0\n",
        "      \n",
        "      count = 0          \n",
        "      primes = [True] * n\n",
        "      prime_numbers = []\n",
        "      \n",
        "      for i in range(0, int(n**0.5)+1):\n",
        "          # Mark all numbers as not prime that are less than 2\n",
        "          if i < 2:\n",
        "            primes[i] = False\n",
        "\n",
        "          if not primes[i]:\n",
        "              continue\n",
        "\n",
        "          # mark all multiplies of i not prime\n",
        "          for j in range(i * i, n, i):\n",
        "              primes[j] = False\n",
        "      \n",
        "      for i in range(2, n):\n",
        "          if primes[i]:\n",
        "              count += 1\n",
        "              prime_numbers.append(i)\n",
        "\n",
        "      \n",
        "      return count, prime_numbers\n",
        "count_primes(10)"
      ],
      "id": "JHH5SnDTkbxI",
      "execution_count": null,
      "outputs": [
        {
          "output_type": "execute_result",
          "data": {
            "text/plain": [
              "(4, [2, 3, 5, 7])"
            ]
          },
          "metadata": {
            "tags": []
          },
          "execution_count": 12
        }
      ]
    },
    {
      "cell_type": "markdown",
      "metadata": {
        "id": "Oo6NsakarPr5"
      },
      "source": [
        "## Unique Email Addresses\n",
        "\n",
        "Every valid email consists of a local name and a domain name, separated by the '@' sign. Besides lowercase letters, the email may contain one or more '.' or '+'.\n",
        "\n",
        "    For example, in \"alice@leetcode.com\", \"alice\" is the local name, and \"leetcode.com\" is the domain name.\n",
        "\n",
        "If you add periods '.' between some characters in the local name part of an email address, mail sent there will be forwarded to the same address without dots in the local name. Note that this rule does not apply to domain names.\n",
        "\n",
        "    For example, \"alice.z@leetcode.com\" and \"alicez@leetcode.com\" forward to the same email address.\n",
        "\n",
        "If you add a plus '+' in the local name, everything after the first plus sign will be ignored. This allows certain emails to be filtered. Note that this rule does not apply to domain names.\n",
        "\n",
        "    For example, \"m.y+name@email.com\" will be forwarded to \"my@email.com\".\n",
        "\n",
        "It is possible to use both of these rules at the same time.\n",
        "\n",
        "Given an array of strings emails where we send one email to each email[i], return the number of different addresses that actually receive mails."
      ],
      "id": "Oo6NsakarPr5"
    },
    {
      "cell_type": "code",
      "metadata": {
        "id": "kesaRaEsrM1X",
        "colab": {
          "base_uri": "https://localhost:8080/"
        },
        "outputId": "d9efa26b-fb1f-42e6-d34d-7c8055097447"
      },
      "source": [
        "from typing import List\n",
        "import re\n",
        "\n",
        "def num_unique_emails(emails: List[str]) -> int:\n",
        "    filtered_emails = []\n",
        "    for email in emails:\n",
        "      local_name, domain_name = email.split('@')\n",
        "      local_name = re.sub(\"\\.|\\+.*\", \"\", local_name)\n",
        "      filtered_email = local_name + \"@\" + domain_name\n",
        "      if filtered_email not in filtered_emails:\n",
        "        filtered_emails.append(filtered_email)\n",
        "    print(f'Output: {len(filtered_emails)}')\n",
        "    print(f'Explanation: {filtered_emails}\\n') \n",
        "\n",
        "emails1 = [\"test.email+alex@leetcode.com\",\"test.e.mail+bob.cathy@leetcode.com\",\"testemail+david@lee.tcode.com\"]\n",
        "emails2 = [\"a@leetcode.com\",\"b@leetcode.com\",\"c@leetcode.com\"]\n",
        "\n",
        "num_unique_emails(emails1)\n",
        "num_unique_emails(emails2)"
      ],
      "id": "kesaRaEsrM1X",
      "execution_count": null,
      "outputs": [
        {
          "output_type": "stream",
          "text": [
            "Output: 2\n",
            "Explanation: ['testemail@leetcode.com', 'testemail@lee.tcode.com']\n",
            "\n",
            "Output: 3\n",
            "Explanation: ['a@leetcode.com', 'b@leetcode.com', 'c@leetcode.com']\n",
            "\n"
          ],
          "name": "stdout"
        }
      ]
    },
    {
      "cell_type": "markdown",
      "metadata": {
        "id": "HQIf79pVM7D9"
      },
      "source": [
        "## License Key Formatting\n",
        "\n",
        "You are given a license key represented as a string s that consists of only alphanumeric characters and dashes. The string is separated into n + 1 groups by n dashes. You are also given an integer k.\n",
        "\n",
        "We want to reformat the string s such that each group contains exactly k characters, except for the first group, which could be shorter than k but still must contain at least one character. Furthermore, there must be a dash inserted between two groups, and you should convert all lowercase letters to uppercase.\n",
        "\n",
        "Return the reformatted license key.\n",
        "\n",
        "Example 1:\n",
        "\n",
        "Input: s = \"5F3Z-2e-9-w\", k = 4\n",
        "Output: \"5F3Z-2E9W\"\n",
        "Explanation: The string s has been split into two parts, each part has 4 characters.\n",
        "Note that the two extra dashes are not needed and can be removed.\n",
        "\n",
        "Example 2:\n",
        "\n",
        "Input: s = \"2-5g-3-J\", k = 2\n",
        "Output: \"2-5G-3J\"\n",
        "Explanation: The string s has been split into three parts, each part has 2 characters except the first part as it could be shorter as mentioned above.\n",
        "\n",
        " \n",
        "\n",
        "Constraints:\n",
        "\n",
        "    1 <= s.length <= 105\n",
        "    s consists of English letters, digits, and dashes '-'.\n",
        "    1 <= k <= 104\n"
      ],
      "id": "HQIf79pVM7D9"
    },
    {
      "cell_type": "code",
      "metadata": {
        "id": "MEwK3TxUM4ue",
        "colab": {
          "base_uri": "https://localhost:8080/"
        },
        "outputId": "0c2895e1-5089-4aff-9817-fc5eed700a0c"
      },
      "source": [
        "def license_key_formatting(license: str, key: int) -> str:\n",
        "    # Remove hyphens, convert to upper case letters, and revert the string\n",
        "    license = license.replace('-', '').upper()[::-1]\n",
        "    # Initialize an empty list \n",
        "    output = []\n",
        "    for i in range(0, len(license), key):\n",
        "        # Split the reverted list into k elements\n",
        "        output.append(license[i:i+key])\n",
        "      # Add hyphen between an elements and revert the list back\n",
        "    return '-'.join(output)[::-1]\n",
        "\n",
        "print(f'Output: {license_key_formatting(license=\"5F3Z-2e-9-w\", key=4)}')\n",
        "print(f'Output: {license_key_formatting(license=\"2-5g-3-J\", key=2)}')"
      ],
      "id": "MEwK3TxUM4ue",
      "execution_count": null,
      "outputs": [
        {
          "output_type": "stream",
          "text": [
            "Output: 5F3Z-2E9W\n",
            "Output: 2-5G-3J\n"
          ],
          "name": "stdout"
        }
      ]
    },
    {
      "cell_type": "markdown",
      "metadata": {
        "id": "TP1FRORTL3kM"
      },
      "source": [
        "## Write a function that simulates luggage handling at an airport.\n",
        "## Luggage handling procedure:\n",
        "\n",
        "- Bags are loaded into containers, then containers are loaded into an aircraft.\n",
        "- Containers have a predefined weight limit (MaxWeight).\n",
        "- At the destination, containers are unloaded in reverse order.\n",
        "- Bags in each container are unloaded in the same order as they were loaded.\n",
        "\n",
        "Example:\n",
        "[30, 5, 6] and MaxWeight=40: Returns [6, 30, 5]\n",
        "\n",
        "Initial step: [30, 5, 6]\n",
        "\n",
        "Devide into containers by max weight: [[30, 5].  [6]]\n",
        "\n",
        "Unload containers in reverse order: [[6], [30, 5]]\n",
        "\n",
        "Unload bins: [6, 30, 5]"
      ],
      "id": "TP1FRORTL3kM"
    },
    {
      "cell_type": "code",
      "metadata": {
        "colab": {
          "base_uri": "https://localhost:8080/"
        },
        "id": "o9LZAHVLL28j",
        "outputId": "4ec0e672-1212-42fc-aafa-eab8b004e08c"
      },
      "source": [
        "def handle_luggages(bags: list, max_weight: int) -> list:\n",
        "  # Initialize an impty bin\n",
        "  bins = [[]]\n",
        "  for bag in bags:\n",
        "    # if sum of the last bin in container is greater than max weight, then add \n",
        "    # a new bin\n",
        "    if sum(bins[-1]) + bag > max_weight:\n",
        "      bins.append([])\n",
        "    # Add luggage to the bin\n",
        "    bins[-1].append(bag)\n",
        "  # Unload loaded bin in reverse order\n",
        "  return [bag for bin in bins[::-1] for bag in bin]\n",
        "\n",
        "\n",
        "handle_luggages([30, 5, 6], 40) "
      ],
      "id": "o9LZAHVLL28j",
      "execution_count": 4,
      "outputs": [
        {
          "output_type": "execute_result",
          "data": {
            "text/plain": [
              "[6, 30, 5]"
            ]
          },
          "metadata": {
            "tags": []
          },
          "execution_count": 4
        }
      ]
    }
  ]
}