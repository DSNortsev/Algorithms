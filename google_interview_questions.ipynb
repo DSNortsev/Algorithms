{
  "nbformat": 4,
  "nbformat_minor": 0,
  "metadata": {
    "colab": {
      "name": "google_interview_questions.ipynb",
      "provenance": [],
      "authorship_tag": "ABX9TyNLJanU3YSVFkqsdrLkvJVk",
      "include_colab_link": true
    },
    "kernelspec": {
      "name": "python3",
      "display_name": "Python 3"
    },
    "language_info": {
      "name": "python"
    }
  },
  "cells": [
    {
      "cell_type": "markdown",
      "metadata": {
        "id": "view-in-github",
        "colab_type": "text"
      },
      "source": [
        "<a href=\"https://colab.research.google.com/github/DSNortsev/Algorithms/blob/master/google_interview_questions.ipynb\" target=\"_parent\"><img src=\"https://colab.research.google.com/assets/colab-badge.svg\" alt=\"Open In Colab\"/></a>"
      ]
    },
    {
      "cell_type": "markdown",
      "metadata": {
        "id": "M_XzG8EkEhNS"
      },
      "source": [
        "### 1. Find Longest Continues Increasing Subsequence"
      ]
    },
    {
      "cell_type": "code",
      "metadata": {
        "colab": {
          "base_uri": "https://localhost:8080/"
        },
        "id": "fcLAaOgvB_7R",
        "outputId": "1939c16e-e890-4cd8-d722-a45debe63856"
      },
      "source": [
        "def find_length_of_LCIS(nums: list) -> int:\n",
        "  \"\"\" \n",
        "    Find the longest continues increasing subsequence\n",
        "    in both directions\n",
        "  \"\"\"\n",
        "  result = start = start_reverse = 0\n",
        "\n",
        "  if not nums or len(nums) == 0:\n",
        "    # if None or the length is 0\n",
        "    return result\n",
        "\n",
        "  for i in range(1,len(nums)):\n",
        "    # Iterate over the list from the second element\n",
        "    if nums[i-1] + 1 != nums[i]:\n",
        "      start = i\n",
        "    if nums[i-1] - 1 != nums[i]:\n",
        "      # Calculate start index in reverse order\n",
        "      start_reverse = i\n",
        "    result = max(result, i - start + 1, i - start_reverse  + 1)\n",
        "  return result \n",
        "\n",
        "print(find_length_of_LCIS(None))\n",
        "print(find_length_of_LCIS([1,2,3,5,4,3,2,1,0,-1]))"
      ],
      "execution_count": null,
      "outputs": [
        {
          "output_type": "stream",
          "name": "stdout",
          "text": [
            "0\n",
            "7\n"
          ]
        }
      ]
    },
    {
      "cell_type": "markdown",
      "metadata": {
        "id": "MmPuNSs7Xv7v"
      },
      "source": [
        "### 2. Find out whether or not two binary trees are similar. When two binary trees are similar, it means they will be identical after swapping its child with unlimited swaps.\n",
        "\n",
        "For example, the following trees are simialr. \n",
        "\n",
        "```\n",
        "      a                     a\n",
        "  b     c                c     b\n",
        "d   e      f          f      d    e\n",
        "```"
      ]
    },
    {
      "cell_type": "code",
      "metadata": {
        "id": "kE9VCDQxYrad"
      },
      "source": [
        "def is_trees_similar(t1: Btree, t2: Btree) -> bool:\n",
        "  \"\"\"\n",
        "    Compare if two binary trees are similar after\n",
        "    swapping its child with unlimited swaps\n",
        "  \"\"\"\n",
        "    if all(tree is None for tree in [t1, t2]):\n",
        "      # Check if both trees are None\n",
        "      return True\n",
        "    elif any(tree is None for tree in [t1, t2]):\n",
        "      # Check if one trees is None\n",
        "      return False\n",
        "    elif t1.val != t2.val:\n",
        "      return False\n",
        "\n",
        "    t1_childs = sorted([t1.left, t1.right], key=lambda x: x.val)\n",
        "    t2_childs = sorted([t2.left, t2.right], key=lambda x: x.val)\n",
        "\n",
        "    if t1_childs == t2_childs:\n",
        "      # Recursion to comapre child nodes\n",
        "      return is_trees_similar(t1_childs[0], t2_childs[0])\n",
        "       and is_trees_similar(t1_childs[1], t2_childs[2])\n",
        "    else:\n",
        "      return False"
      ],
      "execution_count": null,
      "outputs": []
    },
    {
      "cell_type": "markdown",
      "metadata": {
        "id": "1ZR1tiD2aJ-2"
      },
      "source": [
        "###2.2 Trees are identically structured "
      ]
    },
    {
      "cell_type": "code",
      "metadata": {
        "id": "3LvwpFW1aXGN"
      },
      "source": [
        "# Run time 2\n",
        "def is_same_tree(t1, t2) -> bool:\n",
        "  if all(tree is None for tree in [t1, t2]):\n",
        "    # Check if both trees are None\n",
        "    return True\n",
        "  elif any(tree is None for tree in [t1, t2]):\n",
        "     # Check if one trees is None\n",
        "    return False\n",
        "  elif t1.val != t2.val:\n",
        "    return False\n",
        "  else:\n",
        "    return is_same_tree(t1.left, t2.left) and is_same_tree(t1.right, t2.right)"
      ],
      "execution_count": null,
      "outputs": []
    },
    {
      "cell_type": "markdown",
      "metadata": {
        "id": "IEqM7Mh-iR-P"
      },
      "source": [
        "### 2.3 Subtree of another tree \n",
        "\n"
      ]
    },
    {
      "cell_type": "code",
      "metadata": {
        "id": "XzYy6gBdiY31"
      },
      "source": [
        "def is_subtree(s, t) -> bool:\n",
        "  if not s:\n",
        "    # Check if tree is None\n",
        "    return False\n",
        "  elif is_same_tree(s,t):\n",
        "    return True\n",
        "  else:\n",
        "    return is_same_tree(s.left,t) or is_same_tree(s.right,t)\n",
        "\n",
        "def is_same_tree(s, t):\n",
        "   if not s or not t:\n",
        "     # Both trees need to be null to be identical\n",
        "     return s == None and t == None\n",
        "  elif s.val == t.val:\n",
        "    # if roor is the same, then child nodes should be also the same \n",
        "    return is_same_tree(s.left, t.left) and is_same_tree(s.right, t.right)\n",
        "  else:\n",
        "    # Trees don't match\n",
        "    return false"
      ],
      "execution_count": null,
      "outputs": []
    },
    {
      "cell_type": "markdown",
      "metadata": {
        "id": "kghTCOTEbEpU"
      },
      "source": [
        "### 3. Given an input array and a match number, sort the input array such that the match numbers appear first in the input array and then the other numbers all in a sorted order all INLINE. Don't use any python built in functions\n",
        "\n",
        "**For example:**\n",
        "```\n",
        "Array = [4,5,3,5,2,1,5,6]\n",
        "Match = 5\n",
        "Sort the Input array as \n",
        "Array = [5,5,5,1,2,3,4,6]\n",
        "```\n"
      ]
    },
    {
      "cell_type": "code",
      "metadata": {
        "id": "4NmIUhZne6mE",
        "outputId": "413bc553-8f47-4fdd-abf8-e4fdbee16c8f",
        "colab": {
          "base_uri": "https://localhost:8080/"
        }
      },
      "source": [
        "# Best O(n) - list sorted \n",
        "# Worst O(n^2) - list sorted in reverse order\n",
        "# Average O(n^2)\n",
        "# Space complecity O(1)\n",
        "\n",
        "def insertion_sort(array, match_number):\n",
        "  for i in range(1, len(array)):\n",
        "    # Key to sort\n",
        "    value_to_sort = array[i]\n",
        "\n",
        "    # Replace previous value with current if prev is greater than current\n",
        "    # or current equals to match number and index is greater than 0\n",
        "    while (array[i-1] > value_to_sort\n",
        "           or value_to_sort == match_number)and i > 0:\n",
        "      if array[i-1] == match_number:\n",
        "        # match number should remain in the beginning\n",
        "        break\n",
        "      array[i], array[i-1] = array[i-1], array[i ] \n",
        "      i -= 1\n",
        "  return array\n",
        "\n",
        "print(insertion_sort([4,5,3,5,2,1,5,6], 5))"
      ],
      "execution_count": 73,
      "outputs": [
        {
          "output_type": "stream",
          "name": "stdout",
          "text": [
            "[5, 5, 5, 1, 2, 3, 4, 6]\n"
          ]
        }
      ]
    },
    {
      "cell_type": "code",
      "metadata": {
        "id": "bRw8p6Gskpe3"
      },
      "source": [
        ""
      ],
      "execution_count": null,
      "outputs": []
    }
  ]
}