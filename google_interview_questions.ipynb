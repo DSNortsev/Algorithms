{
  "nbformat": 4,
  "nbformat_minor": 0,
  "metadata": {
    "colab": {
      "name": "google_interview_questions.ipynb",
      "provenance": [],
      "authorship_tag": "ABX9TyMKx7LZF3rEF+6R7OZichn7",
      "include_colab_link": true
    },
    "kernelspec": {
      "name": "python3",
      "display_name": "Python 3"
    },
    "language_info": {
      "name": "python"
    }
  },
  "cells": [
    {
      "cell_type": "markdown",
      "metadata": {
        "id": "view-in-github",
        "colab_type": "text"
      },
      "source": [
        "<a href=\"https://colab.research.google.com/github/DSNortsev/Algorithms/blob/master/google_interview_questions.ipynb\" target=\"_parent\"><img src=\"https://colab.research.google.com/assets/colab-badge.svg\" alt=\"Open In Colab\"/></a>"
      ]
    },
    {
      "cell_type": "markdown",
      "metadata": {
        "id": "M_XzG8EkEhNS"
      },
      "source": [
        "## 1. Find Longest Continues Increasing Subsequence"
      ]
    },
    {
      "cell_type": "code",
      "metadata": {
        "colab": {
          "base_uri": "https://localhost:8080/"
        },
        "id": "fcLAaOgvB_7R",
        "outputId": "1939c16e-e890-4cd8-d722-a45debe63856"
      },
      "source": [
        "def find_length_of_LCIS(nums: list) -> int:\n",
        "  \"\"\" \n",
        "    Find the longest continues increasing subsequence\n",
        "    in both directions\n",
        "  \"\"\"\n",
        "  result = start = start_reverse = 0\n",
        "\n",
        "  if not nums or len(nums) == 0:\n",
        "    # if None or the length is 0\n",
        "    return result\n",
        "\n",
        "  for i in range(1,len(nums)):\n",
        "    # Iterate over the list from the second element\n",
        "    if nums[i-1] + 1 != nums[i]:\n",
        "      start = i\n",
        "    if nums[i-1] - 1 != nums[i]:\n",
        "      # Calculate start index in reverse order\n",
        "      start_reverse = i\n",
        "    result = max(result, i - start + 1, i - start_reverse  + 1)\n",
        "  return result \n",
        "\n",
        "print(find_length_of_LCIS(None))\n",
        "print(find_length_of_LCIS([1,2,3,5,4,3,2,1,0,-1]))"
      ],
      "execution_count": 44,
      "outputs": [
        {
          "output_type": "stream",
          "name": "stdout",
          "text": [
            "0\n",
            "7\n"
          ]
        }
      ]
    }
  ]
}