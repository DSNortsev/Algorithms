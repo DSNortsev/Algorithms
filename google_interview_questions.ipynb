{
  "nbformat": 4,
  "nbformat_minor": 0,
  "metadata": {
    "colab": {
      "name": "google_interview_questions.ipynb",
      "provenance": [],
      "authorship_tag": "ABX9TyP6avViOeSYABiTY1Z5m5cR",
      "include_colab_link": true
    },
    "kernelspec": {
      "name": "python3",
      "display_name": "Python 3"
    },
    "language_info": {
      "name": "python"
    }
  },
  "cells": [
    {
      "cell_type": "markdown",
      "metadata": {
        "id": "view-in-github",
        "colab_type": "text"
      },
      "source": [
        "<a href=\"https://colab.research.google.com/github/DSNortsev/Algorithms/blob/master/google_interview_questions.ipynb\" target=\"_parent\"><img src=\"https://colab.research.google.com/assets/colab-badge.svg\" alt=\"Open In Colab\"/></a>"
      ]
    },
    {
      "cell_type": "markdown",
      "metadata": {
        "id": "M_XzG8EkEhNS"
      },
      "source": [
        "### 1. Find Longest Continues Increasing Subsequence"
      ]
    },
    {
      "cell_type": "code",
      "metadata": {
        "colab": {
          "base_uri": "https://localhost:8080/"
        },
        "id": "fcLAaOgvB_7R",
        "outputId": "1939c16e-e890-4cd8-d722-a45debe63856"
      },
      "source": [
        "def find_length_of_LCIS(nums: list) -> int:\n",
        "  \"\"\" \n",
        "    Find the longest continues increasing subsequence\n",
        "    in both directions\n",
        "  \"\"\"\n",
        "  result = start = start_reverse = 0\n",
        "\n",
        "  if not nums or len(nums) == 0:\n",
        "    # if None or the length is 0\n",
        "    return result\n",
        "\n",
        "  for i in range(1,len(nums)):\n",
        "    # Iterate over the list from the second element\n",
        "    if nums[i-1] + 1 != nums[i]:\n",
        "      start = i\n",
        "    if nums[i-1] - 1 != nums[i]:\n",
        "      # Calculate start index in reverse order\n",
        "      start_reverse = i\n",
        "    result = max(result, i - start + 1, i - start_reverse  + 1)\n",
        "  return result \n",
        "\n",
        "print(find_length_of_LCIS(None))\n",
        "print(find_length_of_LCIS([1,2,3,5,4,3,2,1,0,-1]))"
      ],
      "execution_count": null,
      "outputs": [
        {
          "output_type": "stream",
          "name": "stdout",
          "text": [
            "0\n",
            "7\n"
          ]
        }
      ]
    },
    {
      "cell_type": "markdown",
      "metadata": {
        "id": "MmPuNSs7Xv7v"
      },
      "source": [
        "### 2. Find out whether or not two binary trees are similar. When two binary trees are similar, it means they will be identical after swapping its child with unlimited swaps.\n",
        "\n",
        "For example, the following trees are simialr. \n",
        "\n",
        "```\n",
        "      a                     a\n",
        "  b     c                c     b\n",
        "d   e      f          f      d    e\n",
        "```"
      ]
    },
    {
      "cell_type": "code",
      "metadata": {
        "id": "kE9VCDQxYrad"
      },
      "source": [
        "def is_trees_similar(t1: Btree, t2: Btree) -> bool:\n",
        "  \"\"\"\n",
        "    Compare if two binary trees are similar after\n",
        "    swapping its child with unlimited swaps\n",
        "  \"\"\"\n",
        "    if all(tree is None for tree in [t1, t2]):\n",
        "      # Check if both trees are None\n",
        "      return True\n",
        "    elif any(tree is None for tree in [t1, t2]):\n",
        "      # Check if one trees is None\n",
        "      return False\n",
        "    elif t1.val != t2.val:\n",
        "      return False\n",
        "\n",
        "    t1_childs = sorted([t1.left, t1.right], key=lambda x: x.val)\n",
        "    t2_childs = sorted([t2.left, t2.right], key=lambda x: x.val)\n",
        "\n",
        "    if t1_childs == t2_childs:\n",
        "      # Recursion to comapre child nodes\n",
        "      return is_trees_similar(t1_childs[0], t2_childs[0])\n",
        "       and is_trees_similar(t1_childs[1], t2_childs[2])\n",
        "    else:\n",
        "      return False"
      ],
      "execution_count": null,
      "outputs": []
    },
    {
      "cell_type": "markdown",
      "metadata": {
        "id": "1ZR1tiD2aJ-2"
      },
      "source": [
        "###2.2 Trees are identically structured "
      ]
    },
    {
      "cell_type": "code",
      "metadata": {
        "id": "3LvwpFW1aXGN"
      },
      "source": [
        "# Run time 2\n",
        "def is_same_tree(t1, t2) -> bool:\n",
        "  if all(tree is None for tree in [t1, t2]):\n",
        "    # Check if both trees are None\n",
        "    return True\n",
        "  elif any(tree is None for tree in [t1, t2]):\n",
        "     # Check if one trees is None\n",
        "    return False\n",
        "  elif t1.val != t2.val:\n",
        "    return False\n",
        "  else:\n",
        "    return is_same_tree(t1.left, t2.left) and is_same_tree(t1.right, t2.right)"
      ],
      "execution_count": null,
      "outputs": []
    },
    {
      "cell_type": "markdown",
      "metadata": {
        "id": "IEqM7Mh-iR-P"
      },
      "source": [
        "### 2.3 Subtree of another tree \n",
        "\n"
      ]
    },
    {
      "cell_type": "code",
      "metadata": {
        "id": "XzYy6gBdiY31"
      },
      "source": [
        "def is_subtree(s, t) -> bool:\n",
        "  if not s:\n",
        "    # Check if tree is None\n",
        "    return False\n",
        "  elif is_same_tree(s,t):\n",
        "    return True\n",
        "  else:\n",
        "    return is_same_tree(s.left,t) or is_same_tree(s.right,t)\n",
        "\n",
        "def is_same_tree(s, t):\n",
        "   if not s or not t:\n",
        "     # Both trees need to be null to be identical\n",
        "     return s == None and t == None\n",
        "  elif s.val == t.val:\n",
        "    # if roor is the same, then child nodes should be also the same \n",
        "    return is_same_tree(s.left, t.left) and is_same_tree(s.right, t.right)\n",
        "  else:\n",
        "    # Trees don't match\n",
        "    return false"
      ],
      "execution_count": null,
      "outputs": []
    }
  ]
}